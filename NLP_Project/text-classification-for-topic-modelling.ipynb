{
 "cells": [
  {
   "cell_type": "markdown",
   "id": "a6c6660f",
   "metadata": {
    "papermill": {
     "duration": 0.01459,
     "end_time": "2024-07-11T11:18:36.121656",
     "exception": false,
     "start_time": "2024-07-11T11:18:36.107066",
     "status": "completed"
    },
    "tags": []
   },
   "source": [
    "# Text Classification for Topic Modelling"
   ]
  },
  {
   "cell_type": "markdown",
   "id": "ad6c9b62",
   "metadata": {
    "papermill": {
     "duration": 0.013587,
     "end_time": "2024-07-11T11:18:36.149106",
     "exception": false,
     "start_time": "2024-07-11T11:18:36.135519",
     "status": "completed"
    },
    "tags": []
   },
   "source": [
    "## Notebook Imports"
   ]
  },
  {
   "cell_type": "code",
   "execution_count": 1,
   "id": "a291be0e",
   "metadata": {
    "_cell_guid": "b1076dfc-b9ad-4769-8c92-a6c4dae69d19",
    "_uuid": "8f2839f25d086af736a60e9eeb907d3b93b6e0e5",
    "execution": {
     "iopub.execute_input": "2024-07-11T11:18:36.178572Z",
     "iopub.status.busy": "2024-07-11T11:18:36.178229Z",
     "iopub.status.idle": "2024-07-11T11:18:44.028453Z",
     "shell.execute_reply": "2024-07-11T11:18:44.027481Z"
    },
    "papermill": {
     "duration": 7.86814,
     "end_time": "2024-07-11T11:18:44.030816",
     "exception": false,
     "start_time": "2024-07-11T11:18:36.162676",
     "status": "completed"
    },
    "tags": []
   },
   "outputs": [],
   "source": [
    "# NLTK\n",
    "import nltk\n",
    "from nltk.corpus import stopwords\n",
    "from nltk.stem import WordNetLemmatizer\n",
    "from nltk.tokenize import word_tokenize\n",
    "\n",
    "# Sklearn\n",
    "import sklearn\n",
    "from sklearn.naive_bayes import MultinomialNB\n",
    "from sklearn.preprocessing import LabelEncoder\n",
    "from sklearn.ensemble import RandomForestClassifier\n",
    "from sklearn.linear_model import LogisticRegression\n",
    "from sklearn.model_selection import train_test_split\n",
    "from sklearn.feature_extraction.text import CountVectorizer, TfidfTransformer\n",
    "from sklearn.metrics import accuracy_score, classification_report, confusion_matrix, ConfusionMatrixDisplay\n",
    "\n",
    "# Imblearn\n",
    "import imblearn\n",
    "from imblearn.over_sampling import RandomOverSampler\n",
    "\n",
    "# PyTorch\n",
    "import torch\n",
    "import torch.nn as nn\n",
    "import torch.optim as optim\n",
    "from torch.nn.utils.rnn import pad_sequence\n",
    "from torch.utils.data import DataLoader, Dataset\n",
    "from torchtext.vocab import build_vocab_from_iterator\n",
    "\n",
    "# Other\n",
    "import numpy as np\n",
    "import pandas as pd\n",
    "import seaborn as sns\n",
    "import matplotlib.pyplot as plt\n",
    "\n",
    "from tqdm.auto import tqdm\n",
    "\n",
    "%matplotlib inline"
   ]
  },
  {
   "cell_type": "code",
   "execution_count": 2,
   "id": "34e88d76",
   "metadata": {
    "execution": {
     "iopub.execute_input": "2024-07-11T11:18:44.059697Z",
     "iopub.status.busy": "2024-07-11T11:18:44.059276Z",
     "iopub.status.idle": "2024-07-11T11:18:44.063231Z",
     "shell.execute_reply": "2024-07-11T11:18:44.062437Z"
    },
    "papermill": {
     "duration": 0.02028,
     "end_time": "2024-07-11T11:18:44.065085",
     "exception": false,
     "start_time": "2024-07-11T11:18:44.044805",
     "status": "completed"
    },
    "tags": []
   },
   "outputs": [],
   "source": [
    "import warnings\n",
    "warnings.filterwarnings('ignore')"
   ]
  },
  {
   "cell_type": "code",
   "execution_count": 3,
   "id": "32d2f8f4",
   "metadata": {
    "execution": {
     "iopub.execute_input": "2024-07-11T11:18:44.093299Z",
     "iopub.status.busy": "2024-07-11T11:18:44.093029Z",
     "iopub.status.idle": "2024-07-11T11:18:44.434890Z",
     "shell.execute_reply": "2024-07-11T11:18:44.434009Z"
    },
    "papermill": {
     "duration": 0.358384,
     "end_time": "2024-07-11T11:18:44.436973",
     "exception": false,
     "start_time": "2024-07-11T11:18:44.078589",
     "status": "completed"
    },
    "tags": []
   },
   "outputs": [
    {
     "name": "stdout",
     "output_type": "stream",
     "text": [
      "[nltk_data] Downloading package stopwords to /usr/share/nltk_data...\n",
      "[nltk_data]   Package stopwords is already up-to-date!\n",
      "[nltk_data] Downloading package punkt to /usr/share/nltk_data...\n",
      "[nltk_data]   Package punkt is already up-to-date!\n",
      "[nltk_data] Downloading package wordnet to /usr/share/nltk_data...\n",
      "[nltk_data]   Package wordnet is already up-to-date!\n",
      "[nltk_data] Downloading package omw-1.4 to /usr/share/nltk_data...\n"
     ]
    },
    {
     "data": {
      "text/plain": [
       "True"
      ]
     },
     "execution_count": 3,
     "metadata": {},
     "output_type": "execute_result"
    }
   ],
   "source": [
    "nltk.download('stopwords')\n",
    "nltk.download(\"punkt\")\n",
    "nltk.download(\"wordnet\")\n",
    "nltk.download(\"omw-1.4\")"
   ]
  },
  {
   "cell_type": "code",
   "execution_count": 4,
   "id": "7c36926f",
   "metadata": {
    "execution": {
     "iopub.execute_input": "2024-07-11T11:18:44.467084Z",
     "iopub.status.busy": "2024-07-11T11:18:44.466784Z",
     "iopub.status.idle": "2024-07-11T11:18:45.760438Z",
     "shell.execute_reply": "2024-07-11T11:18:45.759309Z"
    },
    "papermill": {
     "duration": 1.311243,
     "end_time": "2024-07-11T11:18:45.762742",
     "exception": false,
     "start_time": "2024-07-11T11:18:44.451499",
     "status": "completed"
    },
    "tags": []
   },
   "outputs": [
    {
     "name": "stdout",
     "output_type": "stream",
     "text": [
      "Archive:  /usr/share/nltk_data/corpora/wordnet.zip\r\n",
      "   creating: /usr/share/nltk_data/corpora/wordnet/\r\n",
      "  inflating: /usr/share/nltk_data/corpora/wordnet/lexnames  \r\n",
      "  inflating: /usr/share/nltk_data/corpora/wordnet/data.verb  \r\n",
      "  inflating: /usr/share/nltk_data/corpora/wordnet/index.adv  \r\n",
      "  inflating: /usr/share/nltk_data/corpora/wordnet/adv.exc  \r\n",
      "  inflating: /usr/share/nltk_data/corpora/wordnet/index.verb  \r\n",
      "  inflating: /usr/share/nltk_data/corpora/wordnet/cntlist.rev  \r\n",
      "  inflating: /usr/share/nltk_data/corpora/wordnet/data.adj  \r\n",
      "  inflating: /usr/share/nltk_data/corpora/wordnet/index.adj  \r\n",
      "  inflating: /usr/share/nltk_data/corpora/wordnet/LICENSE  \r\n",
      "  inflating: /usr/share/nltk_data/corpora/wordnet/citation.bib  \r\n",
      "  inflating: /usr/share/nltk_data/corpora/wordnet/noun.exc  \r\n",
      "  inflating: /usr/share/nltk_data/corpora/wordnet/verb.exc  \r\n",
      "  inflating: /usr/share/nltk_data/corpora/wordnet/README  \r\n",
      "  inflating: /usr/share/nltk_data/corpora/wordnet/index.sense  \r\n",
      "  inflating: /usr/share/nltk_data/corpora/wordnet/data.noun  \r\n",
      "  inflating: /usr/share/nltk_data/corpora/wordnet/data.adv  \r\n",
      "  inflating: /usr/share/nltk_data/corpora/wordnet/index.noun  \r\n",
      "  inflating: /usr/share/nltk_data/corpora/wordnet/adj.exc  \r\n"
     ]
    }
   ],
   "source": [
    "from nltk.corpus import wordnet\n",
    "! unzip /usr/share/nltk_data/corpora/wordnet.zip -d /usr/share/nltk_data/corpora/"
   ]
  },
  {
   "cell_type": "markdown",
   "id": "8d544850",
   "metadata": {
    "papermill": {
     "duration": 0.014013,
     "end_time": "2024-07-11T11:18:45.791659",
     "exception": false,
     "start_time": "2024-07-11T11:18:45.777646",
     "status": "completed"
    },
    "tags": []
   },
   "source": [
    "# Data Loading"
   ]
  },
  {
   "cell_type": "code",
   "execution_count": 5,
   "id": "f297e956",
   "metadata": {
    "execution": {
     "iopub.execute_input": "2024-07-11T11:18:45.821382Z",
     "iopub.status.busy": "2024-07-11T11:18:45.821031Z",
     "iopub.status.idle": "2024-07-11T11:18:45.882970Z",
     "shell.execute_reply": "2024-07-11T11:18:45.882131Z"
    },
    "papermill": {
     "duration": 0.079128,
     "end_time": "2024-07-11T11:18:45.884915",
     "exception": false,
     "start_time": "2024-07-11T11:18:45.805787",
     "status": "completed"
    },
    "tags": []
   },
   "outputs": [],
   "source": [
    "DATASET_ROOT = '/kaggle/input/topic-modeling-for-research-articles/Train.csv'\n",
    "device = 'cuda' if torch.cuda.is_available() else 'cpu'"
   ]
  },
  {
   "cell_type": "code",
   "execution_count": 6,
   "id": "94c99616",
   "metadata": {
    "execution": {
     "iopub.execute_input": "2024-07-11T11:18:45.914933Z",
     "iopub.status.busy": "2024-07-11T11:18:45.914663Z",
     "iopub.status.idle": "2024-07-11T11:18:46.401440Z",
     "shell.execute_reply": "2024-07-11T11:18:46.400508Z"
    },
    "papermill": {
     "duration": 0.504307,
     "end_time": "2024-07-11T11:18:46.403665",
     "exception": false,
     "start_time": "2024-07-11T11:18:45.899358",
     "status": "completed"
    },
    "tags": []
   },
   "outputs": [
    {
     "data": {
      "text/html": [
       "<div>\n",
       "<style scoped>\n",
       "    .dataframe tbody tr th:only-of-type {\n",
       "        vertical-align: middle;\n",
       "    }\n",
       "\n",
       "    .dataframe tbody tr th {\n",
       "        vertical-align: top;\n",
       "    }\n",
       "\n",
       "    .dataframe thead th {\n",
       "        text-align: right;\n",
       "    }\n",
       "</style>\n",
       "<table border=\"1\" class=\"dataframe\">\n",
       "  <thead>\n",
       "    <tr style=\"text-align: right;\">\n",
       "      <th></th>\n",
       "      <th>id</th>\n",
       "      <th>ABSTRACT</th>\n",
       "      <th>Computer Science</th>\n",
       "      <th>Mathematics</th>\n",
       "      <th>Physics</th>\n",
       "      <th>Statistics</th>\n",
       "      <th>Analysis of PDEs</th>\n",
       "      <th>Applications</th>\n",
       "      <th>Artificial Intelligence</th>\n",
       "      <th>Astrophysics of Galaxies</th>\n",
       "      <th>...</th>\n",
       "      <th>Methodology</th>\n",
       "      <th>Number Theory</th>\n",
       "      <th>Optimization and Control</th>\n",
       "      <th>Representation Theory</th>\n",
       "      <th>Robotics</th>\n",
       "      <th>Social and Information Networks</th>\n",
       "      <th>Statistics Theory</th>\n",
       "      <th>Strongly Correlated Electrons</th>\n",
       "      <th>Superconductivity</th>\n",
       "      <th>Systems and Control</th>\n",
       "    </tr>\n",
       "  </thead>\n",
       "  <tbody>\n",
       "    <tr>\n",
       "      <th>0</th>\n",
       "      <td>1824</td>\n",
       "      <td>a ever-growing datasets inside observational a...</td>\n",
       "      <td>0</td>\n",
       "      <td>0</td>\n",
       "      <td>1</td>\n",
       "      <td>0</td>\n",
       "      <td>0</td>\n",
       "      <td>0</td>\n",
       "      <td>0</td>\n",
       "      <td>0</td>\n",
       "      <td>...</td>\n",
       "      <td>0</td>\n",
       "      <td>0</td>\n",
       "      <td>0</td>\n",
       "      <td>0</td>\n",
       "      <td>0</td>\n",
       "      <td>0</td>\n",
       "      <td>0</td>\n",
       "      <td>0</td>\n",
       "      <td>0</td>\n",
       "      <td>0</td>\n",
       "    </tr>\n",
       "    <tr>\n",
       "      <th>1</th>\n",
       "      <td>3094</td>\n",
       "      <td>we propose the framework considering optimal $...</td>\n",
       "      <td>1</td>\n",
       "      <td>0</td>\n",
       "      <td>0</td>\n",
       "      <td>0</td>\n",
       "      <td>0</td>\n",
       "      <td>0</td>\n",
       "      <td>0</td>\n",
       "      <td>0</td>\n",
       "      <td>...</td>\n",
       "      <td>0</td>\n",
       "      <td>0</td>\n",
       "      <td>0</td>\n",
       "      <td>0</td>\n",
       "      <td>0</td>\n",
       "      <td>0</td>\n",
       "      <td>0</td>\n",
       "      <td>0</td>\n",
       "      <td>0</td>\n",
       "      <td>0</td>\n",
       "    </tr>\n",
       "    <tr>\n",
       "      <th>2</th>\n",
       "      <td>8463</td>\n",
       "      <td>nanostructures with open shell transition meta...</td>\n",
       "      <td>0</td>\n",
       "      <td>0</td>\n",
       "      <td>1</td>\n",
       "      <td>0</td>\n",
       "      <td>0</td>\n",
       "      <td>0</td>\n",
       "      <td>0</td>\n",
       "      <td>0</td>\n",
       "      <td>...</td>\n",
       "      <td>0</td>\n",
       "      <td>0</td>\n",
       "      <td>0</td>\n",
       "      <td>0</td>\n",
       "      <td>0</td>\n",
       "      <td>0</td>\n",
       "      <td>0</td>\n",
       "      <td>1</td>\n",
       "      <td>0</td>\n",
       "      <td>0</td>\n",
       "    </tr>\n",
       "    <tr>\n",
       "      <th>3</th>\n",
       "      <td>2082</td>\n",
       "      <td>stars are self-gravitating fluids inside which...</td>\n",
       "      <td>0</td>\n",
       "      <td>0</td>\n",
       "      <td>1</td>\n",
       "      <td>0</td>\n",
       "      <td>0</td>\n",
       "      <td>0</td>\n",
       "      <td>0</td>\n",
       "      <td>0</td>\n",
       "      <td>...</td>\n",
       "      <td>0</td>\n",
       "      <td>0</td>\n",
       "      <td>0</td>\n",
       "      <td>0</td>\n",
       "      <td>0</td>\n",
       "      <td>0</td>\n",
       "      <td>0</td>\n",
       "      <td>0</td>\n",
       "      <td>0</td>\n",
       "      <td>0</td>\n",
       "    </tr>\n",
       "    <tr>\n",
       "      <th>4</th>\n",
       "      <td>8687</td>\n",
       "      <td>deep neural perception and control networks ar...</td>\n",
       "      <td>1</td>\n",
       "      <td>0</td>\n",
       "      <td>0</td>\n",
       "      <td>0</td>\n",
       "      <td>0</td>\n",
       "      <td>0</td>\n",
       "      <td>0</td>\n",
       "      <td>0</td>\n",
       "      <td>...</td>\n",
       "      <td>0</td>\n",
       "      <td>0</td>\n",
       "      <td>0</td>\n",
       "      <td>0</td>\n",
       "      <td>0</td>\n",
       "      <td>0</td>\n",
       "      <td>0</td>\n",
       "      <td>0</td>\n",
       "      <td>0</td>\n",
       "      <td>0</td>\n",
       "    </tr>\n",
       "  </tbody>\n",
       "</table>\n",
       "<p>5 rows × 31 columns</p>\n",
       "</div>"
      ],
      "text/plain": [
       "     id                                           ABSTRACT  Computer Science  \\\n",
       "0  1824  a ever-growing datasets inside observational a...                 0   \n",
       "1  3094  we propose the framework considering optimal $...                 1   \n",
       "2  8463  nanostructures with open shell transition meta...                 0   \n",
       "3  2082  stars are self-gravitating fluids inside which...                 0   \n",
       "4  8687  deep neural perception and control networks ar...                 1   \n",
       "\n",
       "   Mathematics  Physics  Statistics  Analysis of PDEs  Applications  \\\n",
       "0            0        1           0                 0             0   \n",
       "1            0        0           0                 0             0   \n",
       "2            0        1           0                 0             0   \n",
       "3            0        1           0                 0             0   \n",
       "4            0        0           0                 0             0   \n",
       "\n",
       "   Artificial Intelligence  Astrophysics of Galaxies  ...  Methodology  \\\n",
       "0                        0                         0  ...            0   \n",
       "1                        0                         0  ...            0   \n",
       "2                        0                         0  ...            0   \n",
       "3                        0                         0  ...            0   \n",
       "4                        0                         0  ...            0   \n",
       "\n",
       "   Number Theory  Optimization and Control  Representation Theory  Robotics  \\\n",
       "0              0                         0                      0         0   \n",
       "1              0                         0                      0         0   \n",
       "2              0                         0                      0         0   \n",
       "3              0                         0                      0         0   \n",
       "4              0                         0                      0         0   \n",
       "\n",
       "   Social and Information Networks  Statistics Theory  \\\n",
       "0                                0                  0   \n",
       "1                                0                  0   \n",
       "2                                0                  0   \n",
       "3                                0                  0   \n",
       "4                                0                  0   \n",
       "\n",
       "   Strongly Correlated Electrons  Superconductivity  Systems and Control  \n",
       "0                              0                  0                    0  \n",
       "1                              0                  0                    0  \n",
       "2                              1                  0                    0  \n",
       "3                              0                  0                    0  \n",
       "4                              0                  0                    0  \n",
       "\n",
       "[5 rows x 31 columns]"
      ]
     },
     "execution_count": 6,
     "metadata": {},
     "output_type": "execute_result"
    }
   ],
   "source": [
    "train_df = pd.read_csv(DATASET_ROOT)\n",
    "train_df.head()"
   ]
  },
  {
   "cell_type": "markdown",
   "id": "8d9dd88f",
   "metadata": {
    "papermill": {
     "duration": 0.014328,
     "end_time": "2024-07-11T11:18:46.433159",
     "exception": false,
     "start_time": "2024-07-11T11:18:46.418831",
     "status": "completed"
    },
    "tags": []
   },
   "source": [
    "# Data Preprocessing"
   ]
  },
  {
   "cell_type": "code",
   "execution_count": 7,
   "id": "f0cadd0e",
   "metadata": {
    "execution": {
     "iopub.execute_input": "2024-07-11T11:18:46.463471Z",
     "iopub.status.busy": "2024-07-11T11:18:46.463147Z",
     "iopub.status.idle": "2024-07-11T11:18:46.489106Z",
     "shell.execute_reply": "2024-07-11T11:18:46.488246Z"
    },
    "papermill": {
     "duration": 0.043257,
     "end_time": "2024-07-11T11:18:46.491090",
     "exception": false,
     "start_time": "2024-07-11T11:18:46.447833",
     "status": "completed"
    },
    "tags": []
   },
   "outputs": [
    {
     "data": {
      "text/html": [
       "<div>\n",
       "<style scoped>\n",
       "    .dataframe tbody tr th:only-of-type {\n",
       "        vertical-align: middle;\n",
       "    }\n",
       "\n",
       "    .dataframe tbody tr th {\n",
       "        vertical-align: top;\n",
       "    }\n",
       "\n",
       "    .dataframe thead th {\n",
       "        text-align: right;\n",
       "    }\n",
       "</style>\n",
       "<table border=\"1\" class=\"dataframe\">\n",
       "  <thead>\n",
       "    <tr style=\"text-align: right;\">\n",
       "      <th></th>\n",
       "      <th>ABSTRACT</th>\n",
       "      <th>Target</th>\n",
       "    </tr>\n",
       "  </thead>\n",
       "  <tbody>\n",
       "    <tr>\n",
       "      <th>0</th>\n",
       "      <td>a ever-growing datasets inside observational a...</td>\n",
       "      <td>Physics</td>\n",
       "    </tr>\n",
       "    <tr>\n",
       "      <th>1</th>\n",
       "      <td>we propose the framework considering optimal $...</td>\n",
       "      <td>Computer Science</td>\n",
       "    </tr>\n",
       "    <tr>\n",
       "      <th>2</th>\n",
       "      <td>nanostructures with open shell transition meta...</td>\n",
       "      <td>Physics</td>\n",
       "    </tr>\n",
       "    <tr>\n",
       "      <th>3</th>\n",
       "      <td>stars are self-gravitating fluids inside which...</td>\n",
       "      <td>Physics</td>\n",
       "    </tr>\n",
       "    <tr>\n",
       "      <th>4</th>\n",
       "      <td>deep neural perception and control networks ar...</td>\n",
       "      <td>Computer Science</td>\n",
       "    </tr>\n",
       "  </tbody>\n",
       "</table>\n",
       "</div>"
      ],
      "text/plain": [
       "                                            ABSTRACT            Target\n",
       "0  a ever-growing datasets inside observational a...           Physics\n",
       "1  we propose the framework considering optimal $...  Computer Science\n",
       "2  nanostructures with open shell transition meta...           Physics\n",
       "3  stars are self-gravitating fluids inside which...           Physics\n",
       "4  deep neural perception and control networks ar...  Computer Science"
      ]
     },
     "execution_count": 7,
     "metadata": {},
     "output_type": "execute_result"
    }
   ],
   "source": [
    "# Dropping ID\n",
    "train_df.drop('id', axis=1, inplace=True)\n",
    "\n",
    "# Resetting ID \n",
    "train_df.reset_index()\n",
    "\n",
    "topics = train_df.columns[1:]\n",
    "train_df['Target'] = train_df[topics].idxmax(axis=1)\n",
    "train_df.drop(topics, axis=1, inplace=True)\n",
    "train_df.head()"
   ]
  },
  {
   "cell_type": "code",
   "execution_count": 8,
   "id": "aec4ab2b",
   "metadata": {
    "execution": {
     "iopub.execute_input": "2024-07-11T11:18:46.521680Z",
     "iopub.status.busy": "2024-07-11T11:18:46.521386Z",
     "iopub.status.idle": "2024-07-11T11:18:46.529443Z",
     "shell.execute_reply": "2024-07-11T11:18:46.528610Z"
    },
    "papermill": {
     "duration": 0.025596,
     "end_time": "2024-07-11T11:18:46.531304",
     "exception": false,
     "start_time": "2024-07-11T11:18:46.505708",
     "status": "completed"
    },
    "tags": []
   },
   "outputs": [],
   "source": [
    "encoder = LabelEncoder()\n",
    "train_df['Target_Label'] = encoder.fit_transform(train_df['Target'])"
   ]
  },
  {
   "cell_type": "code",
   "execution_count": 9,
   "id": "c9439afb",
   "metadata": {
    "execution": {
     "iopub.execute_input": "2024-07-11T11:18:46.561817Z",
     "iopub.status.busy": "2024-07-11T11:18:46.561543Z",
     "iopub.status.idle": "2024-07-11T11:18:46.570884Z",
     "shell.execute_reply": "2024-07-11T11:18:46.570201Z"
    },
    "papermill": {
     "duration": 0.026631,
     "end_time": "2024-07-11T11:18:46.572736",
     "exception": false,
     "start_time": "2024-07-11T11:18:46.546105",
     "status": "completed"
    },
    "tags": []
   },
   "outputs": [],
   "source": [
    "def preprocess_text(text: str, stopwords=set(stopwords.words('english')), wnl=WordNetLemmatizer(), ml=True):\n",
    "    \n",
    "    \"\"\"\n",
    "    Preprocesses the input text by tokenizing, removing stopwords and punctuation, and lemmatizing the words.\n",
    "    \n",
    "    Args:\n",
    "        text (str): The input text to be preprocessed.\n",
    "        stopwords (set, optional): A set of stopwords to be removed from the text. Defaults to nltk's English stopwords.\n",
    "        wnl (WordNetLemmatizer, optional): An instance of WordNetLemmatizer for lemmatizing words. Defaults to an instance of WordNetLemmatizer.\n",
    "        ml (bool, optional): If True, the preprocessed text is returned as a single string. If False, the preprocessed text is returned as a list of words. Defaults to True.\n",
    "    \n",
    "    Returns:\n",
    "        list or str: The preprocessed text. If ml is True, returns a string of the preprocessed text. If ml is False, returns a list of preprocessed words.\n",
    "    \"\"\"\n",
    "    \n",
    "    # Tokenising\n",
    "    words = word_tokenize(text.lower())\n",
    "    \n",
    "    # Removing Stopwords & Punctuation\n",
    "    filtered_text = [word for word in words if word not in stopwords and word.isalpha()]\n",
    "    \n",
    "    # Lemmatization\n",
    "    preprocessed_text = [wnl.lemmatize(word) for word in filtered_text]\n",
    "    \n",
    "    if ml:\n",
    "        preprocessed_text = ' '.join(preprocessed_text)\n",
    "    \n",
    "    return preprocessed_text"
   ]
  },
  {
   "cell_type": "code",
   "execution_count": 10,
   "id": "2279f41e",
   "metadata": {
    "execution": {
     "iopub.execute_input": "2024-07-11T11:18:46.602955Z",
     "iopub.status.busy": "2024-07-11T11:18:46.602684Z",
     "iopub.status.idle": "2024-07-11T11:20:03.292314Z",
     "shell.execute_reply": "2024-07-11T11:20:03.291323Z"
    },
    "papermill": {
     "duration": 76.707444,
     "end_time": "2024-07-11T11:20:03.294814",
     "exception": false,
     "start_time": "2024-07-11T11:18:46.587370",
     "status": "completed"
    },
    "tags": []
   },
   "outputs": [],
   "source": [
    "preprocessed_text_dl = train_df.ABSTRACT.apply(preprocess_text, ml=False)\n",
    "preprocessed_text_ml = train_df.ABSTRACT.apply(preprocess_text)"
   ]
  },
  {
   "cell_type": "code",
   "execution_count": 11,
   "id": "e0e45be5",
   "metadata": {
    "execution": {
     "iopub.execute_input": "2024-07-11T11:20:03.328138Z",
     "iopub.status.busy": "2024-07-11T11:20:03.327110Z",
     "iopub.status.idle": "2024-07-11T11:20:03.349306Z",
     "shell.execute_reply": "2024-07-11T11:20:03.348376Z"
    },
    "papermill": {
     "duration": 0.041105,
     "end_time": "2024-07-11T11:20:03.351455",
     "exception": false,
     "start_time": "2024-07-11T11:20:03.310350",
     "status": "completed"
    },
    "tags": []
   },
   "outputs": [
    {
     "data": {
      "text/html": [
       "<div>\n",
       "<style scoped>\n",
       "    .dataframe tbody tr th:only-of-type {\n",
       "        vertical-align: middle;\n",
       "    }\n",
       "\n",
       "    .dataframe tbody tr th {\n",
       "        vertical-align: top;\n",
       "    }\n",
       "\n",
       "    .dataframe thead th {\n",
       "        text-align: right;\n",
       "    }\n",
       "</style>\n",
       "<table border=\"1\" class=\"dataframe\">\n",
       "  <thead>\n",
       "    <tr style=\"text-align: right;\">\n",
       "      <th></th>\n",
       "      <th>Target</th>\n",
       "      <th>Target_Label</th>\n",
       "      <th>Preprocessed Text ML</th>\n",
       "      <th>Preprocessed Text DL</th>\n",
       "    </tr>\n",
       "  </thead>\n",
       "  <tbody>\n",
       "    <tr>\n",
       "      <th>0</th>\n",
       "      <td>Physics</td>\n",
       "      <td>2</td>\n",
       "      <td>datasets inside observational astronomy challe...</td>\n",
       "      <td>[datasets, inside, observational, astronomy, c...</td>\n",
       "    </tr>\n",
       "    <tr>\n",
       "      <th>1</th>\n",
       "      <td>Computer Science</td>\n",
       "      <td>0</td>\n",
       "      <td>propose framework considering optimal excludin...</td>\n",
       "      <td>[propose, framework, considering, optimal, exc...</td>\n",
       "    </tr>\n",
       "    <tr>\n",
       "      <th>2</th>\n",
       "      <td>Physics</td>\n",
       "      <td>2</td>\n",
       "      <td>nanostructures open shell transition metal mol...</td>\n",
       "      <td>[nanostructures, open, shell, transition, meta...</td>\n",
       "    </tr>\n",
       "    <tr>\n",
       "      <th>3</th>\n",
       "      <td>Physics</td>\n",
       "      <td>2</td>\n",
       "      <td>star fluid inside pressure buoyancy rotation m...</td>\n",
       "      <td>[star, fluid, inside, pressure, buoyancy, rota...</td>\n",
       "    </tr>\n",
       "    <tr>\n",
       "      <th>4</th>\n",
       "      <td>Computer Science</td>\n",
       "      <td>0</td>\n",
       "      <td>deep neural perception control network likely ...</td>\n",
       "      <td>[deep, neural, perception, control, network, l...</td>\n",
       "    </tr>\n",
       "  </tbody>\n",
       "</table>\n",
       "</div>"
      ],
      "text/plain": [
       "             Target  Target_Label  \\\n",
       "0           Physics             2   \n",
       "1  Computer Science             0   \n",
       "2           Physics             2   \n",
       "3           Physics             2   \n",
       "4  Computer Science             0   \n",
       "\n",
       "                                Preprocessed Text ML  \\\n",
       "0  datasets inside observational astronomy challe...   \n",
       "1  propose framework considering optimal excludin...   \n",
       "2  nanostructures open shell transition metal mol...   \n",
       "3  star fluid inside pressure buoyancy rotation m...   \n",
       "4  deep neural perception control network likely ...   \n",
       "\n",
       "                                Preprocessed Text DL  \n",
       "0  [datasets, inside, observational, astronomy, c...  \n",
       "1  [propose, framework, considering, optimal, exc...  \n",
       "2  [nanostructures, open, shell, transition, meta...  \n",
       "3  [star, fluid, inside, pressure, buoyancy, rota...  \n",
       "4  [deep, neural, perception, control, network, l...  "
      ]
     },
     "execution_count": 11,
     "metadata": {},
     "output_type": "execute_result"
    }
   ],
   "source": [
    "train_df['Preprocessed Text ML'] = preprocessed_text_ml\n",
    "train_df['Preprocessed Text DL'] = preprocessed_text_dl\n",
    "train_df.drop('ABSTRACT', axis=1, inplace=True)\n",
    "train_df.head()"
   ]
  },
  {
   "cell_type": "markdown",
   "id": "c3c2e9eb",
   "metadata": {
    "papermill": {
     "duration": 0.014751,
     "end_time": "2024-07-11T11:20:03.381895",
     "exception": false,
     "start_time": "2024-07-11T11:20:03.367144",
     "status": "completed"
    },
    "tags": []
   },
   "source": [
    "### Building Vocabulary and Encoding Text"
   ]
  },
  {
   "cell_type": "code",
   "execution_count": 12,
   "id": "d36ee51b",
   "metadata": {
    "execution": {
     "iopub.execute_input": "2024-07-11T11:20:03.413933Z",
     "iopub.status.busy": "2024-07-11T11:20:03.413108Z",
     "iopub.status.idle": "2024-07-11T11:20:04.857348Z",
     "shell.execute_reply": "2024-07-11T11:20:04.856524Z"
    },
    "papermill": {
     "duration": 1.46273,
     "end_time": "2024-07-11T11:20:04.859684",
     "exception": false,
     "start_time": "2024-07-11T11:20:03.396954",
     "status": "completed"
    },
    "tags": []
   },
   "outputs": [],
   "source": [
    "# Build vocabulary\n",
    "vocab = build_vocab_from_iterator(preprocessed_text_dl, specials=[\"<pad>\", \"<unk>\"], min_freq=2)\n",
    "vocab.set_default_index(vocab[\"<unk>\"])\n",
    "\n",
    "# Convert tokens to indices\n",
    "def encode(text):\n",
    "    return [vocab[token] for token in text]\n",
    "\n",
    "encoded_data = [encode(text) for text in preprocessed_text_dl]"
   ]
  },
  {
   "cell_type": "code",
   "execution_count": 13,
   "id": "bba28217",
   "metadata": {
    "execution": {
     "iopub.execute_input": "2024-07-11T11:20:04.893283Z",
     "iopub.status.busy": "2024-07-11T11:20:04.892671Z",
     "iopub.status.idle": "2024-07-11T11:20:05.770147Z",
     "shell.execute_reply": "2024-07-11T11:20:05.769022Z"
    },
    "papermill": {
     "duration": 0.896667,
     "end_time": "2024-07-11T11:20:05.772297",
     "exception": false,
     "start_time": "2024-07-11T11:20:04.875630",
     "status": "completed"
    },
    "tags": []
   },
   "outputs": [
    {
     "data": {
      "text/html": [
       "<div>\n",
       "<style scoped>\n",
       "    .dataframe tbody tr th:only-of-type {\n",
       "        vertical-align: middle;\n",
       "    }\n",
       "\n",
       "    .dataframe tbody tr th {\n",
       "        vertical-align: top;\n",
       "    }\n",
       "\n",
       "    .dataframe thead th {\n",
       "        text-align: right;\n",
       "    }\n",
       "</style>\n",
       "<table border=\"1\" class=\"dataframe\">\n",
       "  <thead>\n",
       "    <tr style=\"text-align: right;\">\n",
       "      <th></th>\n",
       "      <th>Target</th>\n",
       "      <th>Target_Label</th>\n",
       "      <th>Preprocessed Text ML</th>\n",
       "      <th>Preprocessed Text DL</th>\n",
       "      <th>Encoded &amp; Padded Text</th>\n",
       "    </tr>\n",
       "  </thead>\n",
       "  <tbody>\n",
       "    <tr>\n",
       "      <th>0</th>\n",
       "      <td>Physics</td>\n",
       "      <td>2</td>\n",
       "      <td>datasets inside observational astronomy challe...</td>\n",
       "      <td>[datasets, inside, observational, astronomy, c...</td>\n",
       "      <td>[140, 2, 1087, 2624, 7251, 3218, 2, 91, 725, 1...</td>\n",
       "    </tr>\n",
       "    <tr>\n",
       "      <th>1</th>\n",
       "      <td>Computer Science</td>\n",
       "      <td>0</td>\n",
       "      <td>propose framework considering optimal excludin...</td>\n",
       "      <td>[propose, framework, considering, optimal, exc...</td>\n",
       "      <td>[33, 57, 3, 112, 6777, 2771, 2, 2581, 68, 22, ...</td>\n",
       "    </tr>\n",
       "    <tr>\n",
       "      <th>2</th>\n",
       "      <td>Physics</td>\n",
       "      <td>2</td>\n",
       "      <td>nanostructures open shell transition metal mol...</td>\n",
       "      <td>[nanostructures, open, shell, transition, meta...</td>\n",
       "      <td>[6594, 474, 2427, 144, 917, 769, 3430, 765, 23...</td>\n",
       "    </tr>\n",
       "    <tr>\n",
       "      <th>3</th>\n",
       "      <td>Physics</td>\n",
       "      <td>2</td>\n",
       "      <td>star fluid inside pressure buoyancy rotation m...</td>\n",
       "      <td>[star, fluid, inside, pressure, buoyancy, rota...</td>\n",
       "      <td>[126, 712, 2, 577, 6052, 899, 85, 39, 69, 7144...</td>\n",
       "    </tr>\n",
       "    <tr>\n",
       "      <th>4</th>\n",
       "      <td>Computer Science</td>\n",
       "      <td>0</td>\n",
       "      <td>deep neural perception control network likely ...</td>\n",
       "      <td>[deep, neural, perception, control, network, l...</td>\n",
       "      <td>[54, 49, 1674, 77, 7, 891, 295, 172, 503, 4, 3...</td>\n",
       "    </tr>\n",
       "  </tbody>\n",
       "</table>\n",
       "</div>"
      ],
      "text/plain": [
       "             Target  Target_Label  \\\n",
       "0           Physics             2   \n",
       "1  Computer Science             0   \n",
       "2           Physics             2   \n",
       "3           Physics             2   \n",
       "4  Computer Science             0   \n",
       "\n",
       "                                Preprocessed Text ML  \\\n",
       "0  datasets inside observational astronomy challe...   \n",
       "1  propose framework considering optimal excludin...   \n",
       "2  nanostructures open shell transition metal mol...   \n",
       "3  star fluid inside pressure buoyancy rotation m...   \n",
       "4  deep neural perception control network likely ...   \n",
       "\n",
       "                                Preprocessed Text DL  \\\n",
       "0  [datasets, inside, observational, astronomy, c...   \n",
       "1  [propose, framework, considering, optimal, exc...   \n",
       "2  [nanostructures, open, shell, transition, meta...   \n",
       "3  [star, fluid, inside, pressure, buoyancy, rota...   \n",
       "4  [deep, neural, perception, control, network, l...   \n",
       "\n",
       "                               Encoded & Padded Text  \n",
       "0  [140, 2, 1087, 2624, 7251, 3218, 2, 91, 725, 1...  \n",
       "1  [33, 57, 3, 112, 6777, 2771, 2, 2581, 68, 22, ...  \n",
       "2  [6594, 474, 2427, 144, 917, 769, 3430, 765, 23...  \n",
       "3  [126, 712, 2, 577, 6052, 899, 85, 39, 69, 7144...  \n",
       "4  [54, 49, 1674, 77, 7, 891, 295, 172, 503, 4, 3...  "
      ]
     },
     "execution_count": 13,
     "metadata": {},
     "output_type": "execute_result"
    }
   ],
   "source": [
    "text_data = pad_sequence([torch.tensor(seq) for seq in encoded_data], batch_first=True, padding_value=vocab['<pad>'])\n",
    "train_df['Encoded & Padded Text'] = text_data.tolist()\n",
    "train_df.head()"
   ]
  },
  {
   "cell_type": "code",
   "execution_count": 14,
   "id": "0a4aab0d",
   "metadata": {
    "execution": {
     "iopub.execute_input": "2024-07-11T11:20:05.805873Z",
     "iopub.status.busy": "2024-07-11T11:20:05.805547Z",
     "iopub.status.idle": "2024-07-11T11:20:05.811174Z",
     "shell.execute_reply": "2024-07-11T11:20:05.810335Z"
    },
    "papermill": {
     "duration": 0.024721,
     "end_time": "2024-07-11T11:20:05.813175",
     "exception": false,
     "start_time": "2024-07-11T11:20:05.788454",
     "status": "completed"
    },
    "tags": []
   },
   "outputs": [
    {
     "data": {
      "text/plain": [
       "(14004, 5)"
      ]
     },
     "execution_count": 14,
     "metadata": {},
     "output_type": "execute_result"
    }
   ],
   "source": [
    "train_df.shape"
   ]
  },
  {
   "cell_type": "markdown",
   "id": "af80e6ab",
   "metadata": {
    "papermill": {
     "duration": 0.018031,
     "end_time": "2024-07-11T11:20:05.847511",
     "exception": false,
     "start_time": "2024-07-11T11:20:05.829480",
     "status": "completed"
    },
    "tags": []
   },
   "source": [
    "# Balancing an Imbalanced Dataset "
   ]
  },
  {
   "cell_type": "code",
   "execution_count": 15,
   "id": "eecc69f2",
   "metadata": {
    "execution": {
     "iopub.execute_input": "2024-07-11T11:20:05.885125Z",
     "iopub.status.busy": "2024-07-11T11:20:05.884771Z",
     "iopub.status.idle": "2024-07-11T11:20:05.960157Z",
     "shell.execute_reply": "2024-07-11T11:20:05.958954Z"
    },
    "papermill": {
     "duration": 0.097867,
     "end_time": "2024-07-11T11:20:05.962920",
     "exception": false,
     "start_time": "2024-07-11T11:20:05.865053",
     "status": "completed"
    },
    "tags": []
   },
   "outputs": [],
   "source": [
    "ros = RandomOverSampler(random_state=42)\n",
    "X_balanced_ml, y_balanced_ml = ros.fit_resample(train_df[['Preprocessed Text ML']], train_df[['Target']])"
   ]
  },
  {
   "cell_type": "code",
   "execution_count": 16,
   "id": "6bb14feb",
   "metadata": {
    "execution": {
     "iopub.execute_input": "2024-07-11T11:20:06.048746Z",
     "iopub.status.busy": "2024-07-11T11:20:06.048381Z",
     "iopub.status.idle": "2024-07-11T11:20:06.063123Z",
     "shell.execute_reply": "2024-07-11T11:20:06.062114Z"
    },
    "papermill": {
     "duration": 0.033632,
     "end_time": "2024-07-11T11:20:06.065127",
     "exception": false,
     "start_time": "2024-07-11T11:20:06.031495",
     "status": "completed"
    },
    "tags": []
   },
   "outputs": [
    {
     "data": {
      "text/html": [
       "<div>\n",
       "<style scoped>\n",
       "    .dataframe tbody tr th:only-of-type {\n",
       "        vertical-align: middle;\n",
       "    }\n",
       "\n",
       "    .dataframe tbody tr th {\n",
       "        vertical-align: top;\n",
       "    }\n",
       "\n",
       "    .dataframe thead th {\n",
       "        text-align: right;\n",
       "    }\n",
       "</style>\n",
       "<table border=\"1\" class=\"dataframe\">\n",
       "  <thead>\n",
       "    <tr style=\"text-align: right;\">\n",
       "      <th></th>\n",
       "      <th>Preprocessed Text</th>\n",
       "      <th>Target</th>\n",
       "    </tr>\n",
       "  </thead>\n",
       "  <tbody>\n",
       "    <tr>\n",
       "      <th>0</th>\n",
       "      <td>network structure topology dynamical network o...</td>\n",
       "      <td>Mathematics</td>\n",
       "    </tr>\n",
       "    <tr>\n",
       "      <th>1</th>\n",
       "      <td>extending notion maximal green sequence abelia...</td>\n",
       "      <td>Mathematics</td>\n",
       "    </tr>\n",
       "    <tr>\n",
       "      <th>2</th>\n",
       "      <td>show determine possibly reducible polar repres...</td>\n",
       "      <td>Mathematics</td>\n",
       "    </tr>\n",
       "    <tr>\n",
       "      <th>3</th>\n",
       "      <td>address problem classification inside case num...</td>\n",
       "      <td>Computer Science</td>\n",
       "    </tr>\n",
       "    <tr>\n",
       "      <th>4</th>\n",
       "      <td>motivated experimental detection superconducti...</td>\n",
       "      <td>Physics</td>\n",
       "    </tr>\n",
       "  </tbody>\n",
       "</table>\n",
       "</div>"
      ],
      "text/plain": [
       "                                   Preprocessed Text            Target\n",
       "0  network structure topology dynamical network o...       Mathematics\n",
       "1  extending notion maximal green sequence abelia...       Mathematics\n",
       "2  show determine possibly reducible polar repres...       Mathematics\n",
       "3  address problem classification inside case num...  Computer Science\n",
       "4  motivated experimental detection superconducti...           Physics"
      ]
     },
     "execution_count": 16,
     "metadata": {},
     "output_type": "execute_result"
    }
   ],
   "source": [
    "balanced_dict = {\n",
    "    'Preprocessed Text': X_balanced_ml.squeeze(),\n",
    "    'Target': y_balanced_ml.squeeze()\n",
    "}\n",
    "\n",
    "balanced_df_ml = pd.DataFrame(balanced_dict)\n",
    "balanced_df_ml = balanced_df_ml.sample(n=len(balanced_df_ml)).reset_index(drop=True)\n",
    "balanced_df_ml.head()"
   ]
  },
  {
   "cell_type": "code",
   "execution_count": 17,
   "id": "b0f4e50c",
   "metadata": {
    "execution": {
     "iopub.execute_input": "2024-07-11T11:20:06.102658Z",
     "iopub.status.busy": "2024-07-11T11:20:06.102225Z",
     "iopub.status.idle": "2024-07-11T11:20:06.133858Z",
     "shell.execute_reply": "2024-07-11T11:20:06.133008Z"
    },
    "papermill": {
     "duration": 0.053345,
     "end_time": "2024-07-11T11:20:06.136004",
     "exception": false,
     "start_time": "2024-07-11T11:20:06.082659",
     "status": "completed"
    },
    "tags": []
   },
   "outputs": [
    {
     "data": {
      "text/html": [
       "<div>\n",
       "<style scoped>\n",
       "    .dataframe tbody tr th:only-of-type {\n",
       "        vertical-align: middle;\n",
       "    }\n",
       "\n",
       "    .dataframe tbody tr th {\n",
       "        vertical-align: top;\n",
       "    }\n",
       "\n",
       "    .dataframe thead th {\n",
       "        text-align: right;\n",
       "    }\n",
       "</style>\n",
       "<table border=\"1\" class=\"dataframe\">\n",
       "  <thead>\n",
       "    <tr style=\"text-align: right;\">\n",
       "      <th></th>\n",
       "      <th>Preprocessed Text</th>\n",
       "      <th>Target</th>\n",
       "    </tr>\n",
       "  </thead>\n",
       "  <tbody>\n",
       "    <tr>\n",
       "      <th>0</th>\n",
       "      <td>[119, 391, 561, 135, 4781, 9, 1, 1042, 391, 39...</td>\n",
       "      <td>0</td>\n",
       "    </tr>\n",
       "    <tr>\n",
       "      <th>1</th>\n",
       "      <td>[251, 13157, 49, 1782, 3881, 5, 12136, 7822, 3...</td>\n",
       "      <td>0</td>\n",
       "    </tr>\n",
       "    <tr>\n",
       "      <th>2</th>\n",
       "      <td>[150, 1506, 363, 4723, 4544, 3131, 397, 2572, ...</td>\n",
       "      <td>1</td>\n",
       "    </tr>\n",
       "    <tr>\n",
       "      <th>3</th>\n",
       "      <td>[3018, 6546, 257, 1108, 372, 1714, 1933, 12336...</td>\n",
       "      <td>2</td>\n",
       "    </tr>\n",
       "    <tr>\n",
       "      <th>4</th>\n",
       "      <td>[46, 5028, 36, 625, 1378, 540, 140, 664, 1284,...</td>\n",
       "      <td>0</td>\n",
       "    </tr>\n",
       "  </tbody>\n",
       "</table>\n",
       "</div>"
      ],
      "text/plain": [
       "                                   Preprocessed Text  Target\n",
       "0  [119, 391, 561, 135, 4781, 9, 1, 1042, 391, 39...       0\n",
       "1  [251, 13157, 49, 1782, 3881, 5, 12136, 7822, 3...       0\n",
       "2  [150, 1506, 363, 4723, 4544, 3131, 397, 2572, ...       1\n",
       "3  [3018, 6546, 257, 1108, 372, 1714, 1933, 12336...       2\n",
       "4  [46, 5028, 36, 625, 1378, 540, 140, 664, 1284,...       0"
      ]
     },
     "execution_count": 17,
     "metadata": {},
     "output_type": "execute_result"
    }
   ],
   "source": [
    "X_balanced_dl, y_balanced_dl = ros.fit_resample(train_df[['Encoded & Padded Text']], train_df[['Target_Label']])\n",
    "\n",
    "balanced_dict = {\n",
    "    'Preprocessed Text': X_balanced_dl.squeeze(),\n",
    "    'Target': y_balanced_dl.squeeze()\n",
    "}\n",
    "\n",
    "balanced_df_dl = pd.DataFrame(balanced_dict)\n",
    "balanced_df_dl = balanced_df_dl.sample(n=len(balanced_df_dl)).reset_index(drop=True)\n",
    "balanced_df_dl.head()"
   ]
  },
  {
   "cell_type": "code",
   "execution_count": 18,
   "id": "609bd3cd",
   "metadata": {
    "execution": {
     "iopub.execute_input": "2024-07-11T11:20:06.169397Z",
     "iopub.status.busy": "2024-07-11T11:20:06.169091Z",
     "iopub.status.idle": "2024-07-11T11:20:14.077568Z",
     "shell.execute_reply": "2024-07-11T11:20:14.076768Z"
    },
    "papermill": {
     "duration": 7.927775,
     "end_time": "2024-07-11T11:20:14.079908",
     "exception": false,
     "start_time": "2024-07-11T11:20:06.152133",
     "status": "completed"
    },
    "tags": []
   },
   "outputs": [],
   "source": [
    "count_vect = CountVectorizer(ngram_range=(1, 2))        \n",
    "transformer = TfidfTransformer(norm='l2',sublinear_tf=True)\n",
    "\n",
    "counts = count_vect.fit_transform(balanced_df_ml['Preprocessed Text'])\n",
    "tfidf = transformer.fit_transform(counts)"
   ]
  },
  {
   "cell_type": "markdown",
   "id": "45640aa1",
   "metadata": {
    "papermill": {
     "duration": 0.015758,
     "end_time": "2024-07-11T11:20:14.111861",
     "exception": false,
     "start_time": "2024-07-11T11:20:14.096103",
     "status": "completed"
    },
    "tags": []
   },
   "source": [
    "# Data Visualization"
   ]
  },
  {
   "cell_type": "code",
   "execution_count": 19,
   "id": "1c7b1072",
   "metadata": {
    "execution": {
     "iopub.execute_input": "2024-07-11T11:20:14.144384Z",
     "iopub.status.busy": "2024-07-11T11:20:14.144047Z",
     "iopub.status.idle": "2024-07-11T11:20:15.039877Z",
     "shell.execute_reply": "2024-07-11T11:20:15.038949Z"
    },
    "papermill": {
     "duration": 0.914377,
     "end_time": "2024-07-11T11:20:15.041932",
     "exception": false,
     "start_time": "2024-07-11T11:20:14.127555",
     "status": "completed"
    },
    "tags": []
   },
   "outputs": [
    {
     "data": {
      "text/plain": [
       "<Axes: xlabel='Target', ylabel='count'>"
      ]
     },
     "execution_count": 19,
     "metadata": {},
     "output_type": "execute_result"
    },
    {
     "data": {
      "image/png": "[encoded data removed]",
      "text/plain": [
       "<Figure size 1000x550 with 2 Axes>"
      ]
     },
     "metadata": {},
     "output_type": "display_data"
    }
   ],
   "source": [
    "plt.rcParams[\"figure.figsize\"] = [10.00, 5.50]\n",
    "plt.rcParams[\"figure.autolayout\"] = True\n",
    "f, axes = plt.subplots(1, 2)\n",
    "sns.countplot(data=train_df, x='Target', ax=axes[0])\n",
    "sns.countplot(data=balanced_df_ml, x='Target', ax=axes[1])"
   ]
  },
  {
   "cell_type": "markdown",
   "id": "1ca6d293",
   "metadata": {
    "papermill": {
     "duration": 0.016237,
     "end_time": "2024-07-11T11:20:15.074786",
     "exception": false,
     "start_time": "2024-07-11T11:20:15.058549",
     "status": "completed"
    },
    "tags": []
   },
   "source": [
    "# Machine Learning with Scikit Learn"
   ]
  },
  {
   "cell_type": "code",
   "execution_count": 20,
   "id": "95ace338",
   "metadata": {
    "execution": {
     "iopub.execute_input": "2024-07-11T11:20:15.108578Z",
     "iopub.status.busy": "2024-07-11T11:20:15.108225Z",
     "iopub.status.idle": "2024-07-11T11:20:15.112268Z",
     "shell.execute_reply": "2024-07-11T11:20:15.111444Z"
    },
    "papermill": {
     "duration": 0.023111,
     "end_time": "2024-07-11T11:20:15.114149",
     "exception": false,
     "start_time": "2024-07-11T11:20:15.091038",
     "status": "completed"
    },
    "tags": []
   },
   "outputs": [],
   "source": [
    "LABELS = ['Computer Science', 'Mathematics', 'Physics', 'Statistics']"
   ]
  },
  {
   "cell_type": "code",
   "execution_count": 21,
   "id": "957e4ded",
   "metadata": {
    "execution": {
     "iopub.execute_input": "2024-07-11T11:20:15.147679Z",
     "iopub.status.busy": "2024-07-11T11:20:15.147397Z",
     "iopub.status.idle": "2024-07-11T11:20:15.165025Z",
     "shell.execute_reply": "2024-07-11T11:20:15.164115Z"
    },
    "papermill": {
     "duration": 0.036824,
     "end_time": "2024-07-11T11:20:15.167235",
     "exception": false,
     "start_time": "2024-07-11T11:20:15.130411",
     "status": "completed"
    },
    "tags": []
   },
   "outputs": [],
   "source": [
    "x_train, x_test, y_train, y_test = train_test_split(tfidf, balanced_df_ml['Target'], \n",
    "                                                    test_size=0.2, random_state=42)"
   ]
  },
  {
   "cell_type": "code",
   "execution_count": 22,
   "id": "deeaea84",
   "metadata": {
    "execution": {
     "iopub.execute_input": "2024-07-11T11:20:15.201655Z",
     "iopub.status.busy": "2024-07-11T11:20:15.201131Z",
     "iopub.status.idle": "2024-07-11T11:20:15.206297Z",
     "shell.execute_reply": "2024-07-11T11:20:15.205432Z"
    },
    "papermill": {
     "duration": 0.024163,
     "end_time": "2024-07-11T11:20:15.208164",
     "exception": false,
     "start_time": "2024-07-11T11:20:15.184001",
     "status": "completed"
    },
    "tags": []
   },
   "outputs": [],
   "source": [
    "def model_training(model, x_train, y_train, x_test, y_test):\n",
    "    \"\"\"\n",
    "    Trains the given model using the provided training data and evaluates it using the test data.\n",
    "\n",
    "    Args:\n",
    "        model: The machine learning model to be trained.\n",
    "        x_train: The training data features.\n",
    "        y_train: The training data labels.\n",
    "        x_test: The test data features.\n",
    "        y_test: The test data labels.\n",
    "\n",
    "    Returns:\n",
    "        array-like: The predicted labels for the test data.\n",
    "    \"\"\"\n",
    "    \n",
    "    model = model\n",
    "    model.fit(x_train, y_train)\n",
    "    y_pred = model.predict(x_test)\n",
    "    return y_pred"
   ]
  },
  {
   "cell_type": "code",
   "execution_count": 23,
   "id": "ecf07914",
   "metadata": {
    "execution": {
     "iopub.execute_input": "2024-07-11T11:20:15.242233Z",
     "iopub.status.busy": "2024-07-11T11:20:15.241969Z",
     "iopub.status.idle": "2024-07-11T11:20:15.247150Z",
     "shell.execute_reply": "2024-07-11T11:20:15.246305Z"
    },
    "papermill": {
     "duration": 0.024492,
     "end_time": "2024-07-11T11:20:15.249098",
     "exception": false,
     "start_time": "2024-07-11T11:20:15.224606",
     "status": "completed"
    },
    "tags": []
   },
   "outputs": [],
   "source": [
    "def plot_confusion_matrix(y_true, y_pred, labels):\n",
    "    \"\"\"\n",
    "    Plots a confusion matrix using the true and predicted labels.\n",
    "\n",
    "    Args:\n",
    "        y_true (array-like): The true labels.\n",
    "        y_pred (array-like): The predicted labels.\n",
    "        labels (array-like): The list of labels to index the matrix.\n",
    "    \"\"\"\n",
    "    \n",
    "    cm = confusion_matrix(y_true, y_pred)\n",
    "    disp = ConfusionMatrixDisplay(confusion_matrix=cm, display_labels=labels)\n",
    "    disp.plot(cmap=plt.cm.Blues)\n",
    "    plt.title('Confusion Matrix')\n",
    "    plt.show()"
   ]
  },
  {
   "cell_type": "markdown",
   "id": "a3a713cc",
   "metadata": {
    "papermill": {
     "duration": 0.016016,
     "end_time": "2024-07-11T11:20:15.281232",
     "exception": false,
     "start_time": "2024-07-11T11:20:15.265216",
     "status": "completed"
    },
    "tags": []
   },
   "source": [
    "## Logistic Regression"
   ]
  },
  {
   "cell_type": "code",
   "execution_count": 24,
   "id": "239dbb45",
   "metadata": {
    "execution": {
     "iopub.execute_input": "2024-07-11T11:20:15.315365Z",
     "iopub.status.busy": "2024-07-11T11:20:15.315069Z",
     "iopub.status.idle": "2024-07-11T11:20:27.434818Z",
     "shell.execute_reply": "2024-07-11T11:20:27.433766Z"
    },
    "papermill": {
     "duration": 12.138868,
     "end_time": "2024-07-11T11:20:27.436878",
     "exception": false,
     "start_time": "2024-07-11T11:20:15.298010",
     "status": "completed"
    },
    "tags": []
   },
   "outputs": [
    {
     "data": {
      "text/plain": [
       "0.9290569243840272"
      ]
     },
     "execution_count": 24,
     "metadata": {},
     "output_type": "execute_result"
    }
   ],
   "source": [
    "lr = LogisticRegression(C=1, max_iter=1000, n_jobs=-1, solver='newton-cg')\n",
    "y_pred_lr = model_training(model=lr, x_train=x_train, y_train=y_train, x_test=x_test, y_test=y_test)\n",
    "accuracy_score(y_test,y_pred_lr)"
   ]
  },
  {
   "cell_type": "code",
   "execution_count": 25,
   "id": "d39afcb0",
   "metadata": {
    "execution": {
     "iopub.execute_input": "2024-07-11T11:20:27.472655Z",
     "iopub.status.busy": "2024-07-11T11:20:27.472354Z",
     "iopub.status.idle": "2024-07-11T11:20:27.883212Z",
     "shell.execute_reply": "2024-07-11T11:20:27.882292Z"
    },
    "papermill": {
     "duration": 0.430724,
     "end_time": "2024-07-11T11:20:27.885455",
     "exception": false,
     "start_time": "2024-07-11T11:20:27.454731",
     "status": "completed"
    },
    "tags": []
   },
   "outputs": [
    {
     "data": {
      "image/png": "[encoded data removed]",
      "text/plain": [
       "<Figure size 1000x550 with 2 Axes>"
      ]
     },
     "metadata": {},
     "output_type": "display_data"
    }
   ],
   "source": [
    "plot_confusion_matrix(y_test, y_pred_lr, LABELS)"
   ]
  },
  {
   "cell_type": "code",
   "execution_count": 26,
   "id": "ea8bd06c",
   "metadata": {
    "execution": {
     "iopub.execute_input": "2024-07-11T11:20:27.921420Z",
     "iopub.status.busy": "2024-07-11T11:20:27.920759Z",
     "iopub.status.idle": "2024-07-11T11:20:28.128121Z",
     "shell.execute_reply": "2024-07-11T11:20:28.126960Z"
    },
    "papermill": {
     "duration": 0.22753,
     "end_time": "2024-07-11T11:20:28.130223",
     "exception": false,
     "start_time": "2024-07-11T11:20:27.902693",
     "status": "completed"
    },
    "tags": []
   },
   "outputs": [
    {
     "name": "stdout",
     "output_type": "stream",
     "text": [
      "                  precision    recall  f1-score   support\n",
      "\n",
      "Computer Science       0.91      0.87      0.89      1164\n",
      "     Mathematics       0.94      0.94      0.94      1205\n",
      "         Physics       0.99      0.98      0.99      1156\n",
      "      Statistics       0.88      0.93      0.90      1183\n",
      "\n",
      "        accuracy                           0.93      4708\n",
      "       macro avg       0.93      0.93      0.93      4708\n",
      "    weighted avg       0.93      0.93      0.93      4708\n",
      "\n"
     ]
    }
   ],
   "source": [
    "print(classification_report(y_test, y_pred_lr))"
   ]
  },
  {
   "cell_type": "markdown",
   "id": "87a08fb0",
   "metadata": {
    "papermill": {
     "duration": 0.017722,
     "end_time": "2024-07-11T11:20:28.165505",
     "exception": false,
     "start_time": "2024-07-11T11:20:28.147783",
     "status": "completed"
    },
    "tags": []
   },
   "source": [
    "## Multinomial Naive Bayes"
   ]
  },
  {
   "cell_type": "code",
   "execution_count": 27,
   "id": "311df3da",
   "metadata": {
    "execution": {
     "iopub.execute_input": "2024-07-11T11:20:28.200772Z",
     "iopub.status.busy": "2024-07-11T11:20:28.200457Z",
     "iopub.status.idle": "2024-07-11T11:20:28.411315Z",
     "shell.execute_reply": "2024-07-11T11:20:28.410385Z"
    },
    "papermill": {
     "duration": 0.230855,
     "end_time": "2024-07-11T11:20:28.413386",
     "exception": false,
     "start_time": "2024-07-11T11:20:28.182531",
     "status": "completed"
    },
    "tags": []
   },
   "outputs": [
    {
     "data": {
      "text/plain": [
       "0.887000849617672"
      ]
     },
     "execution_count": 27,
     "metadata": {},
     "output_type": "execute_result"
    }
   ],
   "source": [
    "nb = MultinomialNB(alpha=0.8)\n",
    "y_pred_nb = model_training(model=nb, x_train=x_train, y_train=y_train, x_test=x_test, y_test=y_test)\n",
    "accuracy_score(y_test,y_pred_nb)"
   ]
  },
  {
   "cell_type": "code",
   "execution_count": 28,
   "id": "cb9ec225",
   "metadata": {
    "execution": {
     "iopub.execute_input": "2024-07-11T11:20:28.450086Z",
     "iopub.status.busy": "2024-07-11T11:20:28.449771Z",
     "iopub.status.idle": "2024-07-11T11:20:28.835849Z",
     "shell.execute_reply": "2024-07-11T11:20:28.834912Z"
    },
    "papermill": {
     "duration": 0.406523,
     "end_time": "2024-07-11T11:20:28.837833",
     "exception": false,
     "start_time": "2024-07-11T11:20:28.431310",
     "status": "completed"
    },
    "tags": []
   },
   "outputs": [
    {
     "data": {
      "image/png": "[encoded data removed]",
      "text/plain": [
       "<Figure size 1000x550 with 2 Axes>"
      ]
     },
     "metadata": {},
     "output_type": "display_data"
    }
   ],
   "source": [
    "plot_confusion_matrix(y_test, y_pred_nb, LABELS)"
   ]
  },
  {
   "cell_type": "code",
   "execution_count": 29,
   "id": "98a8cd83",
   "metadata": {
    "execution": {
     "iopub.execute_input": "2024-07-11T11:20:28.875310Z",
     "iopub.status.busy": "2024-07-11T11:20:28.874992Z",
     "iopub.status.idle": "2024-07-11T11:20:29.013109Z",
     "shell.execute_reply": "2024-07-11T11:20:29.012080Z"
    },
    "papermill": {
     "duration": 0.159051,
     "end_time": "2024-07-11T11:20:29.015168",
     "exception": false,
     "start_time": "2024-07-11T11:20:28.856117",
     "status": "completed"
    },
    "tags": []
   },
   "outputs": [
    {
     "name": "stdout",
     "output_type": "stream",
     "text": [
      "                  precision    recall  f1-score   support\n",
      "\n",
      "Computer Science       0.94      0.73      0.82      1164\n",
      "     Mathematics       0.96      0.86      0.91      1205\n",
      "         Physics       0.99      0.97      0.98      1156\n",
      "      Statistics       0.73      0.98      0.84      1183\n",
      "\n",
      "        accuracy                           0.89      4708\n",
      "       macro avg       0.91      0.89      0.89      4708\n",
      "    weighted avg       0.91      0.89      0.89      4708\n",
      "\n"
     ]
    }
   ],
   "source": [
    "print(classification_report(y_test, y_pred_nb, zero_division=0))"
   ]
  },
  {
   "cell_type": "markdown",
   "id": "49e760b6",
   "metadata": {
    "papermill": {
     "duration": 0.017604,
     "end_time": "2024-07-11T11:20:29.051688",
     "exception": false,
     "start_time": "2024-07-11T11:20:29.034084",
     "status": "completed"
    },
    "tags": []
   },
   "source": [
    "# Deep Learning with PyTorch"
   ]
  },
  {
   "cell_type": "markdown",
   "id": "b4da060b",
   "metadata": {
    "papermill": {
     "duration": 0.017527,
     "end_time": "2024-07-11T11:20:29.087069",
     "exception": false,
     "start_time": "2024-07-11T11:20:29.069542",
     "status": "completed"
    },
    "tags": []
   },
   "source": [
    "## Model Preparation"
   ]
  },
  {
   "cell_type": "code",
   "execution_count": 30,
   "id": "0fd4db3e",
   "metadata": {
    "execution": {
     "iopub.execute_input": "2024-07-11T11:20:29.123733Z",
     "iopub.status.busy": "2024-07-11T11:20:29.123457Z",
     "iopub.status.idle": "2024-07-11T11:20:29.129641Z",
     "shell.execute_reply": "2024-07-11T11:20:29.128808Z"
    },
    "papermill": {
     "duration": 0.026713,
     "end_time": "2024-07-11T11:20:29.131594",
     "exception": false,
     "start_time": "2024-07-11T11:20:29.104881",
     "status": "completed"
    },
    "tags": []
   },
   "outputs": [],
   "source": [
    "class TextDataset(Dataset):\n",
    "    \"\"\"\n",
    "    A custom dataset class for text data.\n",
    "\n",
    "    Args:\n",
    "        texts (list of list of int): A list of tokenized texts, where each text is a list of token IDs.\n",
    "        labels (list of int): A list of labels corresponding to the texts.\n",
    "    \"\"\"\n",
    "    \n",
    "    def __init__(self, texts, labels):\n",
    "        self.texts = texts\n",
    "        self.labels = labels\n",
    "        \n",
    "    def __len__(self):\n",
    "        \"\"\"Returns the number of samples in the dataset.\"\"\"\n",
    "        return len(self.texts)\n",
    "    \n",
    "    def __getitem__(self, idx):\n",
    "        \"\"\"Retrieves the sample and label at the given index.\"\"\"\n",
    "        return torch.tensor(self.texts[idx], dtype=torch.long), torch.tensor(self.labels[idx], dtype=torch.long)"
   ]
  },
  {
   "cell_type": "code",
   "execution_count": 31,
   "id": "733da1ea",
   "metadata": {
    "execution": {
     "iopub.execute_input": "2024-07-11T11:20:29.168790Z",
     "iopub.status.busy": "2024-07-11T11:20:29.168064Z",
     "iopub.status.idle": "2024-07-11T11:20:32.143225Z",
     "shell.execute_reply": "2024-07-11T11:20:32.142179Z"
    },
    "papermill": {
     "duration": 2.996289,
     "end_time": "2024-07-11T11:20:32.145718",
     "exception": false,
     "start_time": "2024-07-11T11:20:29.149429",
     "status": "completed"
    },
    "tags": []
   },
   "outputs": [],
   "source": [
    "text_data = torch.tensor(balanced_df_dl['Preprocessed Text'].values.tolist())\n",
    "target = torch.tensor(balanced_df_dl['Target'].values)\n",
    "X, y = text_data, target"
   ]
  },
  {
   "cell_type": "code",
   "execution_count": 32,
   "id": "f0e9b9aa",
   "metadata": {
    "execution": {
     "iopub.execute_input": "2024-07-11T11:20:32.188983Z",
     "iopub.status.busy": "2024-07-11T11:20:32.188614Z",
     "iopub.status.idle": "2024-07-11T11:20:32.422712Z",
     "shell.execute_reply": "2024-07-11T11:20:32.421693Z"
    },
    "papermill": {
     "duration": 0.25568,
     "end_time": "2024-07-11T11:20:32.425054",
     "exception": false,
     "start_time": "2024-07-11T11:20:32.169374",
     "status": "completed"
    },
    "tags": []
   },
   "outputs": [],
   "source": [
    "X_train, X_test, y_train, y_test = train_test_split(X, y, test_size=0.2, random_state=42)\n",
    "X_train, X_test, y_train, y_test = X_train.to(device), X_test.to(device), y_train.to(device), y_test.to(device)"
   ]
  },
  {
   "cell_type": "code",
   "execution_count": 33,
   "id": "609b37bf",
   "metadata": {
    "execution": {
     "iopub.execute_input": "2024-07-11T11:20:32.463731Z",
     "iopub.status.busy": "2024-07-11T11:20:32.463415Z",
     "iopub.status.idle": "2024-07-11T11:20:32.467785Z",
     "shell.execute_reply": "2024-07-11T11:20:32.466873Z"
    },
    "papermill": {
     "duration": 0.025833,
     "end_time": "2024-07-11T11:20:32.469733",
     "exception": false,
     "start_time": "2024-07-11T11:20:32.443900",
     "status": "completed"
    },
    "tags": []
   },
   "outputs": [],
   "source": [
    "train_dataset = TextDataset(X_train, y_train)\n",
    "test_dataset = TextDataset(X_test, y_test)"
   ]
  },
  {
   "cell_type": "code",
   "execution_count": 34,
   "id": "08b1a6ef",
   "metadata": {
    "execution": {
     "iopub.execute_input": "2024-07-11T11:20:32.506375Z",
     "iopub.status.busy": "2024-07-11T11:20:32.506077Z",
     "iopub.status.idle": "2024-07-11T11:20:32.511645Z",
     "shell.execute_reply": "2024-07-11T11:20:32.510813Z"
    },
    "papermill": {
     "duration": 0.026087,
     "end_time": "2024-07-11T11:20:32.513494",
     "exception": false,
     "start_time": "2024-07-11T11:20:32.487407",
     "status": "completed"
    },
    "tags": []
   },
   "outputs": [],
   "source": [
    "torch.manual_seed(42)\n",
    "torch.cuda.manual_seed(42)\n",
    "\n",
    "train_loader = DataLoader(train_dataset, batch_size=256, shuffle=True)\n",
    "test_loader = DataLoader(test_dataset, batch_size=256, shuffle=True)"
   ]
  },
  {
   "cell_type": "markdown",
   "id": "02aa98fd",
   "metadata": {
    "papermill": {
     "duration": 0.017765,
     "end_time": "2024-07-11T11:20:32.548900",
     "exception": false,
     "start_time": "2024-07-11T11:20:32.531135",
     "status": "completed"
    },
    "tags": []
   },
   "source": [
    "## Model Building"
   ]
  },
  {
   "cell_type": "code",
   "execution_count": 35,
   "id": "b3d3bd22",
   "metadata": {
    "execution": {
     "iopub.execute_input": "2024-07-11T11:20:32.585604Z",
     "iopub.status.busy": "2024-07-11T11:20:32.585333Z",
     "iopub.status.idle": "2024-07-11T11:20:32.594025Z",
     "shell.execute_reply": "2024-07-11T11:20:32.593000Z"
    },
    "papermill": {
     "duration": 0.029567,
     "end_time": "2024-07-11T11:20:32.596066",
     "exception": false,
     "start_time": "2024-07-11T11:20:32.566499",
     "status": "completed"
    },
    "tags": []
   },
   "outputs": [],
   "source": [
    "class TextClassifier(nn.Module):\n",
    "    \n",
    "    \"\"\"\n",
    "    A text classification model using an embedding layer, a bidirectional LSTM, and a linear layer.\n",
    "\n",
    "    Args:\n",
    "        vocab_size (int): The size of the vocabulary.\n",
    "        embed_dim (int): The dimensionality of the embeddings.\n",
    "        hidden_dim (int): The number of features in the hidden state of the LSTM.\n",
    "        output_dim (int): The number of output classes.\n",
    "    \"\"\"\n",
    "    \n",
    "    def __init__(self, vocab_size:int, embed_dim:int, hidden_dim:int, output_dim:int):\n",
    "        super(TextClassifier, self).__init__()\n",
    "        \n",
    "        self.embedding = nn.Embedding(num_embeddings=vocab_size, embedding_dim=embed_dim, padding_idx=0)\n",
    "        \n",
    "        self.lstm = nn.LSTM(input_size=embed_dim, hidden_size=embed_dim, dropout=0.5, \n",
    "                            bidirectional=True, batch_first=True, num_layers=2)\n",
    "        \n",
    "        self.linear = nn.Linear(in_features=embed_dim * 2, out_features=output_dim)\n",
    "        self.dropout = nn.Dropout(0.5)\n",
    "        \n",
    "    def forward(self, x):\n",
    "        \"\"\"Forward pass of the model.\"\"\"\n",
    "        \n",
    "        embedded = self.dropout(self.embedding(x))\n",
    "        lstm_out, (hidden, cell) = self.lstm(embedded)\n",
    "        hidden = self.dropout(torch.cat((hidden[-2,:,:], hidden[-1,:,:]), dim=1))\n",
    "        output = self.linear(hidden)\n",
    "        return output"
   ]
  },
  {
   "cell_type": "code",
   "execution_count": 36,
   "id": "879343cf",
   "metadata": {
    "execution": {
     "iopub.execute_input": "2024-07-11T11:20:32.634500Z",
     "iopub.status.busy": "2024-07-11T11:20:32.633937Z",
     "iopub.status.idle": "2024-07-11T11:20:32.638142Z",
     "shell.execute_reply": "2024-07-11T11:20:32.637296Z"
    },
    "papermill": {
     "duration": 0.024695,
     "end_time": "2024-07-11T11:20:32.640123",
     "exception": false,
     "start_time": "2024-07-11T11:20:32.615428",
     "status": "completed"
    },
    "tags": []
   },
   "outputs": [],
   "source": [
    "# Hyperparameters\n",
    "VOCAB_SIZE = len(vocab)\n",
    "EMBED_DIM = 100\n",
    "HIDDEN_DIM = 128\n",
    "OUTPUT_DIM = 4\n",
    "\n",
    "EPOCHS = 20"
   ]
  },
  {
   "cell_type": "code",
   "execution_count": 37,
   "id": "98e9d57a",
   "metadata": {
    "execution": {
     "iopub.execute_input": "2024-07-11T11:20:32.676503Z",
     "iopub.status.busy": "2024-07-11T11:20:32.676198Z",
     "iopub.status.idle": "2024-07-11T11:20:33.636733Z",
     "shell.execute_reply": "2024-07-11T11:20:33.635731Z"
    },
    "papermill": {
     "duration": 0.981176,
     "end_time": "2024-07-11T11:20:33.638978",
     "exception": false,
     "start_time": "2024-07-11T11:20:32.657802",
     "status": "completed"
    },
    "tags": []
   },
   "outputs": [],
   "source": [
    "model = TextClassifier(vocab_size=VOCAB_SIZE, embed_dim=EMBED_DIM, \n",
    "                       hidden_dim=HIDDEN_DIM, output_dim=OUTPUT_DIM).to(device)\n",
    "\n",
    "loss_fn = nn.CrossEntropyLoss()\n",
    "optimizer = optim.Adam(model.parameters())"
   ]
  },
  {
   "cell_type": "markdown",
   "id": "c451800b",
   "metadata": {
    "papermill": {
     "duration": 0.018085,
     "end_time": "2024-07-11T11:20:33.675735",
     "exception": false,
     "start_time": "2024-07-11T11:20:33.657650",
     "status": "completed"
    },
    "tags": []
   },
   "source": [
    "## Model Training"
   ]
  },
  {
   "cell_type": "code",
   "execution_count": 38,
   "id": "142e8513",
   "metadata": {
    "execution": {
     "iopub.execute_input": "2024-07-11T11:20:33.712906Z",
     "iopub.status.busy": "2024-07-11T11:20:33.712393Z",
     "iopub.status.idle": "2024-07-11T11:24:51.500430Z",
     "shell.execute_reply": "2024-07-11T11:24:51.499428Z"
    },
    "papermill": {
     "duration": 257.828616,
     "end_time": "2024-07-11T11:24:51.522210",
     "exception": false,
     "start_time": "2024-07-11T11:20:33.693594",
     "status": "completed"
    },
    "tags": []
   },
   "outputs": [
    {
     "data": {
      "application/vnd.jupyter.widget-view+json": {
       "model_id": "e13174b1ae614f97a6b37a1c3f2d838e",
       "version_major": 2,
       "version_minor": 0
      },
      "text/plain": [
       "  0%|          | 0/21 [00:00<?, ?it/s]"
      ]
     },
     "metadata": {},
     "output_type": "display_data"
    },
    {
     "name": "stdout",
     "output_type": "stream",
     "text": [
      "Epoch: 0 | Train Loss: 1.2539 | Test Loss: 0.9872 & Accuracy: 55.3%\n",
      "Epoch: 5 | Train Loss: 0.6182 | Test Loss: 0.6333 & Accuracy: 70.2%\n",
      "Epoch: 10 | Train Loss: 0.4907 | Test Loss: 0.6533 & Accuracy: 74.3%\n",
      "Epoch: 15 | Train Loss: 0.3970 | Test Loss: 0.4982 & Accuracy: 81.1%\n",
      "Epoch: 20 | Train Loss: 0.3282 | Test Loss: 0.4280 & Accuracy: 84.2%\n"
     ]
    }
   ],
   "source": [
    "torch.manual_seed(42)\n",
    "torch.cuda.manual_seed(42)\n",
    "\n",
    "for epoch in tqdm(range(EPOCHS+1)):\n",
    "    train_loss = 0\n",
    "    \n",
    "    for texts, labels in train_loader:\n",
    "        model.train()\n",
    "        \n",
    "        output_logits = model(texts)\n",
    "        loss = loss_fn(output_logits, labels)\n",
    "        train_loss += loss\n",
    "        optimizer.zero_grad()\n",
    "        loss.backward()\n",
    "        optimizer.step()\n",
    "        \n",
    "    # Average Training Loss\n",
    "    train_loss /= len(train_loader)\n",
    "    \n",
    "    # Testing\n",
    "    test_loss, test_acc = 0, 0\n",
    "    \n",
    "    model.eval()\n",
    "    with torch.inference_mode():\n",
    "        for test_texts, test_labels in test_loader:\n",
    "            test_logits = model(test_texts)\n",
    "            test_loss += loss_fn(test_logits, test_labels)\n",
    "            output = torch.softmax(test_logits, dim=1).argmax(dim=1)\n",
    "            test_acc += accuracy_score(y_true=test_labels.to('cpu'), y_pred=output.to('cpu')) * 100\n",
    "        \n",
    "        # Average Loss and Accuracy\n",
    "        test_loss /= len(test_loader)\n",
    "        test_acc /= len(test_loader)\n",
    "    \n",
    "    if epoch % 5 == 0:\n",
    "        print(f'Epoch: {epoch} | Train Loss: {train_loss.item():.4f} | Test Loss: {test_loss.item():.4f} & Accuracy: {test_acc:.1f}%')"
   ]
  },
  {
   "cell_type": "markdown",
   "id": "9b9fa3d2",
   "metadata": {
    "papermill": {
     "duration": 0.018028,
     "end_time": "2024-07-11T11:24:51.559919",
     "exception": false,
     "start_time": "2024-07-11T11:24:51.541891",
     "status": "completed"
    },
    "tags": []
   },
   "source": [
    "## Evaluation"
   ]
  },
  {
   "cell_type": "code",
   "execution_count": 39,
   "id": "3b4b0795",
   "metadata": {
    "execution": {
     "iopub.execute_input": "2024-07-11T11:24:51.598290Z",
     "iopub.status.busy": "2024-07-11T11:24:51.597484Z",
     "iopub.status.idle": "2024-07-11T11:24:51.891296Z",
     "shell.execute_reply": "2024-07-11T11:24:51.890442Z"
    },
    "papermill": {
     "duration": 0.315039,
     "end_time": "2024-07-11T11:24:51.893134",
     "exception": false,
     "start_time": "2024-07-11T11:24:51.578095",
     "status": "completed"
    },
    "tags": []
   },
   "outputs": [
    {
     "data": {
      "image/png": "[encoded data removed]",
      "text/plain": [
       "<Figure size 1000x550 with 2 Axes>"
      ]
     },
     "metadata": {},
     "output_type": "display_data"
    }
   ],
   "source": [
    "plot_confusion_matrix(test_labels.to('cpu'), output.to('cpu'), LABELS)"
   ]
  },
  {
   "cell_type": "code",
   "execution_count": 40,
   "id": "0667b54a",
   "metadata": {
    "execution": {
     "iopub.execute_input": "2024-07-11T11:24:51.932859Z",
     "iopub.status.busy": "2024-07-11T11:24:51.932533Z",
     "iopub.status.idle": "2024-07-11T11:24:51.946197Z",
     "shell.execute_reply": "2024-07-11T11:24:51.945104Z"
    },
    "papermill": {
     "duration": 0.035652,
     "end_time": "2024-07-11T11:24:51.948141",
     "exception": false,
     "start_time": "2024-07-11T11:24:51.912489",
     "status": "completed"
    },
    "tags": []
   },
   "outputs": [
    {
     "name": "stdout",
     "output_type": "stream",
     "text": [
      "              precision    recall  f1-score   support\n",
      "\n",
      "           0       0.67      0.54      0.60        26\n",
      "           1       0.80      0.92      0.86        26\n",
      "           2       1.00      0.94      0.97        18\n",
      "           3       0.75      0.80      0.77        30\n",
      "\n",
      "    accuracy                           0.79       100\n",
      "   macro avg       0.80      0.80      0.80       100\n",
      "weighted avg       0.79      0.79      0.78       100\n",
      "\n"
     ]
    }
   ],
   "source": [
    "print(classification_report(test_labels.to('cpu'), output.to('cpu')))"
   ]
  },
  {
   "cell_type": "markdown",
   "id": "17f3048e",
   "metadata": {
    "papermill": {
     "duration": 0.018811,
     "end_time": "2024-07-11T11:24:51.985955",
     "exception": false,
     "start_time": "2024-07-11T11:24:51.967144",
     "status": "completed"
    },
    "tags": []
   },
   "source": [
    "# Example "
   ]
  },
  {
   "cell_type": "code",
   "execution_count": 41,
   "id": "a25f988e",
   "metadata": {
    "execution": {
     "iopub.execute_input": "2024-07-11T11:24:52.024751Z",
     "iopub.status.busy": "2024-07-11T11:24:52.024450Z",
     "iopub.status.idle": "2024-07-11T11:24:52.029410Z",
     "shell.execute_reply": "2024-07-11T11:24:52.028568Z"
    },
    "papermill": {
     "duration": 0.026554,
     "end_time": "2024-07-11T11:24:52.031247",
     "exception": false,
     "start_time": "2024-07-11T11:24:52.004693",
     "status": "completed"
    },
    "tags": []
   },
   "outputs": [],
   "source": [
    "example_text = \"stars are self-gravitating fluids inside which pressure, buoyancy, rotation and magnetic fields provide \"\\\n",
    "\"a restoring forces considering global modes of oscillation. pressure and buoyancy energetically dominate, while rotation and magnetism \" \\\n",
    "\"are generally assumed to be weak perturbations and often ignored. however, observations of anomalously weak dipole mode amplitudes inside \"\\\n",
    "\"red giant stars suggest that the substantial fraction of these are subject to an additional source of damping localised to their core region, \"\\\n",
    "\"with indirect evidence pointing to a role of the deeply buried magnetic field. it was also known that inside many instances a gravity-mode character \"\\\n",
    "\"of affected modes was preserved, but so far no effective damping mechanism has been proposed that accommodates this aspect. here we present such the mechanism, \"\\\n",
    "\"which damps a oscillations of stars harbouring magnetised cores using resonant interactions with standing alfvén modes of high harmonic index. a damping rates \"\\\n",
    "\"produced by this mechanism are quantitatively on par with those associated with turbulent convection, and inside a range required to explain observations, considering \"\\\n",
    "\"realistic stellar models and magnetic field strengths. our results suggest that magnetic fields should provide an efficient means of damping stellar oscillations without \"\\\n",
    "\"needing to disrupt a internal structure of a modes, and lay a groundwork considering an extension of a theory of global stellar oscillations that incorporates these effects.\"\n",
    "\n",
    "example_target = 'Physics'\n",
    "example_label = 2"
   ]
  },
  {
   "cell_type": "code",
   "execution_count": 42,
   "id": "54947892",
   "metadata": {
    "execution": {
     "iopub.execute_input": "2024-07-11T11:24:52.070604Z",
     "iopub.status.busy": "2024-07-11T11:24:52.070342Z",
     "iopub.status.idle": "2024-07-11T11:24:52.084832Z",
     "shell.execute_reply": "2024-07-11T11:24:52.083995Z"
    },
    "papermill": {
     "duration": 0.03626,
     "end_time": "2024-07-11T11:24:52.086853",
     "exception": false,
     "start_time": "2024-07-11T11:24:52.050593",
     "status": "completed"
    },
    "tags": []
   },
   "outputs": [
    {
     "data": {
      "text/plain": [
       "tensor([[  126,   712,     2,   577,  6052,   899,    85,    39,    69,  7144,\n",
       "           865,     3,   258,   368,  1361,   577,  6052,  5203,  4067,   899,\n",
       "          2272,   929,  1369,   547,   548,   233,  4080,    59,    92,  7223,\n",
       "           547,  2458,   368,  1059,     2,  1999,  1168,   126,   611,  1407,\n",
       "           686,   808,   476,   131,  2352,  7390,   562,   164,  2474,   556,\n",
       "          4174,   461,  5451,  6717,    85,    39,    16,   153,     2,    91,\n",
       "           564,  1012,  1706,   368,  3172,   821,   236,  2352,   265,    22,\n",
       "          6691,   725,    26,   265,  9910,  1361,   126,     1, 14870,   562,\n",
       "           202,  2366,   102,  6413,  8444,   368,    74,  1487,   689,  2352,\n",
       "            79,  1250,   265,  2231,  4912,   270,  1329,  2651,     2,   169,\n",
       "           539,   908,    92,     3,   955,   321,     4,    85,    39,   764,\n",
       "             8,   611,    85,    39,    69,   175,   187,  2352,   321,  1361,\n",
       "           167,  6837,  9147,  1262,    30,   368,  6130, 12453,     3,   588,\n",
       "            80,   258,   321,  1361,  2067,    70]], device='cuda:0')"
      ]
     },
     "execution_count": 42,
     "metadata": {},
     "output_type": "execute_result"
    }
   ],
   "source": [
    "encoded_text = encode(preprocess_text(text=example_text, ml=False))\n",
    "encoded_text = torch.unsqueeze(torch.tensor(encoded_text).to(device), 0)\n",
    "encoded_text"
   ]
  },
  {
   "cell_type": "code",
   "execution_count": 43,
   "id": "df8911a4",
   "metadata": {
    "execution": {
     "iopub.execute_input": "2024-07-11T11:24:52.126097Z",
     "iopub.status.busy": "2024-07-11T11:24:52.125827Z",
     "iopub.status.idle": "2024-07-11T11:24:52.162705Z",
     "shell.execute_reply": "2024-07-11T11:24:52.161789Z"
    },
    "papermill": {
     "duration": 0.05897,
     "end_time": "2024-07-11T11:24:52.164860",
     "exception": false,
     "start_time": "2024-07-11T11:24:52.105890",
     "status": "completed"
    },
    "tags": []
   },
   "outputs": [
    {
     "data": {
      "text/plain": [
       "tensor([True], device='cuda:0')"
      ]
     },
     "execution_count": 43,
     "metadata": {},
     "output_type": "execute_result"
    }
   ],
   "source": [
    "model.eval()\n",
    "with torch.inference_mode():\n",
    "    output_logits = model(encoded_text)\n",
    "    output = torch.softmax(output_logits, dim=1).argmax(dim=1)\n",
    "    \n",
    "output == example_label"
   ]
  }
 ],
 "metadata": {
  "kaggle": {
   "accelerator": "gpu",
   "dataSources": [
    {
     "datasetId": 932025,
     "sourceId": 2994327,
     "sourceType": "datasetVersion"
    }
   ],
   "dockerImageVersionId": 30732,
   "isGpuEnabled": true,
   "isInternetEnabled": true,
   "language": "python",
   "sourceType": "notebook"
  },
  "kernelspec": {
   "display_name": "Python 3",
   "language": "python",
   "name": "python3"
  },
  "language_info": {
   "codemirror_mode": {
    "name": "ipython",
    "version": 3
   },
   "file_extension": ".py",
   "mimetype": "text/x-python",
   "name": "python",
   "nbconvert_exporter": "python",
   "pygments_lexer": "ipython3",
   "version": "3.10.13"
  },
  "papermill": {
   "default_parameters": {},
   "duration": 381.573621,
   "end_time": "2024-07-11T11:24:54.903979",
   "environment_variables": {},
   "exception": null,
   "input_path": "__notebook__.ipynb",
   "output_path": "__notebook__.ipynb",
   "parameters": {},
   "start_time": "2024-07-11T11:18:33.330358",
   "version": "2.5.0"
  },
  "widgets": {
   "application/vnd.jupyter.widget-state+json": {
    "state": {
     "327dac2aadac4556a7bc298cc30fabe2": {
      "model_module": "@jupyter-widgets/controls",
      "model_module_version": "1.5.0",
      "model_name": "DescriptionStyleModel",
      "state": {
       "_model_module": "@jupyter-widgets/controls",
       "_model_module_version": "1.5.0",
       "_model_name": "DescriptionStyleModel",
       "_view_count": null,
       "_view_module": "@jupyter-widgets/base",
       "_view_module_version": "1.2.0",
       "_view_name": "StyleView",
       "description_width": ""
      }
     },
     "3b54c57be87b4808bbcb0463648886ef": {
      "model_module": "@jupyter-widgets/base",
      "model_module_version": "1.2.0",
      "model_name": "LayoutModel",
      "state": {
       "_model_module": "@jupyter-widgets/base",
       "_model_module_version": "1.2.0",
       "_model_name": "LayoutModel",
       "_view_count": null,
       "_view_module": "@jupyter-widgets/base",
       "_view_module_version": "1.2.0",
       "_view_name": "LayoutView",
       "align_content": null,
       "align_items": null,
       "align_self": null,
       "border": null,
       "bottom": null,
       "display": null,
       "flex": null,
       "flex_flow": null,
       "grid_area": null,
       "grid_auto_columns": null,
       "grid_auto_flow": null,
       "grid_auto_rows": null,
       "grid_column": null,
       "grid_gap": null,
       "grid_row": null,
       "grid_template_areas": null,
       "grid_template_columns": null,
       "grid_template_rows": null,
       "height": null,
       "justify_content": null,
       "justify_items": null,
       "left": null,
       "margin": null,
       "max_height": null,
       "max_width": null,
       "min_height": null,
       "min_width": null,
       "object_fit": null,
       "object_position": null,
       "order": null,
       "overflow": null,
       "overflow_x": null,
       "overflow_y": null,
       "padding": null,
       "right": null,
       "top": null,
       "visibility": null,
       "width": null
      }
     },
     "5e85bf1a0e7b4be988bd2b565882b54d": {
      "model_module": "@jupyter-widgets/controls",
      "model_module_version": "1.5.0",
      "model_name": "ProgressStyleModel",
      "state": {
       "_model_module": "@jupyter-widgets/controls",
       "_model_module_version": "1.5.0",
       "_model_name": "ProgressStyleModel",
       "_view_count": null,
       "_view_module": "@jupyter-widgets/base",
       "_view_module_version": "1.2.0",
       "_view_name": "StyleView",
       "bar_color": null,
       "description_width": ""
      }
     },
     "7deb4db1a4a84bc59ab19d6b17e81e3c": {
      "model_module": "@jupyter-widgets/base",
      "model_module_version": "1.2.0",
      "model_name": "LayoutModel",
      "state": {
       "_model_module": "@jupyter-widgets/base",
       "_model_module_version": "1.2.0",
       "_model_name": "LayoutModel",
       "_view_count": null,
       "_view_module": "@jupyter-widgets/base",
       "_view_module_version": "1.2.0",
       "_view_name": "LayoutView",
       "align_content": null,
       "align_items": null,
       "align_self": null,
       "border": null,
       "bottom": null,
       "display": null,
       "flex": null,
       "flex_flow": null,
       "grid_area": null,
       "grid_auto_columns": null,
       "grid_auto_flow": null,
       "grid_auto_rows": null,
       "grid_column": null,
       "grid_gap": null,
       "grid_row": null,
       "grid_template_areas": null,
       "grid_template_columns": null,
       "grid_template_rows": null,
       "height": null,
       "justify_content": null,
       "justify_items": null,
       "left": null,
       "margin": null,
       "max_height": null,
       "max_width": null,
       "min_height": null,
       "min_width": null,
       "object_fit": null,
       "object_position": null,
       "order": null,
       "overflow": null,
       "overflow_x": null,
       "overflow_y": null,
       "padding": null,
       "right": null,
       "top": null,
       "visibility": null,
       "width": null
      }
     },
     "8ec6b4ff8d344f31a1d74782f53b41fb": {
      "model_module": "@jupyter-widgets/base",
      "model_module_version": "1.2.0",
      "model_name": "LayoutModel",
      "state": {
       "_model_module": "@jupyter-widgets/base",
       "_model_module_version": "1.2.0",
       "_model_name": "LayoutModel",
       "_view_count": null,
       "_view_module": "@jupyter-widgets/base",
       "_view_module_version": "1.2.0",
       "_view_name": "LayoutView",
       "align_content": null,
       "align_items": null,
       "align_self": null,
       "border": null,
       "bottom": null,
       "display": null,
       "flex": null,
       "flex_flow": null,
       "grid_area": null,
       "grid_auto_columns": null,
       "grid_auto_flow": null,
       "grid_auto_rows": null,
       "grid_column": null,
       "grid_gap": null,
       "grid_row": null,
       "grid_template_areas": null,
       "grid_template_columns": null,
       "grid_template_rows": null,
       "height": null,
       "justify_content": null,
       "justify_items": null,
       "left": null,
       "margin": null,
       "max_height": null,
       "max_width": null,
       "min_height": null,
       "min_width": null,
       "object_fit": null,
       "object_position": null,
       "order": null,
       "overflow": null,
       "overflow_x": null,
       "overflow_y": null,
       "padding": null,
       "right": null,
       "top": null,
       "visibility": null,
       "width": null
      }
     },
     "b6e179b57b40481e9758d4134b50437d": {
      "model_module": "@jupyter-widgets/controls",
      "model_module_version": "1.5.0",
      "model_name": "HTMLModel",
      "state": {
       "_dom_classes": [],
       "_model_module": "@jupyter-widgets/controls",
       "_model_module_version": "1.5.0",
       "_model_name": "HTMLModel",
       "_view_count": null,
       "_view_module": "@jupyter-widgets/controls",
       "_view_module_version": "1.5.0",
       "_view_name": "HTMLView",
       "description": "",
       "description_tooltip": null,
       "layout": "IPY_MODEL_f12dc896c4cf42838f9ef351ebefd391",
       "placeholder": "​",
       "style": "IPY_MODEL_327dac2aadac4556a7bc298cc30fabe2",
       "value": "100%"
      }
     },
     "ce7149eeace64e2198032c47860a53b6": {
      "model_module": "@jupyter-widgets/controls",
      "model_module_version": "1.5.0",
      "model_name": "HTMLModel",
      "state": {
       "_dom_classes": [],
       "_model_module": "@jupyter-widgets/controls",
       "_model_module_version": "1.5.0",
       "_model_name": "HTMLModel",
       "_view_count": null,
       "_view_module": "@jupyter-widgets/controls",
       "_view_module_version": "1.5.0",
       "_view_name": "HTMLView",
       "description": "",
       "description_tooltip": null,
       "layout": "IPY_MODEL_7deb4db1a4a84bc59ab19d6b17e81e3c",
       "placeholder": "​",
       "style": "IPY_MODEL_f9f152390ba0426897eb4f6a2634210d",
       "value": " 21/21 [04:17&lt;00:00, 12.32s/it]"
      }
     },
     "daa79b833efb427681df531a62542947": {
      "model_module": "@jupyter-widgets/controls",
      "model_module_version": "1.5.0",
      "model_name": "FloatProgressModel",
      "state": {
       "_dom_classes": [],
       "_model_module": "@jupyter-widgets/controls",
       "_model_module_version": "1.5.0",
       "_model_name": "FloatProgressModel",
       "_view_count": null,
       "_view_module": "@jupyter-widgets/controls",
       "_view_module_version": "1.5.0",
       "_view_name": "ProgressView",
       "bar_style": "success",
       "description": "",
       "description_tooltip": null,
       "layout": "IPY_MODEL_3b54c57be87b4808bbcb0463648886ef",
       "max": 21.0,
       "min": 0.0,
       "orientation": "horizontal",
       "style": "IPY_MODEL_5e85bf1a0e7b4be988bd2b565882b54d",
       "value": 21.0
      }
     },
     "e13174b1ae614f97a6b37a1c3f2d838e": {
      "model_module": "@jupyter-widgets/controls",
      "model_module_version": "1.5.0",
      "model_name": "HBoxModel",
      "state": {
       "_dom_classes": [],
       "_model_module": "@jupyter-widgets/controls",
       "_model_module_version": "1.5.0",
       "_model_name": "HBoxModel",
       "_view_count": null,
       "_view_module": "@jupyter-widgets/controls",
       "_view_module_version": "1.5.0",
       "_view_name": "HBoxView",
       "box_style": "",
       "children": [
        "IPY_MODEL_b6e179b57b40481e9758d4134b50437d",
        "IPY_MODEL_daa79b833efb427681df531a62542947",
        "IPY_MODEL_ce7149eeace64e2198032c47860a53b6"
       ],
       "layout": "IPY_MODEL_8ec6b4ff8d344f31a1d74782f53b41fb"
      }
     },
     "f12dc896c4cf42838f9ef351ebefd391": {
      "model_module": "@jupyter-widgets/base",
      "model_module_version": "1.2.0",
      "model_name": "LayoutModel",
      "state": {
       "_model_module": "@jupyter-widgets/base",
       "_model_module_version": "1.2.0",
       "_model_name": "LayoutModel",
       "_view_count": null,
       "_view_module": "@jupyter-widgets/base",
       "_view_module_version": "1.2.0",
       "_view_name": "LayoutView",
       "align_content": null,
       "align_items": null,
       "align_self": null,
       "border": null,
       "bottom": null,
       "display": null,
       "flex": null,
       "flex_flow": null,
       "grid_area": null,
       "grid_auto_columns": null,
       "grid_auto_flow": null,
       "grid_auto_rows": null,
       "grid_column": null,
       "grid_gap": null,
       "grid_row": null,
       "grid_template_areas": null,
       "grid_template_columns": null,
       "grid_template_rows": null,
       "height": null,
       "justify_content": null,
       "justify_items": null,
       "left": null,
       "margin": null,
       "max_height": null,
       "max_width": null,
       "min_height": null,
       "min_width": null,
       "object_fit": null,
       "object_position": null,
       "order": null,
       "overflow": null,
       "overflow_x": null,
       "overflow_y": null,
       "padding": null,
       "right": null,
       "top": null,
       "visibility": null,
       "width": null
      }
     },
     "f9f152390ba0426897eb4f6a2634210d": {
      "model_module": "@jupyter-widgets/controls",
      "model_module_version": "1.5.0",
      "model_name": "DescriptionStyleModel",
      "state": {
       "_model_module": "@jupyter-widgets/controls",
       "_model_module_version": "1.5.0",
       "_model_name": "DescriptionStyleModel",
       "_view_count": null,
       "_view_module": "@jupyter-widgets/base",
       "_view_module_version": "1.2.0",
       "_view_name": "StyleView",
       "description_width": ""
      }
     }
    },
    "version_major": 2,
    "version_minor": 0
   }
  }
 },
 "nbformat": 4,
 "nbformat_minor": 5
}
