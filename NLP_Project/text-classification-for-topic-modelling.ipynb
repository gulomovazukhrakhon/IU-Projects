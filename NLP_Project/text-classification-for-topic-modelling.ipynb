{
 "cells": [
  {
   "cell_type": "markdown",
   "id": "b9805923",
   "metadata": {
    "papermill": {
     "duration": 0.015892,
     "end_time": "2024-07-03T10:08:43.043151",
     "exception": false,
     "start_time": "2024-07-03T10:08:43.027259",
     "status": "completed"
    },
    "tags": []
   },
   "source": [
    "# Text Classification for Topic Modelling"
   ]
  },
  {
   "cell_type": "markdown",
   "id": "c1e66c61",
   "metadata": {
    "papermill": {
     "duration": 0.01249,
     "end_time": "2024-07-03T10:08:43.068643",
     "exception": false,
     "start_time": "2024-07-03T10:08:43.056153",
     "status": "completed"
    },
    "tags": []
   },
   "source": [
    "## Notebook Imports"
   ]
  },
  {
   "cell_type": "code",
   "execution_count": 1,
   "id": "d65fc81e",
   "metadata": {
    "_cell_guid": "b1076dfc-b9ad-4769-8c92-a6c4dae69d19",
    "_uuid": "8f2839f25d086af736a60e9eeb907d3b93b6e0e5",
    "execution": {
     "iopub.execute_input": "2024-07-03T10:08:43.095983Z",
     "iopub.status.busy": "2024-07-03T10:08:43.095559Z",
     "iopub.status.idle": "2024-07-03T10:08:50.796271Z",
     "shell.execute_reply": "2024-07-03T10:08:50.795510Z"
    },
    "papermill": {
     "duration": 7.717113,
     "end_time": "2024-07-03T10:08:50.798610",
     "exception": false,
     "start_time": "2024-07-03T10:08:43.081497",
     "status": "completed"
    },
    "tags": []
   },
   "outputs": [],
   "source": [
    "# NLTK\n",
    "import nltk\n",
    "from nltk.corpus import stopwords\n",
    "from nltk.stem import WordNetLemmatizer\n",
    "from nltk.tokenize import word_tokenize\n",
    "\n",
    "# Sklearn\n",
    "import sklearn\n",
    "from sklearn.naive_bayes import MultinomialNB\n",
    "from sklearn.preprocessing import LabelEncoder\n",
    "from sklearn.ensemble import RandomForestClassifier\n",
    "from sklearn.linear_model import LogisticRegression\n",
    "from sklearn.model_selection import train_test_split\n",
    "from sklearn.feature_extraction.text import CountVectorizer, TfidfTransformer\n",
    "from sklearn.metrics import accuracy_score, classification_report, confusion_matrix, ConfusionMatrixDisplay\n",
    "\n",
    "# Imblearn\n",
    "import imblearn\n",
    "from imblearn.over_sampling import RandomOverSampler\n",
    "\n",
    "# PyTorch\n",
    "import torch\n",
    "import torch.nn as nn\n",
    "import torch.optim as optim\n",
    "from torch.nn.utils.rnn import pad_sequence\n",
    "from torch.utils.data import DataLoader, Dataset\n",
    "from torchtext.vocab import build_vocab_from_iterator\n",
    "\n",
    "# Other\n",
    "import numpy as np\n",
    "import pandas as pd\n",
    "import seaborn as sns\n",
    "import matplotlib.pyplot as plt\n",
    "\n",
    "%matplotlib inline"
   ]
  },
  {
   "cell_type": "code",
   "execution_count": 2,
   "id": "988154da",
   "metadata": {
    "execution": {
     "iopub.execute_input": "2024-07-03T10:08:50.826813Z",
     "iopub.status.busy": "2024-07-03T10:08:50.826321Z",
     "iopub.status.idle": "2024-07-03T10:08:51.160583Z",
     "shell.execute_reply": "2024-07-03T10:08:51.159650Z"
    },
    "papermill": {
     "duration": 0.349939,
     "end_time": "2024-07-03T10:08:51.162515",
     "exception": false,
     "start_time": "2024-07-03T10:08:50.812576",
     "status": "completed"
    },
    "tags": []
   },
   "outputs": [
    {
     "name": "stdout",
     "output_type": "stream",
     "text": [
      "[nltk_data] Downloading package stopwords to /usr/share/nltk_data...\n",
      "[nltk_data]   Package stopwords is already up-to-date!\n",
      "[nltk_data] Downloading package punkt to /usr/share/nltk_data...\n",
      "[nltk_data]   Package punkt is already up-to-date!\n",
      "[nltk_data] Downloading package wordnet to /usr/share/nltk_data...\n",
      "[nltk_data]   Package wordnet is already up-to-date!\n",
      "[nltk_data] Downloading package omw-1.4 to /usr/share/nltk_data...\n"
     ]
    },
    {
     "data": {
      "text/plain": [
       "True"
      ]
     },
     "execution_count": 2,
     "metadata": {},
     "output_type": "execute_result"
    }
   ],
   "source": [
    "nltk.download('stopwords')\n",
    "nltk.download(\"punkt\")\n",
    "nltk.download(\"wordnet\")\n",
    "nltk.download(\"omw-1.4\")"
   ]
  },
  {
   "cell_type": "code",
   "execution_count": 3,
   "id": "8b2247f1",
   "metadata": {
    "execution": {
     "iopub.execute_input": "2024-07-03T10:08:51.189963Z",
     "iopub.status.busy": "2024-07-03T10:08:51.189627Z",
     "iopub.status.idle": "2024-07-03T10:08:52.428274Z",
     "shell.execute_reply": "2024-07-03T10:08:52.427312Z"
    },
    "papermill": {
     "duration": 1.254768,
     "end_time": "2024-07-03T10:08:52.430557",
     "exception": false,
     "start_time": "2024-07-03T10:08:51.175789",
     "status": "completed"
    },
    "tags": []
   },
   "outputs": [
    {
     "name": "stdout",
     "output_type": "stream",
     "text": [
      "Archive:  /usr/share/nltk_data/corpora/wordnet.zip\r\n",
      "   creating: /usr/share/nltk_data/corpora/wordnet/\r\n",
      "  inflating: /usr/share/nltk_data/corpora/wordnet/lexnames  \r\n",
      "  inflating: /usr/share/nltk_data/corpora/wordnet/data.verb  \r\n",
      "  inflating: /usr/share/nltk_data/corpora/wordnet/index.adv  \r\n",
      "  inflating: /usr/share/nltk_data/corpora/wordnet/adv.exc  \r\n",
      "  inflating: /usr/share/nltk_data/corpora/wordnet/index.verb  \r\n",
      "  inflating: /usr/share/nltk_data/corpora/wordnet/cntlist.rev  \r\n",
      "  inflating: /usr/share/nltk_data/corpora/wordnet/data.adj  \r\n",
      "  inflating: /usr/share/nltk_data/corpora/wordnet/index.adj  \r\n",
      "  inflating: /usr/share/nltk_data/corpora/wordnet/LICENSE  \r\n",
      "  inflating: /usr/share/nltk_data/corpora/wordnet/citation.bib  \r\n",
      "  inflating: /usr/share/nltk_data/corpora/wordnet/noun.exc  \r\n",
      "  inflating: /usr/share/nltk_data/corpora/wordnet/verb.exc  \r\n",
      "  inflating: /usr/share/nltk_data/corpora/wordnet/README  \r\n",
      "  inflating: /usr/share/nltk_data/corpora/wordnet/index.sense  \r\n",
      "  inflating: /usr/share/nltk_data/corpora/wordnet/data.noun  \r\n",
      "  inflating: /usr/share/nltk_data/corpora/wordnet/data.adv  \r\n",
      "  inflating: /usr/share/nltk_data/corpora/wordnet/index.noun  \r\n",
      "  inflating: /usr/share/nltk_data/corpora/wordnet/adj.exc  \r\n"
     ]
    }
   ],
   "source": [
    "from nltk.corpus import wordnet\n",
    "! unzip /usr/share/nltk_data/corpora/wordnet.zip -d /usr/share/nltk_data/corpora/"
   ]
  },
  {
   "cell_type": "markdown",
   "id": "60f645de",
   "metadata": {
    "papermill": {
     "duration": 0.013143,
     "end_time": "2024-07-03T10:08:52.457789",
     "exception": false,
     "start_time": "2024-07-03T10:08:52.444646",
     "status": "completed"
    },
    "tags": []
   },
   "source": [
    "# Data Loading"
   ]
  },
  {
   "cell_type": "code",
   "execution_count": 4,
   "id": "8f4f09a3",
   "metadata": {
    "execution": {
     "iopub.execute_input": "2024-07-03T10:08:52.486731Z",
     "iopub.status.busy": "2024-07-03T10:08:52.485933Z",
     "iopub.status.idle": "2024-07-03T10:08:52.538730Z",
     "shell.execute_reply": "2024-07-03T10:08:52.537876Z"
    },
    "papermill": {
     "duration": 0.069275,
     "end_time": "2024-07-03T10:08:52.540626",
     "exception": false,
     "start_time": "2024-07-03T10:08:52.471351",
     "status": "completed"
    },
    "tags": []
   },
   "outputs": [],
   "source": [
    "DATASET_ROOT = '/kaggle/input/topic-modeling-for-research-articles/Train.csv'\n",
    "device = 'cuda' if torch.cuda.is_available() else 'cpu'"
   ]
  },
  {
   "cell_type": "code",
   "execution_count": 5,
   "id": "5da82606",
   "metadata": {
    "execution": {
     "iopub.execute_input": "2024-07-03T10:08:52.568781Z",
     "iopub.status.busy": "2024-07-03T10:08:52.568441Z",
     "iopub.status.idle": "2024-07-03T10:08:53.079458Z",
     "shell.execute_reply": "2024-07-03T10:08:53.078594Z"
    },
    "papermill": {
     "duration": 0.527531,
     "end_time": "2024-07-03T10:08:53.081491",
     "exception": false,
     "start_time": "2024-07-03T10:08:52.553960",
     "status": "completed"
    },
    "tags": []
   },
   "outputs": [
    {
     "data": {
      "text/html": [
       "<div>\n",
       "<style scoped>\n",
       "    .dataframe tbody tr th:only-of-type {\n",
       "        vertical-align: middle;\n",
       "    }\n",
       "\n",
       "    .dataframe tbody tr th {\n",
       "        vertical-align: top;\n",
       "    }\n",
       "\n",
       "    .dataframe thead th {\n",
       "        text-align: right;\n",
       "    }\n",
       "</style>\n",
       "<table border=\"1\" class=\"dataframe\">\n",
       "  <thead>\n",
       "    <tr style=\"text-align: right;\">\n",
       "      <th></th>\n",
       "      <th>id</th>\n",
       "      <th>ABSTRACT</th>\n",
       "      <th>Computer Science</th>\n",
       "      <th>Mathematics</th>\n",
       "      <th>Physics</th>\n",
       "      <th>Statistics</th>\n",
       "      <th>Analysis of PDEs</th>\n",
       "      <th>Applications</th>\n",
       "      <th>Artificial Intelligence</th>\n",
       "      <th>Astrophysics of Galaxies</th>\n",
       "      <th>...</th>\n",
       "      <th>Methodology</th>\n",
       "      <th>Number Theory</th>\n",
       "      <th>Optimization and Control</th>\n",
       "      <th>Representation Theory</th>\n",
       "      <th>Robotics</th>\n",
       "      <th>Social and Information Networks</th>\n",
       "      <th>Statistics Theory</th>\n",
       "      <th>Strongly Correlated Electrons</th>\n",
       "      <th>Superconductivity</th>\n",
       "      <th>Systems and Control</th>\n",
       "    </tr>\n",
       "  </thead>\n",
       "  <tbody>\n",
       "    <tr>\n",
       "      <th>0</th>\n",
       "      <td>1824</td>\n",
       "      <td>a ever-growing datasets inside observational a...</td>\n",
       "      <td>0</td>\n",
       "      <td>0</td>\n",
       "      <td>1</td>\n",
       "      <td>0</td>\n",
       "      <td>0</td>\n",
       "      <td>0</td>\n",
       "      <td>0</td>\n",
       "      <td>0</td>\n",
       "      <td>...</td>\n",
       "      <td>0</td>\n",
       "      <td>0</td>\n",
       "      <td>0</td>\n",
       "      <td>0</td>\n",
       "      <td>0</td>\n",
       "      <td>0</td>\n",
       "      <td>0</td>\n",
       "      <td>0</td>\n",
       "      <td>0</td>\n",
       "      <td>0</td>\n",
       "    </tr>\n",
       "    <tr>\n",
       "      <th>1</th>\n",
       "      <td>3094</td>\n",
       "      <td>we propose the framework considering optimal $...</td>\n",
       "      <td>1</td>\n",
       "      <td>0</td>\n",
       "      <td>0</td>\n",
       "      <td>0</td>\n",
       "      <td>0</td>\n",
       "      <td>0</td>\n",
       "      <td>0</td>\n",
       "      <td>0</td>\n",
       "      <td>...</td>\n",
       "      <td>0</td>\n",
       "      <td>0</td>\n",
       "      <td>0</td>\n",
       "      <td>0</td>\n",
       "      <td>0</td>\n",
       "      <td>0</td>\n",
       "      <td>0</td>\n",
       "      <td>0</td>\n",
       "      <td>0</td>\n",
       "      <td>0</td>\n",
       "    </tr>\n",
       "    <tr>\n",
       "      <th>2</th>\n",
       "      <td>8463</td>\n",
       "      <td>nanostructures with open shell transition meta...</td>\n",
       "      <td>0</td>\n",
       "      <td>0</td>\n",
       "      <td>1</td>\n",
       "      <td>0</td>\n",
       "      <td>0</td>\n",
       "      <td>0</td>\n",
       "      <td>0</td>\n",
       "      <td>0</td>\n",
       "      <td>...</td>\n",
       "      <td>0</td>\n",
       "      <td>0</td>\n",
       "      <td>0</td>\n",
       "      <td>0</td>\n",
       "      <td>0</td>\n",
       "      <td>0</td>\n",
       "      <td>0</td>\n",
       "      <td>1</td>\n",
       "      <td>0</td>\n",
       "      <td>0</td>\n",
       "    </tr>\n",
       "    <tr>\n",
       "      <th>3</th>\n",
       "      <td>2082</td>\n",
       "      <td>stars are self-gravitating fluids inside which...</td>\n",
       "      <td>0</td>\n",
       "      <td>0</td>\n",
       "      <td>1</td>\n",
       "      <td>0</td>\n",
       "      <td>0</td>\n",
       "      <td>0</td>\n",
       "      <td>0</td>\n",
       "      <td>0</td>\n",
       "      <td>...</td>\n",
       "      <td>0</td>\n",
       "      <td>0</td>\n",
       "      <td>0</td>\n",
       "      <td>0</td>\n",
       "      <td>0</td>\n",
       "      <td>0</td>\n",
       "      <td>0</td>\n",
       "      <td>0</td>\n",
       "      <td>0</td>\n",
       "      <td>0</td>\n",
       "    </tr>\n",
       "    <tr>\n",
       "      <th>4</th>\n",
       "      <td>8687</td>\n",
       "      <td>deep neural perception and control networks ar...</td>\n",
       "      <td>1</td>\n",
       "      <td>0</td>\n",
       "      <td>0</td>\n",
       "      <td>0</td>\n",
       "      <td>0</td>\n",
       "      <td>0</td>\n",
       "      <td>0</td>\n",
       "      <td>0</td>\n",
       "      <td>...</td>\n",
       "      <td>0</td>\n",
       "      <td>0</td>\n",
       "      <td>0</td>\n",
       "      <td>0</td>\n",
       "      <td>0</td>\n",
       "      <td>0</td>\n",
       "      <td>0</td>\n",
       "      <td>0</td>\n",
       "      <td>0</td>\n",
       "      <td>0</td>\n",
       "    </tr>\n",
       "  </tbody>\n",
       "</table>\n",
       "<p>5 rows × 31 columns</p>\n",
       "</div>"
      ],
      "text/plain": [
       "     id                                           ABSTRACT  Computer Science  \\\n",
       "0  1824  a ever-growing datasets inside observational a...                 0   \n",
       "1  3094  we propose the framework considering optimal $...                 1   \n",
       "2  8463  nanostructures with open shell transition meta...                 0   \n",
       "3  2082  stars are self-gravitating fluids inside which...                 0   \n",
       "4  8687  deep neural perception and control networks ar...                 1   \n",
       "\n",
       "   Mathematics  Physics  Statistics  Analysis of PDEs  Applications  \\\n",
       "0            0        1           0                 0             0   \n",
       "1            0        0           0                 0             0   \n",
       "2            0        1           0                 0             0   \n",
       "3            0        1           0                 0             0   \n",
       "4            0        0           0                 0             0   \n",
       "\n",
       "   Artificial Intelligence  Astrophysics of Galaxies  ...  Methodology  \\\n",
       "0                        0                         0  ...            0   \n",
       "1                        0                         0  ...            0   \n",
       "2                        0                         0  ...            0   \n",
       "3                        0                         0  ...            0   \n",
       "4                        0                         0  ...            0   \n",
       "\n",
       "   Number Theory  Optimization and Control  Representation Theory  Robotics  \\\n",
       "0              0                         0                      0         0   \n",
       "1              0                         0                      0         0   \n",
       "2              0                         0                      0         0   \n",
       "3              0                         0                      0         0   \n",
       "4              0                         0                      0         0   \n",
       "\n",
       "   Social and Information Networks  Statistics Theory  \\\n",
       "0                                0                  0   \n",
       "1                                0                  0   \n",
       "2                                0                  0   \n",
       "3                                0                  0   \n",
       "4                                0                  0   \n",
       "\n",
       "   Strongly Correlated Electrons  Superconductivity  Systems and Control  \n",
       "0                              0                  0                    0  \n",
       "1                              0                  0                    0  \n",
       "2                              1                  0                    0  \n",
       "3                              0                  0                    0  \n",
       "4                              0                  0                    0  \n",
       "\n",
       "[5 rows x 31 columns]"
      ]
     },
     "execution_count": 5,
     "metadata": {},
     "output_type": "execute_result"
    }
   ],
   "source": [
    "train_df = pd.read_csv(DATASET_ROOT)\n",
    "train_df.head()"
   ]
  },
  {
   "cell_type": "markdown",
   "id": "8d5ad29a",
   "metadata": {
    "papermill": {
     "duration": 0.013568,
     "end_time": "2024-07-03T10:08:53.109736",
     "exception": false,
     "start_time": "2024-07-03T10:08:53.096168",
     "status": "completed"
    },
    "tags": []
   },
   "source": [
    "# Data Preprocessing"
   ]
  },
  {
   "cell_type": "code",
   "execution_count": 6,
   "id": "a51792e8",
   "metadata": {
    "execution": {
     "iopub.execute_input": "2024-07-03T10:08:53.138394Z",
     "iopub.status.busy": "2024-07-03T10:08:53.138099Z",
     "iopub.status.idle": "2024-07-03T10:08:53.163182Z",
     "shell.execute_reply": "2024-07-03T10:08:53.162290Z"
    },
    "papermill": {
     "duration": 0.04154,
     "end_time": "2024-07-03T10:08:53.165109",
     "exception": false,
     "start_time": "2024-07-03T10:08:53.123569",
     "status": "completed"
    },
    "tags": []
   },
   "outputs": [
    {
     "data": {
      "text/html": [
       "<div>\n",
       "<style scoped>\n",
       "    .dataframe tbody tr th:only-of-type {\n",
       "        vertical-align: middle;\n",
       "    }\n",
       "\n",
       "    .dataframe tbody tr th {\n",
       "        vertical-align: top;\n",
       "    }\n",
       "\n",
       "    .dataframe thead th {\n",
       "        text-align: right;\n",
       "    }\n",
       "</style>\n",
       "<table border=\"1\" class=\"dataframe\">\n",
       "  <thead>\n",
       "    <tr style=\"text-align: right;\">\n",
       "      <th></th>\n",
       "      <th>ABSTRACT</th>\n",
       "      <th>Target</th>\n",
       "    </tr>\n",
       "  </thead>\n",
       "  <tbody>\n",
       "    <tr>\n",
       "      <th>0</th>\n",
       "      <td>a ever-growing datasets inside observational a...</td>\n",
       "      <td>Physics</td>\n",
       "    </tr>\n",
       "    <tr>\n",
       "      <th>1</th>\n",
       "      <td>we propose the framework considering optimal $...</td>\n",
       "      <td>Computer Science</td>\n",
       "    </tr>\n",
       "    <tr>\n",
       "      <th>2</th>\n",
       "      <td>nanostructures with open shell transition meta...</td>\n",
       "      <td>Physics</td>\n",
       "    </tr>\n",
       "    <tr>\n",
       "      <th>3</th>\n",
       "      <td>stars are self-gravitating fluids inside which...</td>\n",
       "      <td>Physics</td>\n",
       "    </tr>\n",
       "    <tr>\n",
       "      <th>4</th>\n",
       "      <td>deep neural perception and control networks ar...</td>\n",
       "      <td>Computer Science</td>\n",
       "    </tr>\n",
       "  </tbody>\n",
       "</table>\n",
       "</div>"
      ],
      "text/plain": [
       "                                            ABSTRACT            Target\n",
       "0  a ever-growing datasets inside observational a...           Physics\n",
       "1  we propose the framework considering optimal $...  Computer Science\n",
       "2  nanostructures with open shell transition meta...           Physics\n",
       "3  stars are self-gravitating fluids inside which...           Physics\n",
       "4  deep neural perception and control networks ar...  Computer Science"
      ]
     },
     "execution_count": 6,
     "metadata": {},
     "output_type": "execute_result"
    }
   ],
   "source": [
    "# Dropping ID\n",
    "train_df.drop('id', axis=1, inplace=True)\n",
    "\n",
    "# Resetting ID \n",
    "train_df.reset_index()\n",
    "\n",
    "topics = train_df.columns[1:]\n",
    "train_df['Target'] = train_df[topics].idxmax(axis=1)\n",
    "train_df.drop(topics, axis=1, inplace=True)\n",
    "train_df.head()"
   ]
  },
  {
   "cell_type": "code",
   "execution_count": 7,
   "id": "09efece8",
   "metadata": {
    "execution": {
     "iopub.execute_input": "2024-07-03T10:08:53.193868Z",
     "iopub.status.busy": "2024-07-03T10:08:53.193552Z",
     "iopub.status.idle": "2024-07-03T10:08:53.201507Z",
     "shell.execute_reply": "2024-07-03T10:08:53.200711Z"
    },
    "papermill": {
     "duration": 0.024273,
     "end_time": "2024-07-03T10:08:53.203312",
     "exception": false,
     "start_time": "2024-07-03T10:08:53.179039",
     "status": "completed"
    },
    "tags": []
   },
   "outputs": [],
   "source": [
    "encoder = LabelEncoder()\n",
    "train_df['Target_Label'] = encoder.fit_transform(train_df['Target'])"
   ]
  },
  {
   "cell_type": "code",
   "execution_count": 8,
   "id": "c65fb852",
   "metadata": {
    "execution": {
     "iopub.execute_input": "2024-07-03T10:08:53.232142Z",
     "iopub.status.busy": "2024-07-03T10:08:53.231879Z",
     "iopub.status.idle": "2024-07-03T10:08:53.240075Z",
     "shell.execute_reply": "2024-07-03T10:08:53.239409Z"
    },
    "papermill": {
     "duration": 0.024625,
     "end_time": "2024-07-03T10:08:53.241878",
     "exception": false,
     "start_time": "2024-07-03T10:08:53.217253",
     "status": "completed"
    },
    "tags": []
   },
   "outputs": [],
   "source": [
    "def preprocess_text(text: str, stopwords=set(stopwords.words('english')), wnl=WordNetLemmatizer(), ml=True) -> list:\n",
    "    # Tokenising\n",
    "    words = word_tokenize(text.lower())\n",
    "    \n",
    "    # Removing Stopwords & Punctuation\n",
    "    filtered_text = [word for word in words if word not in stopwords and word.isalpha()]\n",
    "    \n",
    "    # Lemmatization\n",
    "    preprocessed_text = [wnl.lemmatize(word) for word in filtered_text]\n",
    "    \n",
    "    if ml:\n",
    "        preprocessed_text = ' '.join(preprocessed_text)\n",
    "    \n",
    "    return preprocessed_text"
   ]
  },
  {
   "cell_type": "code",
   "execution_count": 9,
   "id": "c377373f",
   "metadata": {
    "execution": {
     "iopub.execute_input": "2024-07-03T10:08:53.270317Z",
     "iopub.status.busy": "2024-07-03T10:08:53.270052Z",
     "iopub.status.idle": "2024-07-03T10:10:10.010271Z",
     "shell.execute_reply": "2024-07-03T10:10:10.009422Z"
    },
    "papermill": {
     "duration": 76.757196,
     "end_time": "2024-07-03T10:10:10.012777",
     "exception": false,
     "start_time": "2024-07-03T10:08:53.255581",
     "status": "completed"
    },
    "tags": []
   },
   "outputs": [],
   "source": [
    "preprocessed_text_dl = train_df.ABSTRACT.apply(preprocess_text, ml=False)\n",
    "preprocessed_text_ml = train_df.ABSTRACT.apply(preprocess_text)"
   ]
  },
  {
   "cell_type": "code",
   "execution_count": 10,
   "id": "4319c7e1",
   "metadata": {
    "execution": {
     "iopub.execute_input": "2024-07-03T10:10:10.043042Z",
     "iopub.status.busy": "2024-07-03T10:10:10.042384Z",
     "iopub.status.idle": "2024-07-03T10:10:10.064551Z",
     "shell.execute_reply": "2024-07-03T10:10:10.063636Z"
    },
    "papermill": {
     "duration": 0.039013,
     "end_time": "2024-07-03T10:10:10.066447",
     "exception": false,
     "start_time": "2024-07-03T10:10:10.027434",
     "status": "completed"
    },
    "tags": []
   },
   "outputs": [
    {
     "data": {
      "text/html": [
       "<div>\n",
       "<style scoped>\n",
       "    .dataframe tbody tr th:only-of-type {\n",
       "        vertical-align: middle;\n",
       "    }\n",
       "\n",
       "    .dataframe tbody tr th {\n",
       "        vertical-align: top;\n",
       "    }\n",
       "\n",
       "    .dataframe thead th {\n",
       "        text-align: right;\n",
       "    }\n",
       "</style>\n",
       "<table border=\"1\" class=\"dataframe\">\n",
       "  <thead>\n",
       "    <tr style=\"text-align: right;\">\n",
       "      <th></th>\n",
       "      <th>Target</th>\n",
       "      <th>Target_Label</th>\n",
       "      <th>Preprocessed Text ML</th>\n",
       "      <th>Preprocessed Text DL</th>\n",
       "    </tr>\n",
       "  </thead>\n",
       "  <tbody>\n",
       "    <tr>\n",
       "      <th>0</th>\n",
       "      <td>Physics</td>\n",
       "      <td>2</td>\n",
       "      <td>datasets inside observational astronomy challe...</td>\n",
       "      <td>[datasets, inside, observational, astronomy, c...</td>\n",
       "    </tr>\n",
       "    <tr>\n",
       "      <th>1</th>\n",
       "      <td>Computer Science</td>\n",
       "      <td>0</td>\n",
       "      <td>propose framework considering optimal excludin...</td>\n",
       "      <td>[propose, framework, considering, optimal, exc...</td>\n",
       "    </tr>\n",
       "    <tr>\n",
       "      <th>2</th>\n",
       "      <td>Physics</td>\n",
       "      <td>2</td>\n",
       "      <td>nanostructures open shell transition metal mol...</td>\n",
       "      <td>[nanostructures, open, shell, transition, meta...</td>\n",
       "    </tr>\n",
       "    <tr>\n",
       "      <th>3</th>\n",
       "      <td>Physics</td>\n",
       "      <td>2</td>\n",
       "      <td>star fluid inside pressure buoyancy rotation m...</td>\n",
       "      <td>[star, fluid, inside, pressure, buoyancy, rota...</td>\n",
       "    </tr>\n",
       "    <tr>\n",
       "      <th>4</th>\n",
       "      <td>Computer Science</td>\n",
       "      <td>0</td>\n",
       "      <td>deep neural perception control network likely ...</td>\n",
       "      <td>[deep, neural, perception, control, network, l...</td>\n",
       "    </tr>\n",
       "  </tbody>\n",
       "</table>\n",
       "</div>"
      ],
      "text/plain": [
       "             Target  Target_Label  \\\n",
       "0           Physics             2   \n",
       "1  Computer Science             0   \n",
       "2           Physics             2   \n",
       "3           Physics             2   \n",
       "4  Computer Science             0   \n",
       "\n",
       "                                Preprocessed Text ML  \\\n",
       "0  datasets inside observational astronomy challe...   \n",
       "1  propose framework considering optimal excludin...   \n",
       "2  nanostructures open shell transition metal mol...   \n",
       "3  star fluid inside pressure buoyancy rotation m...   \n",
       "4  deep neural perception control network likely ...   \n",
       "\n",
       "                                Preprocessed Text DL  \n",
       "0  [datasets, inside, observational, astronomy, c...  \n",
       "1  [propose, framework, considering, optimal, exc...  \n",
       "2  [nanostructures, open, shell, transition, meta...  \n",
       "3  [star, fluid, inside, pressure, buoyancy, rota...  \n",
       "4  [deep, neural, perception, control, network, l...  "
      ]
     },
     "execution_count": 10,
     "metadata": {},
     "output_type": "execute_result"
    }
   ],
   "source": [
    "train_df['Preprocessed Text ML'] = preprocessed_text_ml\n",
    "train_df['Preprocessed Text DL'] = preprocessed_text_dl\n",
    "train_df.drop('ABSTRACT', axis=1, inplace=True)\n",
    "train_df.head()"
   ]
  },
  {
   "cell_type": "markdown",
   "id": "f2303c29",
   "metadata": {
    "papermill": {
     "duration": 0.013897,
     "end_time": "2024-07-03T10:10:10.094596",
     "exception": false,
     "start_time": "2024-07-03T10:10:10.080699",
     "status": "completed"
    },
    "tags": []
   },
   "source": [
    "### Building Vocabulary and Encoding Text"
   ]
  },
  {
   "cell_type": "code",
   "execution_count": 11,
   "id": "06a3988d",
   "metadata": {
    "execution": {
     "iopub.execute_input": "2024-07-03T10:10:10.123993Z",
     "iopub.status.busy": "2024-07-03T10:10:10.123738Z",
     "iopub.status.idle": "2024-07-03T10:10:11.556467Z",
     "shell.execute_reply": "2024-07-03T10:10:11.555701Z"
    },
    "papermill": {
     "duration": 1.450116,
     "end_time": "2024-07-03T10:10:11.558797",
     "exception": false,
     "start_time": "2024-07-03T10:10:10.108681",
     "status": "completed"
    },
    "tags": []
   },
   "outputs": [],
   "source": [
    "# Build vocabulary\n",
    "vocab = build_vocab_from_iterator(preprocessed_text_dl, specials=[\"<pad>\", \"<unk>\"], min_freq=2)\n",
    "vocab.set_default_index(vocab[\"<unk>\"])\n",
    "\n",
    "# Convert tokens to indices\n",
    "def encode(text):\n",
    "    return [vocab[token] for token in text]\n",
    "\n",
    "encoded_data = [encode(text) for text in preprocessed_text_dl]"
   ]
  },
  {
   "cell_type": "code",
   "execution_count": 12,
   "id": "3a40e755",
   "metadata": {
    "execution": {
     "iopub.execute_input": "2024-07-03T10:10:11.588365Z",
     "iopub.status.busy": "2024-07-03T10:10:11.588079Z",
     "iopub.status.idle": "2024-07-03T10:10:12.451362Z",
     "shell.execute_reply": "2024-07-03T10:10:12.450487Z"
    },
    "papermill": {
     "duration": 0.880238,
     "end_time": "2024-07-03T10:10:12.453338",
     "exception": false,
     "start_time": "2024-07-03T10:10:11.573100",
     "status": "completed"
    },
    "tags": []
   },
   "outputs": [
    {
     "data": {
      "text/html": [
       "<div>\n",
       "<style scoped>\n",
       "    .dataframe tbody tr th:only-of-type {\n",
       "        vertical-align: middle;\n",
       "    }\n",
       "\n",
       "    .dataframe tbody tr th {\n",
       "        vertical-align: top;\n",
       "    }\n",
       "\n",
       "    .dataframe thead th {\n",
       "        text-align: right;\n",
       "    }\n",
       "</style>\n",
       "<table border=\"1\" class=\"dataframe\">\n",
       "  <thead>\n",
       "    <tr style=\"text-align: right;\">\n",
       "      <th></th>\n",
       "      <th>Target</th>\n",
       "      <th>Target_Label</th>\n",
       "      <th>Preprocessed Text ML</th>\n",
       "      <th>Preprocessed Text DL</th>\n",
       "      <th>Encoded &amp; Padded Text</th>\n",
       "    </tr>\n",
       "  </thead>\n",
       "  <tbody>\n",
       "    <tr>\n",
       "      <th>0</th>\n",
       "      <td>Physics</td>\n",
       "      <td>2</td>\n",
       "      <td>datasets inside observational astronomy challe...</td>\n",
       "      <td>[datasets, inside, observational, astronomy, c...</td>\n",
       "      <td>[140, 2, 1087, 2624, 7251, 3218, 2, 91, 725, 1...</td>\n",
       "    </tr>\n",
       "    <tr>\n",
       "      <th>1</th>\n",
       "      <td>Computer Science</td>\n",
       "      <td>0</td>\n",
       "      <td>propose framework considering optimal excludin...</td>\n",
       "      <td>[propose, framework, considering, optimal, exc...</td>\n",
       "      <td>[33, 57, 3, 112, 6777, 2771, 2, 2581, 68, 22, ...</td>\n",
       "    </tr>\n",
       "    <tr>\n",
       "      <th>2</th>\n",
       "      <td>Physics</td>\n",
       "      <td>2</td>\n",
       "      <td>nanostructures open shell transition metal mol...</td>\n",
       "      <td>[nanostructures, open, shell, transition, meta...</td>\n",
       "      <td>[6594, 474, 2427, 144, 917, 769, 3430, 765, 23...</td>\n",
       "    </tr>\n",
       "    <tr>\n",
       "      <th>3</th>\n",
       "      <td>Physics</td>\n",
       "      <td>2</td>\n",
       "      <td>star fluid inside pressure buoyancy rotation m...</td>\n",
       "      <td>[star, fluid, inside, pressure, buoyancy, rota...</td>\n",
       "      <td>[126, 712, 2, 577, 6052, 899, 85, 39, 69, 7144...</td>\n",
       "    </tr>\n",
       "    <tr>\n",
       "      <th>4</th>\n",
       "      <td>Computer Science</td>\n",
       "      <td>0</td>\n",
       "      <td>deep neural perception control network likely ...</td>\n",
       "      <td>[deep, neural, perception, control, network, l...</td>\n",
       "      <td>[54, 49, 1674, 77, 7, 891, 295, 172, 503, 4, 3...</td>\n",
       "    </tr>\n",
       "  </tbody>\n",
       "</table>\n",
       "</div>"
      ],
      "text/plain": [
       "             Target  Target_Label  \\\n",
       "0           Physics             2   \n",
       "1  Computer Science             0   \n",
       "2           Physics             2   \n",
       "3           Physics             2   \n",
       "4  Computer Science             0   \n",
       "\n",
       "                                Preprocessed Text ML  \\\n",
       "0  datasets inside observational astronomy challe...   \n",
       "1  propose framework considering optimal excludin...   \n",
       "2  nanostructures open shell transition metal mol...   \n",
       "3  star fluid inside pressure buoyancy rotation m...   \n",
       "4  deep neural perception control network likely ...   \n",
       "\n",
       "                                Preprocessed Text DL  \\\n",
       "0  [datasets, inside, observational, astronomy, c...   \n",
       "1  [propose, framework, considering, optimal, exc...   \n",
       "2  [nanostructures, open, shell, transition, meta...   \n",
       "3  [star, fluid, inside, pressure, buoyancy, rota...   \n",
       "4  [deep, neural, perception, control, network, l...   \n",
       "\n",
       "                               Encoded & Padded Text  \n",
       "0  [140, 2, 1087, 2624, 7251, 3218, 2, 91, 725, 1...  \n",
       "1  [33, 57, 3, 112, 6777, 2771, 2, 2581, 68, 22, ...  \n",
       "2  [6594, 474, 2427, 144, 917, 769, 3430, 765, 23...  \n",
       "3  [126, 712, 2, 577, 6052, 899, 85, 39, 69, 7144...  \n",
       "4  [54, 49, 1674, 77, 7, 891, 295, 172, 503, 4, 3...  "
      ]
     },
     "execution_count": 12,
     "metadata": {},
     "output_type": "execute_result"
    }
   ],
   "source": [
    "text_data = pad_sequence([torch.tensor(seq) for seq in encoded_data], batch_first=True, padding_value=vocab['<pad>'])\n",
    "train_df['Encoded & Padded Text'] = text_data.tolist()\n",
    "train_df.head()"
   ]
  },
  {
   "cell_type": "markdown",
   "id": "d86d1394",
   "metadata": {
    "papermill": {
     "duration": 0.014206,
     "end_time": "2024-07-03T10:10:12.482078",
     "exception": false,
     "start_time": "2024-07-03T10:10:12.467872",
     "status": "completed"
    },
    "tags": []
   },
   "source": [
    "### Balancing an Imbalanced Dataset "
   ]
  },
  {
   "cell_type": "code",
   "execution_count": 13,
   "id": "5efa8986",
   "metadata": {
    "execution": {
     "iopub.execute_input": "2024-07-03T10:10:12.513090Z",
     "iopub.status.busy": "2024-07-03T10:10:12.512718Z",
     "iopub.status.idle": "2024-07-03T10:10:12.577853Z",
     "shell.execute_reply": "2024-07-03T10:10:12.576934Z"
    },
    "papermill": {
     "duration": 0.083535,
     "end_time": "2024-07-03T10:10:12.579861",
     "exception": false,
     "start_time": "2024-07-03T10:10:12.496326",
     "status": "completed"
    },
    "tags": []
   },
   "outputs": [],
   "source": [
    "ros = RandomOverSampler(random_state=42)\n",
    "X_balanced_ml, y_balanced_ml = ros.fit_resample(train_df[['Preprocessed Text ML']], train_df[['Target']])"
   ]
  },
  {
   "cell_type": "code",
   "execution_count": 14,
   "id": "e51317bc",
   "metadata": {
    "execution": {
     "iopub.execute_input": "2024-07-03T10:10:12.609930Z",
     "iopub.status.busy": "2024-07-03T10:10:12.609597Z",
     "iopub.status.idle": "2024-07-03T10:10:12.623213Z",
     "shell.execute_reply": "2024-07-03T10:10:12.622300Z"
    },
    "papermill": {
     "duration": 0.030526,
     "end_time": "2024-07-03T10:10:12.625087",
     "exception": false,
     "start_time": "2024-07-03T10:10:12.594561",
     "status": "completed"
    },
    "tags": []
   },
   "outputs": [
    {
     "data": {
      "text/html": [
       "<div>\n",
       "<style scoped>\n",
       "    .dataframe tbody tr th:only-of-type {\n",
       "        vertical-align: middle;\n",
       "    }\n",
       "\n",
       "    .dataframe tbody tr th {\n",
       "        vertical-align: top;\n",
       "    }\n",
       "\n",
       "    .dataframe thead th {\n",
       "        text-align: right;\n",
       "    }\n",
       "</style>\n",
       "<table border=\"1\" class=\"dataframe\">\n",
       "  <thead>\n",
       "    <tr style=\"text-align: right;\">\n",
       "      <th></th>\n",
       "      <th>Preprocessed Text</th>\n",
       "      <th>Target</th>\n",
       "    </tr>\n",
       "  </thead>\n",
       "  <tbody>\n",
       "    <tr>\n",
       "      <th>0</th>\n",
       "      <td>paper proposes new general methodology conside...</td>\n",
       "      <td>Mathematics</td>\n",
       "    </tr>\n",
       "    <tr>\n",
       "      <th>1</th>\n",
       "      <td>derive detailed asymptotic expansion heat trac...</td>\n",
       "      <td>Mathematics</td>\n",
       "    </tr>\n",
       "    <tr>\n",
       "      <th>2</th>\n",
       "      <td>considering balanced wall crossing inside geom...</td>\n",
       "      <td>Mathematics</td>\n",
       "    </tr>\n",
       "    <tr>\n",
       "      <th>3</th>\n",
       "      <td>define distance edge graph study coarse ricci ...</td>\n",
       "      <td>Mathematics</td>\n",
       "    </tr>\n",
       "    <tr>\n",
       "      <th>4</th>\n",
       "      <td>potential positive impact autonomous driving d...</td>\n",
       "      <td>Computer Science</td>\n",
       "    </tr>\n",
       "  </tbody>\n",
       "</table>\n",
       "</div>"
      ],
      "text/plain": [
       "                                   Preprocessed Text            Target\n",
       "0  paper proposes new general methodology conside...       Mathematics\n",
       "1  derive detailed asymptotic expansion heat trac...       Mathematics\n",
       "2  considering balanced wall crossing inside geom...       Mathematics\n",
       "3  define distance edge graph study coarse ricci ...       Mathematics\n",
       "4  potential positive impact autonomous driving d...  Computer Science"
      ]
     },
     "execution_count": 14,
     "metadata": {},
     "output_type": "execute_result"
    }
   ],
   "source": [
    "balanced_dict = {\n",
    "    'Preprocessed Text': X_balanced_ml.squeeze(),\n",
    "    'Target': y_balanced_ml.squeeze()\n",
    "}\n",
    "\n",
    "balanced_df_ml = pd.DataFrame(balanced_dict)\n",
    "balanced_df_ml = balanced_df_ml.sample(n=len(balanced_df_ml)).reset_index(drop=True)\n",
    "balanced_df_ml.head()"
   ]
  },
  {
   "cell_type": "code",
   "execution_count": 15,
   "id": "c8acb1a4",
   "metadata": {
    "execution": {
     "iopub.execute_input": "2024-07-03T10:10:12.655299Z",
     "iopub.status.busy": "2024-07-03T10:10:12.654670Z",
     "iopub.status.idle": "2024-07-03T10:10:12.684425Z",
     "shell.execute_reply": "2024-07-03T10:10:12.683440Z"
    },
    "papermill": {
     "duration": 0.047199,
     "end_time": "2024-07-03T10:10:12.686649",
     "exception": false,
     "start_time": "2024-07-03T10:10:12.639450",
     "status": "completed"
    },
    "tags": []
   },
   "outputs": [
    {
     "data": {
      "text/html": [
       "<div>\n",
       "<style scoped>\n",
       "    .dataframe tbody tr th:only-of-type {\n",
       "        vertical-align: middle;\n",
       "    }\n",
       "\n",
       "    .dataframe tbody tr th {\n",
       "        vertical-align: top;\n",
       "    }\n",
       "\n",
       "    .dataframe thead th {\n",
       "        text-align: right;\n",
       "    }\n",
       "</style>\n",
       "<table border=\"1\" class=\"dataframe\">\n",
       "  <thead>\n",
       "    <tr style=\"text-align: right;\">\n",
       "      <th></th>\n",
       "      <th>Preprocessed Text</th>\n",
       "      <th>Target</th>\n",
       "    </tr>\n",
       "  </thead>\n",
       "  <tbody>\n",
       "    <tr>\n",
       "      <th>0</th>\n",
       "      <td>[2566, 264, 618, 514, 383, 42, 3, 136, 251, 90...</td>\n",
       "      <td>0</td>\n",
       "    </tr>\n",
       "    <tr>\n",
       "      <th>1</th>\n",
       "      <td>[16233, 2279, 23, 286, 206, 24, 25, 5, 3540, 1...</td>\n",
       "      <td>3</td>\n",
       "    </tr>\n",
       "    <tr>\n",
       "      <th>2</th>\n",
       "      <td>[428, 844, 2544, 2, 1192, 206, 14, 582, 512, 5...</td>\n",
       "      <td>0</td>\n",
       "    </tr>\n",
       "    <tr>\n",
       "      <th>3</th>\n",
       "      <td>[33, 180, 3, 1468, 67, 2, 252, 7, 190, 1098, 1...</td>\n",
       "      <td>0</td>\n",
       "    </tr>\n",
       "    <tr>\n",
       "      <th>4</th>\n",
       "      <td>[721, 89, 100, 971, 132, 4398, 261, 588, 13433...</td>\n",
       "      <td>1</td>\n",
       "    </tr>\n",
       "  </tbody>\n",
       "</table>\n",
       "</div>"
      ],
      "text/plain": [
       "                                   Preprocessed Text  Target\n",
       "0  [2566, 264, 618, 514, 383, 42, 3, 136, 251, 90...       0\n",
       "1  [16233, 2279, 23, 286, 206, 24, 25, 5, 3540, 1...       3\n",
       "2  [428, 844, 2544, 2, 1192, 206, 14, 582, 512, 5...       0\n",
       "3  [33, 180, 3, 1468, 67, 2, 252, 7, 190, 1098, 1...       0\n",
       "4  [721, 89, 100, 971, 132, 4398, 261, 588, 13433...       1"
      ]
     },
     "execution_count": 15,
     "metadata": {},
     "output_type": "execute_result"
    }
   ],
   "source": [
    "X_balanced_dl, y_balanced_dl = ros.fit_resample(train_df[['Encoded & Padded Text']], train_df[['Target_Label']])\n",
    "\n",
    "balanced_dict = {\n",
    "    'Preprocessed Text': X_balanced_dl.squeeze(),\n",
    "    'Target': y_balanced_dl.squeeze()\n",
    "}\n",
    "\n",
    "balanced_df_dl = pd.DataFrame(balanced_dict)\n",
    "balanced_df_dl = balanced_df_dl.sample(n=len(balanced_df_dl)).reset_index(drop=True)\n",
    "balanced_df_dl.head()"
   ]
  },
  {
   "cell_type": "code",
   "execution_count": 16,
   "id": "5c1961ab",
   "metadata": {
    "execution": {
     "iopub.execute_input": "2024-07-03T10:10:12.762083Z",
     "iopub.status.busy": "2024-07-03T10:10:12.761458Z",
     "iopub.status.idle": "2024-07-03T10:10:20.663336Z",
     "shell.execute_reply": "2024-07-03T10:10:20.662308Z"
    },
    "papermill": {
     "duration": 7.961945,
     "end_time": "2024-07-03T10:10:20.665770",
     "exception": false,
     "start_time": "2024-07-03T10:10:12.703825",
     "status": "completed"
    },
    "tags": []
   },
   "outputs": [],
   "source": [
    "count_vect = CountVectorizer(ngram_range=(1, 2))        \n",
    "transformer = TfidfTransformer(norm='l2',sublinear_tf=True)\n",
    "\n",
    "counts = count_vect.fit_transform(balanced_df_ml['Preprocessed Text'])\n",
    "tfidf = transformer.fit_transform(counts)"
   ]
  },
  {
   "cell_type": "markdown",
   "id": "6bd32624",
   "metadata": {
    "papermill": {
     "duration": 0.014959,
     "end_time": "2024-07-03T10:10:20.696041",
     "exception": false,
     "start_time": "2024-07-03T10:10:20.681082",
     "status": "completed"
    },
    "tags": []
   },
   "source": [
    "# Data Visualization"
   ]
  },
  {
   "cell_type": "code",
   "execution_count": 17,
   "id": "88f74fa9",
   "metadata": {
    "execution": {
     "iopub.execute_input": "2024-07-03T10:10:20.726840Z",
     "iopub.status.busy": "2024-07-03T10:10:20.726496Z",
     "iopub.status.idle": "2024-07-03T10:10:21.619843Z",
     "shell.execute_reply": "2024-07-03T10:10:21.618908Z"
    },
    "papermill": {
     "duration": 0.911272,
     "end_time": "2024-07-03T10:10:21.621981",
     "exception": false,
     "start_time": "2024-07-03T10:10:20.710709",
     "status": "completed"
    },
    "tags": []
   },
   "outputs": [
    {
     "data": {
      "text/plain": [
       "<Axes: xlabel='Target', ylabel='count'>"
      ]
     },
     "execution_count": 17,
     "metadata": {},
     "output_type": "execute_result"
    },
    {
     "data": {
      "image/png": "[encoded data removed]",
      "text/plain": [
       "<Figure size 1000x550 with 2 Axes>"
      ]
     },
     "metadata": {},
     "output_type": "display_data"
    }
   ],
   "source": [
    "plt.rcParams[\"figure.figsize\"] = [10.00, 5.50]\n",
    "plt.rcParams[\"figure.autolayout\"] = True\n",
    "f, axes = plt.subplots(1, 2)\n",
    "sns.countplot(data=train_df, x='Target', ax=axes[0])\n",
    "sns.countplot(data=balanced_df_ml, x='Target', ax=axes[1])"
   ]
  },
  {
   "cell_type": "markdown",
   "id": "afabf9f1",
   "metadata": {
    "papermill": {
     "duration": 0.015234,
     "end_time": "2024-07-03T10:10:21.652830",
     "exception": false,
     "start_time": "2024-07-03T10:10:21.637596",
     "status": "completed"
    },
    "tags": []
   },
   "source": [
    "# Machine Learning with Scikit Learn"
   ]
  },
  {
   "cell_type": "code",
   "execution_count": 18,
   "id": "a2911b33",
   "metadata": {
    "execution": {
     "iopub.execute_input": "2024-07-03T10:10:21.684754Z",
     "iopub.status.busy": "2024-07-03T10:10:21.684416Z",
     "iopub.status.idle": "2024-07-03T10:10:21.688493Z",
     "shell.execute_reply": "2024-07-03T10:10:21.687784Z"
    },
    "papermill": {
     "duration": 0.022474,
     "end_time": "2024-07-03T10:10:21.690511",
     "exception": false,
     "start_time": "2024-07-03T10:10:21.668037",
     "status": "completed"
    },
    "tags": []
   },
   "outputs": [],
   "source": [
    "LABELS = ['Computer Science', 'Mathematics', 'Physics', 'Statistics']"
   ]
  },
  {
   "cell_type": "code",
   "execution_count": 19,
   "id": "816dcfd7",
   "metadata": {
    "execution": {
     "iopub.execute_input": "2024-07-03T10:10:21.722275Z",
     "iopub.status.busy": "2024-07-03T10:10:21.722010Z",
     "iopub.status.idle": "2024-07-03T10:10:21.739271Z",
     "shell.execute_reply": "2024-07-03T10:10:21.738533Z"
    },
    "papermill": {
     "duration": 0.035482,
     "end_time": "2024-07-03T10:10:21.741190",
     "exception": false,
     "start_time": "2024-07-03T10:10:21.705708",
     "status": "completed"
    },
    "tags": []
   },
   "outputs": [],
   "source": [
    "x_train, x_test, y_train, y_test = train_test_split(tfidf, balanced_df_ml['Target'], \n",
    "                                                    test_size=0.2, random_state=42)"
   ]
  },
  {
   "cell_type": "code",
   "execution_count": 20,
   "id": "31225808",
   "metadata": {
    "execution": {
     "iopub.execute_input": "2024-07-03T10:10:21.773619Z",
     "iopub.status.busy": "2024-07-03T10:10:21.773357Z",
     "iopub.status.idle": "2024-07-03T10:10:21.777695Z",
     "shell.execute_reply": "2024-07-03T10:10:21.776875Z"
    },
    "papermill": {
     "duration": 0.022744,
     "end_time": "2024-07-03T10:10:21.779519",
     "exception": false,
     "start_time": "2024-07-03T10:10:21.756775",
     "status": "completed"
    },
    "tags": []
   },
   "outputs": [],
   "source": [
    "def model_training(model, x_train, y_train, x_test, y_test):\n",
    "    \n",
    "    model = model\n",
    "    model.fit(x_train, y_train)\n",
    "    y_pred = model.predict(x_test)\n",
    "    return y_pred"
   ]
  },
  {
   "cell_type": "code",
   "execution_count": 21,
   "id": "bde8db63",
   "metadata": {
    "execution": {
     "iopub.execute_input": "2024-07-03T10:10:21.811168Z",
     "iopub.status.busy": "2024-07-03T10:10:21.810524Z",
     "iopub.status.idle": "2024-07-03T10:10:21.815447Z",
     "shell.execute_reply": "2024-07-03T10:10:21.814618Z"
    },
    "papermill": {
     "duration": 0.022711,
     "end_time": "2024-07-03T10:10:21.817283",
     "exception": false,
     "start_time": "2024-07-03T10:10:21.794572",
     "status": "completed"
    },
    "tags": []
   },
   "outputs": [],
   "source": [
    "def plot_confusion_matrix(y_true, y_pred, labels):\n",
    "    cm = confusion_matrix(y_true, y_pred)\n",
    "    disp = ConfusionMatrixDisplay(confusion_matrix=cm, display_labels=labels)\n",
    "    disp.plot(cmap=plt.cm.Blues)\n",
    "    plt.title('Confusion Matrix')\n",
    "    plt.show()"
   ]
  },
  {
   "cell_type": "markdown",
   "id": "624f1146",
   "metadata": {
    "papermill": {
     "duration": 0.015355,
     "end_time": "2024-07-03T10:10:21.847921",
     "exception": false,
     "start_time": "2024-07-03T10:10:21.832566",
     "status": "completed"
    },
    "tags": []
   },
   "source": [
    "## Logistic Regression"
   ]
  },
  {
   "cell_type": "code",
   "execution_count": 22,
   "id": "7fce8ddd",
   "metadata": {
    "execution": {
     "iopub.execute_input": "2024-07-03T10:10:21.879722Z",
     "iopub.status.busy": "2024-07-03T10:10:21.879394Z",
     "iopub.status.idle": "2024-07-03T10:10:33.952722Z",
     "shell.execute_reply": "2024-07-03T10:10:33.951523Z"
    },
    "papermill": {
     "duration": 12.091657,
     "end_time": "2024-07-03T10:10:33.954958",
     "exception": false,
     "start_time": "2024-07-03T10:10:21.863301",
     "status": "completed"
    },
    "tags": []
   },
   "outputs": [
    {
     "data": {
      "text/plain": [
       "0.9243840271877655"
      ]
     },
     "execution_count": 22,
     "metadata": {},
     "output_type": "execute_result"
    }
   ],
   "source": [
    "lr = LogisticRegression(C=1, max_iter=1000, n_jobs=-1, solver='newton-cg')\n",
    "y_pred_lr = model_training(model=lr, x_train=x_train, y_train=y_train, x_test=x_test, y_test=y_test)\n",
    "accuracy_score(y_test,y_pred_lr)"
   ]
  },
  {
   "cell_type": "code",
   "execution_count": 23,
   "id": "e13e8440",
   "metadata": {
    "execution": {
     "iopub.execute_input": "2024-07-03T10:10:33.987672Z",
     "iopub.status.busy": "2024-07-03T10:10:33.987334Z",
     "iopub.status.idle": "2024-07-03T10:10:34.402098Z",
     "shell.execute_reply": "2024-07-03T10:10:34.401102Z"
    },
    "papermill": {
     "duration": 0.433401,
     "end_time": "2024-07-03T10:10:34.404257",
     "exception": false,
     "start_time": "2024-07-03T10:10:33.970856",
     "status": "completed"
    },
    "tags": []
   },
   "outputs": [
    {
     "data": {
      "image/png": "[encoded data removed]",
      "text/plain": [
       "<Figure size 1000x550 with 2 Axes>"
      ]
     },
     "metadata": {},
     "output_type": "display_data"
    }
   ],
   "source": [
    "plot_confusion_matrix(y_test, y_pred_lr, LABELS)"
   ]
  },
  {
   "cell_type": "code",
   "execution_count": 24,
   "id": "7445bddb",
   "metadata": {
    "execution": {
     "iopub.execute_input": "2024-07-03T10:10:34.437750Z",
     "iopub.status.busy": "2024-07-03T10:10:34.437438Z",
     "iopub.status.idle": "2024-07-03T10:10:34.646335Z",
     "shell.execute_reply": "2024-07-03T10:10:34.645328Z"
    },
    "papermill": {
     "duration": 0.227867,
     "end_time": "2024-07-03T10:10:34.648446",
     "exception": false,
     "start_time": "2024-07-03T10:10:34.420579",
     "status": "completed"
    },
    "tags": []
   },
   "outputs": [
    {
     "name": "stdout",
     "output_type": "stream",
     "text": [
      "                  precision    recall  f1-score   support\n",
      "\n",
      "Computer Science       0.92      0.85      0.88      1177\n",
      "     Mathematics       0.93      0.95      0.94      1169\n",
      "         Physics       0.99      0.97      0.98      1196\n",
      "      Statistics       0.87      0.94      0.90      1166\n",
      "\n",
      "        accuracy                           0.92      4708\n",
      "       macro avg       0.93      0.92      0.92      4708\n",
      "    weighted avg       0.93      0.92      0.92      4708\n",
      "\n"
     ]
    }
   ],
   "source": [
    "print(classification_report(y_test, y_pred_lr))"
   ]
  },
  {
   "cell_type": "markdown",
   "id": "40ceecee",
   "metadata": {
    "papermill": {
     "duration": 0.01585,
     "end_time": "2024-07-03T10:10:34.680737",
     "exception": false,
     "start_time": "2024-07-03T10:10:34.664887",
     "status": "completed"
    },
    "tags": []
   },
   "source": [
    "## Multinomial Naive Bayes"
   ]
  },
  {
   "cell_type": "code",
   "execution_count": 25,
   "id": "1c3ea621",
   "metadata": {
    "execution": {
     "iopub.execute_input": "2024-07-03T10:10:34.713838Z",
     "iopub.status.busy": "2024-07-03T10:10:34.713518Z",
     "iopub.status.idle": "2024-07-03T10:10:34.911791Z",
     "shell.execute_reply": "2024-07-03T10:10:34.910904Z"
    },
    "papermill": {
     "duration": 0.217323,
     "end_time": "2024-07-03T10:10:34.913909",
     "exception": false,
     "start_time": "2024-07-03T10:10:34.696586",
     "status": "completed"
    },
    "tags": []
   },
   "outputs": [
    {
     "data": {
      "text/plain": [
       "0.8795666949872557"
      ]
     },
     "execution_count": 25,
     "metadata": {},
     "output_type": "execute_result"
    }
   ],
   "source": [
    "nb = MultinomialNB(alpha=0.8)\n",
    "y_pred_nb = model_training(model=nb, x_train=x_train, y_train=y_train, x_test=x_test, y_test=y_test)\n",
    "accuracy_score(y_test,y_pred_nb)"
   ]
  },
  {
   "cell_type": "code",
   "execution_count": 26,
   "id": "1bf78758",
   "metadata": {
    "execution": {
     "iopub.execute_input": "2024-07-03T10:10:34.948110Z",
     "iopub.status.busy": "2024-07-03T10:10:34.947820Z",
     "iopub.status.idle": "2024-07-03T10:10:35.256036Z",
     "shell.execute_reply": "2024-07-03T10:10:35.255093Z"
    },
    "papermill": {
     "duration": 0.327581,
     "end_time": "2024-07-03T10:10:35.257938",
     "exception": false,
     "start_time": "2024-07-03T10:10:34.930357",
     "status": "completed"
    },
    "tags": []
   },
   "outputs": [
    {
     "data": {
      "image/png": "[encoded data removed]",
      "text/plain": [
       "<Figure size 1000x550 with 2 Axes>"
      ]
     },
     "metadata": {},
     "output_type": "display_data"
    }
   ],
   "source": [
    "plot_confusion_matrix(y_test, y_pred_nb, LABELS)"
   ]
  },
  {
   "cell_type": "code",
   "execution_count": 27,
   "id": "77eff312",
   "metadata": {
    "execution": {
     "iopub.execute_input": "2024-07-03T10:10:35.293060Z",
     "iopub.status.busy": "2024-07-03T10:10:35.292749Z",
     "iopub.status.idle": "2024-07-03T10:10:35.431641Z",
     "shell.execute_reply": "2024-07-03T10:10:35.430449Z"
    },
    "papermill": {
     "duration": 0.158687,
     "end_time": "2024-07-03T10:10:35.433733",
     "exception": false,
     "start_time": "2024-07-03T10:10:35.275046",
     "status": "completed"
    },
    "tags": []
   },
   "outputs": [
    {
     "name": "stdout",
     "output_type": "stream",
     "text": [
      "                  precision    recall  f1-score   support\n",
      "\n",
      "Computer Science       0.94      0.70      0.80      1177\n",
      "     Mathematics       0.95      0.88      0.91      1169\n",
      "         Physics       0.99      0.96      0.97      1196\n",
      "      Statistics       0.72      0.98      0.83      1166\n",
      "\n",
      "        accuracy                           0.88      4708\n",
      "       macro avg       0.90      0.88      0.88      4708\n",
      "    weighted avg       0.90      0.88      0.88      4708\n",
      "\n"
     ]
    }
   ],
   "source": [
    "print(classification_report(y_test, y_pred_nb, zero_division=0))"
   ]
  },
  {
   "cell_type": "markdown",
   "id": "bf176c5a",
   "metadata": {
    "papermill": {
     "duration": 0.016653,
     "end_time": "2024-07-03T10:10:35.467163",
     "exception": false,
     "start_time": "2024-07-03T10:10:35.450510",
     "status": "completed"
    },
    "tags": []
   },
   "source": [
    "# Deep Learning with PyTorch"
   ]
  },
  {
   "cell_type": "markdown",
   "id": "e229a378",
   "metadata": {
    "papermill": {
     "duration": 0.016665,
     "end_time": "2024-07-03T10:10:35.500985",
     "exception": false,
     "start_time": "2024-07-03T10:10:35.484320",
     "status": "completed"
    },
    "tags": []
   },
   "source": [
    "## Model Building"
   ]
  },
  {
   "cell_type": "code",
   "execution_count": 28,
   "id": "4b28a993",
   "metadata": {
    "execution": {
     "iopub.execute_input": "2024-07-03T10:10:35.536098Z",
     "iopub.status.busy": "2024-07-03T10:10:35.535815Z",
     "iopub.status.idle": "2024-07-03T10:10:35.541440Z",
     "shell.execute_reply": "2024-07-03T10:10:35.540598Z"
    },
    "papermill": {
     "duration": 0.025681,
     "end_time": "2024-07-03T10:10:35.543397",
     "exception": false,
     "start_time": "2024-07-03T10:10:35.517716",
     "status": "completed"
    },
    "tags": []
   },
   "outputs": [],
   "source": [
    "class TextDataset(Dataset):\n",
    "    def __init__(self, texts, labels):\n",
    "        self.texts = texts\n",
    "        self.labels = labels\n",
    "        \n",
    "    def __len__(self):\n",
    "        return len(self.texts)\n",
    "    \n",
    "    def __getitem__(self, idx):\n",
    "        return torch.tensor(self.texts[idx], dtype=torch.long), torch.tensor(self.labels[idx], dtype=torch.long)"
   ]
  },
  {
   "cell_type": "code",
   "execution_count": 29,
   "id": "a470a406",
   "metadata": {
    "execution": {
     "iopub.execute_input": "2024-07-03T10:10:35.578230Z",
     "iopub.status.busy": "2024-07-03T10:10:35.577961Z",
     "iopub.status.idle": "2024-07-03T10:10:38.553287Z",
     "shell.execute_reply": "2024-07-03T10:10:38.552526Z"
    },
    "papermill": {
     "duration": 2.994996,
     "end_time": "2024-07-03T10:10:38.555230",
     "exception": false,
     "start_time": "2024-07-03T10:10:35.560234",
     "status": "completed"
    },
    "tags": []
   },
   "outputs": [],
   "source": [
    "text_data = torch.tensor(balanced_df_dl['Preprocessed Text'].values.tolist())\n",
    "target = torch.tensor(balanced_df_dl['Target'].values)\n",
    "X, y = text_data, target"
   ]
  },
  {
   "cell_type": "code",
   "execution_count": 30,
   "id": "da6814a4",
   "metadata": {
    "execution": {
     "iopub.execute_input": "2024-07-03T10:10:38.590679Z",
     "iopub.status.busy": "2024-07-03T10:10:38.590384Z",
     "iopub.status.idle": "2024-07-03T10:10:38.808129Z",
     "shell.execute_reply": "2024-07-03T10:10:38.807336Z"
    },
    "papermill": {
     "duration": 0.237915,
     "end_time": "2024-07-03T10:10:38.810508",
     "exception": false,
     "start_time": "2024-07-03T10:10:38.572593",
     "status": "completed"
    },
    "tags": []
   },
   "outputs": [],
   "source": [
    "X_train, X_test, y_train, y_test = train_test_split(X, y, test_size=0.2, random_state=42)\n",
    "X_train, X_test, y_train, y_test = X_train.to(device), X_test.to(device), y_train.to(device), y_test.to(device)"
   ]
  },
  {
   "cell_type": "code",
   "execution_count": 31,
   "id": "947b1e9e",
   "metadata": {
    "execution": {
     "iopub.execute_input": "2024-07-03T10:10:38.845692Z",
     "iopub.status.busy": "2024-07-03T10:10:38.845399Z",
     "iopub.status.idle": "2024-07-03T10:10:38.849516Z",
     "shell.execute_reply": "2024-07-03T10:10:38.848705Z"
    },
    "papermill": {
     "duration": 0.023695,
     "end_time": "2024-07-03T10:10:38.851473",
     "exception": false,
     "start_time": "2024-07-03T10:10:38.827778",
     "status": "completed"
    },
    "tags": []
   },
   "outputs": [],
   "source": [
    "train_dataset = TextDataset(X_train, y_train)\n",
    "test_dataset = TextDataset(X_test, y_test)"
   ]
  },
  {
   "cell_type": "code",
   "execution_count": 32,
   "id": "24fe10d9",
   "metadata": {
    "execution": {
     "iopub.execute_input": "2024-07-03T10:10:38.886367Z",
     "iopub.status.busy": "2024-07-03T10:10:38.886122Z",
     "iopub.status.idle": "2024-07-03T10:10:38.891104Z",
     "shell.execute_reply": "2024-07-03T10:10:38.890299Z"
    },
    "papermill": {
     "duration": 0.024564,
     "end_time": "2024-07-03T10:10:38.893055",
     "exception": false,
     "start_time": "2024-07-03T10:10:38.868491",
     "status": "completed"
    },
    "tags": []
   },
   "outputs": [],
   "source": [
    "train_loader = DataLoader(train_dataset, batch_size=256, shuffle=True)\n",
    "test_loader = DataLoader(test_dataset, batch_size=256, shuffle=True)"
   ]
  },
  {
   "cell_type": "code",
   "execution_count": 33,
   "id": "a05a03a4",
   "metadata": {
    "execution": {
     "iopub.execute_input": "2024-07-03T10:10:38.928689Z",
     "iopub.status.busy": "2024-07-03T10:10:38.927957Z",
     "iopub.status.idle": "2024-07-03T10:10:38.936453Z",
     "shell.execute_reply": "2024-07-03T10:10:38.935686Z"
    },
    "papermill": {
     "duration": 0.028419,
     "end_time": "2024-07-03T10:10:38.938232",
     "exception": false,
     "start_time": "2024-07-03T10:10:38.909813",
     "status": "completed"
    },
    "tags": []
   },
   "outputs": [],
   "source": [
    "class TextClassifier(nn.Module):\n",
    "    def __init__(self, vocab_size, embed_dim, hidden_dim, output_dim, input_length):\n",
    "        super(TextClassifier, self).__init__()\n",
    "        \n",
    "        self.embedding = nn.Embedding(num_embeddings=vocab_size, embedding_dim=embed_dim, padding_idx=input_length)\n",
    "        self.lstm = nn.LSTM(input_size=embed_dim, hidden_size=embed_dim, dropout=0.5, \n",
    "                            bidirectional=True, batch_first=True, num_layers=2)\n",
    "        self.linear = nn.Linear(in_features=embed_dim * 2, out_features=output_dim)\n",
    "        self.dropout = nn.Dropout(0.5)\n",
    "        \n",
    "    def forward(self, x):\n",
    "        embedded = self.dropout(self.embedding(x))\n",
    "        lstm_out, (hidden, cell) = self.lstm(embedded)\n",
    "        hidden = self.dropout(torch.cat((hidden[-2,:,:], hidden[-1,:,:]), dim=1))\n",
    "        output = self.linear(hidden)\n",
    "        return output"
   ]
  },
  {
   "cell_type": "code",
   "execution_count": 34,
   "id": "7284e77c",
   "metadata": {
    "execution": {
     "iopub.execute_input": "2024-07-03T10:10:38.973349Z",
     "iopub.status.busy": "2024-07-03T10:10:38.973088Z",
     "iopub.status.idle": "2024-07-03T10:10:38.977727Z",
     "shell.execute_reply": "2024-07-03T10:10:38.976831Z"
    },
    "papermill": {
     "duration": 0.024609,
     "end_time": "2024-07-03T10:10:38.979689",
     "exception": false,
     "start_time": "2024-07-03T10:10:38.955080",
     "status": "completed"
    },
    "tags": []
   },
   "outputs": [],
   "source": [
    "# Hyperparameters\n",
    "VOCAB_SIZE = len(vocab)\n",
    "EMBED_DIM = 100\n",
    "HIDDEN_DIM = 128\n",
    "OUTPUT_DIM = 4\n",
    "INPUT_LENGTH = text_data.shape[1]\n",
    "\n",
    "EPOCHS = 10"
   ]
  },
  {
   "cell_type": "code",
   "execution_count": 35,
   "id": "8b03dd1b",
   "metadata": {
    "execution": {
     "iopub.execute_input": "2024-07-03T10:10:39.015195Z",
     "iopub.status.busy": "2024-07-03T10:10:39.014933Z",
     "iopub.status.idle": "2024-07-03T10:10:39.958946Z",
     "shell.execute_reply": "2024-07-03T10:10:39.958147Z"
    },
    "papermill": {
     "duration": 0.964657,
     "end_time": "2024-07-03T10:10:39.961195",
     "exception": false,
     "start_time": "2024-07-03T10:10:38.996538",
     "status": "completed"
    },
    "tags": []
   },
   "outputs": [],
   "source": [
    "model = TextClassifier(vocab_size=VOCAB_SIZE, embed_dim=EMBED_DIM, \n",
    "                       hidden_dim=HIDDEN_DIM, output_dim=OUTPUT_DIM, input_length=INPUT_LENGTH).to(device)\n",
    "\n",
    "loss_fn = nn.CrossEntropyLoss()\n",
    "optimizer = optim.Adam(model.parameters())"
   ]
  },
  {
   "cell_type": "code",
   "execution_count": 36,
   "id": "f154741f",
   "metadata": {
    "execution": {
     "iopub.execute_input": "2024-07-03T10:10:39.996893Z",
     "iopub.status.busy": "2024-07-03T10:10:39.996340Z",
     "iopub.status.idle": "2024-07-03T10:10:40.002684Z",
     "shell.execute_reply": "2024-07-03T10:10:40.001867Z"
    },
    "papermill": {
     "duration": 0.026103,
     "end_time": "2024-07-03T10:10:40.004606",
     "exception": false,
     "start_time": "2024-07-03T10:10:39.978503",
     "status": "completed"
    },
    "tags": []
   },
   "outputs": [
    {
     "data": {
      "text/plain": [
       "TextClassifier(\n",
       "  (embedding): Embedding(20534, 100, padding_idx=401)\n",
       "  (lstm): LSTM(100, 100, num_layers=2, batch_first=True, dropout=0.5, bidirectional=True)\n",
       "  (linear): Linear(in_features=200, out_features=4, bias=True)\n",
       "  (dropout): Dropout(p=0.5, inplace=False)\n",
       ")"
      ]
     },
     "execution_count": 36,
     "metadata": {},
     "output_type": "execute_result"
    }
   ],
   "source": [
    "model"
   ]
  },
  {
   "cell_type": "markdown",
   "id": "a3686bab",
   "metadata": {
    "papermill": {
     "duration": 0.016785,
     "end_time": "2024-07-03T10:10:40.039278",
     "exception": false,
     "start_time": "2024-07-03T10:10:40.022493",
     "status": "completed"
    },
    "tags": []
   },
   "source": [
    "## Model Training"
   ]
  },
  {
   "cell_type": "code",
   "execution_count": 37,
   "id": "da1da1b6",
   "metadata": {
    "execution": {
     "iopub.execute_input": "2024-07-03T10:10:40.074599Z",
     "iopub.status.busy": "2024-07-03T10:10:40.074333Z",
     "iopub.status.idle": "2024-07-03T10:12:33.024142Z",
     "shell.execute_reply": "2024-07-03T10:12:33.022980Z"
    },
    "papermill": {
     "duration": 112.970201,
     "end_time": "2024-07-03T10:12:33.026353",
     "exception": false,
     "start_time": "2024-07-03T10:10:40.056152",
     "status": "completed"
    },
    "tags": []
   },
   "outputs": [
    {
     "name": "stderr",
     "output_type": "stream",
     "text": [
      "/tmp/ipykernel_24/1367531656.py:10: UserWarning: To copy construct from a tensor, it is recommended to use sourceTensor.clone().detach() or sourceTensor.clone().detach().requires_grad_(True), rather than torch.tensor(sourceTensor).\n",
      "  return torch.tensor(self.texts[idx], dtype=torch.long), torch.tensor(self.labels[idx], dtype=torch.long)\n"
     ]
    },
    {
     "name": "stdout",
     "output_type": "stream",
     "text": [
      "Epoch [1/10], Loss: 0.9656\n",
      "Epoch [2/10], Loss: 0.6912\n",
      "Epoch [3/10], Loss: 0.7651\n",
      "Epoch [4/10], Loss: 0.6409\n",
      "Epoch [5/10], Loss: 0.6443\n",
      "Epoch [6/10], Loss: 0.5534\n",
      "Epoch [7/10], Loss: 0.4847\n",
      "Epoch [8/10], Loss: 0.5320\n",
      "Epoch [9/10], Loss: 0.4776\n",
      "Epoch [10/10], Loss: 0.5054\n"
     ]
    }
   ],
   "source": [
    "torch.manual_seed(42)\n",
    "torch.cuda.manual_seed(42)\n",
    "\n",
    "for epoch in range(EPOCHS):\n",
    "    model.train()\n",
    "    \n",
    "    for texts, labels in train_loader:\n",
    "        output_logits = model(texts)\n",
    "        output = torch.softmax(output_logits, dim=1).argmax(dim=1)\n",
    "        loss = loss_fn(output_logits, labels)\n",
    "        optimizer.zero_grad()\n",
    "        loss.backward()\n",
    "        optimizer.step()\n",
    "        \n",
    "    print(f'Epoch [{epoch+1}/{EPOCHS}], Loss: {loss.item():.4f}')"
   ]
  },
  {
   "cell_type": "markdown",
   "id": "c2e97695",
   "metadata": {
    "papermill": {
     "duration": 0.01786,
     "end_time": "2024-07-03T10:12:33.062630",
     "exception": false,
     "start_time": "2024-07-03T10:12:33.044770",
     "status": "completed"
    },
    "tags": []
   },
   "source": [
    "## Model Testing"
   ]
  },
  {
   "cell_type": "code",
   "execution_count": 38,
   "id": "065a695e",
   "metadata": {
    "execution": {
     "iopub.execute_input": "2024-07-03T10:12:33.099297Z",
     "iopub.status.busy": "2024-07-03T10:12:33.098966Z",
     "iopub.status.idle": "2024-07-03T10:12:33.882373Z",
     "shell.execute_reply": "2024-07-03T10:12:33.881590Z"
    },
    "papermill": {
     "duration": 0.804409,
     "end_time": "2024-07-03T10:12:33.884688",
     "exception": false,
     "start_time": "2024-07-03T10:12:33.080279",
     "status": "completed"
    },
    "tags": []
   },
   "outputs": [
    {
     "name": "stderr",
     "output_type": "stream",
     "text": [
      "/tmp/ipykernel_24/1367531656.py:10: UserWarning: To copy construct from a tensor, it is recommended to use sourceTensor.clone().detach() or sourceTensor.clone().detach().requires_grad_(True), rather than torch.tensor(sourceTensor).\n",
      "  return torch.tensor(self.texts[idx], dtype=torch.long), torch.tensor(self.labels[idx], dtype=torch.long)\n"
     ]
    }
   ],
   "source": [
    "model.eval()\n",
    "with torch.inference_mode():\n",
    "    for texts, labels in test_loader:\n",
    "        output_logits = model(texts)\n",
    "        output = torch.softmax(output_logits, dim=1).argmax(dim=1)"
   ]
  },
  {
   "cell_type": "markdown",
   "id": "65c86aea",
   "metadata": {
    "papermill": {
     "duration": 0.017673,
     "end_time": "2024-07-03T10:12:33.920710",
     "exception": false,
     "start_time": "2024-07-03T10:12:33.903037",
     "status": "completed"
    },
    "tags": []
   },
   "source": [
    "## Evaluation"
   ]
  },
  {
   "cell_type": "code",
   "execution_count": 39,
   "id": "6cf884f9",
   "metadata": {
    "execution": {
     "iopub.execute_input": "2024-07-03T10:12:33.957512Z",
     "iopub.status.busy": "2024-07-03T10:12:33.957179Z",
     "iopub.status.idle": "2024-07-03T10:12:34.369626Z",
     "shell.execute_reply": "2024-07-03T10:12:34.368729Z"
    },
    "papermill": {
     "duration": 0.433624,
     "end_time": "2024-07-03T10:12:34.372011",
     "exception": false,
     "start_time": "2024-07-03T10:12:33.938387",
     "status": "completed"
    },
    "tags": []
   },
   "outputs": [
    {
     "data": {
      "image/png": "[encoded data removed]",
      "text/plain": [
       "<Figure size 1000x550 with 2 Axes>"
      ]
     },
     "metadata": {},
     "output_type": "display_data"
    }
   ],
   "source": [
    "plot_confusion_matrix(labels.to('cpu'), output.to('cpu'), LABELS)"
   ]
  },
  {
   "cell_type": "code",
   "execution_count": 40,
   "id": "8e17de83",
   "metadata": {
    "execution": {
     "iopub.execute_input": "2024-07-03T10:12:34.410820Z",
     "iopub.status.busy": "2024-07-03T10:12:34.410499Z",
     "iopub.status.idle": "2024-07-03T10:12:34.423507Z",
     "shell.execute_reply": "2024-07-03T10:12:34.422455Z"
    },
    "papermill": {
     "duration": 0.035147,
     "end_time": "2024-07-03T10:12:34.426016",
     "exception": false,
     "start_time": "2024-07-03T10:12:34.390869",
     "status": "completed"
    },
    "tags": []
   },
   "outputs": [
    {
     "name": "stdout",
     "output_type": "stream",
     "text": [
      "              precision    recall  f1-score   support\n",
      "\n",
      "           0       0.67      0.72      0.69        25\n",
      "           1       1.00      0.86      0.93        29\n",
      "           2       1.00      1.00      1.00        17\n",
      "           3       0.68      0.72      0.70        29\n",
      "\n",
      "    accuracy                           0.81       100\n",
      "   macro avg       0.84      0.83      0.83       100\n",
      "weighted avg       0.82      0.81      0.81       100\n",
      "\n"
     ]
    }
   ],
   "source": [
    "print(classification_report(labels.to('cpu'), output.to('cpu')))"
   ]
  }
 ],
 "metadata": {
  "kaggle": {
   "accelerator": "gpu",
   "dataSources": [
    {
     "datasetId": 932025,
     "sourceId": 2994327,
     "sourceType": "datasetVersion"
    }
   ],
   "dockerImageVersionId": 30732,
   "isGpuEnabled": true,
   "isInternetEnabled": true,
   "language": "python",
   "sourceType": "notebook"
  },
  "kernelspec": {
   "display_name": "Python 3",
   "language": "python",
   "name": "python3"
  },
  "language_info": {
   "codemirror_mode": {
    "name": "ipython",
    "version": 3
   },
   "file_extension": ".py",
   "mimetype": "text/x-python",
   "name": "python",
   "nbconvert_exporter": "python",
   "pygments_lexer": "ipython3",
   "version": "3.10.13"
  },
  "papermill": {
   "default_parameters": {},
   "duration": 236.816898,
   "end_time": "2024-07-03T10:12:37.165034",
   "environment_variables": {},
   "exception": null,
   "input_path": "__notebook__.ipynb",
   "output_path": "__notebook__.ipynb",
   "parameters": {},
   "start_time": "2024-07-03T10:08:40.348136",
   "version": "2.5.0"
  }
 },
 "nbformat": 4,
 "nbformat_minor": 5
}
