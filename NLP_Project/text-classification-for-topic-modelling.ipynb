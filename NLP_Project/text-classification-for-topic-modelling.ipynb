{
 "cells": [
  {
   "cell_type": "markdown",
   "id": "c22510d5",
   "metadata": {
    "papermill": {
     "duration": 0.007112,
     "end_time": "2024-06-18T01:38:49.632428",
     "exception": false,
     "start_time": "2024-06-18T01:38:49.625316",
     "status": "completed"
    },
    "tags": []
   },
   "source": [
    "# Text Classification for Topic Modelling"
   ]
  },
  {
   "cell_type": "markdown",
   "id": "c420479f",
   "metadata": {
    "papermill": {
     "duration": 0.00558,
     "end_time": "2024-06-18T01:38:49.644376",
     "exception": false,
     "start_time": "2024-06-18T01:38:49.638796",
     "status": "completed"
    },
    "tags": []
   },
   "source": [
    "## Notebook Imports"
   ]
  },
  {
   "cell_type": "code",
   "execution_count": 1,
   "id": "b44529e8",
   "metadata": {
    "_cell_guid": "b1076dfc-b9ad-4769-8c92-a6c4dae69d19",
    "_uuid": "8f2839f25d086af736a60e9eeb907d3b93b6e0e5",
    "execution": {
     "iopub.execute_input": "2024-06-18T01:38:49.658377Z",
     "iopub.status.busy": "2024-06-18T01:38:49.657913Z",
     "iopub.status.idle": "2024-06-18T01:38:57.639293Z",
     "shell.execute_reply": "2024-06-18T01:38:57.638035Z"
    },
    "papermill": {
     "duration": 7.991901,
     "end_time": "2024-06-18T01:38:57.642240",
     "exception": false,
     "start_time": "2024-06-18T01:38:49.650339",
     "status": "completed"
    },
    "tags": []
   },
   "outputs": [],
   "source": [
    "import numpy as np\n",
    "import pandas as pd\n",
    "import seaborn as sns\n",
    "import matplotlib.pyplot as plt\n",
    "\n",
    "import torch\n",
    "import nltk\n",
    "\n",
    "from nltk.stem import WordNetLemmatizer\n",
    "from nltk.stem import PorterStemmer, SnowballStemmer\n",
    "from nltk.corpus import stopwords\n",
    "from nltk.tokenize import word_tokenize\n",
    "\n",
    "%matplotlib inline"
   ]
  },
  {
   "cell_type": "code",
   "execution_count": 2,
   "id": "7e87565d",
   "metadata": {
    "execution": {
     "iopub.execute_input": "2024-06-18T01:38:57.656285Z",
     "iopub.status.busy": "2024-06-18T01:38:57.655744Z",
     "iopub.status.idle": "2024-06-18T01:38:58.104415Z",
     "shell.execute_reply": "2024-06-18T01:38:58.102902Z"
    },
    "papermill": {
     "duration": 0.459144,
     "end_time": "2024-06-18T01:38:58.107589",
     "exception": false,
     "start_time": "2024-06-18T01:38:57.648445",
     "status": "completed"
    },
    "tags": []
   },
   "outputs": [
    {
     "name": "stdout",
     "output_type": "stream",
     "text": [
      "[nltk_data] Downloading package stopwords to /usr/share/nltk_data...\n",
      "[nltk_data]   Package stopwords is already up-to-date!\n",
      "[nltk_data] Downloading package punkt to /usr/share/nltk_data...\n",
      "[nltk_data]   Package punkt is already up-to-date!\n",
      "[nltk_data] Downloading package wordnet to /usr/share/nltk_data...\n",
      "[nltk_data]   Package wordnet is already up-to-date!\n",
      "[nltk_data] Downloading package omw-1.4 to /usr/share/nltk_data...\n"
     ]
    },
    {
     "data": {
      "text/plain": [
       "True"
      ]
     },
     "execution_count": 2,
     "metadata": {},
     "output_type": "execute_result"
    }
   ],
   "source": [
    "nltk.download('stopwords')\n",
    "nltk.download(\"punkt\")\n",
    "nltk.download(\"wordnet\")\n",
    "nltk.download(\"omw-1.4\")"
   ]
  },
  {
   "cell_type": "code",
   "execution_count": 3,
   "id": "236d7b68",
   "metadata": {
    "execution": {
     "iopub.execute_input": "2024-06-18T01:38:58.123381Z",
     "iopub.status.busy": "2024-06-18T01:38:58.122742Z",
     "iopub.status.idle": "2024-06-18T01:38:59.617042Z",
     "shell.execute_reply": "2024-06-18T01:38:59.615515Z"
    },
    "papermill": {
     "duration": 1.505826,
     "end_time": "2024-06-18T01:38:59.620061",
     "exception": false,
     "start_time": "2024-06-18T01:38:58.114235",
     "status": "completed"
    },
    "tags": []
   },
   "outputs": [
    {
     "name": "stdout",
     "output_type": "stream",
     "text": [
      "Archive:  /usr/share/nltk_data/corpora/wordnet.zip\r\n",
      "   creating: /usr/share/nltk_data/corpora/wordnet/\r\n",
      "  inflating: /usr/share/nltk_data/corpora/wordnet/lexnames  \r\n",
      "  inflating: /usr/share/nltk_data/corpora/wordnet/data.verb  \r\n",
      "  inflating: /usr/share/nltk_data/corpora/wordnet/index.adv  \r\n",
      "  inflating: /usr/share/nltk_data/corpora/wordnet/adv.exc  \r\n",
      "  inflating: /usr/share/nltk_data/corpora/wordnet/index.verb  \r\n",
      "  inflating: /usr/share/nltk_data/corpora/wordnet/cntlist.rev  \r\n",
      "  inflating: /usr/share/nltk_data/corpora/wordnet/data.adj  \r\n",
      "  inflating: /usr/share/nltk_data/corpora/wordnet/index.adj  \r\n",
      "  inflating: /usr/share/nltk_data/corpora/wordnet/LICENSE  \r\n",
      "  inflating: /usr/share/nltk_data/corpora/wordnet/citation.bib  \r\n",
      "  inflating: /usr/share/nltk_data/corpora/wordnet/noun.exc  \r\n",
      "  inflating: /usr/share/nltk_data/corpora/wordnet/verb.exc  \r\n",
      "  inflating: /usr/share/nltk_data/corpora/wordnet/README  \r\n",
      "  inflating: /usr/share/nltk_data/corpora/wordnet/index.sense  \r\n",
      "  inflating: /usr/share/nltk_data/corpora/wordnet/data.noun  \r\n",
      "  inflating: /usr/share/nltk_data/corpora/wordnet/data.adv  \r\n",
      "  inflating: /usr/share/nltk_data/corpora/wordnet/index.noun  \r\n",
      "  inflating: /usr/share/nltk_data/corpora/wordnet/adj.exc  \r\n"
     ]
    }
   ],
   "source": [
    "from nltk.corpus import wordnet\n",
    "! unzip /usr/share/nltk_data/corpora/wordnet.zip -d /usr/share/nltk_data/corpora/"
   ]
  },
  {
   "cell_type": "markdown",
   "id": "fc3397c0",
   "metadata": {
    "papermill": {
     "duration": 0.006234,
     "end_time": "2024-06-18T01:38:59.633097",
     "exception": false,
     "start_time": "2024-06-18T01:38:59.626863",
     "status": "completed"
    },
    "tags": []
   },
   "source": [
    "# Used Materials"
   ]
  },
  {
   "cell_type": "code",
   "execution_count": 4,
   "id": "9990ba6b",
   "metadata": {
    "execution": {
     "iopub.execute_input": "2024-06-18T01:38:59.649296Z",
     "iopub.status.busy": "2024-06-18T01:38:59.648304Z",
     "iopub.status.idle": "2024-06-18T01:38:59.656357Z",
     "shell.execute_reply": "2024-06-18T01:38:59.655156Z"
    },
    "papermill": {
     "duration": 0.018799,
     "end_time": "2024-06-18T01:38:59.658817",
     "exception": false,
     "start_time": "2024-06-18T01:38:59.640018",
     "status": "completed"
    },
    "tags": []
   },
   "outputs": [
    {
     "data": {
      "text/plain": [
       "'https://curiousily.com/posts/multi-label-text-classification-with-bert-and-pytorch-lightning/'"
      ]
     },
     "execution_count": 4,
     "metadata": {},
     "output_type": "execute_result"
    }
   ],
   "source": [
    "'https://curiousily.com/posts/multi-label-text-classification-with-bert-and-pytorch-lightning/'"
   ]
  },
  {
   "cell_type": "markdown",
   "id": "cb920275",
   "metadata": {
    "papermill": {
     "duration": 0.006402,
     "end_time": "2024-06-18T01:38:59.672027",
     "exception": false,
     "start_time": "2024-06-18T01:38:59.665625",
     "status": "completed"
    },
    "tags": []
   },
   "source": [
    "# Data Loading"
   ]
  },
  {
   "cell_type": "code",
   "execution_count": 5,
   "id": "64101909",
   "metadata": {
    "execution": {
     "iopub.execute_input": "2024-06-18T01:38:59.687250Z",
     "iopub.status.busy": "2024-06-18T01:38:59.686873Z",
     "iopub.status.idle": "2024-06-18T01:39:00.246075Z",
     "shell.execute_reply": "2024-06-18T01:39:00.245027Z"
    },
    "papermill": {
     "duration": 0.570298,
     "end_time": "2024-06-18T01:39:00.249131",
     "exception": false,
     "start_time": "2024-06-18T01:38:59.678833",
     "status": "completed"
    },
    "tags": []
   },
   "outputs": [
    {
     "data": {
      "text/html": [
       "<div>\n",
       "<style scoped>\n",
       "    .dataframe tbody tr th:only-of-type {\n",
       "        vertical-align: middle;\n",
       "    }\n",
       "\n",
       "    .dataframe tbody tr th {\n",
       "        vertical-align: top;\n",
       "    }\n",
       "\n",
       "    .dataframe thead th {\n",
       "        text-align: right;\n",
       "    }\n",
       "</style>\n",
       "<table border=\"1\" class=\"dataframe\">\n",
       "  <thead>\n",
       "    <tr style=\"text-align: right;\">\n",
       "      <th></th>\n",
       "      <th>id</th>\n",
       "      <th>ABSTRACT</th>\n",
       "      <th>Computer Science</th>\n",
       "      <th>Mathematics</th>\n",
       "      <th>Physics</th>\n",
       "      <th>Statistics</th>\n",
       "      <th>Analysis of PDEs</th>\n",
       "      <th>Applications</th>\n",
       "      <th>Artificial Intelligence</th>\n",
       "      <th>Astrophysics of Galaxies</th>\n",
       "      <th>...</th>\n",
       "      <th>Methodology</th>\n",
       "      <th>Number Theory</th>\n",
       "      <th>Optimization and Control</th>\n",
       "      <th>Representation Theory</th>\n",
       "      <th>Robotics</th>\n",
       "      <th>Social and Information Networks</th>\n",
       "      <th>Statistics Theory</th>\n",
       "      <th>Strongly Correlated Electrons</th>\n",
       "      <th>Superconductivity</th>\n",
       "      <th>Systems and Control</th>\n",
       "    </tr>\n",
       "  </thead>\n",
       "  <tbody>\n",
       "    <tr>\n",
       "      <th>0</th>\n",
       "      <td>1824</td>\n",
       "      <td>a ever-growing datasets inside observational a...</td>\n",
       "      <td>0</td>\n",
       "      <td>0</td>\n",
       "      <td>1</td>\n",
       "      <td>0</td>\n",
       "      <td>0</td>\n",
       "      <td>0</td>\n",
       "      <td>0</td>\n",
       "      <td>0</td>\n",
       "      <td>...</td>\n",
       "      <td>0</td>\n",
       "      <td>0</td>\n",
       "      <td>0</td>\n",
       "      <td>0</td>\n",
       "      <td>0</td>\n",
       "      <td>0</td>\n",
       "      <td>0</td>\n",
       "      <td>0</td>\n",
       "      <td>0</td>\n",
       "      <td>0</td>\n",
       "    </tr>\n",
       "    <tr>\n",
       "      <th>1</th>\n",
       "      <td>3094</td>\n",
       "      <td>we propose the framework considering optimal $...</td>\n",
       "      <td>1</td>\n",
       "      <td>0</td>\n",
       "      <td>0</td>\n",
       "      <td>0</td>\n",
       "      <td>0</td>\n",
       "      <td>0</td>\n",
       "      <td>0</td>\n",
       "      <td>0</td>\n",
       "      <td>...</td>\n",
       "      <td>0</td>\n",
       "      <td>0</td>\n",
       "      <td>0</td>\n",
       "      <td>0</td>\n",
       "      <td>0</td>\n",
       "      <td>0</td>\n",
       "      <td>0</td>\n",
       "      <td>0</td>\n",
       "      <td>0</td>\n",
       "      <td>0</td>\n",
       "    </tr>\n",
       "    <tr>\n",
       "      <th>2</th>\n",
       "      <td>8463</td>\n",
       "      <td>nanostructures with open shell transition meta...</td>\n",
       "      <td>0</td>\n",
       "      <td>0</td>\n",
       "      <td>1</td>\n",
       "      <td>0</td>\n",
       "      <td>0</td>\n",
       "      <td>0</td>\n",
       "      <td>0</td>\n",
       "      <td>0</td>\n",
       "      <td>...</td>\n",
       "      <td>0</td>\n",
       "      <td>0</td>\n",
       "      <td>0</td>\n",
       "      <td>0</td>\n",
       "      <td>0</td>\n",
       "      <td>0</td>\n",
       "      <td>0</td>\n",
       "      <td>1</td>\n",
       "      <td>0</td>\n",
       "      <td>0</td>\n",
       "    </tr>\n",
       "    <tr>\n",
       "      <th>3</th>\n",
       "      <td>2082</td>\n",
       "      <td>stars are self-gravitating fluids inside which...</td>\n",
       "      <td>0</td>\n",
       "      <td>0</td>\n",
       "      <td>1</td>\n",
       "      <td>0</td>\n",
       "      <td>0</td>\n",
       "      <td>0</td>\n",
       "      <td>0</td>\n",
       "      <td>0</td>\n",
       "      <td>...</td>\n",
       "      <td>0</td>\n",
       "      <td>0</td>\n",
       "      <td>0</td>\n",
       "      <td>0</td>\n",
       "      <td>0</td>\n",
       "      <td>0</td>\n",
       "      <td>0</td>\n",
       "      <td>0</td>\n",
       "      <td>0</td>\n",
       "      <td>0</td>\n",
       "    </tr>\n",
       "    <tr>\n",
       "      <th>4</th>\n",
       "      <td>8687</td>\n",
       "      <td>deep neural perception and control networks ar...</td>\n",
       "      <td>1</td>\n",
       "      <td>0</td>\n",
       "      <td>0</td>\n",
       "      <td>0</td>\n",
       "      <td>0</td>\n",
       "      <td>0</td>\n",
       "      <td>0</td>\n",
       "      <td>0</td>\n",
       "      <td>...</td>\n",
       "      <td>0</td>\n",
       "      <td>0</td>\n",
       "      <td>0</td>\n",
       "      <td>0</td>\n",
       "      <td>0</td>\n",
       "      <td>0</td>\n",
       "      <td>0</td>\n",
       "      <td>0</td>\n",
       "      <td>0</td>\n",
       "      <td>0</td>\n",
       "    </tr>\n",
       "  </tbody>\n",
       "</table>\n",
       "<p>5 rows × 31 columns</p>\n",
       "</div>"
      ],
      "text/plain": [
       "     id                                           ABSTRACT  Computer Science  \\\n",
       "0  1824  a ever-growing datasets inside observational a...                 0   \n",
       "1  3094  we propose the framework considering optimal $...                 1   \n",
       "2  8463  nanostructures with open shell transition meta...                 0   \n",
       "3  2082  stars are self-gravitating fluids inside which...                 0   \n",
       "4  8687  deep neural perception and control networks ar...                 1   \n",
       "\n",
       "   Mathematics  Physics  Statistics  Analysis of PDEs  Applications  \\\n",
       "0            0        1           0                 0             0   \n",
       "1            0        0           0                 0             0   \n",
       "2            0        1           0                 0             0   \n",
       "3            0        1           0                 0             0   \n",
       "4            0        0           0                 0             0   \n",
       "\n",
       "   Artificial Intelligence  Astrophysics of Galaxies  ...  Methodology  \\\n",
       "0                        0                         0  ...            0   \n",
       "1                        0                         0  ...            0   \n",
       "2                        0                         0  ...            0   \n",
       "3                        0                         0  ...            0   \n",
       "4                        0                         0  ...            0   \n",
       "\n",
       "   Number Theory  Optimization and Control  Representation Theory  Robotics  \\\n",
       "0              0                         0                      0         0   \n",
       "1              0                         0                      0         0   \n",
       "2              0                         0                      0         0   \n",
       "3              0                         0                      0         0   \n",
       "4              0                         0                      0         0   \n",
       "\n",
       "   Social and Information Networks  Statistics Theory  \\\n",
       "0                                0                  0   \n",
       "1                                0                  0   \n",
       "2                                0                  0   \n",
       "3                                0                  0   \n",
       "4                                0                  0   \n",
       "\n",
       "   Strongly Correlated Electrons  Superconductivity  Systems and Control  \n",
       "0                              0                  0                    0  \n",
       "1                              0                  0                    0  \n",
       "2                              1                  0                    0  \n",
       "3                              0                  0                    0  \n",
       "4                              0                  0                    0  \n",
       "\n",
       "[5 rows x 31 columns]"
      ]
     },
     "execution_count": 5,
     "metadata": {},
     "output_type": "execute_result"
    }
   ],
   "source": [
    "train_df = pd.read_csv('/kaggle/input/topic-modeling-for-research-articles/Train.csv')\n",
    "train_df.head()"
   ]
  },
  {
   "cell_type": "code",
   "execution_count": 6,
   "id": "93b94630",
   "metadata": {
    "execution": {
     "iopub.execute_input": "2024-06-18T01:39:00.266157Z",
     "iopub.status.busy": "2024-06-18T01:39:00.265767Z",
     "iopub.status.idle": "2024-06-18T01:39:00.293337Z",
     "shell.execute_reply": "2024-06-18T01:39:00.292234Z"
    },
    "papermill": {
     "duration": 0.039516,
     "end_time": "2024-06-18T01:39:00.296143",
     "exception": false,
     "start_time": "2024-06-18T01:39:00.256627",
     "status": "completed"
    },
    "tags": []
   },
   "outputs": [
    {
     "name": "stdout",
     "output_type": "stream",
     "text": [
      "<class 'pandas.core.frame.DataFrame'>\n",
      "RangeIndex: 14004 entries, 0 to 14003\n",
      "Data columns (total 31 columns):\n",
      " #   Column                                        Non-Null Count  Dtype \n",
      "---  ------                                        --------------  ----- \n",
      " 0   id                                            14004 non-null  int64 \n",
      " 1   ABSTRACT                                      14004 non-null  object\n",
      " 2   Computer Science                              14004 non-null  int64 \n",
      " 3   Mathematics                                   14004 non-null  int64 \n",
      " 4   Physics                                       14004 non-null  int64 \n",
      " 5   Statistics                                    14004 non-null  int64 \n",
      " 6   Analysis of PDEs                              14004 non-null  int64 \n",
      " 7   Applications                                  14004 non-null  int64 \n",
      " 8   Artificial Intelligence                       14004 non-null  int64 \n",
      " 9   Astrophysics of Galaxies                      14004 non-null  int64 \n",
      " 10  Computation and Language                      14004 non-null  int64 \n",
      " 11  Computer Vision and Pattern Recognition       14004 non-null  int64 \n",
      " 12  Cosmology and Nongalactic Astrophysics        14004 non-null  int64 \n",
      " 13  Data Structures and Algorithms                14004 non-null  int64 \n",
      " 14  Differential Geometry                         14004 non-null  int64 \n",
      " 15  Earth and Planetary Astrophysics              14004 non-null  int64 \n",
      " 16  Fluid Dynamics                                14004 non-null  int64 \n",
      " 17  Information Theory                            14004 non-null  int64 \n",
      " 18  Instrumentation and Methods for Astrophysics  14004 non-null  int64 \n",
      " 19  Machine Learning                              14004 non-null  int64 \n",
      " 20  Materials Science                             14004 non-null  int64 \n",
      " 21  Methodology                                   14004 non-null  int64 \n",
      " 22  Number Theory                                 14004 non-null  int64 \n",
      " 23  Optimization and Control                      14004 non-null  int64 \n",
      " 24  Representation Theory                         14004 non-null  int64 \n",
      " 25  Robotics                                      14004 non-null  int64 \n",
      " 26  Social and Information Networks               14004 non-null  int64 \n",
      " 27  Statistics Theory                             14004 non-null  int64 \n",
      " 28  Strongly Correlated Electrons                 14004 non-null  int64 \n",
      " 29  Superconductivity                             14004 non-null  int64 \n",
      " 30  Systems and Control                           14004 non-null  int64 \n",
      "dtypes: int64(30), object(1)\n",
      "memory usage: 3.3+ MB\n"
     ]
    }
   ],
   "source": [
    "train_df.info()"
   ]
  },
  {
   "cell_type": "code",
   "execution_count": 7,
   "id": "80fde4bb",
   "metadata": {
    "execution": {
     "iopub.execute_input": "2024-06-18T01:39:00.313468Z",
     "iopub.status.busy": "2024-06-18T01:39:00.312470Z",
     "iopub.status.idle": "2024-06-18T01:39:00.320738Z",
     "shell.execute_reply": "2024-06-18T01:39:00.319430Z"
    },
    "papermill": {
     "duration": 0.019461,
     "end_time": "2024-06-18T01:39:00.323184",
     "exception": false,
     "start_time": "2024-06-18T01:39:00.303723",
     "status": "completed"
    },
    "tags": []
   },
   "outputs": [
    {
     "data": {
      "text/plain": [
       "'a ever-growing datasets inside observational astronomy have challenged scientists inside many aspects, including an efficient and interactive data exploration and visualization. many tools have been developed to confront this challenge. however, they usually focus on displaying a actual images or focus on visualizing patterns within catalogs inside the predefined way. inside this paper we introduce vizic, the python visualization library that builds a connection between images and catalogs through an interactive map of a sky region. vizic visualizes catalog data over the custom background canvas with the help of a shape, size and orientation of each object inside a catalog. a displayed objects inside a map are highly interactive and customizable comparing to those inside a images. these objects should be filtered by or colored by their properties, such as redshift and magnitude. they also should be sub-selected with the help of the lasso-like tool considering further analysis with the help of standard python functions from in the jupyter notebook. furthermore, vizic allows custom overlays to be appended dynamically on top of a sky map. we have initially implemented several overlays, namely, voronoi, delaunay, minimum spanning tree and healpix grid layers, which are helpful considering visualizing large-scale structure. all these overlays should be generated, added or removed interactively with one line of code. a catalog data was stored inside the non-relational database, and a interfaces were developed inside javascript and python to work within jupyter notebook, which allows to create custom widgets, user generated scripts to analyze and plot a data selected/displayed inside a interactive map. this unique design makes vizic the very powerful and flexible interactive analysis tool. vizic should be adopted inside variety of exercises, considering example, data inspection, clustering analysis, galaxy alignment studies, outlier identification or simply large-scale visualizations.'"
      ]
     },
     "execution_count": 7,
     "metadata": {},
     "output_type": "execute_result"
    }
   ],
   "source": [
    "sample_text = train_df['ABSTRACT'][0]\n",
    "sample_text"
   ]
  },
  {
   "cell_type": "markdown",
   "id": "65912040",
   "metadata": {
    "papermill": {
     "duration": 0.007425,
     "end_time": "2024-06-18T01:39:00.338495",
     "exception": false,
     "start_time": "2024-06-18T01:39:00.331070",
     "status": "completed"
    },
    "tags": []
   },
   "source": [
    "## Text Preprocessing"
   ]
  },
  {
   "cell_type": "code",
   "execution_count": 8,
   "id": "3d5a7773",
   "metadata": {
    "execution": {
     "iopub.execute_input": "2024-06-18T01:39:00.355832Z",
     "iopub.status.busy": "2024-06-18T01:39:00.355376Z",
     "iopub.status.idle": "2024-06-18T01:39:00.366577Z",
     "shell.execute_reply": "2024-06-18T01:39:00.365442Z"
    },
    "papermill": {
     "duration": 0.023137,
     "end_time": "2024-06-18T01:39:00.369388",
     "exception": false,
     "start_time": "2024-06-18T01:39:00.346251",
     "status": "completed"
    },
    "tags": []
   },
   "outputs": [],
   "source": [
    "def preprocess_text(text: str, stopwords=set(stopwords.words('english')), wnl=WordNetLemmatizer()) -> list:\n",
    "    # Tokenising\n",
    "    words = word_tokenize(text.lower())\n",
    "    \n",
    "    # Removing Stopwords & Punctuation\n",
    "    filtered_text = [word for word in words if word not in stopwords and word.isalpha()]\n",
    "    \n",
    "    # Lemmatization\n",
    "    preprocessed_text = [wnl.lemmatize(word) for word in filtered_text]\n",
    "    \n",
    "    return preprocessed_text"
   ]
  },
  {
   "cell_type": "code",
   "execution_count": 9,
   "id": "7a57508d",
   "metadata": {
    "execution": {
     "iopub.execute_input": "2024-06-18T01:39:00.386686Z",
     "iopub.status.busy": "2024-06-18T01:39:00.386261Z",
     "iopub.status.idle": "2024-06-18T01:39:48.534366Z",
     "shell.execute_reply": "2024-06-18T01:39:48.533050Z"
    },
    "papermill": {
     "duration": 48.166126,
     "end_time": "2024-06-18T01:39:48.543432",
     "exception": false,
     "start_time": "2024-06-18T01:39:00.377306",
     "status": "completed"
    },
    "tags": []
   },
   "outputs": [
    {
     "data": {
      "text/plain": [
       "0    [datasets, inside, observational, astronomy, c...\n",
       "1    [propose, framework, considering, optimal, exc...\n",
       "2    [nanostructures, open, shell, transition, meta...\n",
       "3    [star, fluid, inside, pressure, buoyancy, rota...\n",
       "4    [deep, neural, perception, control, network, l...\n",
       "Name: ABSTRACT, dtype: object"
      ]
     },
     "execution_count": 9,
     "metadata": {},
     "output_type": "execute_result"
    }
   ],
   "source": [
    "nested_list = train_df.ABSTRACT.apply(preprocess_text)\n",
    "nested_list.head()"
   ]
  },
  {
   "cell_type": "code",
   "execution_count": 10,
   "id": "5b0ad359",
   "metadata": {
    "execution": {
     "iopub.execute_input": "2024-06-18T01:39:48.561977Z",
     "iopub.status.busy": "2024-06-18T01:39:48.560909Z",
     "iopub.status.idle": "2024-06-18T01:39:49.011321Z",
     "shell.execute_reply": "2024-06-18T01:39:49.010283Z"
    },
    "papermill": {
     "duration": 0.462427,
     "end_time": "2024-06-18T01:39:49.014083",
     "exception": false,
     "start_time": "2024-06-18T01:39:48.551656",
     "status": "completed"
    },
    "tags": []
   },
   "outputs": [],
   "source": [
    "topic_ids = {}\n",
    "topics = train_df.columns[2:]\n",
    "\n",
    "for topic in topics:\n",
    "    ids = train_df[train_df[topic] == 1].index\n",
    "    nested_list_topic = nested_list.loc[ids]\n",
    "    topic_ids[topic] = nested_list_topic\n",
    "    \n",
    "    flat_list = [item for sublist in nested_list_topic for item in sublist]\n",
    "    topic_ids[topic]['all_words'] = flat_list\n",
    "    topic_ids[topic]['count'] = len(list(nested_list_topic))"
   ]
  },
  {
   "cell_type": "code",
   "execution_count": 11,
   "id": "113dd04f",
   "metadata": {
    "execution": {
     "iopub.execute_input": "2024-06-18T01:39:49.031581Z",
     "iopub.status.busy": "2024-06-18T01:39:49.031204Z",
     "iopub.status.idle": "2024-06-18T01:39:49.040775Z",
     "shell.execute_reply": "2024-06-18T01:39:49.039597Z"
    },
    "papermill": {
     "duration": 0.021473,
     "end_time": "2024-06-18T01:39:49.043448",
     "exception": false,
     "start_time": "2024-06-18T01:39:49.021975",
     "status": "completed"
    },
    "tags": []
   },
   "outputs": [],
   "source": [
    "counts = []\n",
    "for topic in topics:    \n",
    "    counts.append(topic_ids[topic]['count'])    "
   ]
  },
  {
   "cell_type": "code",
   "execution_count": 12,
   "id": "be14d5be",
   "metadata": {
    "execution": {
     "iopub.execute_input": "2024-06-18T01:39:49.060914Z",
     "iopub.status.busy": "2024-06-18T01:39:49.060508Z",
     "iopub.status.idle": "2024-06-18T01:39:49.753792Z",
     "shell.execute_reply": "2024-06-18T01:39:49.752557Z"
    },
    "papermill": {
     "duration": 0.706045,
     "end_time": "2024-06-18T01:39:49.757388",
     "exception": false,
     "start_time": "2024-06-18T01:39:49.051343",
     "status": "completed"
    },
    "tags": []
   },
   "outputs": [
    {
     "data": {
      "image/png": "[encoded data removed]",
      "text/plain": [
       "<Figure size 1000x1500 with 1 Axes>"
      ]
     },
     "metadata": {},
     "output_type": "display_data"
    }
   ],
   "source": [
    "plt.figure(figsize=(10, 15))\n",
    "plt.barh(np.array(topics), counts)\n",
    "plt.show()"
   ]
  }
 ],
 "metadata": {
  "kaggle": {
   "accelerator": "none",
   "dataSources": [
    {
     "datasetId": 932025,
     "sourceId": 2994327,
     "sourceType": "datasetVersion"
    }
   ],
   "dockerImageVersionId": 30732,
   "isGpuEnabled": false,
   "isInternetEnabled": true,
   "language": "python",
   "sourceType": "notebook"
  },
  "kernelspec": {
   "display_name": "Python 3",
   "language": "python",
   "name": "python3"
  },
  "language_info": {
   "codemirror_mode": {
    "name": "ipython",
    "version": 3
   },
   "file_extension": ".py",
   "mimetype": "text/x-python",
   "name": "python",
   "nbconvert_exporter": "python",
   "pygments_lexer": "ipython3",
   "version": "3.10.13"
  },
  "papermill": {
   "default_parameters": {},
   "duration": 65.09325,
   "end_time": "2024-06-18T01:39:51.493707",
   "environment_variables": {},
   "exception": null,
   "input_path": "__notebook__.ipynb",
   "output_path": "__notebook__.ipynb",
   "parameters": {},
   "start_time": "2024-06-18T01:38:46.400457",
   "version": "2.5.0"
  }
 },
 "nbformat": 4,
 "nbformat_minor": 5
}
