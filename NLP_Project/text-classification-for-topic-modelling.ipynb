{
 "cells": [
  {
   "cell_type": "markdown",
   "id": "ec5c8d13",
   "metadata": {
    "papermill": {
     "duration": 0.019779,
     "end_time": "2024-07-05T07:22:18.379122",
     "exception": false,
     "start_time": "2024-07-05T07:22:18.359343",
     "status": "completed"
    },
    "tags": []
   },
   "source": [
    "# Text Classification for Topic Modelling"
   ]
  },
  {
   "cell_type": "markdown",
   "id": "54e47bbb",
   "metadata": {
    "papermill": {
     "duration": 0.01381,
     "end_time": "2024-07-05T07:22:18.407084",
     "exception": false,
     "start_time": "2024-07-05T07:22:18.393274",
     "status": "completed"
    },
    "tags": []
   },
   "source": [
    "## Notebook Imports"
   ]
  },
  {
   "cell_type": "code",
   "execution_count": 1,
   "id": "cb8ab478",
   "metadata": {
    "_cell_guid": "b1076dfc-b9ad-4769-8c92-a6c4dae69d19",
    "_uuid": "8f2839f25d086af736a60e9eeb907d3b93b6e0e5",
    "execution": {
     "iopub.execute_input": "2024-07-05T07:22:18.437237Z",
     "iopub.status.busy": "2024-07-05T07:22:18.436802Z",
     "iopub.status.idle": "2024-07-05T07:22:26.561081Z",
     "shell.execute_reply": "2024-07-05T07:22:26.560319Z"
    },
    "papermill": {
     "duration": 8.142534,
     "end_time": "2024-07-05T07:22:26.563374",
     "exception": false,
     "start_time": "2024-07-05T07:22:18.420840",
     "status": "completed"
    },
    "tags": []
   },
   "outputs": [],
   "source": [
    "# NLTK\n",
    "import nltk\n",
    "from nltk.corpus import stopwords\n",
    "from nltk.stem import WordNetLemmatizer\n",
    "from nltk.tokenize import word_tokenize\n",
    "\n",
    "# Sklearn\n",
    "import sklearn\n",
    "from sklearn.naive_bayes import MultinomialNB\n",
    "from sklearn.preprocessing import LabelEncoder\n",
    "from sklearn.ensemble import RandomForestClassifier\n",
    "from sklearn.linear_model import LogisticRegression\n",
    "from sklearn.model_selection import train_test_split\n",
    "from sklearn.feature_extraction.text import CountVectorizer, TfidfTransformer\n",
    "from sklearn.metrics import accuracy_score, classification_report, confusion_matrix, ConfusionMatrixDisplay\n",
    "\n",
    "# Imblearn\n",
    "import imblearn\n",
    "from imblearn.over_sampling import RandomOverSampler\n",
    "\n",
    "# PyTorch\n",
    "import torch\n",
    "import torch.nn as nn\n",
    "import torch.optim as optim\n",
    "from torch.nn.utils.rnn import pad_sequence\n",
    "from torch.utils.data import DataLoader, Dataset\n",
    "from torchtext.vocab import build_vocab_from_iterator\n",
    "\n",
    "# Other\n",
    "import numpy as np\n",
    "import pandas as pd\n",
    "import seaborn as sns\n",
    "import matplotlib.pyplot as plt\n",
    "\n",
    "%matplotlib inline"
   ]
  },
  {
   "cell_type": "code",
   "execution_count": 2,
   "id": "63b6eefd",
   "metadata": {
    "execution": {
     "iopub.execute_input": "2024-07-05T07:22:26.592379Z",
     "iopub.status.busy": "2024-07-05T07:22:26.591929Z",
     "iopub.status.idle": "2024-07-05T07:22:27.010123Z",
     "shell.execute_reply": "2024-07-05T07:22:27.009234Z"
    },
    "papermill": {
     "duration": 0.434988,
     "end_time": "2024-07-05T07:22:27.012313",
     "exception": false,
     "start_time": "2024-07-05T07:22:26.577325",
     "status": "completed"
    },
    "tags": []
   },
   "outputs": [
    {
     "name": "stdout",
     "output_type": "stream",
     "text": [
      "[nltk_data] Downloading package stopwords to /usr/share/nltk_data...\n",
      "[nltk_data]   Package stopwords is already up-to-date!\n",
      "[nltk_data] Downloading package punkt to /usr/share/nltk_data...\n",
      "[nltk_data]   Package punkt is already up-to-date!\n",
      "[nltk_data] Downloading package wordnet to /usr/share/nltk_data...\n",
      "[nltk_data]   Package wordnet is already up-to-date!\n",
      "[nltk_data] Downloading package omw-1.4 to /usr/share/nltk_data...\n"
     ]
    },
    {
     "data": {
      "text/plain": [
       "True"
      ]
     },
     "execution_count": 2,
     "metadata": {},
     "output_type": "execute_result"
    }
   ],
   "source": [
    "nltk.download('stopwords')\n",
    "nltk.download(\"punkt\")\n",
    "nltk.download(\"wordnet\")\n",
    "nltk.download(\"omw-1.4\")"
   ]
  },
  {
   "cell_type": "code",
   "execution_count": 3,
   "id": "681a7c5a",
   "metadata": {
    "execution": {
     "iopub.execute_input": "2024-07-05T07:22:27.042358Z",
     "iopub.status.busy": "2024-07-05T07:22:27.042021Z",
     "iopub.status.idle": "2024-07-05T07:22:28.338040Z",
     "shell.execute_reply": "2024-07-05T07:22:28.336918Z"
    },
    "papermill": {
     "duration": 1.31373,
     "end_time": "2024-07-05T07:22:28.340464",
     "exception": false,
     "start_time": "2024-07-05T07:22:27.026734",
     "status": "completed"
    },
    "tags": []
   },
   "outputs": [
    {
     "name": "stdout",
     "output_type": "stream",
     "text": [
      "Archive:  /usr/share/nltk_data/corpora/wordnet.zip\r\n",
      "   creating: /usr/share/nltk_data/corpora/wordnet/\r\n",
      "  inflating: /usr/share/nltk_data/corpora/wordnet/lexnames  \r\n",
      "  inflating: /usr/share/nltk_data/corpora/wordnet/data.verb  \r\n",
      "  inflating: /usr/share/nltk_data/corpora/wordnet/index.adv  \r\n",
      "  inflating: /usr/share/nltk_data/corpora/wordnet/adv.exc  \r\n",
      "  inflating: /usr/share/nltk_data/corpora/wordnet/index.verb  \r\n",
      "  inflating: /usr/share/nltk_data/corpora/wordnet/cntlist.rev  \r\n",
      "  inflating: /usr/share/nltk_data/corpora/wordnet/data.adj  \r\n",
      "  inflating: /usr/share/nltk_data/corpora/wordnet/index.adj  \r\n",
      "  inflating: /usr/share/nltk_data/corpora/wordnet/LICENSE  \r\n",
      "  inflating: /usr/share/nltk_data/corpora/wordnet/citation.bib  \r\n",
      "  inflating: /usr/share/nltk_data/corpora/wordnet/noun.exc  \r\n",
      "  inflating: /usr/share/nltk_data/corpora/wordnet/verb.exc  \r\n",
      "  inflating: /usr/share/nltk_data/corpora/wordnet/README  \r\n",
      "  inflating: /usr/share/nltk_data/corpora/wordnet/index.sense  \r\n",
      "  inflating: /usr/share/nltk_data/corpora/wordnet/data.noun  \r\n",
      "  inflating: /usr/share/nltk_data/corpora/wordnet/data.adv  \r\n",
      "  inflating: /usr/share/nltk_data/corpora/wordnet/index.noun  \r\n",
      "  inflating: /usr/share/nltk_data/corpora/wordnet/adj.exc  \r\n"
     ]
    }
   ],
   "source": [
    "from nltk.corpus import wordnet\n",
    "! unzip /usr/share/nltk_data/corpora/wordnet.zip -d /usr/share/nltk_data/corpora/"
   ]
  },
  {
   "cell_type": "markdown",
   "id": "2f7de9cd",
   "metadata": {
    "papermill": {
     "duration": 0.014095,
     "end_time": "2024-07-05T07:22:28.369152",
     "exception": false,
     "start_time": "2024-07-05T07:22:28.355057",
     "status": "completed"
    },
    "tags": []
   },
   "source": [
    "# Data Loading"
   ]
  },
  {
   "cell_type": "code",
   "execution_count": 4,
   "id": "ad39c1d5",
   "metadata": {
    "execution": {
     "iopub.execute_input": "2024-07-05T07:22:28.401129Z",
     "iopub.status.busy": "2024-07-05T07:22:28.400700Z",
     "iopub.status.idle": "2024-07-05T07:22:28.465100Z",
     "shell.execute_reply": "2024-07-05T07:22:28.464181Z"
    },
    "papermill": {
     "duration": 0.082225,
     "end_time": "2024-07-05T07:22:28.467236",
     "exception": false,
     "start_time": "2024-07-05T07:22:28.385011",
     "status": "completed"
    },
    "tags": []
   },
   "outputs": [],
   "source": [
    "DATASET_ROOT = '/kaggle/input/topic-modeling-for-research-articles/Train.csv'\n",
    "device = 'cuda' if torch.cuda.is_available() else 'cpu'"
   ]
  },
  {
   "cell_type": "code",
   "execution_count": 5,
   "id": "0b63ffd2",
   "metadata": {
    "execution": {
     "iopub.execute_input": "2024-07-05T07:22:28.497457Z",
     "iopub.status.busy": "2024-07-05T07:22:28.497108Z",
     "iopub.status.idle": "2024-07-05T07:22:28.935485Z",
     "shell.execute_reply": "2024-07-05T07:22:28.934601Z"
    },
    "papermill": {
     "duration": 0.455584,
     "end_time": "2024-07-05T07:22:28.937523",
     "exception": false,
     "start_time": "2024-07-05T07:22:28.481939",
     "status": "completed"
    },
    "tags": []
   },
   "outputs": [
    {
     "data": {
      "text/html": [
       "<div>\n",
       "<style scoped>\n",
       "    .dataframe tbody tr th:only-of-type {\n",
       "        vertical-align: middle;\n",
       "    }\n",
       "\n",
       "    .dataframe tbody tr th {\n",
       "        vertical-align: top;\n",
       "    }\n",
       "\n",
       "    .dataframe thead th {\n",
       "        text-align: right;\n",
       "    }\n",
       "</style>\n",
       "<table border=\"1\" class=\"dataframe\">\n",
       "  <thead>\n",
       "    <tr style=\"text-align: right;\">\n",
       "      <th></th>\n",
       "      <th>id</th>\n",
       "      <th>ABSTRACT</th>\n",
       "      <th>Computer Science</th>\n",
       "      <th>Mathematics</th>\n",
       "      <th>Physics</th>\n",
       "      <th>Statistics</th>\n",
       "      <th>Analysis of PDEs</th>\n",
       "      <th>Applications</th>\n",
       "      <th>Artificial Intelligence</th>\n",
       "      <th>Astrophysics of Galaxies</th>\n",
       "      <th>...</th>\n",
       "      <th>Methodology</th>\n",
       "      <th>Number Theory</th>\n",
       "      <th>Optimization and Control</th>\n",
       "      <th>Representation Theory</th>\n",
       "      <th>Robotics</th>\n",
       "      <th>Social and Information Networks</th>\n",
       "      <th>Statistics Theory</th>\n",
       "      <th>Strongly Correlated Electrons</th>\n",
       "      <th>Superconductivity</th>\n",
       "      <th>Systems and Control</th>\n",
       "    </tr>\n",
       "  </thead>\n",
       "  <tbody>\n",
       "    <tr>\n",
       "      <th>0</th>\n",
       "      <td>1824</td>\n",
       "      <td>a ever-growing datasets inside observational a...</td>\n",
       "      <td>0</td>\n",
       "      <td>0</td>\n",
       "      <td>1</td>\n",
       "      <td>0</td>\n",
       "      <td>0</td>\n",
       "      <td>0</td>\n",
       "      <td>0</td>\n",
       "      <td>0</td>\n",
       "      <td>...</td>\n",
       "      <td>0</td>\n",
       "      <td>0</td>\n",
       "      <td>0</td>\n",
       "      <td>0</td>\n",
       "      <td>0</td>\n",
       "      <td>0</td>\n",
       "      <td>0</td>\n",
       "      <td>0</td>\n",
       "      <td>0</td>\n",
       "      <td>0</td>\n",
       "    </tr>\n",
       "    <tr>\n",
       "      <th>1</th>\n",
       "      <td>3094</td>\n",
       "      <td>we propose the framework considering optimal $...</td>\n",
       "      <td>1</td>\n",
       "      <td>0</td>\n",
       "      <td>0</td>\n",
       "      <td>0</td>\n",
       "      <td>0</td>\n",
       "      <td>0</td>\n",
       "      <td>0</td>\n",
       "      <td>0</td>\n",
       "      <td>...</td>\n",
       "      <td>0</td>\n",
       "      <td>0</td>\n",
       "      <td>0</td>\n",
       "      <td>0</td>\n",
       "      <td>0</td>\n",
       "      <td>0</td>\n",
       "      <td>0</td>\n",
       "      <td>0</td>\n",
       "      <td>0</td>\n",
       "      <td>0</td>\n",
       "    </tr>\n",
       "    <tr>\n",
       "      <th>2</th>\n",
       "      <td>8463</td>\n",
       "      <td>nanostructures with open shell transition meta...</td>\n",
       "      <td>0</td>\n",
       "      <td>0</td>\n",
       "      <td>1</td>\n",
       "      <td>0</td>\n",
       "      <td>0</td>\n",
       "      <td>0</td>\n",
       "      <td>0</td>\n",
       "      <td>0</td>\n",
       "      <td>...</td>\n",
       "      <td>0</td>\n",
       "      <td>0</td>\n",
       "      <td>0</td>\n",
       "      <td>0</td>\n",
       "      <td>0</td>\n",
       "      <td>0</td>\n",
       "      <td>0</td>\n",
       "      <td>1</td>\n",
       "      <td>0</td>\n",
       "      <td>0</td>\n",
       "    </tr>\n",
       "    <tr>\n",
       "      <th>3</th>\n",
       "      <td>2082</td>\n",
       "      <td>stars are self-gravitating fluids inside which...</td>\n",
       "      <td>0</td>\n",
       "      <td>0</td>\n",
       "      <td>1</td>\n",
       "      <td>0</td>\n",
       "      <td>0</td>\n",
       "      <td>0</td>\n",
       "      <td>0</td>\n",
       "      <td>0</td>\n",
       "      <td>...</td>\n",
       "      <td>0</td>\n",
       "      <td>0</td>\n",
       "      <td>0</td>\n",
       "      <td>0</td>\n",
       "      <td>0</td>\n",
       "      <td>0</td>\n",
       "      <td>0</td>\n",
       "      <td>0</td>\n",
       "      <td>0</td>\n",
       "      <td>0</td>\n",
       "    </tr>\n",
       "    <tr>\n",
       "      <th>4</th>\n",
       "      <td>8687</td>\n",
       "      <td>deep neural perception and control networks ar...</td>\n",
       "      <td>1</td>\n",
       "      <td>0</td>\n",
       "      <td>0</td>\n",
       "      <td>0</td>\n",
       "      <td>0</td>\n",
       "      <td>0</td>\n",
       "      <td>0</td>\n",
       "      <td>0</td>\n",
       "      <td>...</td>\n",
       "      <td>0</td>\n",
       "      <td>0</td>\n",
       "      <td>0</td>\n",
       "      <td>0</td>\n",
       "      <td>0</td>\n",
       "      <td>0</td>\n",
       "      <td>0</td>\n",
       "      <td>0</td>\n",
       "      <td>0</td>\n",
       "      <td>0</td>\n",
       "    </tr>\n",
       "  </tbody>\n",
       "</table>\n",
       "<p>5 rows × 31 columns</p>\n",
       "</div>"
      ],
      "text/plain": [
       "     id                                           ABSTRACT  Computer Science  \\\n",
       "0  1824  a ever-growing datasets inside observational a...                 0   \n",
       "1  3094  we propose the framework considering optimal $...                 1   \n",
       "2  8463  nanostructures with open shell transition meta...                 0   \n",
       "3  2082  stars are self-gravitating fluids inside which...                 0   \n",
       "4  8687  deep neural perception and control networks ar...                 1   \n",
       "\n",
       "   Mathematics  Physics  Statistics  Analysis of PDEs  Applications  \\\n",
       "0            0        1           0                 0             0   \n",
       "1            0        0           0                 0             0   \n",
       "2            0        1           0                 0             0   \n",
       "3            0        1           0                 0             0   \n",
       "4            0        0           0                 0             0   \n",
       "\n",
       "   Artificial Intelligence  Astrophysics of Galaxies  ...  Methodology  \\\n",
       "0                        0                         0  ...            0   \n",
       "1                        0                         0  ...            0   \n",
       "2                        0                         0  ...            0   \n",
       "3                        0                         0  ...            0   \n",
       "4                        0                         0  ...            0   \n",
       "\n",
       "   Number Theory  Optimization and Control  Representation Theory  Robotics  \\\n",
       "0              0                         0                      0         0   \n",
       "1              0                         0                      0         0   \n",
       "2              0                         0                      0         0   \n",
       "3              0                         0                      0         0   \n",
       "4              0                         0                      0         0   \n",
       "\n",
       "   Social and Information Networks  Statistics Theory  \\\n",
       "0                                0                  0   \n",
       "1                                0                  0   \n",
       "2                                0                  0   \n",
       "3                                0                  0   \n",
       "4                                0                  0   \n",
       "\n",
       "   Strongly Correlated Electrons  Superconductivity  Systems and Control  \n",
       "0                              0                  0                    0  \n",
       "1                              0                  0                    0  \n",
       "2                              1                  0                    0  \n",
       "3                              0                  0                    0  \n",
       "4                              0                  0                    0  \n",
       "\n",
       "[5 rows x 31 columns]"
      ]
     },
     "execution_count": 5,
     "metadata": {},
     "output_type": "execute_result"
    }
   ],
   "source": [
    "train_df = pd.read_csv(DATASET_ROOT)\n",
    "train_df.head()"
   ]
  },
  {
   "cell_type": "markdown",
   "id": "4aac5ee3",
   "metadata": {
    "papermill": {
     "duration": 0.014521,
     "end_time": "2024-07-05T07:22:28.967031",
     "exception": false,
     "start_time": "2024-07-05T07:22:28.952510",
     "status": "completed"
    },
    "tags": []
   },
   "source": [
    "# Data Preprocessing"
   ]
  },
  {
   "cell_type": "code",
   "execution_count": 6,
   "id": "a6012089",
   "metadata": {
    "execution": {
     "iopub.execute_input": "2024-07-05T07:22:28.998987Z",
     "iopub.status.busy": "2024-07-05T07:22:28.998620Z",
     "iopub.status.idle": "2024-07-05T07:22:29.026350Z",
     "shell.execute_reply": "2024-07-05T07:22:29.025423Z"
    },
    "papermill": {
     "duration": 0.045834,
     "end_time": "2024-07-05T07:22:29.028294",
     "exception": false,
     "start_time": "2024-07-05T07:22:28.982460",
     "status": "completed"
    },
    "tags": []
   },
   "outputs": [
    {
     "data": {
      "text/html": [
       "<div>\n",
       "<style scoped>\n",
       "    .dataframe tbody tr th:only-of-type {\n",
       "        vertical-align: middle;\n",
       "    }\n",
       "\n",
       "    .dataframe tbody tr th {\n",
       "        vertical-align: top;\n",
       "    }\n",
       "\n",
       "    .dataframe thead th {\n",
       "        text-align: right;\n",
       "    }\n",
       "</style>\n",
       "<table border=\"1\" class=\"dataframe\">\n",
       "  <thead>\n",
       "    <tr style=\"text-align: right;\">\n",
       "      <th></th>\n",
       "      <th>ABSTRACT</th>\n",
       "      <th>Target</th>\n",
       "    </tr>\n",
       "  </thead>\n",
       "  <tbody>\n",
       "    <tr>\n",
       "      <th>0</th>\n",
       "      <td>a ever-growing datasets inside observational a...</td>\n",
       "      <td>Physics</td>\n",
       "    </tr>\n",
       "    <tr>\n",
       "      <th>1</th>\n",
       "      <td>we propose the framework considering optimal $...</td>\n",
       "      <td>Computer Science</td>\n",
       "    </tr>\n",
       "    <tr>\n",
       "      <th>2</th>\n",
       "      <td>nanostructures with open shell transition meta...</td>\n",
       "      <td>Physics</td>\n",
       "    </tr>\n",
       "    <tr>\n",
       "      <th>3</th>\n",
       "      <td>stars are self-gravitating fluids inside which...</td>\n",
       "      <td>Physics</td>\n",
       "    </tr>\n",
       "    <tr>\n",
       "      <th>4</th>\n",
       "      <td>deep neural perception and control networks ar...</td>\n",
       "      <td>Computer Science</td>\n",
       "    </tr>\n",
       "  </tbody>\n",
       "</table>\n",
       "</div>"
      ],
      "text/plain": [
       "                                            ABSTRACT            Target\n",
       "0  a ever-growing datasets inside observational a...           Physics\n",
       "1  we propose the framework considering optimal $...  Computer Science\n",
       "2  nanostructures with open shell transition meta...           Physics\n",
       "3  stars are self-gravitating fluids inside which...           Physics\n",
       "4  deep neural perception and control networks ar...  Computer Science"
      ]
     },
     "execution_count": 6,
     "metadata": {},
     "output_type": "execute_result"
    }
   ],
   "source": [
    "# Dropping ID\n",
    "train_df.drop('id', axis=1, inplace=True)\n",
    "\n",
    "# Resetting ID \n",
    "train_df.reset_index()\n",
    "\n",
    "topics = train_df.columns[1:]\n",
    "train_df['Target'] = train_df[topics].idxmax(axis=1)\n",
    "train_df.drop(topics, axis=1, inplace=True)\n",
    "train_df.head()"
   ]
  },
  {
   "cell_type": "code",
   "execution_count": 7,
   "id": "4558b0e1",
   "metadata": {
    "execution": {
     "iopub.execute_input": "2024-07-05T07:22:29.059212Z",
     "iopub.status.busy": "2024-07-05T07:22:29.058881Z",
     "iopub.status.idle": "2024-07-05T07:22:29.067665Z",
     "shell.execute_reply": "2024-07-05T07:22:29.066795Z"
    },
    "papermill": {
     "duration": 0.026238,
     "end_time": "2024-07-05T07:22:29.069508",
     "exception": false,
     "start_time": "2024-07-05T07:22:29.043270",
     "status": "completed"
    },
    "tags": []
   },
   "outputs": [],
   "source": [
    "encoder = LabelEncoder()\n",
    "train_df['Target_Label'] = encoder.fit_transform(train_df['Target'])"
   ]
  },
  {
   "cell_type": "code",
   "execution_count": 8,
   "id": "16f53d56",
   "metadata": {
    "execution": {
     "iopub.execute_input": "2024-07-05T07:22:29.100961Z",
     "iopub.status.busy": "2024-07-05T07:22:29.100614Z",
     "iopub.status.idle": "2024-07-05T07:22:29.110553Z",
     "shell.execute_reply": "2024-07-05T07:22:29.109712Z"
    },
    "papermill": {
     "duration": 0.027967,
     "end_time": "2024-07-05T07:22:29.112487",
     "exception": false,
     "start_time": "2024-07-05T07:22:29.084520",
     "status": "completed"
    },
    "tags": []
   },
   "outputs": [],
   "source": [
    "def preprocess_text(text: str, stopwords=set(stopwords.words('english')), wnl=WordNetLemmatizer(), ml=True):\n",
    "    \n",
    "    \"\"\"\n",
    "    Preprocesses the input text by tokenizing, removing stopwords and punctuation, and lemmatizing the words.\n",
    "    \n",
    "    Args:\n",
    "        text (str): The input text to be preprocessed.\n",
    "        stopwords (set, optional): A set of stopwords to be removed from the text. Defaults to nltk's English stopwords.\n",
    "        wnl (WordNetLemmatizer, optional): An instance of WordNetLemmatizer for lemmatizing words. Defaults to an instance of WordNetLemmatizer.\n",
    "        ml (bool, optional): If True, the preprocessed text is returned as a single string. If False, the preprocessed text is returned as a list of words. Defaults to True.\n",
    "    \n",
    "    Returns:\n",
    "        list or str: The preprocessed text. If ml is True, returns a string of the preprocessed text. If ml is False, returns a list of preprocessed words.\n",
    "    \"\"\"\n",
    "    \n",
    "    # Tokenising\n",
    "    words = word_tokenize(text.lower())\n",
    "    \n",
    "    # Removing Stopwords & Punctuation\n",
    "    filtered_text = [word for word in words if word not in stopwords and word.isalpha()]\n",
    "    \n",
    "    # Lemmatization\n",
    "    preprocessed_text = [wnl.lemmatize(word) for word in filtered_text]\n",
    "    \n",
    "    if ml:\n",
    "        preprocessed_text = ' '.join(preprocessed_text)\n",
    "    \n",
    "    return preprocessed_text"
   ]
  },
  {
   "cell_type": "code",
   "execution_count": 9,
   "id": "486126eb",
   "metadata": {
    "execution": {
     "iopub.execute_input": "2024-07-05T07:22:29.142938Z",
     "iopub.status.busy": "2024-07-05T07:22:29.142669Z",
     "iopub.status.idle": "2024-07-05T07:23:46.510766Z",
     "shell.execute_reply": "2024-07-05T07:23:46.509946Z"
    },
    "papermill": {
     "duration": 77.385885,
     "end_time": "2024-07-05T07:23:46.513150",
     "exception": false,
     "start_time": "2024-07-05T07:22:29.127265",
     "status": "completed"
    },
    "tags": []
   },
   "outputs": [],
   "source": [
    "preprocessed_text_dl = train_df.ABSTRACT.apply(preprocess_text, ml=False)\n",
    "preprocessed_text_ml = train_df.ABSTRACT.apply(preprocess_text)"
   ]
  },
  {
   "cell_type": "code",
   "execution_count": 10,
   "id": "6bbf7b90",
   "metadata": {
    "execution": {
     "iopub.execute_input": "2024-07-05T07:23:46.545236Z",
     "iopub.status.busy": "2024-07-05T07:23:46.544573Z",
     "iopub.status.idle": "2024-07-05T07:23:46.566196Z",
     "shell.execute_reply": "2024-07-05T07:23:46.565214Z"
    },
    "papermill": {
     "duration": 0.039704,
     "end_time": "2024-07-05T07:23:46.568216",
     "exception": false,
     "start_time": "2024-07-05T07:23:46.528512",
     "status": "completed"
    },
    "tags": []
   },
   "outputs": [
    {
     "data": {
      "text/html": [
       "<div>\n",
       "<style scoped>\n",
       "    .dataframe tbody tr th:only-of-type {\n",
       "        vertical-align: middle;\n",
       "    }\n",
       "\n",
       "    .dataframe tbody tr th {\n",
       "        vertical-align: top;\n",
       "    }\n",
       "\n",
       "    .dataframe thead th {\n",
       "        text-align: right;\n",
       "    }\n",
       "</style>\n",
       "<table border=\"1\" class=\"dataframe\">\n",
       "  <thead>\n",
       "    <tr style=\"text-align: right;\">\n",
       "      <th></th>\n",
       "      <th>Target</th>\n",
       "      <th>Target_Label</th>\n",
       "      <th>Preprocessed Text ML</th>\n",
       "      <th>Preprocessed Text DL</th>\n",
       "    </tr>\n",
       "  </thead>\n",
       "  <tbody>\n",
       "    <tr>\n",
       "      <th>0</th>\n",
       "      <td>Physics</td>\n",
       "      <td>2</td>\n",
       "      <td>datasets inside observational astronomy challe...</td>\n",
       "      <td>[datasets, inside, observational, astronomy, c...</td>\n",
       "    </tr>\n",
       "    <tr>\n",
       "      <th>1</th>\n",
       "      <td>Computer Science</td>\n",
       "      <td>0</td>\n",
       "      <td>propose framework considering optimal excludin...</td>\n",
       "      <td>[propose, framework, considering, optimal, exc...</td>\n",
       "    </tr>\n",
       "    <tr>\n",
       "      <th>2</th>\n",
       "      <td>Physics</td>\n",
       "      <td>2</td>\n",
       "      <td>nanostructures open shell transition metal mol...</td>\n",
       "      <td>[nanostructures, open, shell, transition, meta...</td>\n",
       "    </tr>\n",
       "    <tr>\n",
       "      <th>3</th>\n",
       "      <td>Physics</td>\n",
       "      <td>2</td>\n",
       "      <td>star fluid inside pressure buoyancy rotation m...</td>\n",
       "      <td>[star, fluid, inside, pressure, buoyancy, rota...</td>\n",
       "    </tr>\n",
       "    <tr>\n",
       "      <th>4</th>\n",
       "      <td>Computer Science</td>\n",
       "      <td>0</td>\n",
       "      <td>deep neural perception control network likely ...</td>\n",
       "      <td>[deep, neural, perception, control, network, l...</td>\n",
       "    </tr>\n",
       "  </tbody>\n",
       "</table>\n",
       "</div>"
      ],
      "text/plain": [
       "             Target  Target_Label  \\\n",
       "0           Physics             2   \n",
       "1  Computer Science             0   \n",
       "2           Physics             2   \n",
       "3           Physics             2   \n",
       "4  Computer Science             0   \n",
       "\n",
       "                                Preprocessed Text ML  \\\n",
       "0  datasets inside observational astronomy challe...   \n",
       "1  propose framework considering optimal excludin...   \n",
       "2  nanostructures open shell transition metal mol...   \n",
       "3  star fluid inside pressure buoyancy rotation m...   \n",
       "4  deep neural perception control network likely ...   \n",
       "\n",
       "                                Preprocessed Text DL  \n",
       "0  [datasets, inside, observational, astronomy, c...  \n",
       "1  [propose, framework, considering, optimal, exc...  \n",
       "2  [nanostructures, open, shell, transition, meta...  \n",
       "3  [star, fluid, inside, pressure, buoyancy, rota...  \n",
       "4  [deep, neural, perception, control, network, l...  "
      ]
     },
     "execution_count": 10,
     "metadata": {},
     "output_type": "execute_result"
    }
   ],
   "source": [
    "train_df['Preprocessed Text ML'] = preprocessed_text_ml\n",
    "train_df['Preprocessed Text DL'] = preprocessed_text_dl\n",
    "train_df.drop('ABSTRACT', axis=1, inplace=True)\n",
    "train_df.head()"
   ]
  },
  {
   "cell_type": "markdown",
   "id": "302efcdf",
   "metadata": {
    "papermill": {
     "duration": 0.01472,
     "end_time": "2024-07-05T07:23:46.598127",
     "exception": false,
     "start_time": "2024-07-05T07:23:46.583407",
     "status": "completed"
    },
    "tags": []
   },
   "source": [
    "### Building Vocabulary and Encoding Text"
   ]
  },
  {
   "cell_type": "code",
   "execution_count": 11,
   "id": "ca25e886",
   "metadata": {
    "execution": {
     "iopub.execute_input": "2024-07-05T07:23:46.629266Z",
     "iopub.status.busy": "2024-07-05T07:23:46.628630Z",
     "iopub.status.idle": "2024-07-05T07:23:48.195131Z",
     "shell.execute_reply": "2024-07-05T07:23:48.194217Z"
    },
    "papermill": {
     "duration": 1.584595,
     "end_time": "2024-07-05T07:23:48.197581",
     "exception": false,
     "start_time": "2024-07-05T07:23:46.612986",
     "status": "completed"
    },
    "tags": []
   },
   "outputs": [],
   "source": [
    "# Build vocabulary\n",
    "vocab = build_vocab_from_iterator(preprocessed_text_dl, specials=[\"<pad>\", \"<unk>\"], min_freq=2)\n",
    "vocab.set_default_index(vocab[\"<unk>\"])\n",
    "\n",
    "# Convert tokens to indices\n",
    "def encode(text):\n",
    "    return [vocab[token] for token in text]\n",
    "\n",
    "encoded_data = [encode(text) for text in preprocessed_text_dl]"
   ]
  },
  {
   "cell_type": "code",
   "execution_count": 12,
   "id": "43b01000",
   "metadata": {
    "execution": {
     "iopub.execute_input": "2024-07-05T07:23:48.229491Z",
     "iopub.status.busy": "2024-07-05T07:23:48.229183Z",
     "iopub.status.idle": "2024-07-05T07:23:49.105615Z",
     "shell.execute_reply": "2024-07-05T07:23:49.104663Z"
    },
    "papermill": {
     "duration": 0.894545,
     "end_time": "2024-07-05T07:23:49.107702",
     "exception": false,
     "start_time": "2024-07-05T07:23:48.213157",
     "status": "completed"
    },
    "tags": []
   },
   "outputs": [
    {
     "data": {
      "text/html": [
       "<div>\n",
       "<style scoped>\n",
       "    .dataframe tbody tr th:only-of-type {\n",
       "        vertical-align: middle;\n",
       "    }\n",
       "\n",
       "    .dataframe tbody tr th {\n",
       "        vertical-align: top;\n",
       "    }\n",
       "\n",
       "    .dataframe thead th {\n",
       "        text-align: right;\n",
       "    }\n",
       "</style>\n",
       "<table border=\"1\" class=\"dataframe\">\n",
       "  <thead>\n",
       "    <tr style=\"text-align: right;\">\n",
       "      <th></th>\n",
       "      <th>Target</th>\n",
       "      <th>Target_Label</th>\n",
       "      <th>Preprocessed Text ML</th>\n",
       "      <th>Preprocessed Text DL</th>\n",
       "      <th>Encoded &amp; Padded Text</th>\n",
       "    </tr>\n",
       "  </thead>\n",
       "  <tbody>\n",
       "    <tr>\n",
       "      <th>0</th>\n",
       "      <td>Physics</td>\n",
       "      <td>2</td>\n",
       "      <td>datasets inside observational astronomy challe...</td>\n",
       "      <td>[datasets, inside, observational, astronomy, c...</td>\n",
       "      <td>[140, 2, 1087, 2624, 7251, 3218, 2, 91, 725, 1...</td>\n",
       "    </tr>\n",
       "    <tr>\n",
       "      <th>1</th>\n",
       "      <td>Computer Science</td>\n",
       "      <td>0</td>\n",
       "      <td>propose framework considering optimal excludin...</td>\n",
       "      <td>[propose, framework, considering, optimal, exc...</td>\n",
       "      <td>[33, 57, 3, 112, 6777, 2771, 2, 2581, 68, 22, ...</td>\n",
       "    </tr>\n",
       "    <tr>\n",
       "      <th>2</th>\n",
       "      <td>Physics</td>\n",
       "      <td>2</td>\n",
       "      <td>nanostructures open shell transition metal mol...</td>\n",
       "      <td>[nanostructures, open, shell, transition, meta...</td>\n",
       "      <td>[6594, 474, 2427, 144, 917, 769, 3430, 765, 23...</td>\n",
       "    </tr>\n",
       "    <tr>\n",
       "      <th>3</th>\n",
       "      <td>Physics</td>\n",
       "      <td>2</td>\n",
       "      <td>star fluid inside pressure buoyancy rotation m...</td>\n",
       "      <td>[star, fluid, inside, pressure, buoyancy, rota...</td>\n",
       "      <td>[126, 712, 2, 577, 6052, 899, 85, 39, 69, 7144...</td>\n",
       "    </tr>\n",
       "    <tr>\n",
       "      <th>4</th>\n",
       "      <td>Computer Science</td>\n",
       "      <td>0</td>\n",
       "      <td>deep neural perception control network likely ...</td>\n",
       "      <td>[deep, neural, perception, control, network, l...</td>\n",
       "      <td>[54, 49, 1674, 77, 7, 891, 295, 172, 503, 4, 3...</td>\n",
       "    </tr>\n",
       "  </tbody>\n",
       "</table>\n",
       "</div>"
      ],
      "text/plain": [
       "             Target  Target_Label  \\\n",
       "0           Physics             2   \n",
       "1  Computer Science             0   \n",
       "2           Physics             2   \n",
       "3           Physics             2   \n",
       "4  Computer Science             0   \n",
       "\n",
       "                                Preprocessed Text ML  \\\n",
       "0  datasets inside observational astronomy challe...   \n",
       "1  propose framework considering optimal excludin...   \n",
       "2  nanostructures open shell transition metal mol...   \n",
       "3  star fluid inside pressure buoyancy rotation m...   \n",
       "4  deep neural perception control network likely ...   \n",
       "\n",
       "                                Preprocessed Text DL  \\\n",
       "0  [datasets, inside, observational, astronomy, c...   \n",
       "1  [propose, framework, considering, optimal, exc...   \n",
       "2  [nanostructures, open, shell, transition, meta...   \n",
       "3  [star, fluid, inside, pressure, buoyancy, rota...   \n",
       "4  [deep, neural, perception, control, network, l...   \n",
       "\n",
       "                               Encoded & Padded Text  \n",
       "0  [140, 2, 1087, 2624, 7251, 3218, 2, 91, 725, 1...  \n",
       "1  [33, 57, 3, 112, 6777, 2771, 2, 2581, 68, 22, ...  \n",
       "2  [6594, 474, 2427, 144, 917, 769, 3430, 765, 23...  \n",
       "3  [126, 712, 2, 577, 6052, 899, 85, 39, 69, 7144...  \n",
       "4  [54, 49, 1674, 77, 7, 891, 295, 172, 503, 4, 3...  "
      ]
     },
     "execution_count": 12,
     "metadata": {},
     "output_type": "execute_result"
    }
   ],
   "source": [
    "text_data = pad_sequence([torch.tensor(seq) for seq in encoded_data], batch_first=True, padding_value=vocab['<pad>'])\n",
    "train_df['Encoded & Padded Text'] = text_data.tolist()\n",
    "train_df.head()"
   ]
  },
  {
   "cell_type": "markdown",
   "id": "64ef642c",
   "metadata": {
    "papermill": {
     "duration": 0.01543,
     "end_time": "2024-07-05T07:23:49.139045",
     "exception": false,
     "start_time": "2024-07-05T07:23:49.123615",
     "status": "completed"
    },
    "tags": []
   },
   "source": [
    "# Balancing an Imbalanced Dataset "
   ]
  },
  {
   "cell_type": "code",
   "execution_count": 13,
   "id": "9240115c",
   "metadata": {
    "execution": {
     "iopub.execute_input": "2024-07-05T07:23:49.171090Z",
     "iopub.status.busy": "2024-07-05T07:23:49.170748Z",
     "iopub.status.idle": "2024-07-05T07:23:49.235647Z",
     "shell.execute_reply": "2024-07-05T07:23:49.234804Z"
    },
    "papermill": {
     "duration": 0.083377,
     "end_time": "2024-07-05T07:23:49.237712",
     "exception": false,
     "start_time": "2024-07-05T07:23:49.154335",
     "status": "completed"
    },
    "tags": []
   },
   "outputs": [],
   "source": [
    "ros = RandomOverSampler(random_state=42)\n",
    "X_balanced_ml, y_balanced_ml = ros.fit_resample(train_df[['Preprocessed Text ML']], train_df[['Target']])"
   ]
  },
  {
   "cell_type": "code",
   "execution_count": 14,
   "id": "d4c24edd",
   "metadata": {
    "execution": {
     "iopub.execute_input": "2024-07-05T07:23:49.270212Z",
     "iopub.status.busy": "2024-07-05T07:23:49.269883Z",
     "iopub.status.idle": "2024-07-05T07:23:49.283461Z",
     "shell.execute_reply": "2024-07-05T07:23:49.282625Z"
    },
    "papermill": {
     "duration": 0.031766,
     "end_time": "2024-07-05T07:23:49.285448",
     "exception": false,
     "start_time": "2024-07-05T07:23:49.253682",
     "status": "completed"
    },
    "tags": []
   },
   "outputs": [
    {
     "data": {
      "text/html": [
       "<div>\n",
       "<style scoped>\n",
       "    .dataframe tbody tr th:only-of-type {\n",
       "        vertical-align: middle;\n",
       "    }\n",
       "\n",
       "    .dataframe tbody tr th {\n",
       "        vertical-align: top;\n",
       "    }\n",
       "\n",
       "    .dataframe thead th {\n",
       "        text-align: right;\n",
       "    }\n",
       "</style>\n",
       "<table border=\"1\" class=\"dataframe\">\n",
       "  <thead>\n",
       "    <tr style=\"text-align: right;\">\n",
       "      <th></th>\n",
       "      <th>Preprocessed Text</th>\n",
       "      <th>Target</th>\n",
       "    </tr>\n",
       "  </thead>\n",
       "  <tbody>\n",
       "    <tr>\n",
       "      <th>0</th>\n",
       "      <td>consider minimization stochastic functionals c...</td>\n",
       "      <td>Mathematics</td>\n",
       "    </tr>\n",
       "    <tr>\n",
       "      <th>1</th>\n",
       "      <td>network provide powerful formalism considering...</td>\n",
       "      <td>Computer Science</td>\n",
       "    </tr>\n",
       "    <tr>\n",
       "      <th>2</th>\n",
       "      <td>prove distance bound considering graph possess...</td>\n",
       "      <td>Mathematics</td>\n",
       "    </tr>\n",
       "    <tr>\n",
       "      <th>3</th>\n",
       "      <td>active hypothesis testing problem formulated i...</td>\n",
       "      <td>Computer Science</td>\n",
       "    </tr>\n",
       "    <tr>\n",
       "      <th>4</th>\n",
       "      <td>present work carry molecular dynamic simulatio...</td>\n",
       "      <td>Physics</td>\n",
       "    </tr>\n",
       "  </tbody>\n",
       "</table>\n",
       "</div>"
      ],
      "text/plain": [
       "                                   Preprocessed Text            Target\n",
       "0  consider minimization stochastic functionals c...       Mathematics\n",
       "1  network provide powerful formalism considering...  Computer Science\n",
       "2  prove distance bound considering graph possess...       Mathematics\n",
       "3  active hypothesis testing problem formulated i...  Computer Science\n",
       "4  present work carry molecular dynamic simulatio...           Physics"
      ]
     },
     "execution_count": 14,
     "metadata": {},
     "output_type": "execute_result"
    }
   ],
   "source": [
    "balanced_dict = {\n",
    "    'Preprocessed Text': X_balanced_ml.squeeze(),\n",
    "    'Target': y_balanced_ml.squeeze()\n",
    "}\n",
    "\n",
    "balanced_df_ml = pd.DataFrame(balanced_dict)\n",
    "balanced_df_ml = balanced_df_ml.sample(n=len(balanced_df_ml)).reset_index(drop=True)\n",
    "balanced_df_ml.head()"
   ]
  },
  {
   "cell_type": "code",
   "execution_count": 15,
   "id": "9c406de2",
   "metadata": {
    "execution": {
     "iopub.execute_input": "2024-07-05T07:23:49.317831Z",
     "iopub.status.busy": "2024-07-05T07:23:49.317537Z",
     "iopub.status.idle": "2024-07-05T07:23:49.347037Z",
     "shell.execute_reply": "2024-07-05T07:23:49.346215Z"
    },
    "papermill": {
     "duration": 0.047734,
     "end_time": "2024-07-05T07:23:49.348935",
     "exception": false,
     "start_time": "2024-07-05T07:23:49.301201",
     "status": "completed"
    },
    "tags": []
   },
   "outputs": [
    {
     "data": {
      "text/html": [
       "<div>\n",
       "<style scoped>\n",
       "    .dataframe tbody tr th:only-of-type {\n",
       "        vertical-align: middle;\n",
       "    }\n",
       "\n",
       "    .dataframe tbody tr th {\n",
       "        vertical-align: top;\n",
       "    }\n",
       "\n",
       "    .dataframe thead th {\n",
       "        text-align: right;\n",
       "    }\n",
       "</style>\n",
       "<table border=\"1\" class=\"dataframe\">\n",
       "  <thead>\n",
       "    <tr style=\"text-align: right;\">\n",
       "      <th></th>\n",
       "      <th>Preprocessed Text</th>\n",
       "      <th>Target</th>\n",
       "    </tr>\n",
       "  </thead>\n",
       "  <tbody>\n",
       "    <tr>\n",
       "      <th>0</th>\n",
       "      <td>[1484, 1168, 1899, 9998, 1713, 1303, 1787, 227...</td>\n",
       "      <td>2</td>\n",
       "    </tr>\n",
       "    <tr>\n",
       "      <th>1</th>\n",
       "      <td>[129, 28, 505, 9200, 3, 1551, 137, 492, 623, 1...</td>\n",
       "      <td>3</td>\n",
       "    </tr>\n",
       "    <tr>\n",
       "      <th>2</th>\n",
       "      <td>[427, 424, 15, 2407, 720, 9, 869, 19320, 212, ...</td>\n",
       "      <td>1</td>\n",
       "    </tr>\n",
       "    <tr>\n",
       "      <th>3</th>\n",
       "      <td>[472, 312, 6144, 1024, 387, 8375, 4247, 706, 4...</td>\n",
       "      <td>1</td>\n",
       "    </tr>\n",
       "    <tr>\n",
       "      <th>4</th>\n",
       "      <td>[275, 1019, 38, 3761, 174, 1904, 32, 790, 2, 3...</td>\n",
       "      <td>2</td>\n",
       "    </tr>\n",
       "  </tbody>\n",
       "</table>\n",
       "</div>"
      ],
      "text/plain": [
       "                                   Preprocessed Text  Target\n",
       "0  [1484, 1168, 1899, 9998, 1713, 1303, 1787, 227...       2\n",
       "1  [129, 28, 505, 9200, 3, 1551, 137, 492, 623, 1...       3\n",
       "2  [427, 424, 15, 2407, 720, 9, 869, 19320, 212, ...       1\n",
       "3  [472, 312, 6144, 1024, 387, 8375, 4247, 706, 4...       1\n",
       "4  [275, 1019, 38, 3761, 174, 1904, 32, 790, 2, 3...       2"
      ]
     },
     "execution_count": 15,
     "metadata": {},
     "output_type": "execute_result"
    }
   ],
   "source": [
    "X_balanced_dl, y_balanced_dl = ros.fit_resample(train_df[['Encoded & Padded Text']], train_df[['Target_Label']])\n",
    "\n",
    "balanced_dict = {\n",
    "    'Preprocessed Text': X_balanced_dl.squeeze(),\n",
    "    'Target': y_balanced_dl.squeeze()\n",
    "}\n",
    "\n",
    "balanced_df_dl = pd.DataFrame(balanced_dict)\n",
    "balanced_df_dl = balanced_df_dl.sample(n=len(balanced_df_dl)).reset_index(drop=True)\n",
    "balanced_df_dl.head()"
   ]
  },
  {
   "cell_type": "code",
   "execution_count": 16,
   "id": "978f8b0d",
   "metadata": {
    "execution": {
     "iopub.execute_input": "2024-07-05T07:23:49.428604Z",
     "iopub.status.busy": "2024-07-05T07:23:49.428224Z",
     "iopub.status.idle": "2024-07-05T07:23:57.878190Z",
     "shell.execute_reply": "2024-07-05T07:23:57.877370Z"
    },
    "papermill": {
     "duration": 8.469572,
     "end_time": "2024-07-05T07:23:57.880568",
     "exception": false,
     "start_time": "2024-07-05T07:23:49.410996",
     "status": "completed"
    },
    "tags": []
   },
   "outputs": [],
   "source": [
    "count_vect = CountVectorizer(ngram_range=(1, 2))        \n",
    "transformer = TfidfTransformer(norm='l2',sublinear_tf=True)\n",
    "\n",
    "counts = count_vect.fit_transform(balanced_df_ml['Preprocessed Text'])\n",
    "tfidf = transformer.fit_transform(counts)"
   ]
  },
  {
   "cell_type": "markdown",
   "id": "2e096950",
   "metadata": {
    "papermill": {
     "duration": 0.015902,
     "end_time": "2024-07-05T07:23:57.912855",
     "exception": false,
     "start_time": "2024-07-05T07:23:57.896953",
     "status": "completed"
    },
    "tags": []
   },
   "source": [
    "# Data Visualization"
   ]
  },
  {
   "cell_type": "code",
   "execution_count": 17,
   "id": "31e478bc",
   "metadata": {
    "execution": {
     "iopub.execute_input": "2024-07-05T07:23:57.949443Z",
     "iopub.status.busy": "2024-07-05T07:23:57.949056Z",
     "iopub.status.idle": "2024-07-05T07:23:58.875262Z",
     "shell.execute_reply": "2024-07-05T07:23:58.874316Z"
    },
    "papermill": {
     "duration": 0.945614,
     "end_time": "2024-07-05T07:23:58.877282",
     "exception": false,
     "start_time": "2024-07-05T07:23:57.931668",
     "status": "completed"
    },
    "tags": []
   },
   "outputs": [
    {
     "data": {
      "text/plain": [
       "<Axes: xlabel='Target', ylabel='count'>"
      ]
     },
     "execution_count": 17,
     "metadata": {},
     "output_type": "execute_result"
    },
    {
     "data": {
      "image/png": "[encoded data removed]",
      "text/plain": [
       "<Figure size 1000x550 with 2 Axes>"
      ]
     },
     "metadata": {},
     "output_type": "display_data"
    }
   ],
   "source": [
    "plt.rcParams[\"figure.figsize\"] = [10.00, 5.50]\n",
    "plt.rcParams[\"figure.autolayout\"] = True\n",
    "f, axes = plt.subplots(1, 2)\n",
    "sns.countplot(data=train_df, x='Target', ax=axes[0])\n",
    "sns.countplot(data=balanced_df_ml, x='Target', ax=axes[1])"
   ]
  },
  {
   "cell_type": "markdown",
   "id": "06dbb63a",
   "metadata": {
    "papermill": {
     "duration": 0.015833,
     "end_time": "2024-07-05T07:23:58.909552",
     "exception": false,
     "start_time": "2024-07-05T07:23:58.893719",
     "status": "completed"
    },
    "tags": []
   },
   "source": [
    "# Machine Learning with Scikit Learn"
   ]
  },
  {
   "cell_type": "code",
   "execution_count": 18,
   "id": "0af061f1",
   "metadata": {
    "execution": {
     "iopub.execute_input": "2024-07-05T07:23:58.942855Z",
     "iopub.status.busy": "2024-07-05T07:23:58.942538Z",
     "iopub.status.idle": "2024-07-05T07:23:58.946634Z",
     "shell.execute_reply": "2024-07-05T07:23:58.945800Z"
    },
    "papermill": {
     "duration": 0.023079,
     "end_time": "2024-07-05T07:23:58.948636",
     "exception": false,
     "start_time": "2024-07-05T07:23:58.925557",
     "status": "completed"
    },
    "tags": []
   },
   "outputs": [],
   "source": [
    "LABELS = ['Computer Science', 'Mathematics', 'Physics', 'Statistics']"
   ]
  },
  {
   "cell_type": "code",
   "execution_count": 19,
   "id": "c12d22e4",
   "metadata": {
    "execution": {
     "iopub.execute_input": "2024-07-05T07:23:58.982474Z",
     "iopub.status.busy": "2024-07-05T07:23:58.982113Z",
     "iopub.status.idle": "2024-07-05T07:23:59.001130Z",
     "shell.execute_reply": "2024-07-05T07:23:59.000370Z"
    },
    "papermill": {
     "duration": 0.038401,
     "end_time": "2024-07-05T07:23:59.003211",
     "exception": false,
     "start_time": "2024-07-05T07:23:58.964810",
     "status": "completed"
    },
    "tags": []
   },
   "outputs": [],
   "source": [
    "x_train, x_test, y_train, y_test = train_test_split(tfidf, balanced_df_ml['Target'], \n",
    "                                                    test_size=0.2, random_state=42)"
   ]
  },
  {
   "cell_type": "code",
   "execution_count": 20,
   "id": "a42fe830",
   "metadata": {
    "execution": {
     "iopub.execute_input": "2024-07-05T07:23:59.038334Z",
     "iopub.status.busy": "2024-07-05T07:23:59.037985Z",
     "iopub.status.idle": "2024-07-05T07:23:59.043364Z",
     "shell.execute_reply": "2024-07-05T07:23:59.042493Z"
    },
    "papermill": {
     "duration": 0.024789,
     "end_time": "2024-07-05T07:23:59.045320",
     "exception": false,
     "start_time": "2024-07-05T07:23:59.020531",
     "status": "completed"
    },
    "tags": []
   },
   "outputs": [],
   "source": [
    "def model_training(model, x_train, y_train, x_test, y_test):\n",
    "    \"\"\"\n",
    "    Trains the given model using the provided training data and evaluates it using the test data.\n",
    "\n",
    "    Args:\n",
    "        model: The machine learning model to be trained.\n",
    "        x_train: The training data features.\n",
    "        y_train: The training data labels.\n",
    "        x_test: The test data features.\n",
    "        y_test: The test data labels.\n",
    "\n",
    "    Returns:\n",
    "        array-like: The predicted labels for the test data.\n",
    "    \"\"\"\n",
    "    \n",
    "    model = model\n",
    "    model.fit(x_train, y_train)\n",
    "    y_pred = model.predict(x_test)\n",
    "    return y_pred"
   ]
  },
  {
   "cell_type": "code",
   "execution_count": 21,
   "id": "d3383266",
   "metadata": {
    "execution": {
     "iopub.execute_input": "2024-07-05T07:23:59.078874Z",
     "iopub.status.busy": "2024-07-05T07:23:59.078591Z",
     "iopub.status.idle": "2024-07-05T07:23:59.084242Z",
     "shell.execute_reply": "2024-07-05T07:23:59.083380Z"
    },
    "papermill": {
     "duration": 0.024623,
     "end_time": "2024-07-05T07:23:59.086221",
     "exception": false,
     "start_time": "2024-07-05T07:23:59.061598",
     "status": "completed"
    },
    "tags": []
   },
   "outputs": [],
   "source": [
    "def plot_confusion_matrix(y_true, y_pred, labels):\n",
    "    \"\"\"\n",
    "    Plots a confusion matrix using the true and predicted labels.\n",
    "\n",
    "    Args:\n",
    "        y_true (array-like): The true labels.\n",
    "        y_pred (array-like): The predicted labels.\n",
    "        labels (array-like): The list of labels to index the matrix.\n",
    "    \"\"\"\n",
    "    \n",
    "    cm = confusion_matrix(y_true, y_pred)\n",
    "    disp = ConfusionMatrixDisplay(confusion_matrix=cm, display_labels=labels)\n",
    "    disp.plot(cmap=plt.cm.Blues)\n",
    "    plt.title('Confusion Matrix')\n",
    "    plt.show()"
   ]
  },
  {
   "cell_type": "markdown",
   "id": "e58fe19f",
   "metadata": {
    "papermill": {
     "duration": 0.016081,
     "end_time": "2024-07-05T07:23:59.118643",
     "exception": false,
     "start_time": "2024-07-05T07:23:59.102562",
     "status": "completed"
    },
    "tags": []
   },
   "source": [
    "## Logistic Regression"
   ]
  },
  {
   "cell_type": "code",
   "execution_count": 22,
   "id": "75d44aa2",
   "metadata": {
    "execution": {
     "iopub.execute_input": "2024-07-05T07:23:59.153803Z",
     "iopub.status.busy": "2024-07-05T07:23:59.152965Z",
     "iopub.status.idle": "2024-07-05T07:24:14.636663Z",
     "shell.execute_reply": "2024-07-05T07:24:14.635673Z"
    },
    "papermill": {
     "duration": 15.503644,
     "end_time": "2024-07-05T07:24:14.638966",
     "exception": false,
     "start_time": "2024-07-05T07:23:59.135322",
     "status": "completed"
    },
    "tags": []
   },
   "outputs": [
    {
     "data": {
      "text/plain": [
       "0.9175870858113849"
      ]
     },
     "execution_count": 22,
     "metadata": {},
     "output_type": "execute_result"
    }
   ],
   "source": [
    "lr = LogisticRegression(C=1, max_iter=1000, n_jobs=-1, solver='newton-cg')\n",
    "y_pred_lr = model_training(model=lr, x_train=x_train, y_train=y_train, x_test=x_test, y_test=y_test)\n",
    "accuracy_score(y_test,y_pred_lr)"
   ]
  },
  {
   "cell_type": "code",
   "execution_count": 23,
   "id": "620a3f47",
   "metadata": {
    "execution": {
     "iopub.execute_input": "2024-07-05T07:24:14.674082Z",
     "iopub.status.busy": "2024-07-05T07:24:14.673458Z",
     "iopub.status.idle": "2024-07-05T07:24:15.086152Z",
     "shell.execute_reply": "2024-07-05T07:24:15.085216Z"
    },
    "papermill": {
     "duration": 0.432883,
     "end_time": "2024-07-05T07:24:15.088582",
     "exception": false,
     "start_time": "2024-07-05T07:24:14.655699",
     "status": "completed"
    },
    "tags": []
   },
   "outputs": [
    {
     "data": {
      "image/png": "[encoded data removed]",
      "text/plain": [
       "<Figure size 1000x550 with 2 Axes>"
      ]
     },
     "metadata": {},
     "output_type": "display_data"
    }
   ],
   "source": [
    "plot_confusion_matrix(y_test, y_pred_lr, LABELS)"
   ]
  },
  {
   "cell_type": "code",
   "execution_count": 24,
   "id": "a245446e",
   "metadata": {
    "execution": {
     "iopub.execute_input": "2024-07-05T07:24:15.125780Z",
     "iopub.status.busy": "2024-07-05T07:24:15.124993Z",
     "iopub.status.idle": "2024-07-05T07:24:15.339844Z",
     "shell.execute_reply": "2024-07-05T07:24:15.338779Z"
    },
    "papermill": {
     "duration": 0.23605,
     "end_time": "2024-07-05T07:24:15.342126",
     "exception": false,
     "start_time": "2024-07-05T07:24:15.106076",
     "status": "completed"
    },
    "tags": []
   },
   "outputs": [
    {
     "name": "stdout",
     "output_type": "stream",
     "text": [
      "                  precision    recall  f1-score   support\n",
      "\n",
      "Computer Science       0.90      0.83      0.86      1190\n",
      "     Mathematics       0.93      0.94      0.93      1158\n",
      "         Physics       0.99      0.97      0.98      1157\n",
      "      Statistics       0.87      0.93      0.90      1203\n",
      "\n",
      "        accuracy                           0.92      4708\n",
      "       macro avg       0.92      0.92      0.92      4708\n",
      "    weighted avg       0.92      0.92      0.92      4708\n",
      "\n"
     ]
    }
   ],
   "source": [
    "print(classification_report(y_test, y_pred_lr))"
   ]
  },
  {
   "cell_type": "markdown",
   "id": "7c678adb",
   "metadata": {
    "papermill": {
     "duration": 0.016933,
     "end_time": "2024-07-05T07:24:15.376700",
     "exception": false,
     "start_time": "2024-07-05T07:24:15.359767",
     "status": "completed"
    },
    "tags": []
   },
   "source": [
    "## Multinomial Naive Bayes"
   ]
  },
  {
   "cell_type": "code",
   "execution_count": 25,
   "id": "5ad784ba",
   "metadata": {
    "execution": {
     "iopub.execute_input": "2024-07-05T07:24:15.412395Z",
     "iopub.status.busy": "2024-07-05T07:24:15.411967Z",
     "iopub.status.idle": "2024-07-05T07:24:15.639258Z",
     "shell.execute_reply": "2024-07-05T07:24:15.638215Z"
    },
    "papermill": {
     "duration": 0.247381,
     "end_time": "2024-07-05T07:24:15.641398",
     "exception": false,
     "start_time": "2024-07-05T07:24:15.394017",
     "status": "completed"
    },
    "tags": []
   },
   "outputs": [
    {
     "data": {
      "text/plain": [
       "0.8740441801189465"
      ]
     },
     "execution_count": 25,
     "metadata": {},
     "output_type": "execute_result"
    }
   ],
   "source": [
    "nb = MultinomialNB(alpha=0.8)\n",
    "y_pred_nb = model_training(model=nb, x_train=x_train, y_train=y_train, x_test=x_test, y_test=y_test)\n",
    "accuracy_score(y_test,y_pred_nb)"
   ]
  },
  {
   "cell_type": "code",
   "execution_count": 26,
   "id": "e235496c",
   "metadata": {
    "execution": {
     "iopub.execute_input": "2024-07-05T07:24:15.678732Z",
     "iopub.status.busy": "2024-07-05T07:24:15.678391Z",
     "iopub.status.idle": "2024-07-05T07:24:16.071449Z",
     "shell.execute_reply": "2024-07-05T07:24:16.070601Z"
    },
    "papermill": {
     "duration": 0.414479,
     "end_time": "2024-07-05T07:24:16.073859",
     "exception": false,
     "start_time": "2024-07-05T07:24:15.659380",
     "status": "completed"
    },
    "tags": []
   },
   "outputs": [
    {
     "data": {
      "image/png": "[encoded data removed]",
      "text/plain": [
       "<Figure size 1000x550 with 2 Axes>"
      ]
     },
     "metadata": {},
     "output_type": "display_data"
    }
   ],
   "source": [
    "plot_confusion_matrix(y_test, y_pred_nb, LABELS)"
   ]
  },
  {
   "cell_type": "code",
   "execution_count": 27,
   "id": "084c3b24",
   "metadata": {
    "execution": {
     "iopub.execute_input": "2024-07-05T07:24:16.111935Z",
     "iopub.status.busy": "2024-07-05T07:24:16.111342Z",
     "iopub.status.idle": "2024-07-05T07:24:16.251762Z",
     "shell.execute_reply": "2024-07-05T07:24:16.250697Z"
    },
    "papermill": {
     "duration": 0.161658,
     "end_time": "2024-07-05T07:24:16.253897",
     "exception": false,
     "start_time": "2024-07-05T07:24:16.092239",
     "status": "completed"
    },
    "tags": []
   },
   "outputs": [
    {
     "name": "stdout",
     "output_type": "stream",
     "text": [
      "                  precision    recall  f1-score   support\n",
      "\n",
      "Computer Science       0.93      0.68      0.79      1190\n",
      "     Mathematics       0.95      0.87      0.91      1158\n",
      "         Physics       0.99      0.96      0.97      1157\n",
      "      Statistics       0.72      0.98      0.83      1203\n",
      "\n",
      "        accuracy                           0.87      4708\n",
      "       macro avg       0.90      0.87      0.88      4708\n",
      "    weighted avg       0.89      0.87      0.87      4708\n",
      "\n"
     ]
    }
   ],
   "source": [
    "print(classification_report(y_test, y_pred_nb, zero_division=0))"
   ]
  },
  {
   "cell_type": "markdown",
   "id": "ab86fd42",
   "metadata": {
    "papermill": {
     "duration": 0.017476,
     "end_time": "2024-07-05T07:24:16.290323",
     "exception": false,
     "start_time": "2024-07-05T07:24:16.272847",
     "status": "completed"
    },
    "tags": []
   },
   "source": [
    "# Deep Learning with PyTorch"
   ]
  },
  {
   "cell_type": "markdown",
   "id": "4d6411a3",
   "metadata": {
    "papermill": {
     "duration": 0.017459,
     "end_time": "2024-07-05T07:24:16.325642",
     "exception": false,
     "start_time": "2024-07-05T07:24:16.308183",
     "status": "completed"
    },
    "tags": []
   },
   "source": [
    "## Model Preparation"
   ]
  },
  {
   "cell_type": "code",
   "execution_count": 28,
   "id": "10abffe0",
   "metadata": {
    "execution": {
     "iopub.execute_input": "2024-07-05T07:24:16.364049Z",
     "iopub.status.busy": "2024-07-05T07:24:16.363195Z",
     "iopub.status.idle": "2024-07-05T07:24:16.370019Z",
     "shell.execute_reply": "2024-07-05T07:24:16.369114Z"
    },
    "papermill": {
     "duration": 0.02832,
     "end_time": "2024-07-05T07:24:16.371980",
     "exception": false,
     "start_time": "2024-07-05T07:24:16.343660",
     "status": "completed"
    },
    "tags": []
   },
   "outputs": [],
   "source": [
    "class TextDataset(Dataset):\n",
    "    \"\"\"\n",
    "    A custom dataset class for text data.\n",
    "\n",
    "    Args:\n",
    "        texts (list of list of int): A list of tokenized texts, where each text is a list of token IDs.\n",
    "        labels (list of int): A list of labels corresponding to the texts.\n",
    "    \"\"\"\n",
    "    \n",
    "    def __init__(self, texts, labels):\n",
    "        self.texts = texts\n",
    "        self.labels = labels\n",
    "        \n",
    "    def __len__(self):\n",
    "        \"\"\"Returns the number of samples in the dataset.\"\"\"\n",
    "        return len(self.texts)\n",
    "    \n",
    "    def __getitem__(self, idx):\n",
    "        \"\"\"Retrieves the sample and label at the given index.\"\"\"\n",
    "        return torch.tensor(self.texts[idx], dtype=torch.long), torch.tensor(self.labels[idx], dtype=torch.long)"
   ]
  },
  {
   "cell_type": "code",
   "execution_count": 29,
   "id": "711df130",
   "metadata": {
    "execution": {
     "iopub.execute_input": "2024-07-05T07:24:16.410950Z",
     "iopub.status.busy": "2024-07-05T07:24:16.410125Z",
     "iopub.status.idle": "2024-07-05T07:24:19.327619Z",
     "shell.execute_reply": "2024-07-05T07:24:19.326780Z"
    },
    "papermill": {
     "duration": 2.939423,
     "end_time": "2024-07-05T07:24:19.329977",
     "exception": false,
     "start_time": "2024-07-05T07:24:16.390554",
     "status": "completed"
    },
    "tags": []
   },
   "outputs": [],
   "source": [
    "text_data = torch.tensor(balanced_df_dl['Preprocessed Text'].values.tolist())\n",
    "target = torch.tensor(balanced_df_dl['Target'].values)\n",
    "X, y = text_data, target"
   ]
  },
  {
   "cell_type": "code",
   "execution_count": 30,
   "id": "cd4753b3",
   "metadata": {
    "execution": {
     "iopub.execute_input": "2024-07-05T07:24:19.369345Z",
     "iopub.status.busy": "2024-07-05T07:24:19.368976Z",
     "iopub.status.idle": "2024-07-05T07:24:19.591717Z",
     "shell.execute_reply": "2024-07-05T07:24:19.590673Z"
    },
    "papermill": {
     "duration": 0.245107,
     "end_time": "2024-07-05T07:24:19.594131",
     "exception": false,
     "start_time": "2024-07-05T07:24:19.349024",
     "status": "completed"
    },
    "tags": []
   },
   "outputs": [],
   "source": [
    "X_train, X_test, y_train, y_test = train_test_split(X, y, test_size=0.2, random_state=42)\n",
    "X_train, X_test, y_train, y_test = X_train.to(device), X_test.to(device), y_train.to(device), y_test.to(device)"
   ]
  },
  {
   "cell_type": "code",
   "execution_count": 31,
   "id": "f8cc46f4",
   "metadata": {
    "execution": {
     "iopub.execute_input": "2024-07-05T07:24:19.632962Z",
     "iopub.status.busy": "2024-07-05T07:24:19.632322Z",
     "iopub.status.idle": "2024-07-05T07:24:19.636721Z",
     "shell.execute_reply": "2024-07-05T07:24:19.635826Z"
    },
    "papermill": {
     "duration": 0.025992,
     "end_time": "2024-07-05T07:24:19.638818",
     "exception": false,
     "start_time": "2024-07-05T07:24:19.612826",
     "status": "completed"
    },
    "tags": []
   },
   "outputs": [],
   "source": [
    "train_dataset = TextDataset(X_train, y_train)\n",
    "test_dataset = TextDataset(X_test, y_test)"
   ]
  },
  {
   "cell_type": "code",
   "execution_count": 32,
   "id": "256a553b",
   "metadata": {
    "execution": {
     "iopub.execute_input": "2024-07-05T07:24:19.678212Z",
     "iopub.status.busy": "2024-07-05T07:24:19.677571Z",
     "iopub.status.idle": "2024-07-05T07:24:19.683615Z",
     "shell.execute_reply": "2024-07-05T07:24:19.682659Z"
    },
    "papermill": {
     "duration": 0.027774,
     "end_time": "2024-07-05T07:24:19.685579",
     "exception": false,
     "start_time": "2024-07-05T07:24:19.657805",
     "status": "completed"
    },
    "tags": []
   },
   "outputs": [],
   "source": [
    "train_loader = DataLoader(train_dataset, batch_size=256, shuffle=True)\n",
    "test_loader = DataLoader(test_dataset, batch_size=256, shuffle=True)"
   ]
  },
  {
   "cell_type": "markdown",
   "id": "d868c3a8",
   "metadata": {
    "papermill": {
     "duration": 0.018149,
     "end_time": "2024-07-05T07:24:19.722261",
     "exception": false,
     "start_time": "2024-07-05T07:24:19.704112",
     "status": "completed"
    },
    "tags": []
   },
   "source": [
    "## Model Building"
   ]
  },
  {
   "cell_type": "code",
   "execution_count": 33,
   "id": "713e2137",
   "metadata": {
    "execution": {
     "iopub.execute_input": "2024-07-05T07:24:19.761197Z",
     "iopub.status.busy": "2024-07-05T07:24:19.760428Z",
     "iopub.status.idle": "2024-07-05T07:24:19.770942Z",
     "shell.execute_reply": "2024-07-05T07:24:19.769961Z"
    },
    "papermill": {
     "duration": 0.032232,
     "end_time": "2024-07-05T07:24:19.773041",
     "exception": false,
     "start_time": "2024-07-05T07:24:19.740809",
     "status": "completed"
    },
    "tags": []
   },
   "outputs": [],
   "source": [
    "class TextClassifier(nn.Module):\n",
    "    \n",
    "    \"\"\"\n",
    "    A text classification model using an embedding layer, a bidirectional LSTM, and a linear layer.\n",
    "\n",
    "    Args:\n",
    "        vocab_size (int): The size of the vocabulary.\n",
    "        embed_dim (int): The dimensionality of the embeddings.\n",
    "        hidden_dim (int): The number of features in the hidden state of the LSTM.\n",
    "        output_dim (int): The number of output classes.\n",
    "    \"\"\"\n",
    "    \n",
    "    def __init__(self, vocab_size:int, embed_dim:int, hidden_dim:int, output_dim:int):\n",
    "        super(TextClassifier, self).__init__()\n",
    "        \n",
    "        self.embedding = nn.Embedding(num_embeddings=vocab_size, embedding_dim=embed_dim, padding_idx=0)\n",
    "        \n",
    "        self.lstm = nn.LSTM(input_size=embed_dim, hidden_size=embed_dim, dropout=0.5, \n",
    "                            bidirectional=True, batch_first=True, num_layers=2)\n",
    "        \n",
    "        self.linear = nn.Linear(in_features=embed_dim * 2, out_features=output_dim)\n",
    "        self.dropout = nn.Dropout(0.5)\n",
    "        \n",
    "    def forward(self, x):\n",
    "        \"\"\"Forward pass of the model.\"\"\"\n",
    "        \n",
    "        embedded = self.dropout(self.embedding(x))\n",
    "        lstm_out, (hidden, cell) = self.lstm(embedded)\n",
    "        hidden = self.dropout(torch.cat((hidden[-2,:,:], hidden[-1,:,:]), dim=1))\n",
    "        output = self.linear(hidden)\n",
    "        return output"
   ]
  },
  {
   "cell_type": "code",
   "execution_count": 34,
   "id": "8c77bc94",
   "metadata": {
    "execution": {
     "iopub.execute_input": "2024-07-05T07:24:19.812979Z",
     "iopub.status.busy": "2024-07-05T07:24:19.812081Z",
     "iopub.status.idle": "2024-07-05T07:24:19.817111Z",
     "shell.execute_reply": "2024-07-05T07:24:19.816207Z"
    },
    "papermill": {
     "duration": 0.027037,
     "end_time": "2024-07-05T07:24:19.819107",
     "exception": false,
     "start_time": "2024-07-05T07:24:19.792070",
     "status": "completed"
    },
    "tags": []
   },
   "outputs": [],
   "source": [
    "# Hyperparameters\n",
    "VOCAB_SIZE = len(vocab)\n",
    "EMBED_DIM = 100\n",
    "HIDDEN_DIM = 128\n",
    "OUTPUT_DIM = 4\n",
    "\n",
    "EPOCHS = 15"
   ]
  },
  {
   "cell_type": "code",
   "execution_count": 35,
   "id": "dba5afd7",
   "metadata": {
    "execution": {
     "iopub.execute_input": "2024-07-05T07:24:19.858307Z",
     "iopub.status.busy": "2024-07-05T07:24:19.857410Z",
     "iopub.status.idle": "2024-07-05T07:24:20.824046Z",
     "shell.execute_reply": "2024-07-05T07:24:20.823024Z"
    },
    "papermill": {
     "duration": 0.988611,
     "end_time": "2024-07-05T07:24:20.826410",
     "exception": false,
     "start_time": "2024-07-05T07:24:19.837799",
     "status": "completed"
    },
    "tags": []
   },
   "outputs": [],
   "source": [
    "model = TextClassifier(vocab_size=VOCAB_SIZE, embed_dim=EMBED_DIM, \n",
    "                       hidden_dim=HIDDEN_DIM, output_dim=OUTPUT_DIM).to(device)\n",
    "\n",
    "loss_fn = nn.CrossEntropyLoss()\n",
    "optimizer = optim.Adam(model.parameters())"
   ]
  },
  {
   "cell_type": "markdown",
   "id": "856ae9b1",
   "metadata": {
    "papermill": {
     "duration": 0.017903,
     "end_time": "2024-07-05T07:24:20.862749",
     "exception": false,
     "start_time": "2024-07-05T07:24:20.844846",
     "status": "completed"
    },
    "tags": []
   },
   "source": [
    "## Model Training"
   ]
  },
  {
   "cell_type": "code",
   "execution_count": 36,
   "id": "c6ca530f",
   "metadata": {
    "execution": {
     "iopub.execute_input": "2024-07-05T07:24:20.901307Z",
     "iopub.status.busy": "2024-07-05T07:24:20.900324Z",
     "iopub.status.idle": "2024-07-05T07:27:09.301793Z",
     "shell.execute_reply": "2024-07-05T07:27:09.300710Z"
    },
    "papermill": {
     "duration": 168.442122,
     "end_time": "2024-07-05T07:27:09.322981",
     "exception": false,
     "start_time": "2024-07-05T07:24:20.880859",
     "status": "completed"
    },
    "tags": []
   },
   "outputs": [
    {
     "name": "stderr",
     "output_type": "stream",
     "text": [
      "/tmp/ipykernel_24/3154785326.py:20: UserWarning: To copy construct from a tensor, it is recommended to use sourceTensor.clone().detach() or sourceTensor.clone().detach().requires_grad_(True), rather than torch.tensor(sourceTensor).\n",
      "  return torch.tensor(self.texts[idx], dtype=torch.long), torch.tensor(self.labels[idx], dtype=torch.long)\n"
     ]
    },
    {
     "name": "stdout",
     "output_type": "stream",
     "text": [
      "Epoch [1/15], Loss: 0.8690\n",
      "Epoch [2/15], Loss: 0.7618\n",
      "Epoch [3/15], Loss: 0.7244\n",
      "Epoch [4/15], Loss: 0.5844\n",
      "Epoch [5/15], Loss: 0.6637\n",
      "Epoch [6/15], Loss: 0.5454\n",
      "Epoch [7/15], Loss: 0.5895\n",
      "Epoch [8/15], Loss: 0.4476\n",
      "Epoch [9/15], Loss: 0.4245\n",
      "Epoch [10/15], Loss: 0.4551\n",
      "Epoch [11/15], Loss: 0.4672\n",
      "Epoch [12/15], Loss: 0.3828\n",
      "Epoch [13/15], Loss: 0.5248\n",
      "Epoch [14/15], Loss: 0.4411\n",
      "Epoch [15/15], Loss: 0.4565\n"
     ]
    }
   ],
   "source": [
    "torch.manual_seed(42)\n",
    "torch.cuda.manual_seed(42)\n",
    "\n",
    "for epoch in range(EPOCHS):\n",
    "    model.train()\n",
    "    \n",
    "    for texts, labels in train_loader:\n",
    "        output_logits = model(texts)\n",
    "        loss = loss_fn(output_logits, labels)\n",
    "        optimizer.zero_grad()\n",
    "        loss.backward()\n",
    "        optimizer.step()\n",
    "        \n",
    "    print(f'Epoch [{epoch+1}/{EPOCHS}], Loss: {loss.item():.4f}')"
   ]
  },
  {
   "cell_type": "markdown",
   "id": "4f525900",
   "metadata": {
    "papermill": {
     "duration": 0.019456,
     "end_time": "2024-07-05T07:27:09.362208",
     "exception": false,
     "start_time": "2024-07-05T07:27:09.342752",
     "status": "completed"
    },
    "tags": []
   },
   "source": [
    "## Model Testing"
   ]
  },
  {
   "cell_type": "code",
   "execution_count": 37,
   "id": "2ea1aa4f",
   "metadata": {
    "execution": {
     "iopub.execute_input": "2024-07-05T07:27:09.403779Z",
     "iopub.status.busy": "2024-07-05T07:27:09.402896Z",
     "iopub.status.idle": "2024-07-05T07:27:10.193615Z",
     "shell.execute_reply": "2024-07-05T07:27:10.192606Z"
    },
    "papermill": {
     "duration": 0.814132,
     "end_time": "2024-07-05T07:27:10.196071",
     "exception": false,
     "start_time": "2024-07-05T07:27:09.381939",
     "status": "completed"
    },
    "tags": []
   },
   "outputs": [
    {
     "name": "stderr",
     "output_type": "stream",
     "text": [
      "/tmp/ipykernel_24/3154785326.py:20: UserWarning: To copy construct from a tensor, it is recommended to use sourceTensor.clone().detach() or sourceTensor.clone().detach().requires_grad_(True), rather than torch.tensor(sourceTensor).\n",
      "  return torch.tensor(self.texts[idx], dtype=torch.long), torch.tensor(self.labels[idx], dtype=torch.long)\n"
     ]
    }
   ],
   "source": [
    "model.eval()\n",
    "with torch.inference_mode():\n",
    "    for texts, labels in test_loader:\n",
    "        output_logits = model(texts)\n",
    "        output = torch.softmax(output_logits, dim=1).argmax(dim=1)"
   ]
  },
  {
   "cell_type": "markdown",
   "id": "774437e6",
   "metadata": {
    "papermill": {
     "duration": 0.018804,
     "end_time": "2024-07-05T07:27:10.234516",
     "exception": false,
     "start_time": "2024-07-05T07:27:10.215712",
     "status": "completed"
    },
    "tags": []
   },
   "source": [
    "## Evaluation"
   ]
  },
  {
   "cell_type": "code",
   "execution_count": 38,
   "id": "bd364ee3",
   "metadata": {
    "execution": {
     "iopub.execute_input": "2024-07-05T07:27:10.274525Z",
     "iopub.status.busy": "2024-07-05T07:27:10.274185Z",
     "iopub.status.idle": "2024-07-05T07:27:10.673213Z",
     "shell.execute_reply": "2024-07-05T07:27:10.672318Z"
    },
    "papermill": {
     "duration": 0.421617,
     "end_time": "2024-07-05T07:27:10.675556",
     "exception": false,
     "start_time": "2024-07-05T07:27:10.253939",
     "status": "completed"
    },
    "tags": []
   },
   "outputs": [
    {
     "data": {
      "image/png": "[encoded data removed]",
      "text/plain": [
       "<Figure size 1000x550 with 2 Axes>"
      ]
     },
     "metadata": {},
     "output_type": "display_data"
    }
   ],
   "source": [
    "plot_confusion_matrix(labels.to('cpu'), output.to('cpu'), LABELS)"
   ]
  },
  {
   "cell_type": "code",
   "execution_count": 39,
   "id": "66048981",
   "metadata": {
    "execution": {
     "iopub.execute_input": "2024-07-05T07:27:10.716689Z",
     "iopub.status.busy": "2024-07-05T07:27:10.716351Z",
     "iopub.status.idle": "2024-07-05T07:27:10.729063Z",
     "shell.execute_reply": "2024-07-05T07:27:10.728004Z"
    },
    "papermill": {
     "duration": 0.035316,
     "end_time": "2024-07-05T07:27:10.730950",
     "exception": false,
     "start_time": "2024-07-05T07:27:10.695634",
     "status": "completed"
    },
    "tags": []
   },
   "outputs": [
    {
     "name": "stdout",
     "output_type": "stream",
     "text": [
      "              precision    recall  f1-score   support\n",
      "\n",
      "           0       0.88      0.67      0.76        21\n",
      "           1       0.88      0.85      0.86        26\n",
      "           2       1.00      0.92      0.96        24\n",
      "           3       0.73      0.93      0.82        29\n",
      "\n",
      "    accuracy                           0.85       100\n",
      "   macro avg       0.87      0.84      0.85       100\n",
      "weighted avg       0.86      0.85      0.85       100\n",
      "\n"
     ]
    }
   ],
   "source": [
    "print(classification_report(labels.to('cpu'), output.to('cpu')))"
   ]
  },
  {
   "cell_type": "markdown",
   "id": "3dfd2dff",
   "metadata": {
    "papermill": {
     "duration": 0.019806,
     "end_time": "2024-07-05T07:27:10.770936",
     "exception": false,
     "start_time": "2024-07-05T07:27:10.751130",
     "status": "completed"
    },
    "tags": []
   },
   "source": [
    "# Example "
   ]
  },
  {
   "cell_type": "code",
   "execution_count": 40,
   "id": "ead04f78",
   "metadata": {
    "execution": {
     "iopub.execute_input": "2024-07-05T07:27:10.813568Z",
     "iopub.status.busy": "2024-07-05T07:27:10.812726Z",
     "iopub.status.idle": "2024-07-05T07:27:10.818354Z",
     "shell.execute_reply": "2024-07-05T07:27:10.817477Z"
    },
    "papermill": {
     "duration": 0.029084,
     "end_time": "2024-07-05T07:27:10.820302",
     "exception": false,
     "start_time": "2024-07-05T07:27:10.791218",
     "status": "completed"
    },
    "tags": []
   },
   "outputs": [],
   "source": [
    "example_text = \"stars are self-gravitating fluids inside which pressure, buoyancy, rotation and magnetic fields provide \"\\\n",
    "\"a restoring forces considering global modes of oscillation. pressure and buoyancy energetically dominate, while rotation and magnetism \" \\\n",
    "\"are generally assumed to be weak perturbations and often ignored. however, observations of anomalously weak dipole mode amplitudes inside \"\\\n",
    "\"red giant stars suggest that the substantial fraction of these are subject to an additional source of damping localised to their core region, \"\\\n",
    "\"with indirect evidence pointing to a role of the deeply buried magnetic field. it was also known that inside many instances a gravity-mode character \"\\\n",
    "\"of affected modes was preserved, but so far no effective damping mechanism has been proposed that accommodates this aspect. here we present such the mechanism, \"\\\n",
    "\"which damps a oscillations of stars harbouring magnetised cores using resonant interactions with standing alfvén modes of high harmonic index. a damping rates \"\\\n",
    "\"produced by this mechanism are quantitatively on par with those associated with turbulent convection, and inside a range required to explain observations, considering \"\\\n",
    "\"realistic stellar models and magnetic field strengths. our results suggest that magnetic fields should provide an efficient means of damping stellar oscillations without \"\\\n",
    "\"needing to disrupt a internal structure of a modes, and lay a groundwork considering an extension of a theory of global stellar oscillations that incorporates these effects.\"\n",
    "\n",
    "example_target = 'Physics'\n",
    "example_label = 2"
   ]
  },
  {
   "cell_type": "code",
   "execution_count": 41,
   "id": "0f67bb88",
   "metadata": {
    "execution": {
     "iopub.execute_input": "2024-07-05T07:27:10.861232Z",
     "iopub.status.busy": "2024-07-05T07:27:10.860892Z",
     "iopub.status.idle": "2024-07-05T07:27:10.875901Z",
     "shell.execute_reply": "2024-07-05T07:27:10.875009Z"
    },
    "papermill": {
     "duration": 0.037702,
     "end_time": "2024-07-05T07:27:10.877741",
     "exception": false,
     "start_time": "2024-07-05T07:27:10.840039",
     "status": "completed"
    },
    "tags": []
   },
   "outputs": [
    {
     "data": {
      "text/plain": [
       "tensor([[  126,   712,     2,   577,  6052,   899,    85,    39,    69,  7144,\n",
       "           865,     3,   258,   368,  1361,   577,  6052,  5203,  4067,   899,\n",
       "          2272,   929,  1369,   547,   548,   233,  4080,    59,    92,  7223,\n",
       "           547,  2458,   368,  1059,     2,  1999,  1168,   126,   611,  1407,\n",
       "           686,   808,   476,   131,  2352,  7390,   562,   164,  2474,   556,\n",
       "          4174,   461,  5451,  6717,    85,    39,    16,   153,     2,    91,\n",
       "           564,  1012,  1706,   368,  3172,   821,   236,  2352,   265,    22,\n",
       "          6691,   725,    26,   265,  9910,  1361,   126,     1, 14870,   562,\n",
       "           202,  2366,   102,  6413,  8444,   368,    74,  1487,   689,  2352,\n",
       "            79,  1250,   265,  2231,  4912,   270,  1329,  2651,     2,   169,\n",
       "           539,   908,    92,     3,   955,   321,     4,    85,    39,   764,\n",
       "             8,   611,    85,    39,    69,   175,   187,  2352,   321,  1361,\n",
       "           167,  6837,  9147,  1262,    30,   368,  6130, 12453,     3,   588,\n",
       "            80,   258,   321,  1361,  2067,    70]], device='cuda:0')"
      ]
     },
     "execution_count": 41,
     "metadata": {},
     "output_type": "execute_result"
    }
   ],
   "source": [
    "encoded_text = encode(preprocess_text(text=example_text, ml=False))\n",
    "encoded_text = torch.unsqueeze(torch.tensor(encoded_text).to(device), 0)\n",
    "encoded_text"
   ]
  },
  {
   "cell_type": "code",
   "execution_count": 42,
   "id": "b4c5715a",
   "metadata": {
    "execution": {
     "iopub.execute_input": "2024-07-05T07:27:10.919553Z",
     "iopub.status.busy": "2024-07-05T07:27:10.919189Z",
     "iopub.status.idle": "2024-07-05T07:27:10.957549Z",
     "shell.execute_reply": "2024-07-05T07:27:10.956681Z"
    },
    "papermill": {
     "duration": 0.061359,
     "end_time": "2024-07-05T07:27:10.959634",
     "exception": false,
     "start_time": "2024-07-05T07:27:10.898275",
     "status": "completed"
    },
    "tags": []
   },
   "outputs": [
    {
     "data": {
      "text/plain": [
       "tensor([True], device='cuda:0')"
      ]
     },
     "execution_count": 42,
     "metadata": {},
     "output_type": "execute_result"
    }
   ],
   "source": [
    "model.eval()\n",
    "with torch.inference_mode():\n",
    "    output_logits = model(encoded_text)\n",
    "    output = torch.softmax(output_logits, dim=1).argmax(dim=1)\n",
    "    \n",
    "output == example_label"
   ]
  }
 ],
 "metadata": {
  "kaggle": {
   "accelerator": "gpu",
   "dataSources": [
    {
     "datasetId": 932025,
     "sourceId": 2994327,
     "sourceType": "datasetVersion"
    }
   ],
   "dockerImageVersionId": 30732,
   "isGpuEnabled": true,
   "isInternetEnabled": true,
   "language": "python",
   "sourceType": "notebook"
  },
  "kernelspec": {
   "display_name": "Python 3",
   "language": "python",
   "name": "python3"
  },
  "language_info": {
   "codemirror_mode": {
    "name": "ipython",
    "version": 3
   },
   "file_extension": ".py",
   "mimetype": "text/x-python",
   "name": "python",
   "nbconvert_exporter": "python",
   "pygments_lexer": "ipython3",
   "version": "3.10.13"
  },
  "papermill": {
   "default_parameters": {},
   "duration": 298.175103,
   "end_time": "2024-07-05T07:27:13.700830",
   "environment_variables": {},
   "exception": null,
   "input_path": "__notebook__.ipynb",
   "output_path": "__notebook__.ipynb",
   "parameters": {},
   "start_time": "2024-07-05T07:22:15.525727",
   "version": "2.5.0"
  }
 },
 "nbformat": 4,
 "nbformat_minor": 5
}
