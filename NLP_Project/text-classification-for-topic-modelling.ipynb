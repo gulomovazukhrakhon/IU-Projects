{
 "cells": [
  {
   "cell_type": "markdown",
   "id": "a12de167",
   "metadata": {
    "papermill": {
     "duration": 0.014624,
     "end_time": "2024-07-13T13:40:32.097959",
     "exception": false,
     "start_time": "2024-07-13T13:40:32.083335",
     "status": "completed"
    },
    "tags": []
   },
   "source": [
    "# Text Classification for Topic Modelling"
   ]
  },
  {
   "cell_type": "markdown",
   "id": "2e0b10d8",
   "metadata": {
    "papermill": {
     "duration": 0.014135,
     "end_time": "2024-07-13T13:40:32.126572",
     "exception": false,
     "start_time": "2024-07-13T13:40:32.112437",
     "status": "completed"
    },
    "tags": []
   },
   "source": [
    "## Notebook Imports"
   ]
  },
  {
   "cell_type": "code",
   "execution_count": 1,
   "id": "cb91c642",
   "metadata": {
    "_cell_guid": "b1076dfc-b9ad-4769-8c92-a6c4dae69d19",
    "_uuid": "8f2839f25d086af736a60e9eeb907d3b93b6e0e5",
    "execution": {
     "iopub.execute_input": "2024-07-13T13:40:32.157040Z",
     "iopub.status.busy": "2024-07-13T13:40:32.156725Z",
     "iopub.status.idle": "2024-07-13T13:40:40.260974Z",
     "shell.execute_reply": "2024-07-13T13:40:40.260150Z"
    },
    "papermill": {
     "duration": 8.122697,
     "end_time": "2024-07-13T13:40:40.263336",
     "exception": false,
     "start_time": "2024-07-13T13:40:32.140639",
     "status": "completed"
    },
    "tags": []
   },
   "outputs": [],
   "source": [
    "# NLTK\n",
    "import nltk\n",
    "from nltk.corpus import stopwords\n",
    "from nltk.stem import WordNetLemmatizer\n",
    "from nltk.tokenize import word_tokenize\n",
    "\n",
    "# Sklearn\n",
    "import sklearn\n",
    "from sklearn.naive_bayes import MultinomialNB\n",
    "from sklearn.preprocessing import LabelEncoder\n",
    "from sklearn.ensemble import RandomForestClassifier\n",
    "from sklearn.linear_model import LogisticRegression\n",
    "from sklearn.model_selection import train_test_split\n",
    "from sklearn.feature_extraction.text import CountVectorizer, TfidfTransformer\n",
    "from sklearn.metrics import accuracy_score, classification_report, confusion_matrix, ConfusionMatrixDisplay\n",
    "\n",
    "# Imblearn\n",
    "import imblearn\n",
    "from imblearn.over_sampling import RandomOverSampler\n",
    "\n",
    "# PyTorch\n",
    "import torch\n",
    "import torch.nn as nn\n",
    "import torch.optim as optim\n",
    "from torch.nn.utils.rnn import pad_sequence\n",
    "from torch.utils.data import DataLoader, Dataset\n",
    "from torchtext.vocab import build_vocab_from_iterator\n",
    "\n",
    "# Other\n",
    "import numpy as np\n",
    "import pandas as pd\n",
    "import seaborn as sns\n",
    "import matplotlib.pyplot as plt\n",
    "\n",
    "from tqdm.auto import tqdm\n",
    "\n",
    "%matplotlib inline"
   ]
  },
  {
   "cell_type": "code",
   "execution_count": 2,
   "id": "5199ae0c",
   "metadata": {
    "execution": {
     "iopub.execute_input": "2024-07-13T13:40:40.293593Z",
     "iopub.status.busy": "2024-07-13T13:40:40.293088Z",
     "iopub.status.idle": "2024-07-13T13:40:40.297284Z",
     "shell.execute_reply": "2024-07-13T13:40:40.296428Z"
    },
    "papermill": {
     "duration": 0.021233,
     "end_time": "2024-07-13T13:40:40.299199",
     "exception": false,
     "start_time": "2024-07-13T13:40:40.277966",
     "status": "completed"
    },
    "tags": []
   },
   "outputs": [],
   "source": [
    "import warnings\n",
    "warnings.filterwarnings('ignore')"
   ]
  },
  {
   "cell_type": "code",
   "execution_count": 3,
   "id": "3f46133e",
   "metadata": {
    "execution": {
     "iopub.execute_input": "2024-07-13T13:40:40.329117Z",
     "iopub.status.busy": "2024-07-13T13:40:40.328267Z",
     "iopub.status.idle": "2024-07-13T13:40:40.742536Z",
     "shell.execute_reply": "2024-07-13T13:40:40.741575Z"
    },
    "papermill": {
     "duration": 0.43124,
     "end_time": "2024-07-13T13:40:40.744539",
     "exception": false,
     "start_time": "2024-07-13T13:40:40.313299",
     "status": "completed"
    },
    "tags": []
   },
   "outputs": [
    {
     "name": "stdout",
     "output_type": "stream",
     "text": [
      "[nltk_data] Downloading package stopwords to /usr/share/nltk_data...\n",
      "[nltk_data]   Package stopwords is already up-to-date!\n",
      "[nltk_data] Downloading package punkt to /usr/share/nltk_data...\n",
      "[nltk_data]   Package punkt is already up-to-date!\n",
      "[nltk_data] Downloading package wordnet to /usr/share/nltk_data...\n",
      "[nltk_data]   Package wordnet is already up-to-date!\n",
      "[nltk_data] Downloading package omw-1.4 to /usr/share/nltk_data...\n"
     ]
    },
    {
     "data": {
      "text/plain": [
       "True"
      ]
     },
     "execution_count": 3,
     "metadata": {},
     "output_type": "execute_result"
    }
   ],
   "source": [
    "nltk.download('stopwords')\n",
    "nltk.download(\"punkt\")\n",
    "nltk.download(\"wordnet\")\n",
    "nltk.download(\"omw-1.4\")"
   ]
  },
  {
   "cell_type": "code",
   "execution_count": 4,
   "id": "16c8249b",
   "metadata": {
    "execution": {
     "iopub.execute_input": "2024-07-13T13:40:40.774815Z",
     "iopub.status.busy": "2024-07-13T13:40:40.774492Z",
     "iopub.status.idle": "2024-07-13T13:40:42.067309Z",
     "shell.execute_reply": "2024-07-13T13:40:42.066410Z"
    },
    "papermill": {
     "duration": 1.310262,
     "end_time": "2024-07-13T13:40:42.069468",
     "exception": false,
     "start_time": "2024-07-13T13:40:40.759206",
     "status": "completed"
    },
    "tags": []
   },
   "outputs": [
    {
     "name": "stdout",
     "output_type": "stream",
     "text": [
      "Archive:  /usr/share/nltk_data/corpora/wordnet.zip\r\n",
      "   creating: /usr/share/nltk_data/corpora/wordnet/\r\n",
      "  inflating: /usr/share/nltk_data/corpora/wordnet/lexnames  \r\n",
      "  inflating: /usr/share/nltk_data/corpora/wordnet/data.verb  \r\n",
      "  inflating: /usr/share/nltk_data/corpora/wordnet/index.adv  \r\n",
      "  inflating: /usr/share/nltk_data/corpora/wordnet/adv.exc  \r\n",
      "  inflating: /usr/share/nltk_data/corpora/wordnet/index.verb  \r\n",
      "  inflating: /usr/share/nltk_data/corpora/wordnet/cntlist.rev  \r\n",
      "  inflating: /usr/share/nltk_data/corpora/wordnet/data.adj  \r\n",
      "  inflating: /usr/share/nltk_data/corpora/wordnet/index.adj  \r\n",
      "  inflating: /usr/share/nltk_data/corpora/wordnet/LICENSE  \r\n",
      "  inflating: /usr/share/nltk_data/corpora/wordnet/citation.bib  \r\n",
      "  inflating: /usr/share/nltk_data/corpora/wordnet/noun.exc  \r\n",
      "  inflating: /usr/share/nltk_data/corpora/wordnet/verb.exc  \r\n",
      "  inflating: /usr/share/nltk_data/corpora/wordnet/README  \r\n",
      "  inflating: /usr/share/nltk_data/corpora/wordnet/index.sense  \r\n",
      "  inflating: /usr/share/nltk_data/corpora/wordnet/data.noun  \r\n",
      "  inflating: /usr/share/nltk_data/corpora/wordnet/data.adv  \r\n",
      "  inflating: /usr/share/nltk_data/corpora/wordnet/index.noun  \r\n",
      "  inflating: /usr/share/nltk_data/corpora/wordnet/adj.exc  \r\n"
     ]
    }
   ],
   "source": [
    "from nltk.corpus import wordnet\n",
    "! unzip /usr/share/nltk_data/corpora/wordnet.zip -d /usr/share/nltk_data/corpora/"
   ]
  },
  {
   "cell_type": "markdown",
   "id": "e480f817",
   "metadata": {
    "papermill": {
     "duration": 0.014433,
     "end_time": "2024-07-13T13:40:42.098714",
     "exception": false,
     "start_time": "2024-07-13T13:40:42.084281",
     "status": "completed"
    },
    "tags": []
   },
   "source": [
    "# Data Loading"
   ]
  },
  {
   "cell_type": "code",
   "execution_count": 5,
   "id": "aa0e2615",
   "metadata": {
    "execution": {
     "iopub.execute_input": "2024-07-13T13:40:42.130821Z",
     "iopub.status.busy": "2024-07-13T13:40:42.130039Z",
     "iopub.status.idle": "2024-07-13T13:40:42.191063Z",
     "shell.execute_reply": "2024-07-13T13:40:42.190137Z"
    },
    "papermill": {
     "duration": 0.078687,
     "end_time": "2024-07-13T13:40:42.192954",
     "exception": false,
     "start_time": "2024-07-13T13:40:42.114267",
     "status": "completed"
    },
    "tags": []
   },
   "outputs": [],
   "source": [
    "DATASET_ROOT = '/kaggle/input/topic-modeling-for-research-articles/Train.csv'\n",
    "device = 'cuda' if torch.cuda.is_available() else 'cpu'"
   ]
  },
  {
   "cell_type": "code",
   "execution_count": 6,
   "id": "e6476d41",
   "metadata": {
    "execution": {
     "iopub.execute_input": "2024-07-13T13:40:42.223966Z",
     "iopub.status.busy": "2024-07-13T13:40:42.223691Z",
     "iopub.status.idle": "2024-07-13T13:40:42.634199Z",
     "shell.execute_reply": "2024-07-13T13:40:42.633267Z"
    },
    "papermill": {
     "duration": 0.428199,
     "end_time": "2024-07-13T13:40:42.636390",
     "exception": false,
     "start_time": "2024-07-13T13:40:42.208191",
     "status": "completed"
    },
    "tags": []
   },
   "outputs": [
    {
     "data": {
      "text/html": [
       "<div>\n",
       "<style scoped>\n",
       "    .dataframe tbody tr th:only-of-type {\n",
       "        vertical-align: middle;\n",
       "    }\n",
       "\n",
       "    .dataframe tbody tr th {\n",
       "        vertical-align: top;\n",
       "    }\n",
       "\n",
       "    .dataframe thead th {\n",
       "        text-align: right;\n",
       "    }\n",
       "</style>\n",
       "<table border=\"1\" class=\"dataframe\">\n",
       "  <thead>\n",
       "    <tr style=\"text-align: right;\">\n",
       "      <th></th>\n",
       "      <th>id</th>\n",
       "      <th>ABSTRACT</th>\n",
       "      <th>Computer Science</th>\n",
       "      <th>Mathematics</th>\n",
       "      <th>Physics</th>\n",
       "      <th>Statistics</th>\n",
       "      <th>Analysis of PDEs</th>\n",
       "      <th>Applications</th>\n",
       "      <th>Artificial Intelligence</th>\n",
       "      <th>Astrophysics of Galaxies</th>\n",
       "      <th>...</th>\n",
       "      <th>Methodology</th>\n",
       "      <th>Number Theory</th>\n",
       "      <th>Optimization and Control</th>\n",
       "      <th>Representation Theory</th>\n",
       "      <th>Robotics</th>\n",
       "      <th>Social and Information Networks</th>\n",
       "      <th>Statistics Theory</th>\n",
       "      <th>Strongly Correlated Electrons</th>\n",
       "      <th>Superconductivity</th>\n",
       "      <th>Systems and Control</th>\n",
       "    </tr>\n",
       "  </thead>\n",
       "  <tbody>\n",
       "    <tr>\n",
       "      <th>0</th>\n",
       "      <td>1824</td>\n",
       "      <td>a ever-growing datasets inside observational a...</td>\n",
       "      <td>0</td>\n",
       "      <td>0</td>\n",
       "      <td>1</td>\n",
       "      <td>0</td>\n",
       "      <td>0</td>\n",
       "      <td>0</td>\n",
       "      <td>0</td>\n",
       "      <td>0</td>\n",
       "      <td>...</td>\n",
       "      <td>0</td>\n",
       "      <td>0</td>\n",
       "      <td>0</td>\n",
       "      <td>0</td>\n",
       "      <td>0</td>\n",
       "      <td>0</td>\n",
       "      <td>0</td>\n",
       "      <td>0</td>\n",
       "      <td>0</td>\n",
       "      <td>0</td>\n",
       "    </tr>\n",
       "    <tr>\n",
       "      <th>1</th>\n",
       "      <td>3094</td>\n",
       "      <td>we propose the framework considering optimal $...</td>\n",
       "      <td>1</td>\n",
       "      <td>0</td>\n",
       "      <td>0</td>\n",
       "      <td>0</td>\n",
       "      <td>0</td>\n",
       "      <td>0</td>\n",
       "      <td>0</td>\n",
       "      <td>0</td>\n",
       "      <td>...</td>\n",
       "      <td>0</td>\n",
       "      <td>0</td>\n",
       "      <td>0</td>\n",
       "      <td>0</td>\n",
       "      <td>0</td>\n",
       "      <td>0</td>\n",
       "      <td>0</td>\n",
       "      <td>0</td>\n",
       "      <td>0</td>\n",
       "      <td>0</td>\n",
       "    </tr>\n",
       "    <tr>\n",
       "      <th>2</th>\n",
       "      <td>8463</td>\n",
       "      <td>nanostructures with open shell transition meta...</td>\n",
       "      <td>0</td>\n",
       "      <td>0</td>\n",
       "      <td>1</td>\n",
       "      <td>0</td>\n",
       "      <td>0</td>\n",
       "      <td>0</td>\n",
       "      <td>0</td>\n",
       "      <td>0</td>\n",
       "      <td>...</td>\n",
       "      <td>0</td>\n",
       "      <td>0</td>\n",
       "      <td>0</td>\n",
       "      <td>0</td>\n",
       "      <td>0</td>\n",
       "      <td>0</td>\n",
       "      <td>0</td>\n",
       "      <td>1</td>\n",
       "      <td>0</td>\n",
       "      <td>0</td>\n",
       "    </tr>\n",
       "    <tr>\n",
       "      <th>3</th>\n",
       "      <td>2082</td>\n",
       "      <td>stars are self-gravitating fluids inside which...</td>\n",
       "      <td>0</td>\n",
       "      <td>0</td>\n",
       "      <td>1</td>\n",
       "      <td>0</td>\n",
       "      <td>0</td>\n",
       "      <td>0</td>\n",
       "      <td>0</td>\n",
       "      <td>0</td>\n",
       "      <td>...</td>\n",
       "      <td>0</td>\n",
       "      <td>0</td>\n",
       "      <td>0</td>\n",
       "      <td>0</td>\n",
       "      <td>0</td>\n",
       "      <td>0</td>\n",
       "      <td>0</td>\n",
       "      <td>0</td>\n",
       "      <td>0</td>\n",
       "      <td>0</td>\n",
       "    </tr>\n",
       "    <tr>\n",
       "      <th>4</th>\n",
       "      <td>8687</td>\n",
       "      <td>deep neural perception and control networks ar...</td>\n",
       "      <td>1</td>\n",
       "      <td>0</td>\n",
       "      <td>0</td>\n",
       "      <td>0</td>\n",
       "      <td>0</td>\n",
       "      <td>0</td>\n",
       "      <td>0</td>\n",
       "      <td>0</td>\n",
       "      <td>...</td>\n",
       "      <td>0</td>\n",
       "      <td>0</td>\n",
       "      <td>0</td>\n",
       "      <td>0</td>\n",
       "      <td>0</td>\n",
       "      <td>0</td>\n",
       "      <td>0</td>\n",
       "      <td>0</td>\n",
       "      <td>0</td>\n",
       "      <td>0</td>\n",
       "    </tr>\n",
       "  </tbody>\n",
       "</table>\n",
       "<p>5 rows × 31 columns</p>\n",
       "</div>"
      ],
      "text/plain": [
       "     id                                           ABSTRACT  Computer Science  \\\n",
       "0  1824  a ever-growing datasets inside observational a...                 0   \n",
       "1  3094  we propose the framework considering optimal $...                 1   \n",
       "2  8463  nanostructures with open shell transition meta...                 0   \n",
       "3  2082  stars are self-gravitating fluids inside which...                 0   \n",
       "4  8687  deep neural perception and control networks ar...                 1   \n",
       "\n",
       "   Mathematics  Physics  Statistics  Analysis of PDEs  Applications  \\\n",
       "0            0        1           0                 0             0   \n",
       "1            0        0           0                 0             0   \n",
       "2            0        1           0                 0             0   \n",
       "3            0        1           0                 0             0   \n",
       "4            0        0           0                 0             0   \n",
       "\n",
       "   Artificial Intelligence  Astrophysics of Galaxies  ...  Methodology  \\\n",
       "0                        0                         0  ...            0   \n",
       "1                        0                         0  ...            0   \n",
       "2                        0                         0  ...            0   \n",
       "3                        0                         0  ...            0   \n",
       "4                        0                         0  ...            0   \n",
       "\n",
       "   Number Theory  Optimization and Control  Representation Theory  Robotics  \\\n",
       "0              0                         0                      0         0   \n",
       "1              0                         0                      0         0   \n",
       "2              0                         0                      0         0   \n",
       "3              0                         0                      0         0   \n",
       "4              0                         0                      0         0   \n",
       "\n",
       "   Social and Information Networks  Statistics Theory  \\\n",
       "0                                0                  0   \n",
       "1                                0                  0   \n",
       "2                                0                  0   \n",
       "3                                0                  0   \n",
       "4                                0                  0   \n",
       "\n",
       "   Strongly Correlated Electrons  Superconductivity  Systems and Control  \n",
       "0                              0                  0                    0  \n",
       "1                              0                  0                    0  \n",
       "2                              1                  0                    0  \n",
       "3                              0                  0                    0  \n",
       "4                              0                  0                    0  \n",
       "\n",
       "[5 rows x 31 columns]"
      ]
     },
     "execution_count": 6,
     "metadata": {},
     "output_type": "execute_result"
    }
   ],
   "source": [
    "train_df = pd.read_csv(DATASET_ROOT)\n",
    "train_df.head()"
   ]
  },
  {
   "cell_type": "markdown",
   "id": "0cf13f3f",
   "metadata": {
    "papermill": {
     "duration": 0.014729,
     "end_time": "2024-07-13T13:40:42.666441",
     "exception": false,
     "start_time": "2024-07-13T13:40:42.651712",
     "status": "completed"
    },
    "tags": []
   },
   "source": [
    "# Data Preprocessing"
   ]
  },
  {
   "cell_type": "code",
   "execution_count": 7,
   "id": "8090e3e1",
   "metadata": {
    "execution": {
     "iopub.execute_input": "2024-07-13T13:40:42.697604Z",
     "iopub.status.busy": "2024-07-13T13:40:42.697282Z",
     "iopub.status.idle": "2024-07-13T13:40:42.723856Z",
     "shell.execute_reply": "2024-07-13T13:40:42.722930Z"
    },
    "papermill": {
     "duration": 0.044335,
     "end_time": "2024-07-13T13:40:42.725816",
     "exception": false,
     "start_time": "2024-07-13T13:40:42.681481",
     "status": "completed"
    },
    "tags": []
   },
   "outputs": [
    {
     "data": {
      "text/html": [
       "<div>\n",
       "<style scoped>\n",
       "    .dataframe tbody tr th:only-of-type {\n",
       "        vertical-align: middle;\n",
       "    }\n",
       "\n",
       "    .dataframe tbody tr th {\n",
       "        vertical-align: top;\n",
       "    }\n",
       "\n",
       "    .dataframe thead th {\n",
       "        text-align: right;\n",
       "    }\n",
       "</style>\n",
       "<table border=\"1\" class=\"dataframe\">\n",
       "  <thead>\n",
       "    <tr style=\"text-align: right;\">\n",
       "      <th></th>\n",
       "      <th>ABSTRACT</th>\n",
       "      <th>Target</th>\n",
       "    </tr>\n",
       "  </thead>\n",
       "  <tbody>\n",
       "    <tr>\n",
       "      <th>0</th>\n",
       "      <td>a ever-growing datasets inside observational a...</td>\n",
       "      <td>Physics</td>\n",
       "    </tr>\n",
       "    <tr>\n",
       "      <th>1</th>\n",
       "      <td>we propose the framework considering optimal $...</td>\n",
       "      <td>Computer Science</td>\n",
       "    </tr>\n",
       "    <tr>\n",
       "      <th>2</th>\n",
       "      <td>nanostructures with open shell transition meta...</td>\n",
       "      <td>Physics</td>\n",
       "    </tr>\n",
       "    <tr>\n",
       "      <th>3</th>\n",
       "      <td>stars are self-gravitating fluids inside which...</td>\n",
       "      <td>Physics</td>\n",
       "    </tr>\n",
       "    <tr>\n",
       "      <th>4</th>\n",
       "      <td>deep neural perception and control networks ar...</td>\n",
       "      <td>Computer Science</td>\n",
       "    </tr>\n",
       "  </tbody>\n",
       "</table>\n",
       "</div>"
      ],
      "text/plain": [
       "                                            ABSTRACT            Target\n",
       "0  a ever-growing datasets inside observational a...           Physics\n",
       "1  we propose the framework considering optimal $...  Computer Science\n",
       "2  nanostructures with open shell transition meta...           Physics\n",
       "3  stars are self-gravitating fluids inside which...           Physics\n",
       "4  deep neural perception and control networks ar...  Computer Science"
      ]
     },
     "execution_count": 7,
     "metadata": {},
     "output_type": "execute_result"
    }
   ],
   "source": [
    "# Dropping ID\n",
    "train_df.drop('id', axis=1, inplace=True)\n",
    "\n",
    "# Resetting ID \n",
    "train_df.reset_index()\n",
    "\n",
    "topics = train_df.columns[1:]\n",
    "train_df['Target'] = train_df[topics].idxmax(axis=1)\n",
    "train_df.drop(topics, axis=1, inplace=True)\n",
    "train_df.head()"
   ]
  },
  {
   "cell_type": "code",
   "execution_count": 8,
   "id": "74046363",
   "metadata": {
    "execution": {
     "iopub.execute_input": "2024-07-13T13:40:42.757817Z",
     "iopub.status.busy": "2024-07-13T13:40:42.757514Z",
     "iopub.status.idle": "2024-07-13T13:40:42.765771Z",
     "shell.execute_reply": "2024-07-13T13:40:42.764917Z"
    },
    "papermill": {
     "duration": 0.025953,
     "end_time": "2024-07-13T13:40:42.767603",
     "exception": false,
     "start_time": "2024-07-13T13:40:42.741650",
     "status": "completed"
    },
    "tags": []
   },
   "outputs": [],
   "source": [
    "encoder = LabelEncoder()\n",
    "train_df['Target_Label'] = encoder.fit_transform(train_df['Target'])"
   ]
  },
  {
   "cell_type": "code",
   "execution_count": 9,
   "id": "cf595721",
   "metadata": {
    "execution": {
     "iopub.execute_input": "2024-07-13T13:40:42.799277Z",
     "iopub.status.busy": "2024-07-13T13:40:42.798810Z",
     "iopub.status.idle": "2024-07-13T13:40:42.808060Z",
     "shell.execute_reply": "2024-07-13T13:40:42.807392Z"
    },
    "papermill": {
     "duration": 0.026916,
     "end_time": "2024-07-13T13:40:42.809855",
     "exception": false,
     "start_time": "2024-07-13T13:40:42.782939",
     "status": "completed"
    },
    "tags": []
   },
   "outputs": [],
   "source": [
    "def preprocess_text(text: str, stopwords=set(stopwords.words('english')), wnl=WordNetLemmatizer(), ml=True):\n",
    "    \n",
    "    \"\"\"\n",
    "    Preprocesses the input text by tokenizing, removing stopwords and punctuation, and lemmatizing the words.\n",
    "    \n",
    "    Args:\n",
    "        text (str): The input text to be preprocessed.\n",
    "        stopwords (set, optional): A set of stopwords to be removed from the text. Defaults to nltk's English stopwords.\n",
    "        wnl (WordNetLemmatizer, optional): An instance of WordNetLemmatizer for lemmatizing words. Defaults to an instance of WordNetLemmatizer.\n",
    "        ml (bool, optional): If True, the preprocessed text is returned as a single string. If False, the preprocessed text is returned as a list of words. Defaults to True.\n",
    "    \n",
    "    Returns:\n",
    "        list or str: The preprocessed text. If ml is True, returns a string of the preprocessed text. If ml is False, returns a list of preprocessed words.\n",
    "    \"\"\"\n",
    "    \n",
    "    # Tokenising\n",
    "    words = word_tokenize(text.lower())\n",
    "    \n",
    "    # Removing Stopwords & Punctuation\n",
    "    filtered_text = [word for word in words if word not in stopwords and word.isalpha()]\n",
    "    \n",
    "    # Lemmatization\n",
    "    preprocessed_text = [wnl.lemmatize(word) for word in filtered_text]\n",
    "    \n",
    "    if ml:\n",
    "        preprocessed_text = ' '.join(preprocessed_text)\n",
    "    \n",
    "    return preprocessed_text"
   ]
  },
  {
   "cell_type": "code",
   "execution_count": 10,
   "id": "e88359b3",
   "metadata": {
    "execution": {
     "iopub.execute_input": "2024-07-13T13:40:42.841114Z",
     "iopub.status.busy": "2024-07-13T13:40:42.840855Z",
     "iopub.status.idle": "2024-07-13T13:42:00.072130Z",
     "shell.execute_reply": "2024-07-13T13:42:00.071090Z"
    },
    "papermill": {
     "duration": 77.249889,
     "end_time": "2024-07-13T13:42:00.074777",
     "exception": false,
     "start_time": "2024-07-13T13:40:42.824888",
     "status": "completed"
    },
    "tags": []
   },
   "outputs": [],
   "source": [
    "preprocessed_text_dl = train_df.ABSTRACT.apply(preprocess_text, ml=False)\n",
    "preprocessed_text_ml = train_df.ABSTRACT.apply(preprocess_text)"
   ]
  },
  {
   "cell_type": "code",
   "execution_count": 11,
   "id": "97710e62",
   "metadata": {
    "execution": {
     "iopub.execute_input": "2024-07-13T13:42:00.108790Z",
     "iopub.status.busy": "2024-07-13T13:42:00.108023Z",
     "iopub.status.idle": "2024-07-13T13:42:00.129699Z",
     "shell.execute_reply": "2024-07-13T13:42:00.128810Z"
    },
    "papermill": {
     "duration": 0.040741,
     "end_time": "2024-07-13T13:42:00.131677",
     "exception": false,
     "start_time": "2024-07-13T13:42:00.090936",
     "status": "completed"
    },
    "tags": []
   },
   "outputs": [
    {
     "data": {
      "text/html": [
       "<div>\n",
       "<style scoped>\n",
       "    .dataframe tbody tr th:only-of-type {\n",
       "        vertical-align: middle;\n",
       "    }\n",
       "\n",
       "    .dataframe tbody tr th {\n",
       "        vertical-align: top;\n",
       "    }\n",
       "\n",
       "    .dataframe thead th {\n",
       "        text-align: right;\n",
       "    }\n",
       "</style>\n",
       "<table border=\"1\" class=\"dataframe\">\n",
       "  <thead>\n",
       "    <tr style=\"text-align: right;\">\n",
       "      <th></th>\n",
       "      <th>Target</th>\n",
       "      <th>Target_Label</th>\n",
       "      <th>Preprocessed Text ML</th>\n",
       "      <th>Preprocessed Text DL</th>\n",
       "    </tr>\n",
       "  </thead>\n",
       "  <tbody>\n",
       "    <tr>\n",
       "      <th>0</th>\n",
       "      <td>Physics</td>\n",
       "      <td>2</td>\n",
       "      <td>datasets inside observational astronomy challe...</td>\n",
       "      <td>[datasets, inside, observational, astronomy, c...</td>\n",
       "    </tr>\n",
       "    <tr>\n",
       "      <th>1</th>\n",
       "      <td>Computer Science</td>\n",
       "      <td>0</td>\n",
       "      <td>propose framework considering optimal excludin...</td>\n",
       "      <td>[propose, framework, considering, optimal, exc...</td>\n",
       "    </tr>\n",
       "    <tr>\n",
       "      <th>2</th>\n",
       "      <td>Physics</td>\n",
       "      <td>2</td>\n",
       "      <td>nanostructures open shell transition metal mol...</td>\n",
       "      <td>[nanostructures, open, shell, transition, meta...</td>\n",
       "    </tr>\n",
       "    <tr>\n",
       "      <th>3</th>\n",
       "      <td>Physics</td>\n",
       "      <td>2</td>\n",
       "      <td>star fluid inside pressure buoyancy rotation m...</td>\n",
       "      <td>[star, fluid, inside, pressure, buoyancy, rota...</td>\n",
       "    </tr>\n",
       "    <tr>\n",
       "      <th>4</th>\n",
       "      <td>Computer Science</td>\n",
       "      <td>0</td>\n",
       "      <td>deep neural perception control network likely ...</td>\n",
       "      <td>[deep, neural, perception, control, network, l...</td>\n",
       "    </tr>\n",
       "  </tbody>\n",
       "</table>\n",
       "</div>"
      ],
      "text/plain": [
       "             Target  Target_Label  \\\n",
       "0           Physics             2   \n",
       "1  Computer Science             0   \n",
       "2           Physics             2   \n",
       "3           Physics             2   \n",
       "4  Computer Science             0   \n",
       "\n",
       "                                Preprocessed Text ML  \\\n",
       "0  datasets inside observational astronomy challe...   \n",
       "1  propose framework considering optimal excludin...   \n",
       "2  nanostructures open shell transition metal mol...   \n",
       "3  star fluid inside pressure buoyancy rotation m...   \n",
       "4  deep neural perception control network likely ...   \n",
       "\n",
       "                                Preprocessed Text DL  \n",
       "0  [datasets, inside, observational, astronomy, c...  \n",
       "1  [propose, framework, considering, optimal, exc...  \n",
       "2  [nanostructures, open, shell, transition, meta...  \n",
       "3  [star, fluid, inside, pressure, buoyancy, rota...  \n",
       "4  [deep, neural, perception, control, network, l...  "
      ]
     },
     "execution_count": 11,
     "metadata": {},
     "output_type": "execute_result"
    }
   ],
   "source": [
    "train_df['Preprocessed Text ML'] = preprocessed_text_ml\n",
    "train_df['Preprocessed Text DL'] = preprocessed_text_dl\n",
    "train_df.drop('ABSTRACT', axis=1, inplace=True)\n",
    "train_df.head()"
   ]
  },
  {
   "cell_type": "markdown",
   "id": "ecfa83c5",
   "metadata": {
    "papermill": {
     "duration": 0.015237,
     "end_time": "2024-07-13T13:42:00.162395",
     "exception": false,
     "start_time": "2024-07-13T13:42:00.147158",
     "status": "completed"
    },
    "tags": []
   },
   "source": [
    "### Building Vocabulary and Encoding Text"
   ]
  },
  {
   "cell_type": "code",
   "execution_count": 12,
   "id": "f22b039d",
   "metadata": {
    "execution": {
     "iopub.execute_input": "2024-07-13T13:42:00.195103Z",
     "iopub.status.busy": "2024-07-13T13:42:00.194818Z",
     "iopub.status.idle": "2024-07-13T13:42:01.636725Z",
     "shell.execute_reply": "2024-07-13T13:42:01.635638Z"
    },
    "papermill": {
     "duration": 1.460634,
     "end_time": "2024-07-13T13:42:01.639145",
     "exception": false,
     "start_time": "2024-07-13T13:42:00.178511",
     "status": "completed"
    },
    "tags": []
   },
   "outputs": [],
   "source": [
    "# Build vocabulary\n",
    "vocab = build_vocab_from_iterator(preprocessed_text_dl, specials=[\"<pad>\", \"<unk>\"], min_freq=2)\n",
    "vocab.set_default_index(vocab[\"<unk>\"])\n",
    "\n",
    "# Convert tokens to indices\n",
    "def encode(text):\n",
    "    return [vocab[token] for token in text]\n",
    "\n",
    "encoded_data = [encode(text) for text in preprocessed_text_dl]"
   ]
  },
  {
   "cell_type": "code",
   "execution_count": 13,
   "id": "23162a38",
   "metadata": {
    "execution": {
     "iopub.execute_input": "2024-07-13T13:42:01.672499Z",
     "iopub.status.busy": "2024-07-13T13:42:01.671705Z",
     "iopub.status.idle": "2024-07-13T13:42:02.543744Z",
     "shell.execute_reply": "2024-07-13T13:42:02.542754Z"
    },
    "papermill": {
     "duration": 0.890533,
     "end_time": "2024-07-13T13:42:02.545730",
     "exception": false,
     "start_time": "2024-07-13T13:42:01.655197",
     "status": "completed"
    },
    "tags": []
   },
   "outputs": [
    {
     "data": {
      "text/html": [
       "<div>\n",
       "<style scoped>\n",
       "    .dataframe tbody tr th:only-of-type {\n",
       "        vertical-align: middle;\n",
       "    }\n",
       "\n",
       "    .dataframe tbody tr th {\n",
       "        vertical-align: top;\n",
       "    }\n",
       "\n",
       "    .dataframe thead th {\n",
       "        text-align: right;\n",
       "    }\n",
       "</style>\n",
       "<table border=\"1\" class=\"dataframe\">\n",
       "  <thead>\n",
       "    <tr style=\"text-align: right;\">\n",
       "      <th></th>\n",
       "      <th>Target</th>\n",
       "      <th>Target_Label</th>\n",
       "      <th>Preprocessed Text ML</th>\n",
       "      <th>Preprocessed Text DL</th>\n",
       "      <th>Encoded &amp; Padded Text</th>\n",
       "    </tr>\n",
       "  </thead>\n",
       "  <tbody>\n",
       "    <tr>\n",
       "      <th>0</th>\n",
       "      <td>Physics</td>\n",
       "      <td>2</td>\n",
       "      <td>datasets inside observational astronomy challe...</td>\n",
       "      <td>[datasets, inside, observational, astronomy, c...</td>\n",
       "      <td>[140, 2, 1087, 2624, 7251, 3218, 2, 91, 725, 1...</td>\n",
       "    </tr>\n",
       "    <tr>\n",
       "      <th>1</th>\n",
       "      <td>Computer Science</td>\n",
       "      <td>0</td>\n",
       "      <td>propose framework considering optimal excludin...</td>\n",
       "      <td>[propose, framework, considering, optimal, exc...</td>\n",
       "      <td>[33, 57, 3, 112, 6777, 2771, 2, 2581, 68, 22, ...</td>\n",
       "    </tr>\n",
       "    <tr>\n",
       "      <th>2</th>\n",
       "      <td>Physics</td>\n",
       "      <td>2</td>\n",
       "      <td>nanostructures open shell transition metal mol...</td>\n",
       "      <td>[nanostructures, open, shell, transition, meta...</td>\n",
       "      <td>[6594, 474, 2427, 144, 917, 769, 3430, 765, 23...</td>\n",
       "    </tr>\n",
       "    <tr>\n",
       "      <th>3</th>\n",
       "      <td>Physics</td>\n",
       "      <td>2</td>\n",
       "      <td>star fluid inside pressure buoyancy rotation m...</td>\n",
       "      <td>[star, fluid, inside, pressure, buoyancy, rota...</td>\n",
       "      <td>[126, 712, 2, 577, 6052, 899, 85, 39, 69, 7144...</td>\n",
       "    </tr>\n",
       "    <tr>\n",
       "      <th>4</th>\n",
       "      <td>Computer Science</td>\n",
       "      <td>0</td>\n",
       "      <td>deep neural perception control network likely ...</td>\n",
       "      <td>[deep, neural, perception, control, network, l...</td>\n",
       "      <td>[54, 49, 1674, 77, 7, 891, 295, 172, 503, 4, 3...</td>\n",
       "    </tr>\n",
       "  </tbody>\n",
       "</table>\n",
       "</div>"
      ],
      "text/plain": [
       "             Target  Target_Label  \\\n",
       "0           Physics             2   \n",
       "1  Computer Science             0   \n",
       "2           Physics             2   \n",
       "3           Physics             2   \n",
       "4  Computer Science             0   \n",
       "\n",
       "                                Preprocessed Text ML  \\\n",
       "0  datasets inside observational astronomy challe...   \n",
       "1  propose framework considering optimal excludin...   \n",
       "2  nanostructures open shell transition metal mol...   \n",
       "3  star fluid inside pressure buoyancy rotation m...   \n",
       "4  deep neural perception control network likely ...   \n",
       "\n",
       "                                Preprocessed Text DL  \\\n",
       "0  [datasets, inside, observational, astronomy, c...   \n",
       "1  [propose, framework, considering, optimal, exc...   \n",
       "2  [nanostructures, open, shell, transition, meta...   \n",
       "3  [star, fluid, inside, pressure, buoyancy, rota...   \n",
       "4  [deep, neural, perception, control, network, l...   \n",
       "\n",
       "                               Encoded & Padded Text  \n",
       "0  [140, 2, 1087, 2624, 7251, 3218, 2, 91, 725, 1...  \n",
       "1  [33, 57, 3, 112, 6777, 2771, 2, 2581, 68, 22, ...  \n",
       "2  [6594, 474, 2427, 144, 917, 769, 3430, 765, 23...  \n",
       "3  [126, 712, 2, 577, 6052, 899, 85, 39, 69, 7144...  \n",
       "4  [54, 49, 1674, 77, 7, 891, 295, 172, 503, 4, 3...  "
      ]
     },
     "execution_count": 13,
     "metadata": {},
     "output_type": "execute_result"
    }
   ],
   "source": [
    "text_data = pad_sequence([torch.tensor(seq) for seq in encoded_data], batch_first=True, padding_value=vocab['<pad>'])\n",
    "train_df['Encoded & Padded Text'] = text_data.tolist()\n",
    "train_df.head()"
   ]
  },
  {
   "cell_type": "code",
   "execution_count": 14,
   "id": "24947135",
   "metadata": {
    "execution": {
     "iopub.execute_input": "2024-07-13T13:42:02.578515Z",
     "iopub.status.busy": "2024-07-13T13:42:02.578209Z",
     "iopub.status.idle": "2024-07-13T13:42:02.583609Z",
     "shell.execute_reply": "2024-07-13T13:42:02.582693Z"
    },
    "papermill": {
     "duration": 0.023958,
     "end_time": "2024-07-13T13:42:02.585714",
     "exception": false,
     "start_time": "2024-07-13T13:42:02.561756",
     "status": "completed"
    },
    "tags": []
   },
   "outputs": [
    {
     "data": {
      "text/plain": [
       "(14004, 5)"
      ]
     },
     "execution_count": 14,
     "metadata": {},
     "output_type": "execute_result"
    }
   ],
   "source": [
    "train_df.shape"
   ]
  },
  {
   "cell_type": "markdown",
   "id": "2fd0f787",
   "metadata": {
    "papermill": {
     "duration": 0.015441,
     "end_time": "2024-07-13T13:42:02.617202",
     "exception": false,
     "start_time": "2024-07-13T13:42:02.601761",
     "status": "completed"
    },
    "tags": []
   },
   "source": [
    "# Balancing an Imbalanced Dataset "
   ]
  },
  {
   "cell_type": "code",
   "execution_count": 15,
   "id": "22e838f9",
   "metadata": {
    "execution": {
     "iopub.execute_input": "2024-07-13T13:42:02.691287Z",
     "iopub.status.busy": "2024-07-13T13:42:02.690709Z",
     "iopub.status.idle": "2024-07-13T13:42:02.754357Z",
     "shell.execute_reply": "2024-07-13T13:42:02.753642Z"
    },
    "papermill": {
     "duration": 0.123263,
     "end_time": "2024-07-13T13:42:02.756264",
     "exception": false,
     "start_time": "2024-07-13T13:42:02.633001",
     "status": "completed"
    },
    "tags": []
   },
   "outputs": [],
   "source": [
    "ros = RandomOverSampler(random_state=42)\n",
    "X_balanced_ml, y_balanced_ml = ros.fit_resample(train_df[['Preprocessed Text ML']], train_df[['Target']])"
   ]
  },
  {
   "cell_type": "code",
   "execution_count": 16,
   "id": "5459d58e",
   "metadata": {
    "execution": {
     "iopub.execute_input": "2024-07-13T13:42:02.789251Z",
     "iopub.status.busy": "2024-07-13T13:42:02.788989Z",
     "iopub.status.idle": "2024-07-13T13:42:02.802314Z",
     "shell.execute_reply": "2024-07-13T13:42:02.801476Z"
    },
    "papermill": {
     "duration": 0.031894,
     "end_time": "2024-07-13T13:42:02.804289",
     "exception": false,
     "start_time": "2024-07-13T13:42:02.772395",
     "status": "completed"
    },
    "tags": []
   },
   "outputs": [
    {
     "data": {
      "text/html": [
       "<div>\n",
       "<style scoped>\n",
       "    .dataframe tbody tr th:only-of-type {\n",
       "        vertical-align: middle;\n",
       "    }\n",
       "\n",
       "    .dataframe tbody tr th {\n",
       "        vertical-align: top;\n",
       "    }\n",
       "\n",
       "    .dataframe thead th {\n",
       "        text-align: right;\n",
       "    }\n",
       "</style>\n",
       "<table border=\"1\" class=\"dataframe\">\n",
       "  <thead>\n",
       "    <tr style=\"text-align: right;\">\n",
       "      <th></th>\n",
       "      <th>Preprocessed Text</th>\n",
       "      <th>Target</th>\n",
       "    </tr>\n",
       "  </thead>\n",
       "  <tbody>\n",
       "    <tr>\n",
       "      <th>0</th>\n",
       "      <td>higher level renewable electricity generation ...</td>\n",
       "      <td>Mathematics</td>\n",
       "    </tr>\n",
       "    <tr>\n",
       "      <th>1</th>\n",
       "      <td>machine learning algorithm increasingly used i...</td>\n",
       "      <td>Statistics</td>\n",
       "    </tr>\n",
       "    <tr>\n",
       "      <th>2</th>\n",
       "      <td>unsupervised overlapped speech recognition one...</td>\n",
       "      <td>Computer Science</td>\n",
       "    </tr>\n",
       "    <tr>\n",
       "      <th>3</th>\n",
       "      <td>inside paper introduce novel task considering ...</td>\n",
       "      <td>Computer Science</td>\n",
       "    </tr>\n",
       "    <tr>\n",
       "      <th>4</th>\n",
       "      <td>electron confined inside two dimensional syste...</td>\n",
       "      <td>Physics</td>\n",
       "    </tr>\n",
       "  </tbody>\n",
       "</table>\n",
       "</div>"
      ],
      "text/plain": [
       "                                   Preprocessed Text            Target\n",
       "0  higher level renewable electricity generation ...       Mathematics\n",
       "1  machine learning algorithm increasingly used i...        Statistics\n",
       "2  unsupervised overlapped speech recognition one...  Computer Science\n",
       "3  inside paper introduce novel task considering ...  Computer Science\n",
       "4  electron confined inside two dimensional syste...           Physics"
      ]
     },
     "execution_count": 16,
     "metadata": {},
     "output_type": "execute_result"
    }
   ],
   "source": [
    "balanced_dict = {\n",
    "    'Preprocessed Text': X_balanced_ml.squeeze(),\n",
    "    'Target': y_balanced_ml.squeeze()\n",
    "}\n",
    "\n",
    "balanced_df_ml = pd.DataFrame(balanced_dict)\n",
    "balanced_df_ml = balanced_df_ml.sample(n=len(balanced_df_ml)).reset_index(drop=True)\n",
    "balanced_df_ml.head()"
   ]
  },
  {
   "cell_type": "code",
   "execution_count": 17,
   "id": "711a8bb8",
   "metadata": {
    "execution": {
     "iopub.execute_input": "2024-07-13T13:42:02.837887Z",
     "iopub.status.busy": "2024-07-13T13:42:02.837222Z",
     "iopub.status.idle": "2024-07-13T13:42:02.865949Z",
     "shell.execute_reply": "2024-07-13T13:42:02.865112Z"
    },
    "papermill": {
     "duration": 0.047147,
     "end_time": "2024-07-13T13:42:02.867777",
     "exception": false,
     "start_time": "2024-07-13T13:42:02.820630",
     "status": "completed"
    },
    "tags": []
   },
   "outputs": [
    {
     "data": {
      "text/html": [
       "<div>\n",
       "<style scoped>\n",
       "    .dataframe tbody tr th:only-of-type {\n",
       "        vertical-align: middle;\n",
       "    }\n",
       "\n",
       "    .dataframe tbody tr th {\n",
       "        vertical-align: top;\n",
       "    }\n",
       "\n",
       "    .dataframe thead th {\n",
       "        text-align: right;\n",
       "    }\n",
       "</style>\n",
       "<table border=\"1\" class=\"dataframe\">\n",
       "  <thead>\n",
       "    <tr style=\"text-align: right;\">\n",
       "      <th></th>\n",
       "      <th>Preprocessed Text</th>\n",
       "      <th>Target</th>\n",
       "    </tr>\n",
       "  </thead>\n",
       "  <tbody>\n",
       "    <tr>\n",
       "      <th>0</th>\n",
       "      <td>[26, 8, 671, 1713, 1502, 2596, 692, 1484, 1603...</td>\n",
       "      <td>2</td>\n",
       "    </tr>\n",
       "    <tr>\n",
       "      <th>1</th>\n",
       "      <td>[49, 7, 19779, 1269, 49, 7, 69, 952, 721, 816,...</td>\n",
       "      <td>3</td>\n",
       "    </tr>\n",
       "    <tr>\n",
       "      <th>2</th>\n",
       "      <td>[1781, 141, 1476, 58, 878, 1848, 2, 552, 2436,...</td>\n",
       "      <td>2</td>\n",
       "    </tr>\n",
       "    <tr>\n",
       "      <th>3</th>\n",
       "      <td>[1077, 1547, 1620, 153, 1021, 268, 2, 13441, 1...</td>\n",
       "      <td>2</td>\n",
       "    </tr>\n",
       "    <tr>\n",
       "      <th>4</th>\n",
       "      <td>[15, 1125, 23, 5, 3, 35, 4834, 351, 6, 2, 1295...</td>\n",
       "      <td>3</td>\n",
       "    </tr>\n",
       "  </tbody>\n",
       "</table>\n",
       "</div>"
      ],
      "text/plain": [
       "                                   Preprocessed Text  Target\n",
       "0  [26, 8, 671, 1713, 1502, 2596, 692, 1484, 1603...       2\n",
       "1  [49, 7, 19779, 1269, 49, 7, 69, 952, 721, 816,...       3\n",
       "2  [1781, 141, 1476, 58, 878, 1848, 2, 552, 2436,...       2\n",
       "3  [1077, 1547, 1620, 153, 1021, 268, 2, 13441, 1...       2\n",
       "4  [15, 1125, 23, 5, 3, 35, 4834, 351, 6, 2, 1295...       3"
      ]
     },
     "execution_count": 17,
     "metadata": {},
     "output_type": "execute_result"
    }
   ],
   "source": [
    "X_balanced_dl, y_balanced_dl = ros.fit_resample(train_df[['Encoded & Padded Text']], train_df[['Target_Label']])\n",
    "\n",
    "balanced_dict = {\n",
    "    'Preprocessed Text': X_balanced_dl.squeeze(),\n",
    "    'Target': y_balanced_dl.squeeze()\n",
    "}\n",
    "\n",
    "balanced_df_dl = pd.DataFrame(balanced_dict)\n",
    "balanced_df_dl = balanced_df_dl.sample(n=len(balanced_df_dl)).reset_index(drop=True)\n",
    "balanced_df_dl.head()"
   ]
  },
  {
   "cell_type": "code",
   "execution_count": 18,
   "id": "cb57961b",
   "metadata": {
    "execution": {
     "iopub.execute_input": "2024-07-13T13:42:02.901014Z",
     "iopub.status.busy": "2024-07-13T13:42:02.900745Z",
     "iopub.status.idle": "2024-07-13T13:42:10.772224Z",
     "shell.execute_reply": "2024-07-13T13:42:10.771418Z"
    },
    "papermill": {
     "duration": 7.890698,
     "end_time": "2024-07-13T13:42:10.774638",
     "exception": false,
     "start_time": "2024-07-13T13:42:02.883940",
     "status": "completed"
    },
    "tags": []
   },
   "outputs": [],
   "source": [
    "count_vect = CountVectorizer(ngram_range=(1, 2))        \n",
    "transformer = TfidfTransformer(norm='l2',sublinear_tf=True)\n",
    "\n",
    "counts = count_vect.fit_transform(balanced_df_ml['Preprocessed Text'])\n",
    "tfidf = transformer.fit_transform(counts)"
   ]
  },
  {
   "cell_type": "markdown",
   "id": "32c8b8f7",
   "metadata": {
    "papermill": {
     "duration": 0.015914,
     "end_time": "2024-07-13T13:42:10.807552",
     "exception": false,
     "start_time": "2024-07-13T13:42:10.791638",
     "status": "completed"
    },
    "tags": []
   },
   "source": [
    "# Data Visualization"
   ]
  },
  {
   "cell_type": "code",
   "execution_count": 19,
   "id": "dfbd9cdd",
   "metadata": {
    "execution": {
     "iopub.execute_input": "2024-07-13T13:42:10.841091Z",
     "iopub.status.busy": "2024-07-13T13:42:10.840773Z",
     "iopub.status.idle": "2024-07-13T13:42:11.804924Z",
     "shell.execute_reply": "2024-07-13T13:42:11.803926Z"
    },
    "papermill": {
     "duration": 0.983457,
     "end_time": "2024-07-13T13:42:11.807077",
     "exception": false,
     "start_time": "2024-07-13T13:42:10.823620",
     "status": "completed"
    },
    "tags": []
   },
   "outputs": [
    {
     "data": {
      "text/plain": [
       "<Axes: xlabel='Target', ylabel='count'>"
      ]
     },
     "execution_count": 19,
     "metadata": {},
     "output_type": "execute_result"
    },
    {
     "data": {
      "image/png": "[encoded data removed]",
      "text/plain": [
       "<Figure size 1000x550 with 2 Axes>"
      ]
     },
     "metadata": {},
     "output_type": "display_data"
    }
   ],
   "source": [
    "plt.rcParams[\"figure.figsize\"] = [10.00, 5.50]\n",
    "plt.rcParams[\"figure.autolayout\"] = True\n",
    "f, axes = plt.subplots(1, 2)\n",
    "sns.countplot(data=train_df, x='Target', ax=axes[0])\n",
    "sns.countplot(data=balanced_df_ml, x='Target', ax=axes[1])"
   ]
  },
  {
   "cell_type": "markdown",
   "id": "8e555d54",
   "metadata": {
    "papermill": {
     "duration": 0.016614,
     "end_time": "2024-07-13T13:42:11.840648",
     "exception": false,
     "start_time": "2024-07-13T13:42:11.824034",
     "status": "completed"
    },
    "tags": []
   },
   "source": [
    "# Machine Learning with Scikit Learn"
   ]
  },
  {
   "cell_type": "code",
   "execution_count": 20,
   "id": "9a0f21d3",
   "metadata": {
    "execution": {
     "iopub.execute_input": "2024-07-13T13:42:11.876152Z",
     "iopub.status.busy": "2024-07-13T13:42:11.875809Z",
     "iopub.status.idle": "2024-07-13T13:42:11.880126Z",
     "shell.execute_reply": "2024-07-13T13:42:11.879259Z"
    },
    "papermill": {
     "duration": 0.024061,
     "end_time": "2024-07-13T13:42:11.881899",
     "exception": false,
     "start_time": "2024-07-13T13:42:11.857838",
     "status": "completed"
    },
    "tags": []
   },
   "outputs": [],
   "source": [
    "LABELS = ['Computer Science', 'Mathematics', 'Physics', 'Statistics']"
   ]
  },
  {
   "cell_type": "code",
   "execution_count": 21,
   "id": "1c1dd71d",
   "metadata": {
    "execution": {
     "iopub.execute_input": "2024-07-13T13:42:11.916904Z",
     "iopub.status.busy": "2024-07-13T13:42:11.916605Z",
     "iopub.status.idle": "2024-07-13T13:42:11.933846Z",
     "shell.execute_reply": "2024-07-13T13:42:11.933097Z"
    },
    "papermill": {
     "duration": 0.036945,
     "end_time": "2024-07-13T13:42:11.935840",
     "exception": false,
     "start_time": "2024-07-13T13:42:11.898895",
     "status": "completed"
    },
    "tags": []
   },
   "outputs": [],
   "source": [
    "x_train, x_test, y_train, y_test = train_test_split(tfidf, balanced_df_ml['Target'], \n",
    "                                                    test_size=0.2, random_state=42)"
   ]
  },
  {
   "cell_type": "code",
   "execution_count": 22,
   "id": "b76ae710",
   "metadata": {
    "execution": {
     "iopub.execute_input": "2024-07-13T13:42:11.971158Z",
     "iopub.status.busy": "2024-07-13T13:42:11.970566Z",
     "iopub.status.idle": "2024-07-13T13:42:11.976165Z",
     "shell.execute_reply": "2024-07-13T13:42:11.975005Z"
    },
    "papermill": {
     "duration": 0.025501,
     "end_time": "2024-07-13T13:42:11.978436",
     "exception": false,
     "start_time": "2024-07-13T13:42:11.952935",
     "status": "completed"
    },
    "tags": []
   },
   "outputs": [],
   "source": [
    "def model_training(model, x_train, y_train, x_test, y_test):\n",
    "    \"\"\"\n",
    "    Trains the given model using the provided training data and evaluates it using the test data.\n",
    "\n",
    "    Args:\n",
    "        model: The machine learning model to be trained.\n",
    "        x_train: The training data features.\n",
    "        y_train: The training data labels.\n",
    "        x_test: The test data features.\n",
    "        y_test: The test data labels.\n",
    "\n",
    "    Returns:\n",
    "        array-like: The predicted labels for the test data.\n",
    "    \"\"\"\n",
    "    \n",
    "    model = model\n",
    "    model.fit(x_train, y_train)\n",
    "    y_pred = model.predict(x_test)\n",
    "    return y_pred"
   ]
  },
  {
   "cell_type": "code",
   "execution_count": 23,
   "id": "dd6f0404",
   "metadata": {
    "execution": {
     "iopub.execute_input": "2024-07-13T13:42:12.019887Z",
     "iopub.status.busy": "2024-07-13T13:42:12.018960Z",
     "iopub.status.idle": "2024-07-13T13:42:12.025803Z",
     "shell.execute_reply": "2024-07-13T13:42:12.024790Z"
    },
    "papermill": {
     "duration": 0.029843,
     "end_time": "2024-07-13T13:42:12.027996",
     "exception": false,
     "start_time": "2024-07-13T13:42:11.998153",
     "status": "completed"
    },
    "tags": []
   },
   "outputs": [],
   "source": [
    "def plot_confusion_matrix(y_true, y_pred, labels):\n",
    "    \"\"\"\n",
    "    Plots a confusion matrix using the true and predicted labels.\n",
    "\n",
    "    Args:\n",
    "        y_true (array-like): The true labels.\n",
    "        y_pred (array-like): The predicted labels.\n",
    "        labels (array-like): The list of labels to index the matrix.\n",
    "    \"\"\"\n",
    "    \n",
    "    cm = confusion_matrix(y_true, y_pred)\n",
    "    disp = ConfusionMatrixDisplay(confusion_matrix=cm, display_labels=labels)\n",
    "    disp.plot(cmap=plt.cm.Blues)\n",
    "    plt.title('Confusion Matrix')\n",
    "    plt.show()"
   ]
  },
  {
   "cell_type": "markdown",
   "id": "30e1ca4f",
   "metadata": {
    "papermill": {
     "duration": 0.019672,
     "end_time": "2024-07-13T13:42:12.067486",
     "exception": false,
     "start_time": "2024-07-13T13:42:12.047814",
     "status": "completed"
    },
    "tags": []
   },
   "source": [
    "## Logistic Regression"
   ]
  },
  {
   "cell_type": "code",
   "execution_count": 24,
   "id": "c383daae",
   "metadata": {
    "execution": {
     "iopub.execute_input": "2024-07-13T13:42:12.108970Z",
     "iopub.status.busy": "2024-07-13T13:42:12.108056Z",
     "iopub.status.idle": "2024-07-13T13:42:24.273164Z",
     "shell.execute_reply": "2024-07-13T13:42:24.272176Z"
    },
    "papermill": {
     "duration": 12.188154,
     "end_time": "2024-07-13T13:42:24.275272",
     "exception": false,
     "start_time": "2024-07-13T13:42:12.087118",
     "status": "completed"
    },
    "tags": []
   },
   "outputs": [
    {
     "data": {
      "text/plain": [
       "0.9186491079014444"
      ]
     },
     "execution_count": 24,
     "metadata": {},
     "output_type": "execute_result"
    }
   ],
   "source": [
    "lr = LogisticRegression(C=1, max_iter=1000, n_jobs=-1, solver='newton-cg')\n",
    "y_pred_lr = model_training(model=lr, x_train=x_train, y_train=y_train, x_test=x_test, y_test=y_test)\n",
    "accuracy_score(y_test,y_pred_lr)"
   ]
  },
  {
   "cell_type": "code",
   "execution_count": 25,
   "id": "d3e11fb6",
   "metadata": {
    "execution": {
     "iopub.execute_input": "2024-07-13T13:42:24.310817Z",
     "iopub.status.busy": "2024-07-13T13:42:24.310513Z",
     "iopub.status.idle": "2024-07-13T13:42:24.723241Z",
     "shell.execute_reply": "2024-07-13T13:42:24.722282Z"
    },
    "papermill": {
     "duration": 0.432869,
     "end_time": "2024-07-13T13:42:24.725466",
     "exception": false,
     "start_time": "2024-07-13T13:42:24.292597",
     "status": "completed"
    },
    "tags": []
   },
   "outputs": [
    {
     "data": {
      "image/png": "[encoded data removed]",
      "text/plain": [
       "<Figure size 1000x550 with 2 Axes>"
      ]
     },
     "metadata": {},
     "output_type": "display_data"
    }
   ],
   "source": [
    "plot_confusion_matrix(y_test, y_pred_lr, LABELS)"
   ]
  },
  {
   "cell_type": "code",
   "execution_count": 26,
   "id": "07c544d4",
   "metadata": {
    "execution": {
     "iopub.execute_input": "2024-07-13T13:42:24.761724Z",
     "iopub.status.busy": "2024-07-13T13:42:24.761428Z",
     "iopub.status.idle": "2024-07-13T13:42:24.970161Z",
     "shell.execute_reply": "2024-07-13T13:42:24.968979Z"
    },
    "papermill": {
     "duration": 0.229104,
     "end_time": "2024-07-13T13:42:24.972292",
     "exception": false,
     "start_time": "2024-07-13T13:42:24.743188",
     "status": "completed"
    },
    "tags": []
   },
   "outputs": [
    {
     "name": "stdout",
     "output_type": "stream",
     "text": [
      "                  precision    recall  f1-score   support\n",
      "\n",
      "Computer Science       0.89      0.84      0.86      1197\n",
      "     Mathematics       0.93      0.94      0.94      1144\n",
      "         Physics       0.99      0.98      0.98      1168\n",
      "      Statistics       0.87      0.92      0.89      1199\n",
      "\n",
      "        accuracy                           0.92      4708\n",
      "       macro avg       0.92      0.92      0.92      4708\n",
      "    weighted avg       0.92      0.92      0.92      4708\n",
      "\n"
     ]
    }
   ],
   "source": [
    "print(classification_report(y_test, y_pred_lr))"
   ]
  },
  {
   "cell_type": "markdown",
   "id": "95d94f2c",
   "metadata": {
    "papermill": {
     "duration": 0.01883,
     "end_time": "2024-07-13T13:42:25.009901",
     "exception": false,
     "start_time": "2024-07-13T13:42:24.991071",
     "status": "completed"
    },
    "tags": []
   },
   "source": [
    "## Multinomial Naive Bayes"
   ]
  },
  {
   "cell_type": "code",
   "execution_count": 27,
   "id": "4ebc6f06",
   "metadata": {
    "execution": {
     "iopub.execute_input": "2024-07-13T13:42:25.049965Z",
     "iopub.status.busy": "2024-07-13T13:42:25.049663Z",
     "iopub.status.idle": "2024-07-13T13:42:25.255752Z",
     "shell.execute_reply": "2024-07-13T13:42:25.254832Z"
    },
    "papermill": {
     "duration": 0.227963,
     "end_time": "2024-07-13T13:42:25.257700",
     "exception": false,
     "start_time": "2024-07-13T13:42:25.029737",
     "status": "completed"
    },
    "tags": []
   },
   "outputs": [
    {
     "data": {
      "text/plain": [
       "0.8759558198810535"
      ]
     },
     "execution_count": 27,
     "metadata": {},
     "output_type": "execute_result"
    }
   ],
   "source": [
    "nb = MultinomialNB(alpha=0.8)\n",
    "y_pred_nb = model_training(model=nb, x_train=x_train, y_train=y_train, x_test=x_test, y_test=y_test)\n",
    "accuracy_score(y_test,y_pred_nb)"
   ]
  },
  {
   "cell_type": "code",
   "execution_count": 28,
   "id": "c59664b9",
   "metadata": {
    "execution": {
     "iopub.execute_input": "2024-07-13T13:42:25.294612Z",
     "iopub.status.busy": "2024-07-13T13:42:25.294295Z",
     "iopub.status.idle": "2024-07-13T13:42:25.688406Z",
     "shell.execute_reply": "2024-07-13T13:42:25.687533Z"
    },
    "papermill": {
     "duration": 0.414777,
     "end_time": "2024-07-13T13:42:25.690534",
     "exception": false,
     "start_time": "2024-07-13T13:42:25.275757",
     "status": "completed"
    },
    "tags": []
   },
   "outputs": [
    {
     "data": {
      "image/png": "[encoded data removed]",
      "text/plain": [
       "<Figure size 1000x550 with 2 Axes>"
      ]
     },
     "metadata": {},
     "output_type": "display_data"
    }
   ],
   "source": [
    "plot_confusion_matrix(y_test, y_pred_nb, LABELS)"
   ]
  },
  {
   "cell_type": "code",
   "execution_count": 29,
   "id": "e73ecac7",
   "metadata": {
    "execution": {
     "iopub.execute_input": "2024-07-13T13:42:25.728957Z",
     "iopub.status.busy": "2024-07-13T13:42:25.728269Z",
     "iopub.status.idle": "2024-07-13T13:42:25.864713Z",
     "shell.execute_reply": "2024-07-13T13:42:25.863703Z"
    },
    "papermill": {
     "duration": 0.15748,
     "end_time": "2024-07-13T13:42:25.866622",
     "exception": false,
     "start_time": "2024-07-13T13:42:25.709142",
     "status": "completed"
    },
    "tags": []
   },
   "outputs": [
    {
     "name": "stdout",
     "output_type": "stream",
     "text": [
      "                  precision    recall  f1-score   support\n",
      "\n",
      "Computer Science       0.94      0.68      0.79      1197\n",
      "     Mathematics       0.94      0.89      0.91      1144\n",
      "         Physics       0.99      0.96      0.98      1168\n",
      "      Statistics       0.72      0.97      0.83      1199\n",
      "\n",
      "        accuracy                           0.88      4708\n",
      "       macro avg       0.90      0.88      0.88      4708\n",
      "    weighted avg       0.90      0.88      0.88      4708\n",
      "\n"
     ]
    }
   ],
   "source": [
    "print(classification_report(y_test, y_pred_nb, zero_division=0))"
   ]
  },
  {
   "cell_type": "markdown",
   "id": "a5063955",
   "metadata": {
    "papermill": {
     "duration": 0.018079,
     "end_time": "2024-07-13T13:42:25.902937",
     "exception": false,
     "start_time": "2024-07-13T13:42:25.884858",
     "status": "completed"
    },
    "tags": []
   },
   "source": [
    "# Deep Learning with PyTorch"
   ]
  },
  {
   "cell_type": "markdown",
   "id": "2ec8159f",
   "metadata": {
    "papermill": {
     "duration": 0.01795,
     "end_time": "2024-07-13T13:42:25.939132",
     "exception": false,
     "start_time": "2024-07-13T13:42:25.921182",
     "status": "completed"
    },
    "tags": []
   },
   "source": [
    "## Model Preparation"
   ]
  },
  {
   "cell_type": "code",
   "execution_count": 30,
   "id": "2f65a844",
   "metadata": {
    "execution": {
     "iopub.execute_input": "2024-07-13T13:42:25.977081Z",
     "iopub.status.busy": "2024-07-13T13:42:25.976434Z",
     "iopub.status.idle": "2024-07-13T13:42:25.982468Z",
     "shell.execute_reply": "2024-07-13T13:42:25.981650Z"
    },
    "papermill": {
     "duration": 0.026923,
     "end_time": "2024-07-13T13:42:25.984218",
     "exception": false,
     "start_time": "2024-07-13T13:42:25.957295",
     "status": "completed"
    },
    "tags": []
   },
   "outputs": [],
   "source": [
    "class TextDataset(Dataset):\n",
    "    \"\"\"\n",
    "    A custom dataset class for text data.\n",
    "\n",
    "    Args:\n",
    "        texts (list of list of int): A list of tokenized texts, where each text is a list of token IDs.\n",
    "        labels (list of int): A list of labels corresponding to the texts.\n",
    "    \"\"\"\n",
    "    \n",
    "    def __init__(self, texts, labels):\n",
    "        self.texts = texts\n",
    "        self.labels = labels\n",
    "        \n",
    "    def __len__(self):\n",
    "        \"\"\"Returns the number of samples in the dataset.\"\"\"\n",
    "        return len(self.texts)\n",
    "    \n",
    "    def __getitem__(self, idx):\n",
    "        \"\"\"Retrieves the sample and label at the given index.\"\"\"\n",
    "        return torch.tensor(self.texts[idx], dtype=torch.long), torch.tensor(self.labels[idx], dtype=torch.long)"
   ]
  },
  {
   "cell_type": "code",
   "execution_count": 31,
   "id": "f82958fc",
   "metadata": {
    "execution": {
     "iopub.execute_input": "2024-07-13T13:42:26.021690Z",
     "iopub.status.busy": "2024-07-13T13:42:26.021409Z",
     "iopub.status.idle": "2024-07-13T13:42:29.109766Z",
     "shell.execute_reply": "2024-07-13T13:42:29.108804Z"
    },
    "papermill": {
     "duration": 3.109498,
     "end_time": "2024-07-13T13:42:29.111803",
     "exception": false,
     "start_time": "2024-07-13T13:42:26.002305",
     "status": "completed"
    },
    "tags": []
   },
   "outputs": [],
   "source": [
    "text_data = torch.tensor(balanced_df_dl['Preprocessed Text'].values.tolist())\n",
    "target = torch.tensor(balanced_df_dl['Target'].values)\n",
    "X, y = text_data, target"
   ]
  },
  {
   "cell_type": "code",
   "execution_count": 32,
   "id": "cac5cebd",
   "metadata": {
    "execution": {
     "iopub.execute_input": "2024-07-13T13:42:29.150415Z",
     "iopub.status.busy": "2024-07-13T13:42:29.150106Z",
     "iopub.status.idle": "2024-07-13T13:42:29.415022Z",
     "shell.execute_reply": "2024-07-13T13:42:29.414154Z"
    },
    "papermill": {
     "duration": 0.286589,
     "end_time": "2024-07-13T13:42:29.417380",
     "exception": false,
     "start_time": "2024-07-13T13:42:29.130791",
     "status": "completed"
    },
    "tags": []
   },
   "outputs": [],
   "source": [
    "X_train, X_test, y_train, y_test = train_test_split(X, y, test_size=0.15, random_state=42)\n",
    "X_train, X_val, y_train, y_val = train_test_split(X_train, y_train, test_size=0.2, random_state=42)\n",
    "X_train, X_val, X_test, y_train, y_val, y_test = X_train.to(device), X_val.to(device), X_test.to(device), y_train.to(device), y_val.to(device), y_test.to(device)"
   ]
  },
  {
   "cell_type": "code",
   "execution_count": 33,
   "id": "55a84d4b",
   "metadata": {
    "execution": {
     "iopub.execute_input": "2024-07-13T13:42:29.457050Z",
     "iopub.status.busy": "2024-07-13T13:42:29.456747Z",
     "iopub.status.idle": "2024-07-13T13:42:29.461053Z",
     "shell.execute_reply": "2024-07-13T13:42:29.460237Z"
    },
    "papermill": {
     "duration": 0.025932,
     "end_time": "2024-07-13T13:42:29.462862",
     "exception": false,
     "start_time": "2024-07-13T13:42:29.436930",
     "status": "completed"
    },
    "tags": []
   },
   "outputs": [],
   "source": [
    "train_dataset = TextDataset(X_train, y_train)\n",
    "val_dataset = TextDataset(X_val, y_val)\n",
    "test_dataset = TextDataset(X_test, y_test)"
   ]
  },
  {
   "cell_type": "code",
   "execution_count": 34,
   "id": "ccaac9d3",
   "metadata": {
    "execution": {
     "iopub.execute_input": "2024-07-13T13:42:29.501309Z",
     "iopub.status.busy": "2024-07-13T13:42:29.501033Z",
     "iopub.status.idle": "2024-07-13T13:42:29.506741Z",
     "shell.execute_reply": "2024-07-13T13:42:29.505856Z"
    },
    "papermill": {
     "duration": 0.026469,
     "end_time": "2024-07-13T13:42:29.508635",
     "exception": false,
     "start_time": "2024-07-13T13:42:29.482166",
     "status": "completed"
    },
    "tags": []
   },
   "outputs": [],
   "source": [
    "torch.manual_seed(42)\n",
    "torch.cuda.manual_seed(42)\n",
    "\n",
    "train_loader = DataLoader(train_dataset, batch_size=256, shuffle=True)\n",
    "val_loader = DataLoader(val_dataset, batch_size=256, shuffle=True)\n",
    "test_loader = DataLoader(test_dataset, batch_size=256, shuffle=True)"
   ]
  },
  {
   "cell_type": "markdown",
   "id": "06834183",
   "metadata": {
    "papermill": {
     "duration": 0.018311,
     "end_time": "2024-07-13T13:42:29.545209",
     "exception": false,
     "start_time": "2024-07-13T13:42:29.526898",
     "status": "completed"
    },
    "tags": []
   },
   "source": [
    "## Model Building"
   ]
  },
  {
   "cell_type": "code",
   "execution_count": 35,
   "id": "2a2b4405",
   "metadata": {
    "execution": {
     "iopub.execute_input": "2024-07-13T13:42:29.582981Z",
     "iopub.status.busy": "2024-07-13T13:42:29.582336Z",
     "iopub.status.idle": "2024-07-13T13:42:29.590954Z",
     "shell.execute_reply": "2024-07-13T13:42:29.590283Z"
    },
    "papermill": {
     "duration": 0.029573,
     "end_time": "2024-07-13T13:42:29.592823",
     "exception": false,
     "start_time": "2024-07-13T13:42:29.563250",
     "status": "completed"
    },
    "tags": []
   },
   "outputs": [],
   "source": [
    "class TextClassifier(nn.Module):\n",
    "    \n",
    "    \"\"\"\n",
    "    A text classification model using an embedding layer, a bidirectional LSTM, and a linear layer.\n",
    "\n",
    "    Args:\n",
    "        vocab_size (int): The size of the vocabulary.\n",
    "        embed_dim (int): The dimensionality of the embeddings.\n",
    "        hidden_dim (int): The number of features in the hidden state of the LSTM.\n",
    "        output_dim (int): The number of output classes.\n",
    "    \"\"\"\n",
    "    \n",
    "    def __init__(self, vocab_size:int, embed_dim:int, hidden_dim:int, output_dim:int):\n",
    "        super(TextClassifier, self).__init__()\n",
    "        \n",
    "        self.embedding = nn.Embedding(num_embeddings=vocab_size, embedding_dim=embed_dim, padding_idx=0)\n",
    "        \n",
    "        self.lstm = nn.LSTM(input_size=embed_dim, hidden_size=embed_dim, dropout=0.5, \n",
    "                            bidirectional=True, batch_first=True, num_layers=2)\n",
    "        \n",
    "        self.linear = nn.Linear(in_features=embed_dim * 2, out_features=output_dim)\n",
    "        self.dropout = nn.Dropout(0.5)\n",
    "        \n",
    "    def forward(self, x):\n",
    "        \"\"\"Forward pass of the model.\"\"\"\n",
    "        \n",
    "        embedded = self.dropout(self.embedding(x))\n",
    "        lstm_out, (hidden, cell) = self.lstm(embedded)\n",
    "        hidden = self.dropout(torch.cat((hidden[-2,:,:], hidden[-1,:,:]), dim=1))\n",
    "        output = self.linear(hidden)\n",
    "        return output"
   ]
  },
  {
   "cell_type": "code",
   "execution_count": 36,
   "id": "f68d6b44",
   "metadata": {
    "execution": {
     "iopub.execute_input": "2024-07-13T13:42:29.630492Z",
     "iopub.status.busy": "2024-07-13T13:42:29.629987Z",
     "iopub.status.idle": "2024-07-13T13:42:29.634233Z",
     "shell.execute_reply": "2024-07-13T13:42:29.633401Z"
    },
    "papermill": {
     "duration": 0.025025,
     "end_time": "2024-07-13T13:42:29.636186",
     "exception": false,
     "start_time": "2024-07-13T13:42:29.611161",
     "status": "completed"
    },
    "tags": []
   },
   "outputs": [],
   "source": [
    "# Hyperparameters\n",
    "VOCAB_SIZE = len(vocab)\n",
    "EMBED_DIM = 100\n",
    "HIDDEN_DIM = 128\n",
    "OUTPUT_DIM = 4\n",
    "\n",
    "EPOCHS = 30"
   ]
  },
  {
   "cell_type": "code",
   "execution_count": 37,
   "id": "4504fcf1",
   "metadata": {
    "execution": {
     "iopub.execute_input": "2024-07-13T13:42:29.673506Z",
     "iopub.status.busy": "2024-07-13T13:42:29.673160Z",
     "iopub.status.idle": "2024-07-13T13:42:30.655316Z",
     "shell.execute_reply": "2024-07-13T13:42:30.654537Z"
    },
    "papermill": {
     "duration": 1.003251,
     "end_time": "2024-07-13T13:42:30.657533",
     "exception": false,
     "start_time": "2024-07-13T13:42:29.654282",
     "status": "completed"
    },
    "tags": []
   },
   "outputs": [],
   "source": [
    "model = TextClassifier(vocab_size=VOCAB_SIZE, embed_dim=EMBED_DIM, \n",
    "                       hidden_dim=HIDDEN_DIM, output_dim=OUTPUT_DIM).to(device)\n",
    "\n",
    "loss_fn = nn.CrossEntropyLoss()\n",
    "optimizer = optim.Adam(model.parameters())"
   ]
  },
  {
   "cell_type": "markdown",
   "id": "7906155b",
   "metadata": {
    "papermill": {
     "duration": 0.018372,
     "end_time": "2024-07-13T13:42:30.694755",
     "exception": false,
     "start_time": "2024-07-13T13:42:30.676383",
     "status": "completed"
    },
    "tags": []
   },
   "source": [
    "## Model Training"
   ]
  },
  {
   "cell_type": "code",
   "execution_count": 38,
   "id": "9eb8ffbb",
   "metadata": {
    "execution": {
     "iopub.execute_input": "2024-07-13T13:42:30.733783Z",
     "iopub.status.busy": "2024-07-13T13:42:30.732777Z",
     "iopub.status.idle": "2024-07-13T13:48:04.684502Z",
     "shell.execute_reply": "2024-07-13T13:48:04.683506Z"
    },
    "papermill": {
     "duration": 333.974549,
     "end_time": "2024-07-13T13:48:04.687627",
     "exception": false,
     "start_time": "2024-07-13T13:42:30.713078",
     "status": "completed"
    },
    "tags": []
   },
   "outputs": [
    {
     "data": {
      "application/vnd.jupyter.widget-view+json": {
       "model_id": "bede8b7eb165407da2859f647a98a465",
       "version_major": 2,
       "version_minor": 0
      },
      "text/plain": [
       "  0%|          | 0/31 [00:00<?, ?it/s]"
      ]
     },
     "metadata": {},
     "output_type": "display_data"
    },
    {
     "name": "stdout",
     "output_type": "stream",
     "text": [
      "Epoch: 0 | Train Loss: 1.0495 & Train Accuracy: 51.5% | Val Loss: 1.0078 & Val Accuracy: 52.2%\n",
      "Epoch: 5 | Train Loss: 0.5348 & Train Accuracy: 75.8% | Val Loss: 0.6897 & Val Accuracy: 73.9%\n",
      "Epoch: 10 | Train Loss: 0.5638 & Train Accuracy: 77.3% | Val Loss: 0.5463 & Val Accuracy: 78.9%\n",
      "Epoch: 15 | Train Loss: 0.4498 & Train Accuracy: 83.3% | Val Loss: 0.6236 & Val Accuracy: 78.9%\n",
      "Epoch: 20 | Train Loss: 0.3790 & Train Accuracy: 87.1% | Val Loss: 0.5311 & Val Accuracy: 82.0%\n",
      "Epoch: 25 | Train Loss: 0.2991 & Train Accuracy: 89.4% | Val Loss: 0.2888 & Val Accuracy: 86.3%\n",
      "Epoch: 30 | Train Loss: 0.3756 & Train Accuracy: 86.4% | Val Loss: 0.3518 & Val Accuracy: 89.4%\n"
     ]
    }
   ],
   "source": [
    "torch.manual_seed(42)\n",
    "torch.cuda.manual_seed(42)\n",
    "\n",
    "for epoch in tqdm(range(EPOCHS+1)):\n",
    "    \n",
    "    for texts, labels in train_loader:\n",
    "        model.train()\n",
    "        output_logits = model(texts)\n",
    "        loss = loss_fn(output_logits, labels)\n",
    "        optimizer.zero_grad()\n",
    "        loss.backward()\n",
    "        optimizer.step()\n",
    "        \n",
    "        y_pred = torch.softmax(output_logits, dim=1).argmax(dim=1)\n",
    "        accuracy = accuracy_score(y_true=labels.to('cpu'), y_pred=y_pred.to('cpu')) * 100\n",
    "        \n",
    "    model.eval()\n",
    "    with torch.inference_mode():\n",
    "        for val_texts, val_labels in val_loader:\n",
    "            val_logits = model(val_texts)\n",
    "            val_loss = loss_fn(val_logits, val_labels)\n",
    "            \n",
    "            val_output = torch.softmax(val_logits, dim=1).argmax(dim=1)\n",
    "            val_acc = accuracy_score(y_true=val_labels.to('cpu'), y_pred=val_output.to('cpu')) * 100\n",
    "    \n",
    "    if epoch % 5 == 0:\n",
    "        print(f'Epoch: {epoch} | Train Loss: {loss.item():.4f} & Train Accuracy: {accuracy:.1f}% | Val Loss: {val_loss.item():.4f} & Val Accuracy: {val_acc:.1f}%')"
   ]
  },
  {
   "cell_type": "markdown",
   "id": "0f9980e2",
   "metadata": {
    "papermill": {
     "duration": 0.019254,
     "end_time": "2024-07-13T13:48:04.726286",
     "exception": false,
     "start_time": "2024-07-13T13:48:04.707032",
     "status": "completed"
    },
    "tags": []
   },
   "source": [
    "## Model Testing"
   ]
  },
  {
   "cell_type": "code",
   "execution_count": 39,
   "id": "5dc3a062",
   "metadata": {
    "execution": {
     "iopub.execute_input": "2024-07-13T13:48:04.765836Z",
     "iopub.status.busy": "2024-07-13T13:48:04.765135Z",
     "iopub.status.idle": "2024-07-13T13:48:05.297624Z",
     "shell.execute_reply": "2024-07-13T13:48:05.296823Z"
    },
    "papermill": {
     "duration": 0.5548,
     "end_time": "2024-07-13T13:48:05.299977",
     "exception": false,
     "start_time": "2024-07-13T13:48:04.745177",
     "status": "completed"
    },
    "tags": []
   },
   "outputs": [],
   "source": [
    "model.eval()\n",
    "with torch.inference_mode():\n",
    "    for texts, labels in test_loader:\n",
    "        output_logits = model(texts)\n",
    "        output = torch.softmax(output_logits, dim=1).argmax(dim=1)"
   ]
  },
  {
   "cell_type": "markdown",
   "id": "e91265db",
   "metadata": {
    "papermill": {
     "duration": 0.01935,
     "end_time": "2024-07-13T13:48:05.338867",
     "exception": false,
     "start_time": "2024-07-13T13:48:05.319517",
     "status": "completed"
    },
    "tags": []
   },
   "source": [
    "## Evaluation"
   ]
  },
  {
   "cell_type": "code",
   "execution_count": 40,
   "id": "06158780",
   "metadata": {
    "execution": {
     "iopub.execute_input": "2024-07-13T13:48:05.379235Z",
     "iopub.status.busy": "2024-07-13T13:48:05.378377Z",
     "iopub.status.idle": "2024-07-13T13:48:05.709652Z",
     "shell.execute_reply": "2024-07-13T13:48:05.708762Z"
    },
    "papermill": {
     "duration": 0.353881,
     "end_time": "2024-07-13T13:48:05.711749",
     "exception": false,
     "start_time": "2024-07-13T13:48:05.357868",
     "status": "completed"
    },
    "tags": []
   },
   "outputs": [
    {
     "data": {
      "image/png": "[encoded data removed]",
      "text/plain": [
       "<Figure size 1000x550 with 2 Axes>"
      ]
     },
     "metadata": {},
     "output_type": "display_data"
    }
   ],
   "source": [
    "plot_confusion_matrix(labels.to('cpu'), output.to('cpu'), LABELS)"
   ]
  },
  {
   "cell_type": "code",
   "execution_count": 41,
   "id": "2a7e2052",
   "metadata": {
    "execution": {
     "iopub.execute_input": "2024-07-13T13:48:05.752453Z",
     "iopub.status.busy": "2024-07-13T13:48:05.752112Z",
     "iopub.status.idle": "2024-07-13T13:48:05.764307Z",
     "shell.execute_reply": "2024-07-13T13:48:05.763399Z"
    },
    "papermill": {
     "duration": 0.034587,
     "end_time": "2024-07-13T13:48:05.766215",
     "exception": false,
     "start_time": "2024-07-13T13:48:05.731628",
     "status": "completed"
    },
    "tags": []
   },
   "outputs": [
    {
     "name": "stdout",
     "output_type": "stream",
     "text": [
      "              precision    recall  f1-score   support\n",
      "\n",
      "           0       0.90      0.83      0.87        54\n",
      "           1       0.92      0.98      0.95        56\n",
      "           2       1.00      0.94      0.97        49\n",
      "           3       0.81      0.86      0.84        44\n",
      "\n",
      "    accuracy                           0.91       203\n",
      "   macro avg       0.91      0.90      0.90       203\n",
      "weighted avg       0.91      0.91      0.91       203\n",
      "\n"
     ]
    }
   ],
   "source": [
    "print(classification_report(labels.to('cpu'), output.to('cpu')))"
   ]
  },
  {
   "cell_type": "markdown",
   "id": "dfb61728",
   "metadata": {
    "papermill": {
     "duration": 0.019402,
     "end_time": "2024-07-13T13:48:05.805074",
     "exception": false,
     "start_time": "2024-07-13T13:48:05.785672",
     "status": "completed"
    },
    "tags": []
   },
   "source": [
    "# Example "
   ]
  },
  {
   "cell_type": "code",
   "execution_count": 42,
   "id": "0ad5e8fa",
   "metadata": {
    "execution": {
     "iopub.execute_input": "2024-07-13T13:48:05.845437Z",
     "iopub.status.busy": "2024-07-13T13:48:05.844930Z",
     "iopub.status.idle": "2024-07-13T13:48:05.850246Z",
     "shell.execute_reply": "2024-07-13T13:48:05.849413Z"
    },
    "papermill": {
     "duration": 0.027552,
     "end_time": "2024-07-13T13:48:05.852205",
     "exception": false,
     "start_time": "2024-07-13T13:48:05.824653",
     "status": "completed"
    },
    "tags": []
   },
   "outputs": [],
   "source": [
    "example_text = \"stars are self-gravitating fluids inside which pressure, buoyancy, rotation and magnetic fields provide \"\\\n",
    "\"a restoring forces considering global modes of oscillation. pressure and buoyancy energetically dominate, while rotation and magnetism \" \\\n",
    "\"are generally assumed to be weak perturbations and often ignored. however, observations of anomalously weak dipole mode amplitudes inside \"\\\n",
    "\"red giant stars suggest that the substantial fraction of these are subject to an additional source of damping localised to their core region, \"\\\n",
    "\"with indirect evidence pointing to a role of the deeply buried magnetic field. it was also known that inside many instances a gravity-mode character \"\\\n",
    "\"of affected modes was preserved, but so far no effective damping mechanism has been proposed that accommodates this aspect. here we present such the mechanism, \"\\\n",
    "\"which damps a oscillations of stars harbouring magnetised cores using resonant interactions with standing alfvén modes of high harmonic index. a damping rates \"\\\n",
    "\"produced by this mechanism are quantitatively on par with those associated with turbulent convection, and inside a range required to explain observations, considering \"\\\n",
    "\"realistic stellar models and magnetic field strengths. our results suggest that magnetic fields should provide an efficient means of damping stellar oscillations without \"\\\n",
    "\"needing to disrupt a internal structure of a modes, and lay a groundwork considering an extension of a theory of global stellar oscillations that incorporates these effects.\"\n",
    "\n",
    "example_target = 'Physics'\n",
    "example_label = 2"
   ]
  },
  {
   "cell_type": "code",
   "execution_count": 43,
   "id": "2dcbb87b",
   "metadata": {
    "execution": {
     "iopub.execute_input": "2024-07-13T13:48:05.893181Z",
     "iopub.status.busy": "2024-07-13T13:48:05.892921Z",
     "iopub.status.idle": "2024-07-13T13:48:05.907471Z",
     "shell.execute_reply": "2024-07-13T13:48:05.906540Z"
    },
    "papermill": {
     "duration": 0.037021,
     "end_time": "2024-07-13T13:48:05.909317",
     "exception": false,
     "start_time": "2024-07-13T13:48:05.872296",
     "status": "completed"
    },
    "tags": []
   },
   "outputs": [
    {
     "data": {
      "text/plain": [
       "tensor([[  126,   712,     2,   577,  6052,   899,    85,    39,    69,  7144,\n",
       "           865,     3,   258,   368,  1361,   577,  6052,  5203,  4067,   899,\n",
       "          2272,   929,  1369,   547,   548,   233,  4080,    59,    92,  7223,\n",
       "           547,  2458,   368,  1059,     2,  1999,  1168,   126,   611,  1407,\n",
       "           686,   808,   476,   131,  2352,  7390,   562,   164,  2474,   556,\n",
       "          4174,   461,  5451,  6717,    85,    39,    16,   153,     2,    91,\n",
       "           564,  1012,  1706,   368,  3172,   821,   236,  2352,   265,    22,\n",
       "          6691,   725,    26,   265,  9910,  1361,   126,     1, 14870,   562,\n",
       "           202,  2366,   102,  6413,  8444,   368,    74,  1487,   689,  2352,\n",
       "            79,  1250,   265,  2231,  4912,   270,  1329,  2651,     2,   169,\n",
       "           539,   908,    92,     3,   955,   321,     4,    85,    39,   764,\n",
       "             8,   611,    85,    39,    69,   175,   187,  2352,   321,  1361,\n",
       "           167,  6837,  9147,  1262,    30,   368,  6130, 12453,     3,   588,\n",
       "            80,   258,   321,  1361,  2067,    70]], device='cuda:0')"
      ]
     },
     "execution_count": 43,
     "metadata": {},
     "output_type": "execute_result"
    }
   ],
   "source": [
    "encoded_text = encode(preprocess_text(text=example_text, ml=False))\n",
    "encoded_text = torch.unsqueeze(torch.tensor(encoded_text).to(device), 0)\n",
    "encoded_text"
   ]
  },
  {
   "cell_type": "code",
   "execution_count": 44,
   "id": "9423c4d4",
   "metadata": {
    "execution": {
     "iopub.execute_input": "2024-07-13T13:48:05.949991Z",
     "iopub.status.busy": "2024-07-13T13:48:05.949737Z",
     "iopub.status.idle": "2024-07-13T13:48:05.987969Z",
     "shell.execute_reply": "2024-07-13T13:48:05.987102Z"
    },
    "papermill": {
     "duration": 0.060815,
     "end_time": "2024-07-13T13:48:05.989799",
     "exception": false,
     "start_time": "2024-07-13T13:48:05.928984",
     "status": "completed"
    },
    "tags": []
   },
   "outputs": [
    {
     "data": {
      "text/plain": [
       "tensor([True], device='cuda:0')"
      ]
     },
     "execution_count": 44,
     "metadata": {},
     "output_type": "execute_result"
    }
   ],
   "source": [
    "model.eval()\n",
    "with torch.inference_mode():\n",
    "    output_logits = model(encoded_text)\n",
    "    output = torch.softmax(output_logits, dim=1).argmax(dim=1)\n",
    "    \n",
    "output == example_label"
   ]
  }
 ],
 "metadata": {
  "kaggle": {
   "accelerator": "gpu",
   "dataSources": [
    {
     "datasetId": 932025,
     "sourceId": 2994327,
     "sourceType": "datasetVersion"
    }
   ],
   "dockerImageVersionId": 30732,
   "isGpuEnabled": true,
   "isInternetEnabled": true,
   "language": "python",
   "sourceType": "notebook"
  },
  "kernelspec": {
   "display_name": "Python 3",
   "language": "python",
   "name": "python3"
  },
  "language_info": {
   "codemirror_mode": {
    "name": "ipython",
    "version": 3
   },
   "file_extension": ".py",
   "mimetype": "text/x-python",
   "name": "python",
   "nbconvert_exporter": "python",
   "pygments_lexer": "ipython3",
   "version": "3.10.13"
  },
  "papermill": {
   "default_parameters": {},
   "duration": 459.442625,
   "end_time": "2024-07-13T13:48:08.729171",
   "environment_variables": {},
   "exception": null,
   "input_path": "__notebook__.ipynb",
   "output_path": "__notebook__.ipynb",
   "parameters": {},
   "start_time": "2024-07-13T13:40:29.286546",
   "version": "2.5.0"
  },
  "widgets": {
   "application/vnd.jupyter.widget-state+json": {
    "state": {
     "15b72115c036495884b5e4e1acece0e5": {
      "model_module": "@jupyter-widgets/base",
      "model_module_version": "1.2.0",
      "model_name": "LayoutModel",
      "state": {
       "_model_module": "@jupyter-widgets/base",
       "_model_module_version": "1.2.0",
       "_model_name": "LayoutModel",
       "_view_count": null,
       "_view_module": "@jupyter-widgets/base",
       "_view_module_version": "1.2.0",
       "_view_name": "LayoutView",
       "align_content": null,
       "align_items": null,
       "align_self": null,
       "border": null,
       "bottom": null,
       "display": null,
       "flex": null,
       "flex_flow": null,
       "grid_area": null,
       "grid_auto_columns": null,
       "grid_auto_flow": null,
       "grid_auto_rows": null,
       "grid_column": null,
       "grid_gap": null,
       "grid_row": null,
       "grid_template_areas": null,
       "grid_template_columns": null,
       "grid_template_rows": null,
       "height": null,
       "justify_content": null,
       "justify_items": null,
       "left": null,
       "margin": null,
       "max_height": null,
       "max_width": null,
       "min_height": null,
       "min_width": null,
       "object_fit": null,
       "object_position": null,
       "order": null,
       "overflow": null,
       "overflow_x": null,
       "overflow_y": null,
       "padding": null,
       "right": null,
       "top": null,
       "visibility": null,
       "width": null
      }
     },
     "23fc37b57aa1454092c5d7755a048c1d": {
      "model_module": "@jupyter-widgets/controls",
      "model_module_version": "1.5.0",
      "model_name": "HTMLModel",
      "state": {
       "_dom_classes": [],
       "_model_module": "@jupyter-widgets/controls",
       "_model_module_version": "1.5.0",
       "_model_name": "HTMLModel",
       "_view_count": null,
       "_view_module": "@jupyter-widgets/controls",
       "_view_module_version": "1.5.0",
       "_view_name": "HTMLView",
       "description": "",
       "description_tooltip": null,
       "layout": "IPY_MODEL_15b72115c036495884b5e4e1acece0e5",
       "placeholder": "​",
       "style": "IPY_MODEL_49060700c4924d13a29bfda7ead04b05",
       "value": " 31/31 [05:33&lt;00:00, 10.78s/it]"
      }
     },
     "262c866cfc2343d59eae855e491c4839": {
      "model_module": "@jupyter-widgets/controls",
      "model_module_version": "1.5.0",
      "model_name": "HTMLModel",
      "state": {
       "_dom_classes": [],
       "_model_module": "@jupyter-widgets/controls",
       "_model_module_version": "1.5.0",
       "_model_name": "HTMLModel",
       "_view_count": null,
       "_view_module": "@jupyter-widgets/controls",
       "_view_module_version": "1.5.0",
       "_view_name": "HTMLView",
       "description": "",
       "description_tooltip": null,
       "layout": "IPY_MODEL_9470bb014dbe40c0b98478ceae27f58b",
       "placeholder": "​",
       "style": "IPY_MODEL_8f36da3e6e0a4220a065873a35357e69",
       "value": "100%"
      }
     },
     "40d997c5fa074ec6b5bb1a0e52dedc18": {
      "model_module": "@jupyter-widgets/base",
      "model_module_version": "1.2.0",
      "model_name": "LayoutModel",
      "state": {
       "_model_module": "@jupyter-widgets/base",
       "_model_module_version": "1.2.0",
       "_model_name": "LayoutModel",
       "_view_count": null,
       "_view_module": "@jupyter-widgets/base",
       "_view_module_version": "1.2.0",
       "_view_name": "LayoutView",
       "align_content": null,
       "align_items": null,
       "align_self": null,
       "border": null,
       "bottom": null,
       "display": null,
       "flex": null,
       "flex_flow": null,
       "grid_area": null,
       "grid_auto_columns": null,
       "grid_auto_flow": null,
       "grid_auto_rows": null,
       "grid_column": null,
       "grid_gap": null,
       "grid_row": null,
       "grid_template_areas": null,
       "grid_template_columns": null,
       "grid_template_rows": null,
       "height": null,
       "justify_content": null,
       "justify_items": null,
       "left": null,
       "margin": null,
       "max_height": null,
       "max_width": null,
       "min_height": null,
       "min_width": null,
       "object_fit": null,
       "object_position": null,
       "order": null,
       "overflow": null,
       "overflow_x": null,
       "overflow_y": null,
       "padding": null,
       "right": null,
       "top": null,
       "visibility": null,
       "width": null
      }
     },
     "49060700c4924d13a29bfda7ead04b05": {
      "model_module": "@jupyter-widgets/controls",
      "model_module_version": "1.5.0",
      "model_name": "DescriptionStyleModel",
      "state": {
       "_model_module": "@jupyter-widgets/controls",
       "_model_module_version": "1.5.0",
       "_model_name": "DescriptionStyleModel",
       "_view_count": null,
       "_view_module": "@jupyter-widgets/base",
       "_view_module_version": "1.2.0",
       "_view_name": "StyleView",
       "description_width": ""
      }
     },
     "5969ed90d67547dfa09fad887663f524": {
      "model_module": "@jupyter-widgets/controls",
      "model_module_version": "1.5.0",
      "model_name": "FloatProgressModel",
      "state": {
       "_dom_classes": [],
       "_model_module": "@jupyter-widgets/controls",
       "_model_module_version": "1.5.0",
       "_model_name": "FloatProgressModel",
       "_view_count": null,
       "_view_module": "@jupyter-widgets/controls",
       "_view_module_version": "1.5.0",
       "_view_name": "ProgressView",
       "bar_style": "success",
       "description": "",
       "description_tooltip": null,
       "layout": "IPY_MODEL_b3276727504f46fdb641d40c5ec57032",
       "max": 31.0,
       "min": 0.0,
       "orientation": "horizontal",
       "style": "IPY_MODEL_9773e845ef37415ca201d9c0f98af5fb",
       "value": 31.0
      }
     },
     "8f36da3e6e0a4220a065873a35357e69": {
      "model_module": "@jupyter-widgets/controls",
      "model_module_version": "1.5.0",
      "model_name": "DescriptionStyleModel",
      "state": {
       "_model_module": "@jupyter-widgets/controls",
       "_model_module_version": "1.5.0",
       "_model_name": "DescriptionStyleModel",
       "_view_count": null,
       "_view_module": "@jupyter-widgets/base",
       "_view_module_version": "1.2.0",
       "_view_name": "StyleView",
       "description_width": ""
      }
     },
     "9470bb014dbe40c0b98478ceae27f58b": {
      "model_module": "@jupyter-widgets/base",
      "model_module_version": "1.2.0",
      "model_name": "LayoutModel",
      "state": {
       "_model_module": "@jupyter-widgets/base",
       "_model_module_version": "1.2.0",
       "_model_name": "LayoutModel",
       "_view_count": null,
       "_view_module": "@jupyter-widgets/base",
       "_view_module_version": "1.2.0",
       "_view_name": "LayoutView",
       "align_content": null,
       "align_items": null,
       "align_self": null,
       "border": null,
       "bottom": null,
       "display": null,
       "flex": null,
       "flex_flow": null,
       "grid_area": null,
       "grid_auto_columns": null,
       "grid_auto_flow": null,
       "grid_auto_rows": null,
       "grid_column": null,
       "grid_gap": null,
       "grid_row": null,
       "grid_template_areas": null,
       "grid_template_columns": null,
       "grid_template_rows": null,
       "height": null,
       "justify_content": null,
       "justify_items": null,
       "left": null,
       "margin": null,
       "max_height": null,
       "max_width": null,
       "min_height": null,
       "min_width": null,
       "object_fit": null,
       "object_position": null,
       "order": null,
       "overflow": null,
       "overflow_x": null,
       "overflow_y": null,
       "padding": null,
       "right": null,
       "top": null,
       "visibility": null,
       "width": null
      }
     },
     "9773e845ef37415ca201d9c0f98af5fb": {
      "model_module": "@jupyter-widgets/controls",
      "model_module_version": "1.5.0",
      "model_name": "ProgressStyleModel",
      "state": {
       "_model_module": "@jupyter-widgets/controls",
       "_model_module_version": "1.5.0",
       "_model_name": "ProgressStyleModel",
       "_view_count": null,
       "_view_module": "@jupyter-widgets/base",
       "_view_module_version": "1.2.0",
       "_view_name": "StyleView",
       "bar_color": null,
       "description_width": ""
      }
     },
     "b3276727504f46fdb641d40c5ec57032": {
      "model_module": "@jupyter-widgets/base",
      "model_module_version": "1.2.0",
      "model_name": "LayoutModel",
      "state": {
       "_model_module": "@jupyter-widgets/base",
       "_model_module_version": "1.2.0",
       "_model_name": "LayoutModel",
       "_view_count": null,
       "_view_module": "@jupyter-widgets/base",
       "_view_module_version": "1.2.0",
       "_view_name": "LayoutView",
       "align_content": null,
       "align_items": null,
       "align_self": null,
       "border": null,
       "bottom": null,
       "display": null,
       "flex": null,
       "flex_flow": null,
       "grid_area": null,
       "grid_auto_columns": null,
       "grid_auto_flow": null,
       "grid_auto_rows": null,
       "grid_column": null,
       "grid_gap": null,
       "grid_row": null,
       "grid_template_areas": null,
       "grid_template_columns": null,
       "grid_template_rows": null,
       "height": null,
       "justify_content": null,
       "justify_items": null,
       "left": null,
       "margin": null,
       "max_height": null,
       "max_width": null,
       "min_height": null,
       "min_width": null,
       "object_fit": null,
       "object_position": null,
       "order": null,
       "overflow": null,
       "overflow_x": null,
       "overflow_y": null,
       "padding": null,
       "right": null,
       "top": null,
       "visibility": null,
       "width": null
      }
     },
     "bede8b7eb165407da2859f647a98a465": {
      "model_module": "@jupyter-widgets/controls",
      "model_module_version": "1.5.0",
      "model_name": "HBoxModel",
      "state": {
       "_dom_classes": [],
       "_model_module": "@jupyter-widgets/controls",
       "_model_module_version": "1.5.0",
       "_model_name": "HBoxModel",
       "_view_count": null,
       "_view_module": "@jupyter-widgets/controls",
       "_view_module_version": "1.5.0",
       "_view_name": "HBoxView",
       "box_style": "",
       "children": [
        "IPY_MODEL_262c866cfc2343d59eae855e491c4839",
        "IPY_MODEL_5969ed90d67547dfa09fad887663f524",
        "IPY_MODEL_23fc37b57aa1454092c5d7755a048c1d"
       ],
       "layout": "IPY_MODEL_40d997c5fa074ec6b5bb1a0e52dedc18"
      }
     }
    },
    "version_major": 2,
    "version_minor": 0
   }
  }
 },
 "nbformat": 4,
 "nbformat_minor": 5
}
