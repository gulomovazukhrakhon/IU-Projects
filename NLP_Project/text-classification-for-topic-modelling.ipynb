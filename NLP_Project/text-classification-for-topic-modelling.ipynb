{
 "cells": [
  {
   "cell_type": "markdown",
   "id": "32db8e85",
   "metadata": {
    "papermill": {
     "duration": 0.012665,
     "end_time": "2024-07-01T07:59:27.071312",
     "exception": false,
     "start_time": "2024-07-01T07:59:27.058647",
     "status": "completed"
    },
    "tags": []
   },
   "source": [
    "# Text Classification for Topic Modelling"
   ]
  },
  {
   "cell_type": "markdown",
   "id": "71594721",
   "metadata": {
    "papermill": {
     "duration": 0.011517,
     "end_time": "2024-07-01T07:59:27.094749",
     "exception": false,
     "start_time": "2024-07-01T07:59:27.083232",
     "status": "completed"
    },
    "tags": []
   },
   "source": [
    "## Notebook Imports"
   ]
  },
  {
   "cell_type": "code",
   "execution_count": 1,
   "id": "40323f6f",
   "metadata": {
    "_cell_guid": "b1076dfc-b9ad-4769-8c92-a6c4dae69d19",
    "_uuid": "8f2839f25d086af736a60e9eeb907d3b93b6e0e5",
    "execution": {
     "iopub.execute_input": "2024-07-01T07:59:27.119837Z",
     "iopub.status.busy": "2024-07-01T07:59:27.119461Z",
     "iopub.status.idle": "2024-07-01T07:59:34.789403Z",
     "shell.execute_reply": "2024-07-01T07:59:34.788598Z"
    },
    "papermill": {
     "duration": 7.685287,
     "end_time": "2024-07-01T07:59:34.791657",
     "exception": false,
     "start_time": "2024-07-01T07:59:27.106370",
     "status": "completed"
    },
    "tags": []
   },
   "outputs": [],
   "source": [
    "# NLTK\n",
    "import nltk\n",
    "from nltk.corpus import stopwords\n",
    "from nltk.stem import WordNetLemmatizer\n",
    "from nltk.tokenize import word_tokenize\n",
    "\n",
    "# Sklearn\n",
    "import sklearn\n",
    "from sklearn.naive_bayes import MultinomialNB\n",
    "from sklearn.preprocessing import LabelEncoder\n",
    "from sklearn.ensemble import RandomForestClassifier\n",
    "from sklearn.linear_model import LogisticRegression\n",
    "from sklearn.model_selection import train_test_split\n",
    "from sklearn.metrics import accuracy_score, classification_report\n",
    "from sklearn.feature_extraction.text import CountVectorizer, TfidfTransformer\n",
    "\n",
    "# PyTorch\n",
    "import torch\n",
    "import torch.nn as nn\n",
    "import torch.optim as optim\n",
    "from torch.nn.utils.rnn import pad_sequence\n",
    "from torch.utils.data import DataLoader, Dataset\n",
    "from torchtext.vocab import build_vocab_from_iterator\n",
    "\n",
    "# Other\n",
    "import numpy as np\n",
    "import pandas as pd\n",
    "import seaborn as sns\n",
    "import matplotlib.pyplot as plt\n",
    "\n",
    "%matplotlib inline"
   ]
  },
  {
   "cell_type": "code",
   "execution_count": 2,
   "id": "1bb8af69",
   "metadata": {
    "execution": {
     "iopub.execute_input": "2024-07-01T07:59:34.819210Z",
     "iopub.status.busy": "2024-07-01T07:59:34.818515Z",
     "iopub.status.idle": "2024-07-01T07:59:35.123763Z",
     "shell.execute_reply": "2024-07-01T07:59:35.122841Z"
    },
    "papermill": {
     "duration": 0.320927,
     "end_time": "2024-07-01T07:59:35.125909",
     "exception": false,
     "start_time": "2024-07-01T07:59:34.804982",
     "status": "completed"
    },
    "tags": []
   },
   "outputs": [
    {
     "name": "stdout",
     "output_type": "stream",
     "text": [
      "[nltk_data] Downloading package stopwords to /usr/share/nltk_data...\n",
      "[nltk_data]   Package stopwords is already up-to-date!\n",
      "[nltk_data] Downloading package punkt to /usr/share/nltk_data...\n",
      "[nltk_data]   Package punkt is already up-to-date!\n",
      "[nltk_data] Downloading package wordnet to /usr/share/nltk_data...\n",
      "[nltk_data]   Package wordnet is already up-to-date!\n",
      "[nltk_data] Downloading package omw-1.4 to /usr/share/nltk_data...\n"
     ]
    },
    {
     "data": {
      "text/plain": [
       "True"
      ]
     },
     "execution_count": 2,
     "metadata": {},
     "output_type": "execute_result"
    }
   ],
   "source": [
    "nltk.download('stopwords')\n",
    "nltk.download(\"punkt\")\n",
    "nltk.download(\"wordnet\")\n",
    "nltk.download(\"omw-1.4\")"
   ]
  },
  {
   "cell_type": "code",
   "execution_count": 3,
   "id": "5e67b879",
   "metadata": {
    "execution": {
     "iopub.execute_input": "2024-07-01T07:59:35.151560Z",
     "iopub.status.busy": "2024-07-01T07:59:35.151286Z",
     "iopub.status.idle": "2024-07-01T07:59:36.396463Z",
     "shell.execute_reply": "2024-07-01T07:59:36.395489Z"
    },
    "papermill": {
     "duration": 1.260294,
     "end_time": "2024-07-01T07:59:36.398571",
     "exception": false,
     "start_time": "2024-07-01T07:59:35.138277",
     "status": "completed"
    },
    "tags": []
   },
   "outputs": [
    {
     "name": "stdout",
     "output_type": "stream",
     "text": [
      "Archive:  /usr/share/nltk_data/corpora/wordnet.zip\r\n",
      "   creating: /usr/share/nltk_data/corpora/wordnet/\r\n",
      "  inflating: /usr/share/nltk_data/corpora/wordnet/lexnames  \r\n",
      "  inflating: /usr/share/nltk_data/corpora/wordnet/data.verb  \r\n",
      "  inflating: /usr/share/nltk_data/corpora/wordnet/index.adv  \r\n",
      "  inflating: /usr/share/nltk_data/corpora/wordnet/adv.exc  \r\n",
      "  inflating: /usr/share/nltk_data/corpora/wordnet/index.verb  \r\n",
      "  inflating: /usr/share/nltk_data/corpora/wordnet/cntlist.rev  \r\n",
      "  inflating: /usr/share/nltk_data/corpora/wordnet/data.adj  \r\n",
      "  inflating: /usr/share/nltk_data/corpora/wordnet/index.adj  \r\n",
      "  inflating: /usr/share/nltk_data/corpora/wordnet/LICENSE  \r\n",
      "  inflating: /usr/share/nltk_data/corpora/wordnet/citation.bib  \r\n",
      "  inflating: /usr/share/nltk_data/corpora/wordnet/noun.exc  \r\n",
      "  inflating: /usr/share/nltk_data/corpora/wordnet/verb.exc  \r\n",
      "  inflating: /usr/share/nltk_data/corpora/wordnet/README  \r\n",
      "  inflating: /usr/share/nltk_data/corpora/wordnet/index.sense  \r\n",
      "  inflating: /usr/share/nltk_data/corpora/wordnet/data.noun  \r\n",
      "  inflating: /usr/share/nltk_data/corpora/wordnet/data.adv  \r\n",
      "  inflating: /usr/share/nltk_data/corpora/wordnet/index.noun  \r\n",
      "  inflating: /usr/share/nltk_data/corpora/wordnet/adj.exc  \r\n"
     ]
    }
   ],
   "source": [
    "from nltk.corpus import wordnet\n",
    "! unzip /usr/share/nltk_data/corpora/wordnet.zip -d /usr/share/nltk_data/corpora/"
   ]
  },
  {
   "cell_type": "markdown",
   "id": "5602c19e",
   "metadata": {
    "papermill": {
     "duration": 0.012405,
     "end_time": "2024-07-01T07:59:36.423633",
     "exception": false,
     "start_time": "2024-07-01T07:59:36.411228",
     "status": "completed"
    },
    "tags": []
   },
   "source": [
    "# Data Loading"
   ]
  },
  {
   "cell_type": "code",
   "execution_count": 4,
   "id": "9b55bbdf",
   "metadata": {
    "execution": {
     "iopub.execute_input": "2024-07-01T07:59:36.449376Z",
     "iopub.status.busy": "2024-07-01T07:59:36.449048Z",
     "iopub.status.idle": "2024-07-01T07:59:36.503862Z",
     "shell.execute_reply": "2024-07-01T07:59:36.502795Z"
    },
    "papermill": {
     "duration": 0.070015,
     "end_time": "2024-07-01T07:59:36.505845",
     "exception": false,
     "start_time": "2024-07-01T07:59:36.435830",
     "status": "completed"
    },
    "tags": []
   },
   "outputs": [],
   "source": [
    "DATASET_ROOT = '/kaggle/input/topic-modeling-for-research-articles/Train.csv'\n",
    "device = 'cuda' if torch.cuda.is_available() else 'cpu'"
   ]
  },
  {
   "cell_type": "code",
   "execution_count": 5,
   "id": "9b7ff051",
   "metadata": {
    "execution": {
     "iopub.execute_input": "2024-07-01T07:59:36.531977Z",
     "iopub.status.busy": "2024-07-01T07:59:36.531238Z",
     "iopub.status.idle": "2024-07-01T07:59:36.932339Z",
     "shell.execute_reply": "2024-07-01T07:59:36.931427Z"
    },
    "papermill": {
     "duration": 0.416349,
     "end_time": "2024-07-01T07:59:36.934599",
     "exception": false,
     "start_time": "2024-07-01T07:59:36.518250",
     "status": "completed"
    },
    "tags": []
   },
   "outputs": [
    {
     "data": {
      "text/html": [
       "<div>\n",
       "<style scoped>\n",
       "    .dataframe tbody tr th:only-of-type {\n",
       "        vertical-align: middle;\n",
       "    }\n",
       "\n",
       "    .dataframe tbody tr th {\n",
       "        vertical-align: top;\n",
       "    }\n",
       "\n",
       "    .dataframe thead th {\n",
       "        text-align: right;\n",
       "    }\n",
       "</style>\n",
       "<table border=\"1\" class=\"dataframe\">\n",
       "  <thead>\n",
       "    <tr style=\"text-align: right;\">\n",
       "      <th></th>\n",
       "      <th>id</th>\n",
       "      <th>ABSTRACT</th>\n",
       "      <th>Computer Science</th>\n",
       "      <th>Mathematics</th>\n",
       "      <th>Physics</th>\n",
       "      <th>Statistics</th>\n",
       "      <th>Analysis of PDEs</th>\n",
       "      <th>Applications</th>\n",
       "      <th>Artificial Intelligence</th>\n",
       "      <th>Astrophysics of Galaxies</th>\n",
       "      <th>...</th>\n",
       "      <th>Methodology</th>\n",
       "      <th>Number Theory</th>\n",
       "      <th>Optimization and Control</th>\n",
       "      <th>Representation Theory</th>\n",
       "      <th>Robotics</th>\n",
       "      <th>Social and Information Networks</th>\n",
       "      <th>Statistics Theory</th>\n",
       "      <th>Strongly Correlated Electrons</th>\n",
       "      <th>Superconductivity</th>\n",
       "      <th>Systems and Control</th>\n",
       "    </tr>\n",
       "  </thead>\n",
       "  <tbody>\n",
       "    <tr>\n",
       "      <th>0</th>\n",
       "      <td>1824</td>\n",
       "      <td>a ever-growing datasets inside observational a...</td>\n",
       "      <td>0</td>\n",
       "      <td>0</td>\n",
       "      <td>1</td>\n",
       "      <td>0</td>\n",
       "      <td>0</td>\n",
       "      <td>0</td>\n",
       "      <td>0</td>\n",
       "      <td>0</td>\n",
       "      <td>...</td>\n",
       "      <td>0</td>\n",
       "      <td>0</td>\n",
       "      <td>0</td>\n",
       "      <td>0</td>\n",
       "      <td>0</td>\n",
       "      <td>0</td>\n",
       "      <td>0</td>\n",
       "      <td>0</td>\n",
       "      <td>0</td>\n",
       "      <td>0</td>\n",
       "    </tr>\n",
       "    <tr>\n",
       "      <th>1</th>\n",
       "      <td>3094</td>\n",
       "      <td>we propose the framework considering optimal $...</td>\n",
       "      <td>1</td>\n",
       "      <td>0</td>\n",
       "      <td>0</td>\n",
       "      <td>0</td>\n",
       "      <td>0</td>\n",
       "      <td>0</td>\n",
       "      <td>0</td>\n",
       "      <td>0</td>\n",
       "      <td>...</td>\n",
       "      <td>0</td>\n",
       "      <td>0</td>\n",
       "      <td>0</td>\n",
       "      <td>0</td>\n",
       "      <td>0</td>\n",
       "      <td>0</td>\n",
       "      <td>0</td>\n",
       "      <td>0</td>\n",
       "      <td>0</td>\n",
       "      <td>0</td>\n",
       "    </tr>\n",
       "    <tr>\n",
       "      <th>2</th>\n",
       "      <td>8463</td>\n",
       "      <td>nanostructures with open shell transition meta...</td>\n",
       "      <td>0</td>\n",
       "      <td>0</td>\n",
       "      <td>1</td>\n",
       "      <td>0</td>\n",
       "      <td>0</td>\n",
       "      <td>0</td>\n",
       "      <td>0</td>\n",
       "      <td>0</td>\n",
       "      <td>...</td>\n",
       "      <td>0</td>\n",
       "      <td>0</td>\n",
       "      <td>0</td>\n",
       "      <td>0</td>\n",
       "      <td>0</td>\n",
       "      <td>0</td>\n",
       "      <td>0</td>\n",
       "      <td>1</td>\n",
       "      <td>0</td>\n",
       "      <td>0</td>\n",
       "    </tr>\n",
       "    <tr>\n",
       "      <th>3</th>\n",
       "      <td>2082</td>\n",
       "      <td>stars are self-gravitating fluids inside which...</td>\n",
       "      <td>0</td>\n",
       "      <td>0</td>\n",
       "      <td>1</td>\n",
       "      <td>0</td>\n",
       "      <td>0</td>\n",
       "      <td>0</td>\n",
       "      <td>0</td>\n",
       "      <td>0</td>\n",
       "      <td>...</td>\n",
       "      <td>0</td>\n",
       "      <td>0</td>\n",
       "      <td>0</td>\n",
       "      <td>0</td>\n",
       "      <td>0</td>\n",
       "      <td>0</td>\n",
       "      <td>0</td>\n",
       "      <td>0</td>\n",
       "      <td>0</td>\n",
       "      <td>0</td>\n",
       "    </tr>\n",
       "    <tr>\n",
       "      <th>4</th>\n",
       "      <td>8687</td>\n",
       "      <td>deep neural perception and control networks ar...</td>\n",
       "      <td>1</td>\n",
       "      <td>0</td>\n",
       "      <td>0</td>\n",
       "      <td>0</td>\n",
       "      <td>0</td>\n",
       "      <td>0</td>\n",
       "      <td>0</td>\n",
       "      <td>0</td>\n",
       "      <td>...</td>\n",
       "      <td>0</td>\n",
       "      <td>0</td>\n",
       "      <td>0</td>\n",
       "      <td>0</td>\n",
       "      <td>0</td>\n",
       "      <td>0</td>\n",
       "      <td>0</td>\n",
       "      <td>0</td>\n",
       "      <td>0</td>\n",
       "      <td>0</td>\n",
       "    </tr>\n",
       "  </tbody>\n",
       "</table>\n",
       "<p>5 rows × 31 columns</p>\n",
       "</div>"
      ],
      "text/plain": [
       "     id                                           ABSTRACT  Computer Science  \\\n",
       "0  1824  a ever-growing datasets inside observational a...                 0   \n",
       "1  3094  we propose the framework considering optimal $...                 1   \n",
       "2  8463  nanostructures with open shell transition meta...                 0   \n",
       "3  2082  stars are self-gravitating fluids inside which...                 0   \n",
       "4  8687  deep neural perception and control networks ar...                 1   \n",
       "\n",
       "   Mathematics  Physics  Statistics  Analysis of PDEs  Applications  \\\n",
       "0            0        1           0                 0             0   \n",
       "1            0        0           0                 0             0   \n",
       "2            0        1           0                 0             0   \n",
       "3            0        1           0                 0             0   \n",
       "4            0        0           0                 0             0   \n",
       "\n",
       "   Artificial Intelligence  Astrophysics of Galaxies  ...  Methodology  \\\n",
       "0                        0                         0  ...            0   \n",
       "1                        0                         0  ...            0   \n",
       "2                        0                         0  ...            0   \n",
       "3                        0                         0  ...            0   \n",
       "4                        0                         0  ...            0   \n",
       "\n",
       "   Number Theory  Optimization and Control  Representation Theory  Robotics  \\\n",
       "0              0                         0                      0         0   \n",
       "1              0                         0                      0         0   \n",
       "2              0                         0                      0         0   \n",
       "3              0                         0                      0         0   \n",
       "4              0                         0                      0         0   \n",
       "\n",
       "   Social and Information Networks  Statistics Theory  \\\n",
       "0                                0                  0   \n",
       "1                                0                  0   \n",
       "2                                0                  0   \n",
       "3                                0                  0   \n",
       "4                                0                  0   \n",
       "\n",
       "   Strongly Correlated Electrons  Superconductivity  Systems and Control  \n",
       "0                              0                  0                    0  \n",
       "1                              0                  0                    0  \n",
       "2                              1                  0                    0  \n",
       "3                              0                  0                    0  \n",
       "4                              0                  0                    0  \n",
       "\n",
       "[5 rows x 31 columns]"
      ]
     },
     "execution_count": 5,
     "metadata": {},
     "output_type": "execute_result"
    }
   ],
   "source": [
    "train_df = pd.read_csv(DATASET_ROOT)\n",
    "train_df.head()"
   ]
  },
  {
   "cell_type": "markdown",
   "id": "8054fd2b",
   "metadata": {
    "papermill": {
     "duration": 0.01326,
     "end_time": "2024-07-01T07:59:36.961565",
     "exception": false,
     "start_time": "2024-07-01T07:59:36.948305",
     "status": "completed"
    },
    "tags": []
   },
   "source": [
    "# Data Preprocessing"
   ]
  },
  {
   "cell_type": "code",
   "execution_count": 6,
   "id": "c015d547",
   "metadata": {
    "execution": {
     "iopub.execute_input": "2024-07-01T07:59:36.989190Z",
     "iopub.status.busy": "2024-07-01T07:59:36.988852Z",
     "iopub.status.idle": "2024-07-01T07:59:37.016855Z",
     "shell.execute_reply": "2024-07-01T07:59:37.015997Z"
    },
    "papermill": {
     "duration": 0.044189,
     "end_time": "2024-07-01T07:59:37.018906",
     "exception": false,
     "start_time": "2024-07-01T07:59:36.974717",
     "status": "completed"
    },
    "tags": []
   },
   "outputs": [
    {
     "data": {
      "text/html": [
       "<div>\n",
       "<style scoped>\n",
       "    .dataframe tbody tr th:only-of-type {\n",
       "        vertical-align: middle;\n",
       "    }\n",
       "\n",
       "    .dataframe tbody tr th {\n",
       "        vertical-align: top;\n",
       "    }\n",
       "\n",
       "    .dataframe thead th {\n",
       "        text-align: right;\n",
       "    }\n",
       "</style>\n",
       "<table border=\"1\" class=\"dataframe\">\n",
       "  <thead>\n",
       "    <tr style=\"text-align: right;\">\n",
       "      <th></th>\n",
       "      <th>ABSTRACT</th>\n",
       "      <th>Target</th>\n",
       "    </tr>\n",
       "  </thead>\n",
       "  <tbody>\n",
       "    <tr>\n",
       "      <th>0</th>\n",
       "      <td>a ever-growing datasets inside observational a...</td>\n",
       "      <td>Physics</td>\n",
       "    </tr>\n",
       "    <tr>\n",
       "      <th>1</th>\n",
       "      <td>we propose the framework considering optimal $...</td>\n",
       "      <td>Computer Science</td>\n",
       "    </tr>\n",
       "    <tr>\n",
       "      <th>2</th>\n",
       "      <td>nanostructures with open shell transition meta...</td>\n",
       "      <td>Physics</td>\n",
       "    </tr>\n",
       "    <tr>\n",
       "      <th>3</th>\n",
       "      <td>stars are self-gravitating fluids inside which...</td>\n",
       "      <td>Physics</td>\n",
       "    </tr>\n",
       "    <tr>\n",
       "      <th>4</th>\n",
       "      <td>deep neural perception and control networks ar...</td>\n",
       "      <td>Computer Science</td>\n",
       "    </tr>\n",
       "  </tbody>\n",
       "</table>\n",
       "</div>"
      ],
      "text/plain": [
       "                                            ABSTRACT            Target\n",
       "0  a ever-growing datasets inside observational a...           Physics\n",
       "1  we propose the framework considering optimal $...  Computer Science\n",
       "2  nanostructures with open shell transition meta...           Physics\n",
       "3  stars are self-gravitating fluids inside which...           Physics\n",
       "4  deep neural perception and control networks ar...  Computer Science"
      ]
     },
     "execution_count": 6,
     "metadata": {},
     "output_type": "execute_result"
    }
   ],
   "source": [
    "# Dropping ID\n",
    "train_df.drop('id', axis=1, inplace=True)\n",
    "\n",
    "# Resetting ID \n",
    "train_df.reset_index()\n",
    "\n",
    "topics = train_df.columns[1:]\n",
    "train_df['Target'] = train_df[topics].idxmax(axis=1)\n",
    "train_df.drop(topics, axis=1, inplace=True)\n",
    "train_df.head()"
   ]
  },
  {
   "cell_type": "code",
   "execution_count": 7,
   "id": "c76800ce",
   "metadata": {
    "execution": {
     "iopub.execute_input": "2024-07-01T07:59:37.046126Z",
     "iopub.status.busy": "2024-07-01T07:59:37.045617Z",
     "iopub.status.idle": "2024-07-01T07:59:37.053917Z",
     "shell.execute_reply": "2024-07-01T07:59:37.053111Z"
    },
    "papermill": {
     "duration": 0.023924,
     "end_time": "2024-07-01T07:59:37.055724",
     "exception": false,
     "start_time": "2024-07-01T07:59:37.031800",
     "status": "completed"
    },
    "tags": []
   },
   "outputs": [],
   "source": [
    "encoder = LabelEncoder()\n",
    "train_df['Target_Label'] = encoder.fit_transform(train_df['Target'])"
   ]
  },
  {
   "cell_type": "code",
   "execution_count": 8,
   "id": "a21040e0",
   "metadata": {
    "execution": {
     "iopub.execute_input": "2024-07-01T07:59:37.082669Z",
     "iopub.status.busy": "2024-07-01T07:59:37.082110Z",
     "iopub.status.idle": "2024-07-01T07:59:37.090401Z",
     "shell.execute_reply": "2024-07-01T07:59:37.089641Z"
    },
    "papermill": {
     "duration": 0.023698,
     "end_time": "2024-07-01T07:59:37.092311",
     "exception": false,
     "start_time": "2024-07-01T07:59:37.068613",
     "status": "completed"
    },
    "tags": []
   },
   "outputs": [],
   "source": [
    "def preprocess_text(text: str, stopwords=set(stopwords.words('english')), wnl=WordNetLemmatizer(), ml=True) -> list:\n",
    "    # Tokenising\n",
    "    words = word_tokenize(text.lower())\n",
    "    \n",
    "    # Removing Stopwords & Punctuation\n",
    "    filtered_text = [word for word in words if word not in stopwords and word.isalpha()]\n",
    "    \n",
    "    # Lemmatization\n",
    "    preprocessed_text = [wnl.lemmatize(word) for word in filtered_text]\n",
    "    \n",
    "    if ml:\n",
    "        preprocessed_text = ' '.join(preprocessed_text)\n",
    "    \n",
    "    return preprocessed_text"
   ]
  },
  {
   "cell_type": "code",
   "execution_count": 9,
   "id": "778fc4d9",
   "metadata": {
    "execution": {
     "iopub.execute_input": "2024-07-01T07:59:37.120084Z",
     "iopub.status.busy": "2024-07-01T07:59:37.119254Z",
     "iopub.status.idle": "2024-07-01T08:00:53.771214Z",
     "shell.execute_reply": "2024-07-01T08:00:53.770392Z"
    },
    "papermill": {
     "duration": 76.668631,
     "end_time": "2024-07-01T08:00:53.773668",
     "exception": false,
     "start_time": "2024-07-01T07:59:37.105037",
     "status": "completed"
    },
    "tags": []
   },
   "outputs": [],
   "source": [
    "preprocessed_text_dl = train_df.ABSTRACT.apply(preprocess_text, ml=False)\n",
    "preprocessed_text_ml = train_df.ABSTRACT.apply(preprocess_text)"
   ]
  },
  {
   "cell_type": "code",
   "execution_count": 10,
   "id": "805c34f5",
   "metadata": {
    "execution": {
     "iopub.execute_input": "2024-07-01T08:00:53.801637Z",
     "iopub.status.busy": "2024-07-01T08:00:53.801348Z",
     "iopub.status.idle": "2024-07-01T08:00:53.822243Z",
     "shell.execute_reply": "2024-07-01T08:00:53.821352Z"
    },
    "papermill": {
     "duration": 0.036963,
     "end_time": "2024-07-01T08:00:53.824376",
     "exception": false,
     "start_time": "2024-07-01T08:00:53.787413",
     "status": "completed"
    },
    "tags": []
   },
   "outputs": [
    {
     "data": {
      "text/html": [
       "<div>\n",
       "<style scoped>\n",
       "    .dataframe tbody tr th:only-of-type {\n",
       "        vertical-align: middle;\n",
       "    }\n",
       "\n",
       "    .dataframe tbody tr th {\n",
       "        vertical-align: top;\n",
       "    }\n",
       "\n",
       "    .dataframe thead th {\n",
       "        text-align: right;\n",
       "    }\n",
       "</style>\n",
       "<table border=\"1\" class=\"dataframe\">\n",
       "  <thead>\n",
       "    <tr style=\"text-align: right;\">\n",
       "      <th></th>\n",
       "      <th>Target</th>\n",
       "      <th>Target_Label</th>\n",
       "      <th>Preprocessed Text ML</th>\n",
       "      <th>Preprocessed Text DL</th>\n",
       "    </tr>\n",
       "  </thead>\n",
       "  <tbody>\n",
       "    <tr>\n",
       "      <th>0</th>\n",
       "      <td>Physics</td>\n",
       "      <td>2</td>\n",
       "      <td>datasets inside observational astronomy challe...</td>\n",
       "      <td>[datasets, inside, observational, astronomy, c...</td>\n",
       "    </tr>\n",
       "    <tr>\n",
       "      <th>1</th>\n",
       "      <td>Computer Science</td>\n",
       "      <td>0</td>\n",
       "      <td>propose framework considering optimal excludin...</td>\n",
       "      <td>[propose, framework, considering, optimal, exc...</td>\n",
       "    </tr>\n",
       "    <tr>\n",
       "      <th>2</th>\n",
       "      <td>Physics</td>\n",
       "      <td>2</td>\n",
       "      <td>nanostructures open shell transition metal mol...</td>\n",
       "      <td>[nanostructures, open, shell, transition, meta...</td>\n",
       "    </tr>\n",
       "    <tr>\n",
       "      <th>3</th>\n",
       "      <td>Physics</td>\n",
       "      <td>2</td>\n",
       "      <td>star fluid inside pressure buoyancy rotation m...</td>\n",
       "      <td>[star, fluid, inside, pressure, buoyancy, rota...</td>\n",
       "    </tr>\n",
       "    <tr>\n",
       "      <th>4</th>\n",
       "      <td>Computer Science</td>\n",
       "      <td>0</td>\n",
       "      <td>deep neural perception control network likely ...</td>\n",
       "      <td>[deep, neural, perception, control, network, l...</td>\n",
       "    </tr>\n",
       "  </tbody>\n",
       "</table>\n",
       "</div>"
      ],
      "text/plain": [
       "             Target  Target_Label  \\\n",
       "0           Physics             2   \n",
       "1  Computer Science             0   \n",
       "2           Physics             2   \n",
       "3           Physics             2   \n",
       "4  Computer Science             0   \n",
       "\n",
       "                                Preprocessed Text ML  \\\n",
       "0  datasets inside observational astronomy challe...   \n",
       "1  propose framework considering optimal excludin...   \n",
       "2  nanostructures open shell transition metal mol...   \n",
       "3  star fluid inside pressure buoyancy rotation m...   \n",
       "4  deep neural perception control network likely ...   \n",
       "\n",
       "                                Preprocessed Text DL  \n",
       "0  [datasets, inside, observational, astronomy, c...  \n",
       "1  [propose, framework, considering, optimal, exc...  \n",
       "2  [nanostructures, open, shell, transition, meta...  \n",
       "3  [star, fluid, inside, pressure, buoyancy, rota...  \n",
       "4  [deep, neural, perception, control, network, l...  "
      ]
     },
     "execution_count": 10,
     "metadata": {},
     "output_type": "execute_result"
    }
   ],
   "source": [
    "train_df['Preprocessed Text ML'] = preprocessed_text_ml\n",
    "train_df['Preprocessed Text DL'] = preprocessed_text_dl\n",
    "train_df.drop('ABSTRACT', axis=1, inplace=True)\n",
    "train_df.head()"
   ]
  },
  {
   "cell_type": "markdown",
   "id": "e0093fca",
   "metadata": {
    "papermill": {
     "duration": 0.014278,
     "end_time": "2024-07-01T08:00:53.852433",
     "exception": false,
     "start_time": "2024-07-01T08:00:53.838155",
     "status": "completed"
    },
    "tags": []
   },
   "source": [
    "### Building Vocabulary and Encoding Text"
   ]
  },
  {
   "cell_type": "code",
   "execution_count": 11,
   "id": "af0b3586",
   "metadata": {
    "execution": {
     "iopub.execute_input": "2024-07-01T08:00:53.880632Z",
     "iopub.status.busy": "2024-07-01T08:00:53.880345Z",
     "iopub.status.idle": "2024-07-01T08:00:55.323707Z",
     "shell.execute_reply": "2024-07-01T08:00:55.322887Z"
    },
    "papermill": {
     "duration": 1.459772,
     "end_time": "2024-07-01T08:00:55.326043",
     "exception": false,
     "start_time": "2024-07-01T08:00:53.866271",
     "status": "completed"
    },
    "tags": []
   },
   "outputs": [],
   "source": [
    "# Build vocabulary\n",
    "vocab = build_vocab_from_iterator(preprocessed_text_dl, specials=[\"<pad>\", \"<unk>\"], min_freq=2)\n",
    "vocab.set_default_index(vocab[\"<unk>\"])\n",
    "\n",
    "# Convert tokens to indices\n",
    "def encode(text):\n",
    "    return [vocab[token] for token in text]\n",
    "\n",
    "encoded_data = [encode(text) for text in preprocessed_text_dl]"
   ]
  },
  {
   "cell_type": "code",
   "execution_count": 12,
   "id": "2f3338df",
   "metadata": {
    "execution": {
     "iopub.execute_input": "2024-07-01T08:00:55.354265Z",
     "iopub.status.busy": "2024-07-01T08:00:55.353935Z",
     "iopub.status.idle": "2024-07-01T08:00:55.964968Z",
     "shell.execute_reply": "2024-07-01T08:00:55.964163Z"
    },
    "papermill": {
     "duration": 0.627512,
     "end_time": "2024-07-01T08:00:55.967294",
     "exception": false,
     "start_time": "2024-07-01T08:00:55.339782",
     "status": "completed"
    },
    "tags": []
   },
   "outputs": [],
   "source": [
    "text_data = pad_sequence([torch.tensor(seq) for seq in encoded_data], batch_first=True, padding_value=vocab['<pad>'])"
   ]
  },
  {
   "cell_type": "code",
   "execution_count": 13,
   "id": "b35ab9a1",
   "metadata": {
    "execution": {
     "iopub.execute_input": "2024-07-01T08:00:55.995795Z",
     "iopub.status.busy": "2024-07-01T08:00:55.994990Z",
     "iopub.status.idle": "2024-07-01T08:00:56.225511Z",
     "shell.execute_reply": "2024-07-01T08:00:56.224737Z"
    },
    "papermill": {
     "duration": 0.246811,
     "end_time": "2024-07-01T08:00:56.227765",
     "exception": false,
     "start_time": "2024-07-01T08:00:55.980954",
     "status": "completed"
    },
    "tags": []
   },
   "outputs": [],
   "source": [
    "train_df['Encoded & Padded Text'] = text_data.tolist()"
   ]
  },
  {
   "cell_type": "code",
   "execution_count": 14,
   "id": "bca952dc",
   "metadata": {
    "execution": {
     "iopub.execute_input": "2024-07-01T08:00:56.255856Z",
     "iopub.status.busy": "2024-07-01T08:00:56.255554Z",
     "iopub.status.idle": "2024-07-01T08:00:56.266798Z",
     "shell.execute_reply": "2024-07-01T08:00:56.265894Z"
    },
    "papermill": {
     "duration": 0.027718,
     "end_time": "2024-07-01T08:00:56.268906",
     "exception": false,
     "start_time": "2024-07-01T08:00:56.241188",
     "status": "completed"
    },
    "tags": []
   },
   "outputs": [
    {
     "data": {
      "text/html": [
       "<div>\n",
       "<style scoped>\n",
       "    .dataframe tbody tr th:only-of-type {\n",
       "        vertical-align: middle;\n",
       "    }\n",
       "\n",
       "    .dataframe tbody tr th {\n",
       "        vertical-align: top;\n",
       "    }\n",
       "\n",
       "    .dataframe thead th {\n",
       "        text-align: right;\n",
       "    }\n",
       "</style>\n",
       "<table border=\"1\" class=\"dataframe\">\n",
       "  <thead>\n",
       "    <tr style=\"text-align: right;\">\n",
       "      <th></th>\n",
       "      <th>Preprocessed Text ML</th>\n",
       "      <th>Target</th>\n",
       "      <th>Target_Label</th>\n",
       "    </tr>\n",
       "  </thead>\n",
       "  <tbody>\n",
       "    <tr>\n",
       "      <th>0</th>\n",
       "      <td>datasets inside observational astronomy challe...</td>\n",
       "      <td>Physics</td>\n",
       "      <td>2</td>\n",
       "    </tr>\n",
       "    <tr>\n",
       "      <th>1</th>\n",
       "      <td>propose framework considering optimal excludin...</td>\n",
       "      <td>Computer Science</td>\n",
       "      <td>0</td>\n",
       "    </tr>\n",
       "    <tr>\n",
       "      <th>2</th>\n",
       "      <td>nanostructures open shell transition metal mol...</td>\n",
       "      <td>Physics</td>\n",
       "      <td>2</td>\n",
       "    </tr>\n",
       "    <tr>\n",
       "      <th>3</th>\n",
       "      <td>star fluid inside pressure buoyancy rotation m...</td>\n",
       "      <td>Physics</td>\n",
       "      <td>2</td>\n",
       "    </tr>\n",
       "    <tr>\n",
       "      <th>4</th>\n",
       "      <td>deep neural perception control network likely ...</td>\n",
       "      <td>Computer Science</td>\n",
       "      <td>0</td>\n",
       "    </tr>\n",
       "  </tbody>\n",
       "</table>\n",
       "</div>"
      ],
      "text/plain": [
       "                                Preprocessed Text ML            Target  \\\n",
       "0  datasets inside observational astronomy challe...           Physics   \n",
       "1  propose framework considering optimal excludin...  Computer Science   \n",
       "2  nanostructures open shell transition metal mol...           Physics   \n",
       "3  star fluid inside pressure buoyancy rotation m...           Physics   \n",
       "4  deep neural perception control network likely ...  Computer Science   \n",
       "\n",
       "   Target_Label  \n",
       "0             2  \n",
       "1             0  \n",
       "2             2  \n",
       "3             2  \n",
       "4             0  "
      ]
     },
     "execution_count": 14,
     "metadata": {},
     "output_type": "execute_result"
    }
   ],
   "source": [
    "df_ml = train_df[['Preprocessed Text ML', 'Target', 'Target_Label']]\n",
    "df_ml.head()"
   ]
  },
  {
   "cell_type": "code",
   "execution_count": 15,
   "id": "2930a290",
   "metadata": {
    "execution": {
     "iopub.execute_input": "2024-07-01T08:00:56.296538Z",
     "iopub.status.busy": "2024-07-01T08:00:56.296277Z",
     "iopub.status.idle": "2024-07-01T08:01:02.626958Z",
     "shell.execute_reply": "2024-07-01T08:01:02.626158Z"
    },
    "papermill": {
     "duration": 6.346951,
     "end_time": "2024-07-01T08:01:02.629219",
     "exception": false,
     "start_time": "2024-07-01T08:00:56.282268",
     "status": "completed"
    },
    "tags": []
   },
   "outputs": [],
   "source": [
    "count_vect = CountVectorizer(ngram_range=(1, 2))        \n",
    "transformer = TfidfTransformer(norm='l2',sublinear_tf=True)\n",
    "\n",
    "counts = count_vect.fit_transform(df_ml['Preprocessed Text ML'])\n",
    "tfidf = transformer.fit_transform(counts)"
   ]
  },
  {
   "cell_type": "code",
   "execution_count": 16,
   "id": "f0ed561c",
   "metadata": {
    "execution": {
     "iopub.execute_input": "2024-07-01T08:01:02.658570Z",
     "iopub.status.busy": "2024-07-01T08:01:02.657929Z",
     "iopub.status.idle": "2024-07-01T08:01:02.681397Z",
     "shell.execute_reply": "2024-07-01T08:01:02.680507Z"
    },
    "papermill": {
     "duration": 0.040256,
     "end_time": "2024-07-01T08:01:02.683315",
     "exception": false,
     "start_time": "2024-07-01T08:01:02.643059",
     "status": "completed"
    },
    "tags": []
   },
   "outputs": [
    {
     "data": {
      "text/html": [
       "<div>\n",
       "<style scoped>\n",
       "    .dataframe tbody tr th:only-of-type {\n",
       "        vertical-align: middle;\n",
       "    }\n",
       "\n",
       "    .dataframe tbody tr th {\n",
       "        vertical-align: top;\n",
       "    }\n",
       "\n",
       "    .dataframe thead th {\n",
       "        text-align: right;\n",
       "    }\n",
       "</style>\n",
       "<table border=\"1\" class=\"dataframe\">\n",
       "  <thead>\n",
       "    <tr style=\"text-align: right;\">\n",
       "      <th></th>\n",
       "      <th>Preprocessed Text DL</th>\n",
       "      <th>Encoded &amp; Padded Text</th>\n",
       "      <th>Target</th>\n",
       "      <th>Target_Label</th>\n",
       "    </tr>\n",
       "  </thead>\n",
       "  <tbody>\n",
       "    <tr>\n",
       "      <th>0</th>\n",
       "      <td>[datasets, inside, observational, astronomy, c...</td>\n",
       "      <td>[140, 2, 1087, 2624, 7251, 3218, 2, 91, 725, 1...</td>\n",
       "      <td>Physics</td>\n",
       "      <td>2</td>\n",
       "    </tr>\n",
       "    <tr>\n",
       "      <th>1</th>\n",
       "      <td>[propose, framework, considering, optimal, exc...</td>\n",
       "      <td>[33, 57, 3, 112, 6777, 2771, 2, 2581, 68, 22, ...</td>\n",
       "      <td>Computer Science</td>\n",
       "      <td>0</td>\n",
       "    </tr>\n",
       "    <tr>\n",
       "      <th>2</th>\n",
       "      <td>[nanostructures, open, shell, transition, meta...</td>\n",
       "      <td>[6594, 474, 2427, 144, 917, 769, 3430, 765, 23...</td>\n",
       "      <td>Physics</td>\n",
       "      <td>2</td>\n",
       "    </tr>\n",
       "    <tr>\n",
       "      <th>3</th>\n",
       "      <td>[star, fluid, inside, pressure, buoyancy, rota...</td>\n",
       "      <td>[126, 712, 2, 577, 6052, 899, 85, 39, 69, 7144...</td>\n",
       "      <td>Physics</td>\n",
       "      <td>2</td>\n",
       "    </tr>\n",
       "    <tr>\n",
       "      <th>4</th>\n",
       "      <td>[deep, neural, perception, control, network, l...</td>\n",
       "      <td>[54, 49, 1674, 77, 7, 891, 295, 172, 503, 4, 3...</td>\n",
       "      <td>Computer Science</td>\n",
       "      <td>0</td>\n",
       "    </tr>\n",
       "  </tbody>\n",
       "</table>\n",
       "</div>"
      ],
      "text/plain": [
       "                                Preprocessed Text DL  \\\n",
       "0  [datasets, inside, observational, astronomy, c...   \n",
       "1  [propose, framework, considering, optimal, exc...   \n",
       "2  [nanostructures, open, shell, transition, meta...   \n",
       "3  [star, fluid, inside, pressure, buoyancy, rota...   \n",
       "4  [deep, neural, perception, control, network, l...   \n",
       "\n",
       "                               Encoded & Padded Text            Target  \\\n",
       "0  [140, 2, 1087, 2624, 7251, 3218, 2, 91, 725, 1...           Physics   \n",
       "1  [33, 57, 3, 112, 6777, 2771, 2, 2581, 68, 22, ...  Computer Science   \n",
       "2  [6594, 474, 2427, 144, 917, 769, 3430, 765, 23...           Physics   \n",
       "3  [126, 712, 2, 577, 6052, 899, 85, 39, 69, 7144...           Physics   \n",
       "4  [54, 49, 1674, 77, 7, 891, 295, 172, 503, 4, 3...  Computer Science   \n",
       "\n",
       "   Target_Label  \n",
       "0             2  \n",
       "1             0  \n",
       "2             2  \n",
       "3             2  \n",
       "4             0  "
      ]
     },
     "execution_count": 16,
     "metadata": {},
     "output_type": "execute_result"
    }
   ],
   "source": [
    "df_dl = train_df[['Preprocessed Text DL', 'Encoded & Padded Text' ,'Target', 'Target_Label']]\n",
    "df_dl.head()"
   ]
  },
  {
   "cell_type": "markdown",
   "id": "68b2264d",
   "metadata": {
    "papermill": {
     "duration": 0.013315,
     "end_time": "2024-07-01T08:01:02.710277",
     "exception": false,
     "start_time": "2024-07-01T08:01:02.696962",
     "status": "completed"
    },
    "tags": []
   },
   "source": [
    "# Data Visualization"
   ]
  },
  {
   "cell_type": "code",
   "execution_count": 17,
   "id": "b205aa4a",
   "metadata": {
    "execution": {
     "iopub.execute_input": "2024-07-01T08:01:02.780224Z",
     "iopub.status.busy": "2024-07-01T08:01:02.779473Z",
     "iopub.status.idle": "2024-07-01T08:01:03.050509Z",
     "shell.execute_reply": "2024-07-01T08:01:03.049651Z"
    },
    "papermill": {
     "duration": 0.287808,
     "end_time": "2024-07-01T08:01:03.052616",
     "exception": false,
     "start_time": "2024-07-01T08:01:02.764808",
     "status": "completed"
    },
    "tags": []
   },
   "outputs": [
    {
     "data": {
      "text/plain": [
       "<Axes: xlabel='Target', ylabel='count'>"
      ]
     },
     "execution_count": 17,
     "metadata": {},
     "output_type": "execute_result"
    },
    {
     "data": {
      "image/png": "[encoded data removed]",
      "text/plain": [
       "<Figure size 640x480 with 1 Axes>"
      ]
     },
     "metadata": {},
     "output_type": "display_data"
    }
   ],
   "source": [
    "sns.countplot(data=train_df, x='Target')"
   ]
  },
  {
   "cell_type": "markdown",
   "id": "c1a787ed",
   "metadata": {
    "papermill": {
     "duration": 0.013719,
     "end_time": "2024-07-01T08:01:03.080542",
     "exception": false,
     "start_time": "2024-07-01T08:01:03.066823",
     "status": "completed"
    },
    "tags": []
   },
   "source": [
    "# Machine Learning with Scikit Learn"
   ]
  },
  {
   "cell_type": "code",
   "execution_count": 18,
   "id": "04db7726",
   "metadata": {
    "execution": {
     "iopub.execute_input": "2024-07-01T08:01:03.110880Z",
     "iopub.status.busy": "2024-07-01T08:01:03.110253Z",
     "iopub.status.idle": "2024-07-01T08:01:03.124641Z",
     "shell.execute_reply": "2024-07-01T08:01:03.123882Z"
    },
    "papermill": {
     "duration": 0.032485,
     "end_time": "2024-07-01T08:01:03.126810",
     "exception": false,
     "start_time": "2024-07-01T08:01:03.094325",
     "status": "completed"
    },
    "tags": []
   },
   "outputs": [],
   "source": [
    "x_train, x_test, y_train, y_test = train_test_split(tfidf, train_df['Target'], \n",
    "                                                    test_size=0.2, random_state=42)"
   ]
  },
  {
   "cell_type": "code",
   "execution_count": 19,
   "id": "1b99f228",
   "metadata": {
    "execution": {
     "iopub.execute_input": "2024-07-01T08:01:03.157211Z",
     "iopub.status.busy": "2024-07-01T08:01:03.156613Z",
     "iopub.status.idle": "2024-07-01T08:01:03.161231Z",
     "shell.execute_reply": "2024-07-01T08:01:03.160383Z"
    },
    "papermill": {
     "duration": 0.021441,
     "end_time": "2024-07-01T08:01:03.163170",
     "exception": false,
     "start_time": "2024-07-01T08:01:03.141729",
     "status": "completed"
    },
    "tags": []
   },
   "outputs": [],
   "source": [
    "def model_training(model, x_train, y_train, x_test, y_test):\n",
    "    \n",
    "    model = model\n",
    "    model.fit(x_train, y_train)\n",
    "    y_pred = model.predict(x_test)\n",
    "    return y_pred"
   ]
  },
  {
   "cell_type": "markdown",
   "id": "066c88ad",
   "metadata": {
    "papermill": {
     "duration": 0.013852,
     "end_time": "2024-07-01T08:01:03.190978",
     "exception": false,
     "start_time": "2024-07-01T08:01:03.177126",
     "status": "completed"
    },
    "tags": []
   },
   "source": [
    "## Logistic Regression"
   ]
  },
  {
   "cell_type": "code",
   "execution_count": 20,
   "id": "fa8f8635",
   "metadata": {
    "execution": {
     "iopub.execute_input": "2024-07-01T08:01:03.222040Z",
     "iopub.status.busy": "2024-07-01T08:01:03.221473Z",
     "iopub.status.idle": "2024-07-01T08:02:04.150003Z",
     "shell.execute_reply": "2024-07-01T08:02:04.148922Z"
    },
    "papermill": {
     "duration": 60.968042,
     "end_time": "2024-07-01T08:02:04.172886",
     "exception": false,
     "start_time": "2024-07-01T08:01:03.204844",
     "status": "completed"
    },
    "tags": []
   },
   "outputs": [
    {
     "data": {
      "text/plain": [
       "0.8397001071046055"
      ]
     },
     "execution_count": 20,
     "metadata": {},
     "output_type": "execute_result"
    }
   ],
   "source": [
    "lr = LogisticRegression(C = 2, max_iter=1000, n_jobs=-1)\n",
    "y_pred_lr = model_training(model=lr, x_train=x_train, y_train=y_train, x_test=x_test, y_test=y_test)\n",
    "accuracy_score(y_test,y_pred_lr)"
   ]
  },
  {
   "cell_type": "code",
   "execution_count": 21,
   "id": "2e709ceb",
   "metadata": {
    "execution": {
     "iopub.execute_input": "2024-07-01T08:02:04.202966Z",
     "iopub.status.busy": "2024-07-01T08:02:04.202644Z",
     "iopub.status.idle": "2024-07-01T08:02:04.334753Z",
     "shell.execute_reply": "2024-07-01T08:02:04.333360Z"
    },
    "papermill": {
     "duration": 0.149676,
     "end_time": "2024-07-01T08:02:04.336916",
     "exception": false,
     "start_time": "2024-07-01T08:02:04.187240",
     "status": "completed"
    },
    "tags": []
   },
   "outputs": [
    {
     "name": "stdout",
     "output_type": "stream",
     "text": [
      "                  precision    recall  f1-score   support\n",
      "\n",
      "Computer Science       0.78      0.95      0.86      1192\n",
      "     Mathematics       0.89      0.81      0.85       472\n",
      "         Physics       0.96      0.96      0.96       750\n",
      "      Statistics       0.70      0.31      0.43       387\n",
      "\n",
      "        accuracy                           0.84      2801\n",
      "       macro avg       0.83      0.76      0.77      2801\n",
      "    weighted avg       0.84      0.84      0.82      2801\n",
      "\n"
     ]
    }
   ],
   "source": [
    "print(classification_report(y_test, y_pred_lr))"
   ]
  },
  {
   "cell_type": "markdown",
   "id": "c33974f9",
   "metadata": {
    "papermill": {
     "duration": 0.014122,
     "end_time": "2024-07-01T08:02:04.367378",
     "exception": false,
     "start_time": "2024-07-01T08:02:04.353256",
     "status": "completed"
    },
    "tags": []
   },
   "source": [
    "## Random Forest Classifier"
   ]
  },
  {
   "cell_type": "code",
   "execution_count": 22,
   "id": "f8b65d49",
   "metadata": {
    "execution": {
     "iopub.execute_input": "2024-07-01T08:02:04.397832Z",
     "iopub.status.busy": "2024-07-01T08:02:04.397070Z",
     "iopub.status.idle": "2024-07-01T08:04:13.525979Z",
     "shell.execute_reply": "2024-07-01T08:04:13.525014Z"
    },
    "papermill": {
     "duration": 129.160041,
     "end_time": "2024-07-01T08:04:13.541762",
     "exception": false,
     "start_time": "2024-07-01T08:02:04.381721",
     "status": "completed"
    },
    "tags": []
   },
   "outputs": [
    {
     "data": {
      "text/plain": [
       "0.7865048197072474"
      ]
     },
     "execution_count": 22,
     "metadata": {},
     "output_type": "execute_result"
    }
   ],
   "source": [
    "rf = RandomForestClassifier(criterion='entropy')\n",
    "y_pred_rf = model_training(model=rf, x_train=x_train, y_train=y_train, x_test=x_test, y_test=y_test)\n",
    "accuracy_score(y_test,y_pred_rf)"
   ]
  },
  {
   "cell_type": "code",
   "execution_count": 23,
   "id": "d2c69aeb",
   "metadata": {
    "execution": {
     "iopub.execute_input": "2024-07-01T08:04:13.571915Z",
     "iopub.status.busy": "2024-07-01T08:04:13.571611Z",
     "iopub.status.idle": "2024-07-01T08:04:13.696064Z",
     "shell.execute_reply": "2024-07-01T08:04:13.694823Z"
    },
    "papermill": {
     "duration": 0.141922,
     "end_time": "2024-07-01T08:04:13.698257",
     "exception": false,
     "start_time": "2024-07-01T08:04:13.556335",
     "status": "completed"
    },
    "tags": []
   },
   "outputs": [
    {
     "name": "stdout",
     "output_type": "stream",
     "text": [
      "                  precision    recall  f1-score   support\n",
      "\n",
      "Computer Science       0.69      0.97      0.80      1192\n",
      "     Mathematics       0.88      0.75      0.81       472\n",
      "         Physics       0.97      0.92      0.95       750\n",
      "      Statistics       0.00      0.00      0.00       387\n",
      "\n",
      "        accuracy                           0.79      2801\n",
      "       macro avg       0.63      0.66      0.64      2801\n",
      "    weighted avg       0.70      0.79      0.73      2801\n",
      "\n"
     ]
    },
    {
     "name": "stderr",
     "output_type": "stream",
     "text": [
      "/opt/conda/lib/python3.10/site-packages/sklearn/metrics/_classification.py:1344: UndefinedMetricWarning: Precision and F-score are ill-defined and being set to 0.0 in labels with no predicted samples. Use `zero_division` parameter to control this behavior.\n",
      "  _warn_prf(average, modifier, msg_start, len(result))\n",
      "/opt/conda/lib/python3.10/site-packages/sklearn/metrics/_classification.py:1344: UndefinedMetricWarning: Precision and F-score are ill-defined and being set to 0.0 in labels with no predicted samples. Use `zero_division` parameter to control this behavior.\n",
      "  _warn_prf(average, modifier, msg_start, len(result))\n",
      "/opt/conda/lib/python3.10/site-packages/sklearn/metrics/_classification.py:1344: UndefinedMetricWarning: Precision and F-score are ill-defined and being set to 0.0 in labels with no predicted samples. Use `zero_division` parameter to control this behavior.\n",
      "  _warn_prf(average, modifier, msg_start, len(result))\n"
     ]
    }
   ],
   "source": [
    "print(classification_report(y_test, y_pred_rf))"
   ]
  },
  {
   "cell_type": "markdown",
   "id": "8173b69f",
   "metadata": {
    "papermill": {
     "duration": 0.014809,
     "end_time": "2024-07-01T08:04:13.727736",
     "exception": false,
     "start_time": "2024-07-01T08:04:13.712927",
     "status": "completed"
    },
    "tags": []
   },
   "source": [
    "## Multinomial Naive Bayes"
   ]
  },
  {
   "cell_type": "code",
   "execution_count": 24,
   "id": "1dc7ee78",
   "metadata": {
    "execution": {
     "iopub.execute_input": "2024-07-01T08:04:13.757795Z",
     "iopub.status.busy": "2024-07-01T08:04:13.757528Z",
     "iopub.status.idle": "2024-07-01T08:04:13.933164Z",
     "shell.execute_reply": "2024-07-01T08:04:13.932168Z"
    },
    "papermill": {
     "duration": 0.193214,
     "end_time": "2024-07-01T08:04:13.935441",
     "exception": false,
     "start_time": "2024-07-01T08:04:13.742227",
     "status": "completed"
    },
    "tags": []
   },
   "outputs": [
    {
     "data": {
      "text/plain": [
       "0.7133166726169226"
      ]
     },
     "execution_count": 24,
     "metadata": {},
     "output_type": "execute_result"
    }
   ],
   "source": [
    "nb = MultinomialNB()\n",
    "y_pred_nb = model_training(model=nb, x_train=x_train, y_train=y_train, x_test=x_test, y_test=y_test)\n",
    "accuracy_score(y_test,y_pred_nb)"
   ]
  },
  {
   "cell_type": "code",
   "execution_count": 25,
   "id": "c687a805",
   "metadata": {
    "execution": {
     "iopub.execute_input": "2024-07-01T08:04:13.966186Z",
     "iopub.status.busy": "2024-07-01T08:04:13.965849Z",
     "iopub.status.idle": "2024-07-01T08:04:14.048797Z",
     "shell.execute_reply": "2024-07-01T08:04:14.047725Z"
    },
    "papermill": {
     "duration": 0.10026,
     "end_time": "2024-07-01T08:04:14.050714",
     "exception": false,
     "start_time": "2024-07-01T08:04:13.950454",
     "status": "completed"
    },
    "tags": []
   },
   "outputs": [
    {
     "name": "stdout",
     "output_type": "stream",
     "text": [
      "                  precision    recall  f1-score   support\n",
      "\n",
      "Computer Science       0.60      1.00      0.75      1192\n",
      "     Mathematics       1.00      0.31      0.47       472\n",
      "         Physics       0.97      0.88      0.92       750\n",
      "      Statistics       0.00      0.00      0.00       387\n",
      "\n",
      "        accuracy                           0.71      2801\n",
      "       macro avg       0.64      0.55      0.54      2801\n",
      "    weighted avg       0.69      0.71      0.65      2801\n",
      "\n"
     ]
    }
   ],
   "source": [
    "print(classification_report(y_test, y_pred_nb, zero_division=0))"
   ]
  },
  {
   "cell_type": "markdown",
   "id": "28bd2301",
   "metadata": {
    "papermill": {
     "duration": 0.014398,
     "end_time": "2024-07-01T08:04:14.079807",
     "exception": false,
     "start_time": "2024-07-01T08:04:14.065409",
     "status": "completed"
    },
    "tags": []
   },
   "source": [
    "# Deep Learning with PyTorch"
   ]
  },
  {
   "cell_type": "markdown",
   "id": "349133a7",
   "metadata": {
    "papermill": {
     "duration": 0.014338,
     "end_time": "2024-07-01T08:04:14.108704",
     "exception": false,
     "start_time": "2024-07-01T08:04:14.094366",
     "status": "completed"
    },
    "tags": []
   },
   "source": [
    "## Model Building"
   ]
  },
  {
   "cell_type": "code",
   "execution_count": 26,
   "id": "fd650fb0",
   "metadata": {
    "execution": {
     "iopub.execute_input": "2024-07-01T08:04:14.141577Z",
     "iopub.status.busy": "2024-07-01T08:04:14.141279Z",
     "iopub.status.idle": "2024-07-01T08:04:14.147816Z",
     "shell.execute_reply": "2024-07-01T08:04:14.146947Z"
    },
    "papermill": {
     "duration": 0.025928,
     "end_time": "2024-07-01T08:04:14.149923",
     "exception": false,
     "start_time": "2024-07-01T08:04:14.123995",
     "status": "completed"
    },
    "tags": []
   },
   "outputs": [],
   "source": [
    "class TextDataset(Dataset):\n",
    "    def __init__(self, texts, labels):\n",
    "        self.texts = texts\n",
    "        self.labels = labels\n",
    "        \n",
    "    def __len__(self):\n",
    "        return len(self.texts)\n",
    "    \n",
    "    def __getitem__(self, idx):\n",
    "        return torch.tensor(self.texts[idx], dtype=torch.long), torch.tensor(self.labels[idx], dtype=torch.long)"
   ]
  },
  {
   "cell_type": "code",
   "execution_count": 27,
   "id": "c43301bf",
   "metadata": {
    "execution": {
     "iopub.execute_input": "2024-07-01T08:04:14.184456Z",
     "iopub.status.busy": "2024-07-01T08:04:14.184182Z",
     "iopub.status.idle": "2024-07-01T08:04:14.193910Z",
     "shell.execute_reply": "2024-07-01T08:04:14.193224Z"
    },
    "papermill": {
     "duration": 0.029204,
     "end_time": "2024-07-01T08:04:14.195773",
     "exception": false,
     "start_time": "2024-07-01T08:04:14.166569",
     "status": "completed"
    },
    "tags": []
   },
   "outputs": [],
   "source": [
    "target = torch.tensor(train_df['Target_Label'].values)\n",
    "X, y = text_data, target"
   ]
  },
  {
   "cell_type": "code",
   "execution_count": 28,
   "id": "6bf3a772",
   "metadata": {
    "execution": {
     "iopub.execute_input": "2024-07-01T08:04:14.226692Z",
     "iopub.status.busy": "2024-07-01T08:04:14.225983Z",
     "iopub.status.idle": "2024-07-01T08:04:14.422162Z",
     "shell.execute_reply": "2024-07-01T08:04:14.421102Z"
    },
    "papermill": {
     "duration": 0.213971,
     "end_time": "2024-07-01T08:04:14.424521",
     "exception": false,
     "start_time": "2024-07-01T08:04:14.210550",
     "status": "completed"
    },
    "tags": []
   },
   "outputs": [],
   "source": [
    "X_train, X_test, y_train, y_test = train_test_split(X, y, test_size=0.2, random_state=42)\n",
    "X_train, X_test, y_train, y_test = X_train.to(device), X_test.to(device), y_train.to(device), y_test.to(device)"
   ]
  },
  {
   "cell_type": "code",
   "execution_count": 29,
   "id": "0a98577c",
   "metadata": {
    "execution": {
     "iopub.execute_input": "2024-07-01T08:04:14.455752Z",
     "iopub.status.busy": "2024-07-01T08:04:14.455464Z",
     "iopub.status.idle": "2024-07-01T08:04:14.459793Z",
     "shell.execute_reply": "2024-07-01T08:04:14.458911Z"
    },
    "papermill": {
     "duration": 0.021791,
     "end_time": "2024-07-01T08:04:14.461586",
     "exception": false,
     "start_time": "2024-07-01T08:04:14.439795",
     "status": "completed"
    },
    "tags": []
   },
   "outputs": [],
   "source": [
    "train_dataset = TextDataset(X_train, y_train)\n",
    "test_dataset = TextDataset(X_test, y_test)"
   ]
  },
  {
   "cell_type": "code",
   "execution_count": 30,
   "id": "83828300",
   "metadata": {
    "execution": {
     "iopub.execute_input": "2024-07-01T08:04:14.491825Z",
     "iopub.status.busy": "2024-07-01T08:04:14.491557Z",
     "iopub.status.idle": "2024-07-01T08:04:14.496748Z",
     "shell.execute_reply": "2024-07-01T08:04:14.495911Z"
    },
    "papermill": {
     "duration": 0.02224,
     "end_time": "2024-07-01T08:04:14.498523",
     "exception": false,
     "start_time": "2024-07-01T08:04:14.476283",
     "status": "completed"
    },
    "tags": []
   },
   "outputs": [],
   "source": [
    "train_loader = DataLoader(train_dataset, batch_size=64, shuffle=True)\n",
    "test_loader = DataLoader(test_dataset, batch_size=64, shuffle=True)"
   ]
  },
  {
   "cell_type": "code",
   "execution_count": 31,
   "id": "6afad22e",
   "metadata": {
    "execution": {
     "iopub.execute_input": "2024-07-01T08:04:14.528836Z",
     "iopub.status.busy": "2024-07-01T08:04:14.528575Z",
     "iopub.status.idle": "2024-07-01T08:04:14.537543Z",
     "shell.execute_reply": "2024-07-01T08:04:14.536815Z"
    },
    "papermill": {
     "duration": 0.026357,
     "end_time": "2024-07-01T08:04:14.539436",
     "exception": false,
     "start_time": "2024-07-01T08:04:14.513079",
     "status": "completed"
    },
    "tags": []
   },
   "outputs": [],
   "source": [
    "class TextClassifier(nn.Module):\n",
    "    def __init__(self, vocab_size, embed_dim, hidden_dim, output_dim, input_length):\n",
    "        super(TextClassifier, self).__init__()\n",
    "        \n",
    "        self.embedding = nn.Embedding(num_embeddings=vocab_size, embedding_dim=embed_dim, padding_idx=input_length)\n",
    "        self.lstm = nn.LSTM(input_size=embed_dim, hidden_size=embed_dim, dropout=0.5, \n",
    "                            bidirectional=True, batch_first=True, num_layers=2)\n",
    "        self.flatten = nn.Flatten()\n",
    "        self.linear = nn.Linear(in_features=embed_dim * 2, out_features=output_dim)\n",
    "        self.dropout = nn.Dropout(0.5)\n",
    "        \n",
    "    def forward(self, x):\n",
    "        embedded = self.dropout(self.embedding(x))\n",
    "        lstm_out, (hidden, cell) = self.lstm(embedded)\n",
    "        hidden = self.dropout(torch.cat((hidden[-2,:,:], hidden[-1,:,:]), dim=1))\n",
    "        flatten = self.flatten(hidden)\n",
    "        output = self.linear(flatten)\n",
    "        return output"
   ]
  },
  {
   "cell_type": "code",
   "execution_count": 32,
   "id": "343b65a1",
   "metadata": {
    "execution": {
     "iopub.execute_input": "2024-07-01T08:04:14.570245Z",
     "iopub.status.busy": "2024-07-01T08:04:14.569935Z",
     "iopub.status.idle": "2024-07-01T08:04:14.574584Z",
     "shell.execute_reply": "2024-07-01T08:04:14.573829Z"
    },
    "papermill": {
     "duration": 0.022286,
     "end_time": "2024-07-01T08:04:14.576430",
     "exception": false,
     "start_time": "2024-07-01T08:04:14.554144",
     "status": "completed"
    },
    "tags": []
   },
   "outputs": [],
   "source": [
    "# Hyperparameters\n",
    "VOCAB_SIZE = len(vocab)\n",
    "EMBED_DIM = 100\n",
    "HIDDEN_DIM = 128\n",
    "OUTPUT_DIM = 4\n",
    "INPUT_LENGTH = text_data.shape[1]\n",
    "\n",
    "EPOCHS = 10"
   ]
  },
  {
   "cell_type": "code",
   "execution_count": 33,
   "id": "a8e64c7e",
   "metadata": {
    "execution": {
     "iopub.execute_input": "2024-07-01T08:04:14.606731Z",
     "iopub.status.busy": "2024-07-01T08:04:14.606483Z",
     "iopub.status.idle": "2024-07-01T08:04:15.594597Z",
     "shell.execute_reply": "2024-07-01T08:04:15.593811Z"
    },
    "papermill": {
     "duration": 1.005681,
     "end_time": "2024-07-01T08:04:15.596768",
     "exception": false,
     "start_time": "2024-07-01T08:04:14.591087",
     "status": "completed"
    },
    "tags": []
   },
   "outputs": [],
   "source": [
    "model = TextClassifier(vocab_size=VOCAB_SIZE, embed_dim=EMBED_DIM, \n",
    "                       hidden_dim=HIDDEN_DIM, output_dim=OUTPUT_DIM, input_length=INPUT_LENGTH).to(device)\n",
    "\n",
    "loss_fn = nn.CrossEntropyLoss()\n",
    "optimizer = optim.Adam(model.parameters())"
   ]
  },
  {
   "cell_type": "code",
   "execution_count": 34,
   "id": "8bab1540",
   "metadata": {
    "execution": {
     "iopub.execute_input": "2024-07-01T08:04:15.628034Z",
     "iopub.status.busy": "2024-07-01T08:04:15.627593Z",
     "iopub.status.idle": "2024-07-01T08:04:15.633685Z",
     "shell.execute_reply": "2024-07-01T08:04:15.632847Z"
    },
    "papermill": {
     "duration": 0.02351,
     "end_time": "2024-07-01T08:04:15.635491",
     "exception": false,
     "start_time": "2024-07-01T08:04:15.611981",
     "status": "completed"
    },
    "tags": []
   },
   "outputs": [
    {
     "data": {
      "text/plain": [
       "TextClassifier(\n",
       "  (embedding): Embedding(20534, 100, padding_idx=401)\n",
       "  (lstm): LSTM(100, 100, num_layers=2, batch_first=True, dropout=0.5, bidirectional=True)\n",
       "  (flatten): Flatten(start_dim=1, end_dim=-1)\n",
       "  (linear): Linear(in_features=200, out_features=4, bias=True)\n",
       "  (dropout): Dropout(p=0.5, inplace=False)\n",
       ")"
      ]
     },
     "execution_count": 34,
     "metadata": {},
     "output_type": "execute_result"
    }
   ],
   "source": [
    "model"
   ]
  },
  {
   "cell_type": "code",
   "execution_count": 35,
   "id": "431df349",
   "metadata": {
    "execution": {
     "iopub.execute_input": "2024-07-01T08:04:15.666039Z",
     "iopub.status.busy": "2024-07-01T08:04:15.665769Z",
     "iopub.status.idle": "2024-07-01T08:05:39.931205Z",
     "shell.execute_reply": "2024-07-01T08:05:39.929963Z"
    },
    "papermill": {
     "duration": 84.283067,
     "end_time": "2024-07-01T08:05:39.933367",
     "exception": false,
     "start_time": "2024-07-01T08:04:15.650300",
     "status": "completed"
    },
    "tags": []
   },
   "outputs": [
    {
     "name": "stderr",
     "output_type": "stream",
     "text": [
      "/tmp/ipykernel_24/1367531656.py:10: UserWarning: To copy construct from a tensor, it is recommended to use sourceTensor.clone().detach() or sourceTensor.clone().detach().requires_grad_(True), rather than torch.tensor(sourceTensor).\n",
      "  return torch.tensor(self.texts[idx], dtype=torch.long), torch.tensor(self.labels[idx], dtype=torch.long)\n"
     ]
    },
    {
     "name": "stdout",
     "output_type": "stream",
     "text": [
      "Epoch [1/10], Loss: 0.9122\n",
      "Epoch [2/10], Loss: 0.3017\n",
      "Epoch [3/10], Loss: 0.6683\n",
      "Epoch [4/10], Loss: 0.4758\n",
      "Epoch [5/10], Loss: 0.4948\n",
      "Epoch [6/10], Loss: 2.1848\n",
      "Epoch [7/10], Loss: 0.7396\n",
      "Epoch [8/10], Loss: 0.8044\n",
      "Epoch [9/10], Loss: 0.9012\n",
      "Epoch [10/10], Loss: 0.0634\n"
     ]
    }
   ],
   "source": [
    "torch.manual_seed(42)\n",
    "torch.cuda.manual_seed(42)\n",
    "\n",
    "for epoch in range(EPOCHS):\n",
    "    model.train()\n",
    "    \n",
    "    for texts, labels in train_loader:\n",
    "        output_logits = model(texts)\n",
    "        output = torch.softmax(output_logits, dim=1).argmax(dim=1)\n",
    "        loss = loss_fn(output_logits, labels)\n",
    "        optimizer.zero_grad()\n",
    "        loss.backward()\n",
    "        optimizer.step()\n",
    "        \n",
    "    print(f'Epoch [{epoch+1}/{EPOCHS}], Loss: {loss.item():.4f}')"
   ]
  },
  {
   "cell_type": "code",
   "execution_count": 36,
   "id": "0da47a40",
   "metadata": {
    "execution": {
     "iopub.execute_input": "2024-07-01T08:05:39.966614Z",
     "iopub.status.busy": "2024-07-01T08:05:39.966320Z",
     "iopub.status.idle": "2024-07-01T08:05:40.839280Z",
     "shell.execute_reply": "2024-07-01T08:05:40.838359Z"
    },
    "papermill": {
     "duration": 0.891827,
     "end_time": "2024-07-01T08:05:40.841491",
     "exception": false,
     "start_time": "2024-07-01T08:05:39.949664",
     "status": "completed"
    },
    "tags": []
   },
   "outputs": [
    {
     "name": "stderr",
     "output_type": "stream",
     "text": [
      "/tmp/ipykernel_24/1367531656.py:10: UserWarning: To copy construct from a tensor, it is recommended to use sourceTensor.clone().detach() or sourceTensor.clone().detach().requires_grad_(True), rather than torch.tensor(sourceTensor).\n",
      "  return torch.tensor(self.texts[idx], dtype=torch.long), torch.tensor(self.labels[idx], dtype=torch.long)\n"
     ]
    },
    {
     "name": "stdout",
     "output_type": "stream",
     "text": [
      "Accuracy of the model on the test set: 78.94%\n"
     ]
    }
   ],
   "source": [
    "model.eval()\n",
    "with torch.inference_mode():\n",
    "    correct = 0\n",
    "    total = 0\n",
    "    for texts, labels in test_loader:\n",
    "        outputs = model(texts)\n",
    "        _, predicted = torch.max(outputs.data, 1)\n",
    "        total += labels.size(0)\n",
    "        correct += (predicted == labels).sum().item()\n",
    "\n",
    "    print(f'Accuracy of the model on the test set: {100 * correct / total:.2f}%')"
   ]
  },
  {
   "cell_type": "code",
   "execution_count": 37,
   "id": "3408fa88",
   "metadata": {
    "execution": {
     "iopub.execute_input": "2024-07-01T08:05:40.874700Z",
     "iopub.status.busy": "2024-07-01T08:05:40.874385Z",
     "iopub.status.idle": "2024-07-01T08:05:41.339910Z",
     "shell.execute_reply": "2024-07-01T08:05:41.339013Z"
    },
    "papermill": {
     "duration": 0.48445,
     "end_time": "2024-07-01T08:05:41.342004",
     "exception": false,
     "start_time": "2024-07-01T08:05:40.857554",
     "status": "completed"
    },
    "tags": []
   },
   "outputs": [
    {
     "data": {
      "text/plain": [
       "(tensor([0, 0, 0, 0, 0, 0, 0, 0, 0, 0, 1, 1, 1, 0, 1, 2, 0, 0, 2, 0, 0, 2, 0, 0,\n",
       "         1, 0, 0, 0, 0, 2, 1, 2, 0, 1, 0, 0, 0, 0, 2, 0, 0, 1, 0, 2, 3, 3, 0, 0,\n",
       "         0, 2, 1, 0, 1, 1, 1, 3, 3, 1, 0, 2, 3, 1, 3, 1, 0, 2, 3, 0, 2, 2, 3, 0,\n",
       "         3, 1, 2, 2, 0, 0, 0, 0, 0, 1, 2, 2, 0, 1, 0, 1, 3, 2, 0, 2, 2, 0, 0, 2,\n",
       "         2, 0, 2, 1, 0, 0, 2, 0, 2, 1, 2, 2, 3, 0, 2, 0, 0, 0, 1, 3, 2, 3, 0, 0,\n",
       "         2, 3, 0, 1, 0, 1, 1, 1, 3, 2, 2, 1, 0, 2, 0, 0, 1, 1, 3, 3, 0, 3, 0, 1,\n",
       "         1, 0, 2, 2, 0, 0, 2, 1, 0, 3, 2, 2, 0, 0, 0, 2, 1, 1, 0, 0, 2, 0, 2, 2,\n",
       "         0, 1, 2, 0, 0, 3, 0, 1, 0, 1, 2, 3, 3, 1, 1, 1, 3, 1, 0, 0, 3, 3, 2, 0,\n",
       "         0, 0, 3, 1, 0, 0, 0, 2], device='cuda:0'),\n",
       " tensor([0, 0, 0, 0, 0, 0, 0, 0, 0, 0, 1, 1, 1, 0, 1, 2, 0, 0, 2, 0, 0, 2, 0, 0,\n",
       "         1, 0, 0, 0, 0, 2, 1, 2, 0, 1, 0, 0, 0, 0, 2, 0, 1, 1, 0, 2, 0, 0, 0, 0,\n",
       "         0, 2, 1, 0, 1, 1, 1, 1, 0, 1, 0, 1, 0, 1, 0, 1, 0, 2, 0, 0, 2, 2, 0, 1,\n",
       "         0, 1, 2, 2, 0, 0, 0, 0, 0, 1, 2, 2, 0, 0, 0, 1, 0, 2, 0, 2, 1, 0, 0, 2,\n",
       "         2, 0, 2, 1, 0, 0, 2, 0, 2, 1, 2, 2, 0, 0, 2, 0, 0, 0, 1, 1, 2, 0, 0, 0,\n",
       "         2, 1, 0, 1, 0, 1, 0, 1, 0, 2, 2, 1, 2, 2, 1, 1, 1, 1, 0, 0, 0, 0, 1, 1,\n",
       "         1, 0, 2, 2, 0, 0, 0, 1, 0, 0, 0, 2, 0, 0, 1, 2, 1, 1, 0, 0, 2, 0, 2, 2,\n",
       "         0, 1, 2, 0, 0, 0, 0, 0, 0, 1, 0, 0, 0, 1, 1, 1, 1, 1, 0, 0, 0, 1, 2, 0,\n",
       "         0, 0, 1, 2, 0, 0, 0, 2], device='cuda:0'))"
      ]
     },
     "execution_count": 37,
     "metadata": {},
     "output_type": "execute_result"
    }
   ],
   "source": [
    "model.eval()\n",
    "with torch.inference_mode():\n",
    "    y_pred_logits = model(X_test)\n",
    "    y_preds = torch.softmax(y_pred_logits, dim=1).argmax(dim=1)\n",
    "    \n",
    "y_test[:200], y_preds[:200]"
   ]
  },
  {
   "cell_type": "markdown",
   "id": "b520fa79",
   "metadata": {
    "papermill": {
     "duration": 0.015893,
     "end_time": "2024-07-01T08:05:41.374242",
     "exception": false,
     "start_time": "2024-07-01T08:05:41.358349",
     "status": "completed"
    },
    "tags": []
   },
   "source": [
    "## Still not good enough!!!"
   ]
  }
 ],
 "metadata": {
  "kaggle": {
   "accelerator": "gpu",
   "dataSources": [
    {
     "datasetId": 932025,
     "sourceId": 2994327,
     "sourceType": "datasetVersion"
    }
   ],
   "dockerImageVersionId": 30732,
   "isGpuEnabled": true,
   "isInternetEnabled": true,
   "language": "python",
   "sourceType": "notebook"
  },
  "kernelspec": {
   "display_name": "Python 3",
   "language": "python",
   "name": "python3"
  },
  "language_info": {
   "codemirror_mode": {
    "name": "ipython",
    "version": 3
   },
   "file_extension": ".py",
   "mimetype": "text/x-python",
   "name": "python",
   "nbconvert_exporter": "python",
   "pygments_lexer": "ipython3",
   "version": "3.10.13"
  },
  "papermill": {
   "default_parameters": {},
   "duration": 379.902602,
   "end_time": "2024-07-01T08:05:44.112057",
   "environment_variables": {},
   "exception": null,
   "input_path": "__notebook__.ipynb",
   "output_path": "__notebook__.ipynb",
   "parameters": {},
   "start_time": "2024-07-01T07:59:24.209455",
   "version": "2.5.0"
  }
 },
 "nbformat": 4,
 "nbformat_minor": 5
}
