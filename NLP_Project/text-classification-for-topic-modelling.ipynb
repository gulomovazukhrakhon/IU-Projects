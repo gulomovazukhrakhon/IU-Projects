{
 "cells": [
  {
   "cell_type": "markdown",
   "id": "67c0d731",
   "metadata": {
    "papermill": {
     "duration": 0.00418,
     "end_time": "2024-06-21T13:28:55.269324",
     "exception": false,
     "start_time": "2024-06-21T13:28:55.265144",
     "status": "completed"
    },
    "tags": []
   },
   "source": [
    "# Text Classification for Topic Modelling"
   ]
  },
  {
   "cell_type": "markdown",
   "id": "c245ea93",
   "metadata": {
    "papermill": {
     "duration": 0.003708,
     "end_time": "2024-06-21T13:28:55.277262",
     "exception": false,
     "start_time": "2024-06-21T13:28:55.273554",
     "status": "completed"
    },
    "tags": []
   },
   "source": [
    "## Notebook Imports"
   ]
  },
  {
   "cell_type": "code",
   "execution_count": 1,
   "id": "d81e652b",
   "metadata": {
    "_cell_guid": "b1076dfc-b9ad-4769-8c92-a6c4dae69d19",
    "_uuid": "8f2839f25d086af736a60e9eeb907d3b93b6e0e5",
    "execution": {
     "iopub.execute_input": "2024-06-21T13:28:55.286770Z",
     "iopub.status.busy": "2024-06-21T13:28:55.286361Z",
     "iopub.status.idle": "2024-06-21T13:29:02.266545Z",
     "shell.execute_reply": "2024-06-21T13:29:02.265424Z"
    },
    "papermill": {
     "duration": 6.988096,
     "end_time": "2024-06-21T13:29:02.269404",
     "exception": false,
     "start_time": "2024-06-21T13:28:55.281308",
     "status": "completed"
    },
    "tags": []
   },
   "outputs": [],
   "source": [
    "import sklearn\n",
    "import numpy as np\n",
    "import pandas as pd\n",
    "import seaborn as sns\n",
    "import matplotlib.pyplot as plt\n",
    "\n",
    "import torch\n",
    "import nltk\n",
    "\n",
    "from nltk.stem import WordNetLemmatizer\n",
    "from nltk.stem import PorterStemmer, SnowballStemmer\n",
    "from nltk.corpus import stopwords\n",
    "from nltk.tokenize import word_tokenize\n",
    "from sklearn.preprocessing import LabelEncoder\n",
    "from sklearn.feature_extraction.text import TfidfVectorizer\n",
    "\n",
    "%matplotlib inline"
   ]
  },
  {
   "cell_type": "code",
   "execution_count": 2,
   "id": "5d2f0662",
   "metadata": {
    "execution": {
     "iopub.execute_input": "2024-06-21T13:29:02.279128Z",
     "iopub.status.busy": "2024-06-21T13:29:02.278532Z",
     "iopub.status.idle": "2024-06-21T13:29:02.622800Z",
     "shell.execute_reply": "2024-06-21T13:29:02.621691Z"
    },
    "papermill": {
     "duration": 0.35193,
     "end_time": "2024-06-21T13:29:02.625370",
     "exception": false,
     "start_time": "2024-06-21T13:29:02.273440",
     "status": "completed"
    },
    "tags": []
   },
   "outputs": [
    {
     "name": "stdout",
     "output_type": "stream",
     "text": [
      "[nltk_data] Downloading package stopwords to /usr/share/nltk_data...\n",
      "[nltk_data]   Package stopwords is already up-to-date!\n",
      "[nltk_data] Downloading package punkt to /usr/share/nltk_data...\n",
      "[nltk_data]   Package punkt is already up-to-date!\n",
      "[nltk_data] Downloading package wordnet to /usr/share/nltk_data...\n",
      "[nltk_data]   Package wordnet is already up-to-date!\n",
      "[nltk_data] Downloading package omw-1.4 to /usr/share/nltk_data...\n"
     ]
    },
    {
     "data": {
      "text/plain": [
       "True"
      ]
     },
     "execution_count": 2,
     "metadata": {},
     "output_type": "execute_result"
    }
   ],
   "source": [
    "nltk.download('stopwords')\n",
    "nltk.download(\"punkt\")\n",
    "nltk.download(\"wordnet\")\n",
    "nltk.download(\"omw-1.4\")"
   ]
  },
  {
   "cell_type": "code",
   "execution_count": 3,
   "id": "87738b42",
   "metadata": {
    "execution": {
     "iopub.execute_input": "2024-06-21T13:29:02.635912Z",
     "iopub.status.busy": "2024-06-21T13:29:02.634810Z",
     "iopub.status.idle": "2024-06-21T13:29:04.021668Z",
     "shell.execute_reply": "2024-06-21T13:29:04.020175Z"
    },
    "papermill": {
     "duration": 1.394936,
     "end_time": "2024-06-21T13:29:04.024406",
     "exception": false,
     "start_time": "2024-06-21T13:29:02.629470",
     "status": "completed"
    },
    "tags": []
   },
   "outputs": [
    {
     "name": "stdout",
     "output_type": "stream",
     "text": [
      "Archive:  /usr/share/nltk_data/corpora/wordnet.zip\r\n",
      "   creating: /usr/share/nltk_data/corpora/wordnet/\r\n",
      "  inflating: /usr/share/nltk_data/corpora/wordnet/lexnames  \r\n",
      "  inflating: /usr/share/nltk_data/corpora/wordnet/data.verb  \r\n",
      "  inflating: /usr/share/nltk_data/corpora/wordnet/index.adv  \r\n",
      "  inflating: /usr/share/nltk_data/corpora/wordnet/adv.exc  \r\n",
      "  inflating: /usr/share/nltk_data/corpora/wordnet/index.verb  \r\n",
      "  inflating: /usr/share/nltk_data/corpora/wordnet/cntlist.rev  \r\n",
      "  inflating: /usr/share/nltk_data/corpora/wordnet/data.adj  \r\n",
      "  inflating: /usr/share/nltk_data/corpora/wordnet/index.adj  \r\n",
      "  inflating: /usr/share/nltk_data/corpora/wordnet/LICENSE  \r\n",
      "  inflating: /usr/share/nltk_data/corpora/wordnet/citation.bib  \r\n",
      "  inflating: /usr/share/nltk_data/corpora/wordnet/noun.exc  \r\n",
      "  inflating: /usr/share/nltk_data/corpora/wordnet/verb.exc  \r\n",
      "  inflating: /usr/share/nltk_data/corpora/wordnet/README  \r\n",
      "  inflating: /usr/share/nltk_data/corpora/wordnet/index.sense  \r\n",
      "  inflating: /usr/share/nltk_data/corpora/wordnet/data.noun  \r\n",
      "  inflating: /usr/share/nltk_data/corpora/wordnet/data.adv  \r\n",
      "  inflating: /usr/share/nltk_data/corpora/wordnet/index.noun  \r\n",
      "  inflating: /usr/share/nltk_data/corpora/wordnet/adj.exc  \r\n"
     ]
    }
   ],
   "source": [
    "from nltk.corpus import wordnet\n",
    "! unzip /usr/share/nltk_data/corpora/wordnet.zip -d /usr/share/nltk_data/corpora/"
   ]
  },
  {
   "cell_type": "markdown",
   "id": "1568b75d",
   "metadata": {
    "papermill": {
     "duration": 0.00417,
     "end_time": "2024-06-21T13:29:04.033126",
     "exception": false,
     "start_time": "2024-06-21T13:29:04.028956",
     "status": "completed"
    },
    "tags": []
   },
   "source": [
    "# Data Loading"
   ]
  },
  {
   "cell_type": "code",
   "execution_count": 4,
   "id": "ac4ca509",
   "metadata": {
    "execution": {
     "iopub.execute_input": "2024-06-21T13:29:04.043909Z",
     "iopub.status.busy": "2024-06-21T13:29:04.043489Z",
     "iopub.status.idle": "2024-06-21T13:29:04.537862Z",
     "shell.execute_reply": "2024-06-21T13:29:04.536724Z"
    },
    "papermill": {
     "duration": 0.502988,
     "end_time": "2024-06-21T13:29:04.540492",
     "exception": false,
     "start_time": "2024-06-21T13:29:04.037504",
     "status": "completed"
    },
    "tags": []
   },
   "outputs": [
    {
     "data": {
      "text/html": [
       "<div>\n",
       "<style scoped>\n",
       "    .dataframe tbody tr th:only-of-type {\n",
       "        vertical-align: middle;\n",
       "    }\n",
       "\n",
       "    .dataframe tbody tr th {\n",
       "        vertical-align: top;\n",
       "    }\n",
       "\n",
       "    .dataframe thead th {\n",
       "        text-align: right;\n",
       "    }\n",
       "</style>\n",
       "<table border=\"1\" class=\"dataframe\">\n",
       "  <thead>\n",
       "    <tr style=\"text-align: right;\">\n",
       "      <th></th>\n",
       "      <th>id</th>\n",
       "      <th>ABSTRACT</th>\n",
       "      <th>Computer Science</th>\n",
       "      <th>Mathematics</th>\n",
       "      <th>Physics</th>\n",
       "      <th>Statistics</th>\n",
       "      <th>Analysis of PDEs</th>\n",
       "      <th>Applications</th>\n",
       "      <th>Artificial Intelligence</th>\n",
       "      <th>Astrophysics of Galaxies</th>\n",
       "      <th>...</th>\n",
       "      <th>Methodology</th>\n",
       "      <th>Number Theory</th>\n",
       "      <th>Optimization and Control</th>\n",
       "      <th>Representation Theory</th>\n",
       "      <th>Robotics</th>\n",
       "      <th>Social and Information Networks</th>\n",
       "      <th>Statistics Theory</th>\n",
       "      <th>Strongly Correlated Electrons</th>\n",
       "      <th>Superconductivity</th>\n",
       "      <th>Systems and Control</th>\n",
       "    </tr>\n",
       "  </thead>\n",
       "  <tbody>\n",
       "    <tr>\n",
       "      <th>0</th>\n",
       "      <td>1824</td>\n",
       "      <td>a ever-growing datasets inside observational a...</td>\n",
       "      <td>0</td>\n",
       "      <td>0</td>\n",
       "      <td>1</td>\n",
       "      <td>0</td>\n",
       "      <td>0</td>\n",
       "      <td>0</td>\n",
       "      <td>0</td>\n",
       "      <td>0</td>\n",
       "      <td>...</td>\n",
       "      <td>0</td>\n",
       "      <td>0</td>\n",
       "      <td>0</td>\n",
       "      <td>0</td>\n",
       "      <td>0</td>\n",
       "      <td>0</td>\n",
       "      <td>0</td>\n",
       "      <td>0</td>\n",
       "      <td>0</td>\n",
       "      <td>0</td>\n",
       "    </tr>\n",
       "    <tr>\n",
       "      <th>1</th>\n",
       "      <td>3094</td>\n",
       "      <td>we propose the framework considering optimal $...</td>\n",
       "      <td>1</td>\n",
       "      <td>0</td>\n",
       "      <td>0</td>\n",
       "      <td>0</td>\n",
       "      <td>0</td>\n",
       "      <td>0</td>\n",
       "      <td>0</td>\n",
       "      <td>0</td>\n",
       "      <td>...</td>\n",
       "      <td>0</td>\n",
       "      <td>0</td>\n",
       "      <td>0</td>\n",
       "      <td>0</td>\n",
       "      <td>0</td>\n",
       "      <td>0</td>\n",
       "      <td>0</td>\n",
       "      <td>0</td>\n",
       "      <td>0</td>\n",
       "      <td>0</td>\n",
       "    </tr>\n",
       "    <tr>\n",
       "      <th>2</th>\n",
       "      <td>8463</td>\n",
       "      <td>nanostructures with open shell transition meta...</td>\n",
       "      <td>0</td>\n",
       "      <td>0</td>\n",
       "      <td>1</td>\n",
       "      <td>0</td>\n",
       "      <td>0</td>\n",
       "      <td>0</td>\n",
       "      <td>0</td>\n",
       "      <td>0</td>\n",
       "      <td>...</td>\n",
       "      <td>0</td>\n",
       "      <td>0</td>\n",
       "      <td>0</td>\n",
       "      <td>0</td>\n",
       "      <td>0</td>\n",
       "      <td>0</td>\n",
       "      <td>0</td>\n",
       "      <td>1</td>\n",
       "      <td>0</td>\n",
       "      <td>0</td>\n",
       "    </tr>\n",
       "    <tr>\n",
       "      <th>3</th>\n",
       "      <td>2082</td>\n",
       "      <td>stars are self-gravitating fluids inside which...</td>\n",
       "      <td>0</td>\n",
       "      <td>0</td>\n",
       "      <td>1</td>\n",
       "      <td>0</td>\n",
       "      <td>0</td>\n",
       "      <td>0</td>\n",
       "      <td>0</td>\n",
       "      <td>0</td>\n",
       "      <td>...</td>\n",
       "      <td>0</td>\n",
       "      <td>0</td>\n",
       "      <td>0</td>\n",
       "      <td>0</td>\n",
       "      <td>0</td>\n",
       "      <td>0</td>\n",
       "      <td>0</td>\n",
       "      <td>0</td>\n",
       "      <td>0</td>\n",
       "      <td>0</td>\n",
       "    </tr>\n",
       "    <tr>\n",
       "      <th>4</th>\n",
       "      <td>8687</td>\n",
       "      <td>deep neural perception and control networks ar...</td>\n",
       "      <td>1</td>\n",
       "      <td>0</td>\n",
       "      <td>0</td>\n",
       "      <td>0</td>\n",
       "      <td>0</td>\n",
       "      <td>0</td>\n",
       "      <td>0</td>\n",
       "      <td>0</td>\n",
       "      <td>...</td>\n",
       "      <td>0</td>\n",
       "      <td>0</td>\n",
       "      <td>0</td>\n",
       "      <td>0</td>\n",
       "      <td>0</td>\n",
       "      <td>0</td>\n",
       "      <td>0</td>\n",
       "      <td>0</td>\n",
       "      <td>0</td>\n",
       "      <td>0</td>\n",
       "    </tr>\n",
       "  </tbody>\n",
       "</table>\n",
       "<p>5 rows × 31 columns</p>\n",
       "</div>"
      ],
      "text/plain": [
       "     id                                           ABSTRACT  Computer Science  \\\n",
       "0  1824  a ever-growing datasets inside observational a...                 0   \n",
       "1  3094  we propose the framework considering optimal $...                 1   \n",
       "2  8463  nanostructures with open shell transition meta...                 0   \n",
       "3  2082  stars are self-gravitating fluids inside which...                 0   \n",
       "4  8687  deep neural perception and control networks ar...                 1   \n",
       "\n",
       "   Mathematics  Physics  Statistics  Analysis of PDEs  Applications  \\\n",
       "0            0        1           0                 0             0   \n",
       "1            0        0           0                 0             0   \n",
       "2            0        1           0                 0             0   \n",
       "3            0        1           0                 0             0   \n",
       "4            0        0           0                 0             0   \n",
       "\n",
       "   Artificial Intelligence  Astrophysics of Galaxies  ...  Methodology  \\\n",
       "0                        0                         0  ...            0   \n",
       "1                        0                         0  ...            0   \n",
       "2                        0                         0  ...            0   \n",
       "3                        0                         0  ...            0   \n",
       "4                        0                         0  ...            0   \n",
       "\n",
       "   Number Theory  Optimization and Control  Representation Theory  Robotics  \\\n",
       "0              0                         0                      0         0   \n",
       "1              0                         0                      0         0   \n",
       "2              0                         0                      0         0   \n",
       "3              0                         0                      0         0   \n",
       "4              0                         0                      0         0   \n",
       "\n",
       "   Social and Information Networks  Statistics Theory  \\\n",
       "0                                0                  0   \n",
       "1                                0                  0   \n",
       "2                                0                  0   \n",
       "3                                0                  0   \n",
       "4                                0                  0   \n",
       "\n",
       "   Strongly Correlated Electrons  Superconductivity  Systems and Control  \n",
       "0                              0                  0                    0  \n",
       "1                              0                  0                    0  \n",
       "2                              1                  0                    0  \n",
       "3                              0                  0                    0  \n",
       "4                              0                  0                    0  \n",
       "\n",
       "[5 rows x 31 columns]"
      ]
     },
     "execution_count": 4,
     "metadata": {},
     "output_type": "execute_result"
    }
   ],
   "source": [
    "train_df = pd.read_csv('/kaggle/input/topic-modeling-for-research-articles/Train.csv')\n",
    "train_df.head()"
   ]
  },
  {
   "cell_type": "code",
   "execution_count": 5,
   "id": "8ccbdb7b",
   "metadata": {
    "execution": {
     "iopub.execute_input": "2024-06-21T13:29:04.552548Z",
     "iopub.status.busy": "2024-06-21T13:29:04.552138Z",
     "iopub.status.idle": "2024-06-21T13:29:04.588420Z",
     "shell.execute_reply": "2024-06-21T13:29:04.587367Z"
    },
    "papermill": {
     "duration": 0.045181,
     "end_time": "2024-06-21T13:29:04.590682",
     "exception": false,
     "start_time": "2024-06-21T13:29:04.545501",
     "status": "completed"
    },
    "tags": []
   },
   "outputs": [
    {
     "data": {
      "text/html": [
       "<div>\n",
       "<style scoped>\n",
       "    .dataframe tbody tr th:only-of-type {\n",
       "        vertical-align: middle;\n",
       "    }\n",
       "\n",
       "    .dataframe tbody tr th {\n",
       "        vertical-align: top;\n",
       "    }\n",
       "\n",
       "    .dataframe thead th {\n",
       "        text-align: right;\n",
       "    }\n",
       "</style>\n",
       "<table border=\"1\" class=\"dataframe\">\n",
       "  <thead>\n",
       "    <tr style=\"text-align: right;\">\n",
       "      <th></th>\n",
       "      <th>ABSTRACT</th>\n",
       "      <th>Target</th>\n",
       "    </tr>\n",
       "  </thead>\n",
       "  <tbody>\n",
       "    <tr>\n",
       "      <th>0</th>\n",
       "      <td>a ever-growing datasets inside observational a...</td>\n",
       "      <td>Physics</td>\n",
       "    </tr>\n",
       "    <tr>\n",
       "      <th>1</th>\n",
       "      <td>we propose the framework considering optimal $...</td>\n",
       "      <td>Computer Science</td>\n",
       "    </tr>\n",
       "    <tr>\n",
       "      <th>2</th>\n",
       "      <td>nanostructures with open shell transition meta...</td>\n",
       "      <td>Physics</td>\n",
       "    </tr>\n",
       "    <tr>\n",
       "      <th>3</th>\n",
       "      <td>stars are self-gravitating fluids inside which...</td>\n",
       "      <td>Physics</td>\n",
       "    </tr>\n",
       "    <tr>\n",
       "      <th>4</th>\n",
       "      <td>deep neural perception and control networks ar...</td>\n",
       "      <td>Computer Science</td>\n",
       "    </tr>\n",
       "  </tbody>\n",
       "</table>\n",
       "</div>"
      ],
      "text/plain": [
       "                                            ABSTRACT            Target\n",
       "0  a ever-growing datasets inside observational a...           Physics\n",
       "1  we propose the framework considering optimal $...  Computer Science\n",
       "2  nanostructures with open shell transition meta...           Physics\n",
       "3  stars are self-gravitating fluids inside which...           Physics\n",
       "4  deep neural perception and control networks ar...  Computer Science"
      ]
     },
     "execution_count": 5,
     "metadata": {},
     "output_type": "execute_result"
    }
   ],
   "source": [
    "# Dropping ID\n",
    "train_df.drop('id', axis=1, inplace=True)\n",
    "\n",
    "# Resetting ID \n",
    "train_df.reset_index()\n",
    "\n",
    "topics = train_df.columns[1:]\n",
    "train_df['Target'] = train_df[topics].idxmax(axis=1)\n",
    "train_df.drop(topics, axis=1, inplace=True)\n",
    "train_df.head()"
   ]
  },
  {
   "cell_type": "code",
   "execution_count": 6,
   "id": "8e8a2167",
   "metadata": {
    "execution": {
     "iopub.execute_input": "2024-06-21T13:29:04.602560Z",
     "iopub.status.busy": "2024-06-21T13:29:04.602152Z",
     "iopub.status.idle": "2024-06-21T13:29:04.612299Z",
     "shell.execute_reply": "2024-06-21T13:29:04.611128Z"
    },
    "papermill": {
     "duration": 0.019133,
     "end_time": "2024-06-21T13:29:04.614797",
     "exception": false,
     "start_time": "2024-06-21T13:29:04.595664",
     "status": "completed"
    },
    "tags": []
   },
   "outputs": [],
   "source": [
    "encoder = LabelEncoder()\n",
    "train_df['Target_Label'] = encoder.fit_transform(train_df['Target'])"
   ]
  },
  {
   "cell_type": "code",
   "execution_count": 7,
   "id": "09f29a0c",
   "metadata": {
    "execution": {
     "iopub.execute_input": "2024-06-21T13:29:04.627176Z",
     "iopub.status.busy": "2024-06-21T13:29:04.626718Z",
     "iopub.status.idle": "2024-06-21T13:29:04.906852Z",
     "shell.execute_reply": "2024-06-21T13:29:04.905604Z"
    },
    "papermill": {
     "duration": 0.289265,
     "end_time": "2024-06-21T13:29:04.909336",
     "exception": false,
     "start_time": "2024-06-21T13:29:04.620071",
     "status": "completed"
    },
    "tags": []
   },
   "outputs": [
    {
     "data": {
      "text/plain": [
       "<Axes: xlabel='Target', ylabel='count'>"
      ]
     },
     "execution_count": 7,
     "metadata": {},
     "output_type": "execute_result"
    },
    {
     "data": {
      "image/png": "[encoded data removed]",
      "text/plain": [
       "<Figure size 640x480 with 1 Axes>"
      ]
     },
     "metadata": {},
     "output_type": "display_data"
    }
   ],
   "source": [
    "sns.countplot(data=train_df, x='Target')"
   ]
  },
  {
   "cell_type": "markdown",
   "id": "6733f493",
   "metadata": {
    "papermill": {
     "duration": 0.005158,
     "end_time": "2024-06-21T13:29:04.919935",
     "exception": false,
     "start_time": "2024-06-21T13:29:04.914777",
     "status": "completed"
    },
    "tags": []
   },
   "source": [
    "## Text Preprocessing"
   ]
  },
  {
   "cell_type": "code",
   "execution_count": 8,
   "id": "73577d40",
   "metadata": {
    "execution": {
     "iopub.execute_input": "2024-06-21T13:29:04.932490Z",
     "iopub.status.busy": "2024-06-21T13:29:04.932053Z",
     "iopub.status.idle": "2024-06-21T13:29:04.942218Z",
     "shell.execute_reply": "2024-06-21T13:29:04.941179Z"
    },
    "papermill": {
     "duration": 0.019295,
     "end_time": "2024-06-21T13:29:04.944659",
     "exception": false,
     "start_time": "2024-06-21T13:29:04.925364",
     "status": "completed"
    },
    "tags": []
   },
   "outputs": [],
   "source": [
    "def preprocess_text(text: str, stopwords=set(stopwords.words('english')), wnl=WordNetLemmatizer()) -> list:\n",
    "    # Tokenising\n",
    "    words = word_tokenize(text.lower())\n",
    "    \n",
    "    # Removing Stopwords & Punctuation\n",
    "    filtered_text = [word for word in words if word not in stopwords and word.isalpha()]\n",
    "    \n",
    "    # Lemmatization\n",
    "    preprocessed_text = [wnl.lemmatize(word) for word in filtered_text]\n",
    "    \n",
    "    return preprocessed_text"
   ]
  },
  {
   "cell_type": "code",
   "execution_count": 9,
   "id": "a75f204f",
   "metadata": {
    "execution": {
     "iopub.execute_input": "2024-06-21T13:29:04.957299Z",
     "iopub.status.busy": "2024-06-21T13:29:04.956895Z",
     "iopub.status.idle": "2024-06-21T13:29:33.440371Z",
     "shell.execute_reply": "2024-06-21T13:29:33.439114Z"
    },
    "papermill": {
     "duration": 28.492973,
     "end_time": "2024-06-21T13:29:33.443261",
     "exception": false,
     "start_time": "2024-06-21T13:29:04.950288",
     "status": "completed"
    },
    "tags": []
   },
   "outputs": [
    {
     "data": {
      "text/plain": [
       "0    [datasets, inside, observational, astronomy, c...\n",
       "1    [propose, framework, considering, optimal, exc...\n",
       "2    [nanostructures, open, shell, transition, meta...\n",
       "3    [star, fluid, inside, pressure, buoyancy, rota...\n",
       "4    [deep, neural, perception, control, network, l...\n",
       "Name: ABSTRACT, dtype: object"
      ]
     },
     "execution_count": 9,
     "metadata": {},
     "output_type": "execute_result"
    }
   ],
   "source": [
    "nested_list = train_df.ABSTRACT.apply(preprocess_text)\n",
    "nested_list.head()"
   ]
  },
  {
   "cell_type": "code",
   "execution_count": 10,
   "id": "ea30f00e",
   "metadata": {
    "execution": {
     "iopub.execute_input": "2024-06-21T13:29:33.457960Z",
     "iopub.status.busy": "2024-06-21T13:29:33.456366Z",
     "iopub.status.idle": "2024-06-21T13:29:33.473115Z",
     "shell.execute_reply": "2024-06-21T13:29:33.472037Z"
    },
    "papermill": {
     "duration": 0.026372,
     "end_time": "2024-06-21T13:29:33.475533",
     "exception": false,
     "start_time": "2024-06-21T13:29:33.449161",
     "status": "completed"
    },
    "tags": []
   },
   "outputs": [
    {
     "data": {
      "text/html": [
       "<div>\n",
       "<style scoped>\n",
       "    .dataframe tbody tr th:only-of-type {\n",
       "        vertical-align: middle;\n",
       "    }\n",
       "\n",
       "    .dataframe tbody tr th {\n",
       "        vertical-align: top;\n",
       "    }\n",
       "\n",
       "    .dataframe thead th {\n",
       "        text-align: right;\n",
       "    }\n",
       "</style>\n",
       "<table border=\"1\" class=\"dataframe\">\n",
       "  <thead>\n",
       "    <tr style=\"text-align: right;\">\n",
       "      <th></th>\n",
       "      <th>ABSTRACT</th>\n",
       "      <th>Target</th>\n",
       "      <th>Target_Label</th>\n",
       "    </tr>\n",
       "  </thead>\n",
       "  <tbody>\n",
       "    <tr>\n",
       "      <th>0</th>\n",
       "      <td>[datasets, inside, observational, astronomy, c...</td>\n",
       "      <td>Physics</td>\n",
       "      <td>2</td>\n",
       "    </tr>\n",
       "    <tr>\n",
       "      <th>1</th>\n",
       "      <td>[propose, framework, considering, optimal, exc...</td>\n",
       "      <td>Computer Science</td>\n",
       "      <td>0</td>\n",
       "    </tr>\n",
       "    <tr>\n",
       "      <th>2</th>\n",
       "      <td>[nanostructures, open, shell, transition, meta...</td>\n",
       "      <td>Physics</td>\n",
       "      <td>2</td>\n",
       "    </tr>\n",
       "    <tr>\n",
       "      <th>3</th>\n",
       "      <td>[star, fluid, inside, pressure, buoyancy, rota...</td>\n",
       "      <td>Physics</td>\n",
       "      <td>2</td>\n",
       "    </tr>\n",
       "    <tr>\n",
       "      <th>4</th>\n",
       "      <td>[deep, neural, perception, control, network, l...</td>\n",
       "      <td>Computer Science</td>\n",
       "      <td>0</td>\n",
       "    </tr>\n",
       "  </tbody>\n",
       "</table>\n",
       "</div>"
      ],
      "text/plain": [
       "                                            ABSTRACT            Target  \\\n",
       "0  [datasets, inside, observational, astronomy, c...           Physics   \n",
       "1  [propose, framework, considering, optimal, exc...  Computer Science   \n",
       "2  [nanostructures, open, shell, transition, meta...           Physics   \n",
       "3  [star, fluid, inside, pressure, buoyancy, rota...           Physics   \n",
       "4  [deep, neural, perception, control, network, l...  Computer Science   \n",
       "\n",
       "   Target_Label  \n",
       "0             2  \n",
       "1             0  \n",
       "2             2  \n",
       "3             2  \n",
       "4             0  "
      ]
     },
     "execution_count": 10,
     "metadata": {},
     "output_type": "execute_result"
    }
   ],
   "source": [
    "train_df['ABSTRACT'] = nested_list\n",
    "train_df.head()"
   ]
  }
 ],
 "metadata": {
  "kaggle": {
   "accelerator": "none",
   "dataSources": [
    {
     "datasetId": 932025,
     "sourceId": 2994327,
     "sourceType": "datasetVersion"
    }
   ],
   "dockerImageVersionId": 30732,
   "isGpuEnabled": false,
   "isInternetEnabled": true,
   "language": "python",
   "sourceType": "notebook"
  },
  "kernelspec": {
   "display_name": "Python 3",
   "language": "python",
   "name": "python3"
  },
  "language_info": {
   "codemirror_mode": {
    "name": "ipython",
    "version": 3
   },
   "file_extension": ".py",
   "mimetype": "text/x-python",
   "name": "python",
   "nbconvert_exporter": "python",
   "pygments_lexer": "ipython3",
   "version": "3.10.13"
  },
  "papermill": {
   "default_parameters": {},
   "duration": 42.671581,
   "end_time": "2024-06-21T13:29:35.007769",
   "environment_variables": {},
   "exception": null,
   "input_path": "__notebook__.ipynb",
   "output_path": "__notebook__.ipynb",
   "parameters": {},
   "start_time": "2024-06-21T13:28:52.336188",
   "version": "2.5.0"
  }
 },
 "nbformat": 4,
 "nbformat_minor": 5
}
