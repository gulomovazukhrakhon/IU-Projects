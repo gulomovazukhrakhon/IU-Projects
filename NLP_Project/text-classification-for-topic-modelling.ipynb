{
 "cells": [
  {
   "cell_type": "markdown",
   "id": "1355d38d",
   "metadata": {
    "papermill": {
     "duration": 0.013615,
     "end_time": "2024-07-04T11:19:39.874137",
     "exception": false,
     "start_time": "2024-07-04T11:19:39.860522",
     "status": "completed"
    },
    "tags": []
   },
   "source": [
    "# Text Classification for Topic Modelling"
   ]
  },
  {
   "cell_type": "markdown",
   "id": "a173ac84",
   "metadata": {
    "papermill": {
     "duration": 0.012395,
     "end_time": "2024-07-04T11:19:39.899319",
     "exception": false,
     "start_time": "2024-07-04T11:19:39.886924",
     "status": "completed"
    },
    "tags": []
   },
   "source": [
    "## Notebook Imports"
   ]
  },
  {
   "cell_type": "code",
   "execution_count": 1,
   "id": "17143031",
   "metadata": {
    "_cell_guid": "b1076dfc-b9ad-4769-8c92-a6c4dae69d19",
    "_uuid": "8f2839f25d086af736a60e9eeb907d3b93b6e0e5",
    "execution": {
     "iopub.execute_input": "2024-07-04T11:19:39.926139Z",
     "iopub.status.busy": "2024-07-04T11:19:39.925801Z",
     "iopub.status.idle": "2024-07-04T11:19:47.825818Z",
     "shell.execute_reply": "2024-07-04T11:19:47.824848Z"
    },
    "papermill": {
     "duration": 7.91623,
     "end_time": "2024-07-04T11:19:47.828205",
     "exception": false,
     "start_time": "2024-07-04T11:19:39.911975",
     "status": "completed"
    },
    "tags": []
   },
   "outputs": [],
   "source": [
    "# NLTK\n",
    "import nltk\n",
    "from nltk.corpus import stopwords\n",
    "from nltk.stem import WordNetLemmatizer\n",
    "from nltk.tokenize import word_tokenize\n",
    "\n",
    "# Sklearn\n",
    "import sklearn\n",
    "from sklearn.naive_bayes import MultinomialNB\n",
    "from sklearn.preprocessing import LabelEncoder\n",
    "from sklearn.ensemble import RandomForestClassifier\n",
    "from sklearn.linear_model import LogisticRegression\n",
    "from sklearn.model_selection import train_test_split\n",
    "from sklearn.feature_extraction.text import CountVectorizer, TfidfTransformer\n",
    "from sklearn.metrics import accuracy_score, classification_report, confusion_matrix, ConfusionMatrixDisplay\n",
    "\n",
    "# Imblearn\n",
    "import imblearn\n",
    "from imblearn.over_sampling import RandomOverSampler\n",
    "\n",
    "# PyTorch\n",
    "import torch\n",
    "import torch.nn as nn\n",
    "import torch.optim as optim\n",
    "from torch.nn.utils.rnn import pad_sequence\n",
    "from torch.utils.data import DataLoader, Dataset\n",
    "from torchtext.vocab import build_vocab_from_iterator\n",
    "\n",
    "# Other\n",
    "import numpy as np\n",
    "import pandas as pd\n",
    "import seaborn as sns\n",
    "import matplotlib.pyplot as plt\n",
    "\n",
    "%matplotlib inline"
   ]
  },
  {
   "cell_type": "code",
   "execution_count": 2,
   "id": "06ac8e4b",
   "metadata": {
    "execution": {
     "iopub.execute_input": "2024-07-04T11:19:47.856710Z",
     "iopub.status.busy": "2024-07-04T11:19:47.856280Z",
     "iopub.status.idle": "2024-07-04T11:19:48.164794Z",
     "shell.execute_reply": "2024-07-04T11:19:48.163784Z"
    },
    "papermill": {
     "duration": 0.324345,
     "end_time": "2024-07-04T11:19:48.166857",
     "exception": false,
     "start_time": "2024-07-04T11:19:47.842512",
     "status": "completed"
    },
    "tags": []
   },
   "outputs": [
    {
     "name": "stdout",
     "output_type": "stream",
     "text": [
      "[nltk_data] Downloading package stopwords to /usr/share/nltk_data...\n",
      "[nltk_data]   Package stopwords is already up-to-date!\n",
      "[nltk_data] Downloading package punkt to /usr/share/nltk_data...\n",
      "[nltk_data]   Package punkt is already up-to-date!\n",
      "[nltk_data] Downloading package wordnet to /usr/share/nltk_data...\n",
      "[nltk_data]   Package wordnet is already up-to-date!\n",
      "[nltk_data] Downloading package omw-1.4 to /usr/share/nltk_data...\n"
     ]
    },
    {
     "data": {
      "text/plain": [
       "True"
      ]
     },
     "execution_count": 2,
     "metadata": {},
     "output_type": "execute_result"
    }
   ],
   "source": [
    "nltk.download('stopwords')\n",
    "nltk.download(\"punkt\")\n",
    "nltk.download(\"wordnet\")\n",
    "nltk.download(\"omw-1.4\")"
   ]
  },
  {
   "cell_type": "code",
   "execution_count": 3,
   "id": "afabf28d",
   "metadata": {
    "execution": {
     "iopub.execute_input": "2024-07-04T11:19:48.197021Z",
     "iopub.status.busy": "2024-07-04T11:19:48.196229Z",
     "iopub.status.idle": "2024-07-04T11:19:49.503975Z",
     "shell.execute_reply": "2024-07-04T11:19:49.502940Z"
    },
    "papermill": {
     "duration": 1.324279,
     "end_time": "2024-07-04T11:19:49.506088",
     "exception": false,
     "start_time": "2024-07-04T11:19:48.181809",
     "status": "completed"
    },
    "tags": []
   },
   "outputs": [
    {
     "name": "stdout",
     "output_type": "stream",
     "text": [
      "Archive:  /usr/share/nltk_data/corpora/wordnet.zip\r\n",
      "   creating: /usr/share/nltk_data/corpora/wordnet/\r\n",
      "  inflating: /usr/share/nltk_data/corpora/wordnet/lexnames  \r\n",
      "  inflating: /usr/share/nltk_data/corpora/wordnet/data.verb  \r\n",
      "  inflating: /usr/share/nltk_data/corpora/wordnet/index.adv  \r\n",
      "  inflating: /usr/share/nltk_data/corpora/wordnet/adv.exc  \r\n",
      "  inflating: /usr/share/nltk_data/corpora/wordnet/index.verb  \r\n",
      "  inflating: /usr/share/nltk_data/corpora/wordnet/cntlist.rev  \r\n",
      "  inflating: /usr/share/nltk_data/corpora/wordnet/data.adj  \r\n",
      "  inflating: /usr/share/nltk_data/corpora/wordnet/index.adj  \r\n",
      "  inflating: /usr/share/nltk_data/corpora/wordnet/LICENSE  \r\n",
      "  inflating: /usr/share/nltk_data/corpora/wordnet/citation.bib  \r\n",
      "  inflating: /usr/share/nltk_data/corpora/wordnet/noun.exc  \r\n",
      "  inflating: /usr/share/nltk_data/corpora/wordnet/verb.exc  \r\n",
      "  inflating: /usr/share/nltk_data/corpora/wordnet/README  \r\n",
      "  inflating: /usr/share/nltk_data/corpora/wordnet/index.sense  \r\n",
      "  inflating: /usr/share/nltk_data/corpora/wordnet/data.noun  \r\n",
      "  inflating: /usr/share/nltk_data/corpora/wordnet/data.adv  \r\n",
      "  inflating: /usr/share/nltk_data/corpora/wordnet/index.noun  \r\n",
      "  inflating: /usr/share/nltk_data/corpora/wordnet/adj.exc  \r\n"
     ]
    }
   ],
   "source": [
    "from nltk.corpus import wordnet\n",
    "! unzip /usr/share/nltk_data/corpora/wordnet.zip -d /usr/share/nltk_data/corpora/"
   ]
  },
  {
   "cell_type": "markdown",
   "id": "e2f3d87f",
   "metadata": {
    "papermill": {
     "duration": 0.013028,
     "end_time": "2024-07-04T11:19:49.532636",
     "exception": false,
     "start_time": "2024-07-04T11:19:49.519608",
     "status": "completed"
    },
    "tags": []
   },
   "source": [
    "# Data Loading"
   ]
  },
  {
   "cell_type": "code",
   "execution_count": 4,
   "id": "69636e3b",
   "metadata": {
    "execution": {
     "iopub.execute_input": "2024-07-04T11:19:49.560670Z",
     "iopub.status.busy": "2024-07-04T11:19:49.560325Z",
     "iopub.status.idle": "2024-07-04T11:19:49.630644Z",
     "shell.execute_reply": "2024-07-04T11:19:49.629670Z"
    },
    "papermill": {
     "duration": 0.086819,
     "end_time": "2024-07-04T11:19:49.632664",
     "exception": false,
     "start_time": "2024-07-04T11:19:49.545845",
     "status": "completed"
    },
    "tags": []
   },
   "outputs": [],
   "source": [
    "DATASET_ROOT = '/kaggle/input/topic-modeling-for-research-articles/Train.csv'\n",
    "device = 'cuda' if torch.cuda.is_available() else 'cpu'"
   ]
  },
  {
   "cell_type": "code",
   "execution_count": 5,
   "id": "b0b8b006",
   "metadata": {
    "execution": {
     "iopub.execute_input": "2024-07-04T11:19:49.660915Z",
     "iopub.status.busy": "2024-07-04T11:19:49.660600Z",
     "iopub.status.idle": "2024-07-04T11:19:50.107837Z",
     "shell.execute_reply": "2024-07-04T11:19:50.106584Z"
    },
    "papermill": {
     "duration": 0.463974,
     "end_time": "2024-07-04T11:19:50.110175",
     "exception": false,
     "start_time": "2024-07-04T11:19:49.646201",
     "status": "completed"
    },
    "tags": []
   },
   "outputs": [
    {
     "data": {
      "text/html": [
       "<div>\n",
       "<style scoped>\n",
       "    .dataframe tbody tr th:only-of-type {\n",
       "        vertical-align: middle;\n",
       "    }\n",
       "\n",
       "    .dataframe tbody tr th {\n",
       "        vertical-align: top;\n",
       "    }\n",
       "\n",
       "    .dataframe thead th {\n",
       "        text-align: right;\n",
       "    }\n",
       "</style>\n",
       "<table border=\"1\" class=\"dataframe\">\n",
       "  <thead>\n",
       "    <tr style=\"text-align: right;\">\n",
       "      <th></th>\n",
       "      <th>id</th>\n",
       "      <th>ABSTRACT</th>\n",
       "      <th>Computer Science</th>\n",
       "      <th>Mathematics</th>\n",
       "      <th>Physics</th>\n",
       "      <th>Statistics</th>\n",
       "      <th>Analysis of PDEs</th>\n",
       "      <th>Applications</th>\n",
       "      <th>Artificial Intelligence</th>\n",
       "      <th>Astrophysics of Galaxies</th>\n",
       "      <th>...</th>\n",
       "      <th>Methodology</th>\n",
       "      <th>Number Theory</th>\n",
       "      <th>Optimization and Control</th>\n",
       "      <th>Representation Theory</th>\n",
       "      <th>Robotics</th>\n",
       "      <th>Social and Information Networks</th>\n",
       "      <th>Statistics Theory</th>\n",
       "      <th>Strongly Correlated Electrons</th>\n",
       "      <th>Superconductivity</th>\n",
       "      <th>Systems and Control</th>\n",
       "    </tr>\n",
       "  </thead>\n",
       "  <tbody>\n",
       "    <tr>\n",
       "      <th>0</th>\n",
       "      <td>1824</td>\n",
       "      <td>a ever-growing datasets inside observational a...</td>\n",
       "      <td>0</td>\n",
       "      <td>0</td>\n",
       "      <td>1</td>\n",
       "      <td>0</td>\n",
       "      <td>0</td>\n",
       "      <td>0</td>\n",
       "      <td>0</td>\n",
       "      <td>0</td>\n",
       "      <td>...</td>\n",
       "      <td>0</td>\n",
       "      <td>0</td>\n",
       "      <td>0</td>\n",
       "      <td>0</td>\n",
       "      <td>0</td>\n",
       "      <td>0</td>\n",
       "      <td>0</td>\n",
       "      <td>0</td>\n",
       "      <td>0</td>\n",
       "      <td>0</td>\n",
       "    </tr>\n",
       "    <tr>\n",
       "      <th>1</th>\n",
       "      <td>3094</td>\n",
       "      <td>we propose the framework considering optimal $...</td>\n",
       "      <td>1</td>\n",
       "      <td>0</td>\n",
       "      <td>0</td>\n",
       "      <td>0</td>\n",
       "      <td>0</td>\n",
       "      <td>0</td>\n",
       "      <td>0</td>\n",
       "      <td>0</td>\n",
       "      <td>...</td>\n",
       "      <td>0</td>\n",
       "      <td>0</td>\n",
       "      <td>0</td>\n",
       "      <td>0</td>\n",
       "      <td>0</td>\n",
       "      <td>0</td>\n",
       "      <td>0</td>\n",
       "      <td>0</td>\n",
       "      <td>0</td>\n",
       "      <td>0</td>\n",
       "    </tr>\n",
       "    <tr>\n",
       "      <th>2</th>\n",
       "      <td>8463</td>\n",
       "      <td>nanostructures with open shell transition meta...</td>\n",
       "      <td>0</td>\n",
       "      <td>0</td>\n",
       "      <td>1</td>\n",
       "      <td>0</td>\n",
       "      <td>0</td>\n",
       "      <td>0</td>\n",
       "      <td>0</td>\n",
       "      <td>0</td>\n",
       "      <td>...</td>\n",
       "      <td>0</td>\n",
       "      <td>0</td>\n",
       "      <td>0</td>\n",
       "      <td>0</td>\n",
       "      <td>0</td>\n",
       "      <td>0</td>\n",
       "      <td>0</td>\n",
       "      <td>1</td>\n",
       "      <td>0</td>\n",
       "      <td>0</td>\n",
       "    </tr>\n",
       "    <tr>\n",
       "      <th>3</th>\n",
       "      <td>2082</td>\n",
       "      <td>stars are self-gravitating fluids inside which...</td>\n",
       "      <td>0</td>\n",
       "      <td>0</td>\n",
       "      <td>1</td>\n",
       "      <td>0</td>\n",
       "      <td>0</td>\n",
       "      <td>0</td>\n",
       "      <td>0</td>\n",
       "      <td>0</td>\n",
       "      <td>...</td>\n",
       "      <td>0</td>\n",
       "      <td>0</td>\n",
       "      <td>0</td>\n",
       "      <td>0</td>\n",
       "      <td>0</td>\n",
       "      <td>0</td>\n",
       "      <td>0</td>\n",
       "      <td>0</td>\n",
       "      <td>0</td>\n",
       "      <td>0</td>\n",
       "    </tr>\n",
       "    <tr>\n",
       "      <th>4</th>\n",
       "      <td>8687</td>\n",
       "      <td>deep neural perception and control networks ar...</td>\n",
       "      <td>1</td>\n",
       "      <td>0</td>\n",
       "      <td>0</td>\n",
       "      <td>0</td>\n",
       "      <td>0</td>\n",
       "      <td>0</td>\n",
       "      <td>0</td>\n",
       "      <td>0</td>\n",
       "      <td>...</td>\n",
       "      <td>0</td>\n",
       "      <td>0</td>\n",
       "      <td>0</td>\n",
       "      <td>0</td>\n",
       "      <td>0</td>\n",
       "      <td>0</td>\n",
       "      <td>0</td>\n",
       "      <td>0</td>\n",
       "      <td>0</td>\n",
       "      <td>0</td>\n",
       "    </tr>\n",
       "  </tbody>\n",
       "</table>\n",
       "<p>5 rows × 31 columns</p>\n",
       "</div>"
      ],
      "text/plain": [
       "     id                                           ABSTRACT  Computer Science  \\\n",
       "0  1824  a ever-growing datasets inside observational a...                 0   \n",
       "1  3094  we propose the framework considering optimal $...                 1   \n",
       "2  8463  nanostructures with open shell transition meta...                 0   \n",
       "3  2082  stars are self-gravitating fluids inside which...                 0   \n",
       "4  8687  deep neural perception and control networks ar...                 1   \n",
       "\n",
       "   Mathematics  Physics  Statistics  Analysis of PDEs  Applications  \\\n",
       "0            0        1           0                 0             0   \n",
       "1            0        0           0                 0             0   \n",
       "2            0        1           0                 0             0   \n",
       "3            0        1           0                 0             0   \n",
       "4            0        0           0                 0             0   \n",
       "\n",
       "   Artificial Intelligence  Astrophysics of Galaxies  ...  Methodology  \\\n",
       "0                        0                         0  ...            0   \n",
       "1                        0                         0  ...            0   \n",
       "2                        0                         0  ...            0   \n",
       "3                        0                         0  ...            0   \n",
       "4                        0                         0  ...            0   \n",
       "\n",
       "   Number Theory  Optimization and Control  Representation Theory  Robotics  \\\n",
       "0              0                         0                      0         0   \n",
       "1              0                         0                      0         0   \n",
       "2              0                         0                      0         0   \n",
       "3              0                         0                      0         0   \n",
       "4              0                         0                      0         0   \n",
       "\n",
       "   Social and Information Networks  Statistics Theory  \\\n",
       "0                                0                  0   \n",
       "1                                0                  0   \n",
       "2                                0                  0   \n",
       "3                                0                  0   \n",
       "4                                0                  0   \n",
       "\n",
       "   Strongly Correlated Electrons  Superconductivity  Systems and Control  \n",
       "0                              0                  0                    0  \n",
       "1                              0                  0                    0  \n",
       "2                              1                  0                    0  \n",
       "3                              0                  0                    0  \n",
       "4                              0                  0                    0  \n",
       "\n",
       "[5 rows x 31 columns]"
      ]
     },
     "execution_count": 5,
     "metadata": {},
     "output_type": "execute_result"
    }
   ],
   "source": [
    "train_df = pd.read_csv(DATASET_ROOT)\n",
    "train_df.head()"
   ]
  },
  {
   "cell_type": "markdown",
   "id": "66d3eeaf",
   "metadata": {
    "papermill": {
     "duration": 0.013454,
     "end_time": "2024-07-04T11:19:50.137590",
     "exception": false,
     "start_time": "2024-07-04T11:19:50.124136",
     "status": "completed"
    },
    "tags": []
   },
   "source": [
    "# Data Preprocessing"
   ]
  },
  {
   "cell_type": "code",
   "execution_count": 6,
   "id": "2357ec7a",
   "metadata": {
    "execution": {
     "iopub.execute_input": "2024-07-04T11:19:50.166128Z",
     "iopub.status.busy": "2024-07-04T11:19:50.165794Z",
     "iopub.status.idle": "2024-07-04T11:19:50.193271Z",
     "shell.execute_reply": "2024-07-04T11:19:50.192382Z"
    },
    "papermill": {
     "duration": 0.043919,
     "end_time": "2024-07-04T11:19:50.195229",
     "exception": false,
     "start_time": "2024-07-04T11:19:50.151310",
     "status": "completed"
    },
    "tags": []
   },
   "outputs": [
    {
     "data": {
      "text/html": [
       "<div>\n",
       "<style scoped>\n",
       "    .dataframe tbody tr th:only-of-type {\n",
       "        vertical-align: middle;\n",
       "    }\n",
       "\n",
       "    .dataframe tbody tr th {\n",
       "        vertical-align: top;\n",
       "    }\n",
       "\n",
       "    .dataframe thead th {\n",
       "        text-align: right;\n",
       "    }\n",
       "</style>\n",
       "<table border=\"1\" class=\"dataframe\">\n",
       "  <thead>\n",
       "    <tr style=\"text-align: right;\">\n",
       "      <th></th>\n",
       "      <th>ABSTRACT</th>\n",
       "      <th>Target</th>\n",
       "    </tr>\n",
       "  </thead>\n",
       "  <tbody>\n",
       "    <tr>\n",
       "      <th>0</th>\n",
       "      <td>a ever-growing datasets inside observational a...</td>\n",
       "      <td>Physics</td>\n",
       "    </tr>\n",
       "    <tr>\n",
       "      <th>1</th>\n",
       "      <td>we propose the framework considering optimal $...</td>\n",
       "      <td>Computer Science</td>\n",
       "    </tr>\n",
       "    <tr>\n",
       "      <th>2</th>\n",
       "      <td>nanostructures with open shell transition meta...</td>\n",
       "      <td>Physics</td>\n",
       "    </tr>\n",
       "    <tr>\n",
       "      <th>3</th>\n",
       "      <td>stars are self-gravitating fluids inside which...</td>\n",
       "      <td>Physics</td>\n",
       "    </tr>\n",
       "    <tr>\n",
       "      <th>4</th>\n",
       "      <td>deep neural perception and control networks ar...</td>\n",
       "      <td>Computer Science</td>\n",
       "    </tr>\n",
       "  </tbody>\n",
       "</table>\n",
       "</div>"
      ],
      "text/plain": [
       "                                            ABSTRACT            Target\n",
       "0  a ever-growing datasets inside observational a...           Physics\n",
       "1  we propose the framework considering optimal $...  Computer Science\n",
       "2  nanostructures with open shell transition meta...           Physics\n",
       "3  stars are self-gravitating fluids inside which...           Physics\n",
       "4  deep neural perception and control networks ar...  Computer Science"
      ]
     },
     "execution_count": 6,
     "metadata": {},
     "output_type": "execute_result"
    }
   ],
   "source": [
    "# Dropping ID\n",
    "train_df.drop('id', axis=1, inplace=True)\n",
    "\n",
    "# Resetting ID \n",
    "train_df.reset_index()\n",
    "\n",
    "topics = train_df.columns[1:]\n",
    "train_df['Target'] = train_df[topics].idxmax(axis=1)\n",
    "train_df.drop(topics, axis=1, inplace=True)\n",
    "train_df.head()"
   ]
  },
  {
   "cell_type": "code",
   "execution_count": 7,
   "id": "448ff2b0",
   "metadata": {
    "execution": {
     "iopub.execute_input": "2024-07-04T11:19:50.225829Z",
     "iopub.status.busy": "2024-07-04T11:19:50.225521Z",
     "iopub.status.idle": "2024-07-04T11:19:50.233929Z",
     "shell.execute_reply": "2024-07-04T11:19:50.233131Z"
    },
    "papermill": {
     "duration": 0.026541,
     "end_time": "2024-07-04T11:19:50.235823",
     "exception": false,
     "start_time": "2024-07-04T11:19:50.209282",
     "status": "completed"
    },
    "tags": []
   },
   "outputs": [],
   "source": [
    "encoder = LabelEncoder()\n",
    "train_df['Target_Label'] = encoder.fit_transform(train_df['Target'])"
   ]
  },
  {
   "cell_type": "code",
   "execution_count": 8,
   "id": "a26a528b",
   "metadata": {
    "execution": {
     "iopub.execute_input": "2024-07-04T11:19:50.265529Z",
     "iopub.status.busy": "2024-07-04T11:19:50.265245Z",
     "iopub.status.idle": "2024-07-04T11:19:50.274758Z",
     "shell.execute_reply": "2024-07-04T11:19:50.274090Z"
    },
    "papermill": {
     "duration": 0.026662,
     "end_time": "2024-07-04T11:19:50.276685",
     "exception": false,
     "start_time": "2024-07-04T11:19:50.250023",
     "status": "completed"
    },
    "tags": []
   },
   "outputs": [],
   "source": [
    "def preprocess_text(text: str, stopwords=set(stopwords.words('english')), wnl=WordNetLemmatizer(), ml=True):\n",
    "    \n",
    "    \"\"\"\n",
    "    Preprocesses the input text by tokenizing, removing stopwords and punctuation, and lemmatizing the words.\n",
    "    \n",
    "    Args:\n",
    "        text (str): The input text to be preprocessed.\n",
    "        stopwords (set, optional): A set of stopwords to be removed from the text. Defaults to nltk's English stopwords.\n",
    "        wnl (WordNetLemmatizer, optional): An instance of WordNetLemmatizer for lemmatizing words. Defaults to an instance of WordNetLemmatizer.\n",
    "        ml (bool, optional): If True, the preprocessed text is returned as a single string. If False, the preprocessed text is returned as a list of words. Defaults to True.\n",
    "    \n",
    "    Returns:\n",
    "        list or str: The preprocessed text. If ml is True, returns a string of the preprocessed text. If ml is False, returns a list of preprocessed words.\n",
    "    \"\"\"\n",
    "    \n",
    "    # Tokenising\n",
    "    words = word_tokenize(text.lower())\n",
    "    \n",
    "    # Removing Stopwords & Punctuation\n",
    "    filtered_text = [word for word in words if word not in stopwords and word.isalpha()]\n",
    "    \n",
    "    # Lemmatization\n",
    "    preprocessed_text = [wnl.lemmatize(word) for word in filtered_text]\n",
    "    \n",
    "    if ml:\n",
    "        preprocessed_text = ' '.join(preprocessed_text)\n",
    "    \n",
    "    return preprocessed_text"
   ]
  },
  {
   "cell_type": "code",
   "execution_count": 9,
   "id": "c868a20c",
   "metadata": {
    "execution": {
     "iopub.execute_input": "2024-07-04T11:19:50.305769Z",
     "iopub.status.busy": "2024-07-04T11:19:50.305508Z",
     "iopub.status.idle": "2024-07-04T11:21:07.379622Z",
     "shell.execute_reply": "2024-07-04T11:21:07.378792Z"
    },
    "papermill": {
     "duration": 77.09125,
     "end_time": "2024-07-04T11:21:07.382194",
     "exception": false,
     "start_time": "2024-07-04T11:19:50.290944",
     "status": "completed"
    },
    "tags": []
   },
   "outputs": [],
   "source": [
    "preprocessed_text_dl = train_df.ABSTRACT.apply(preprocess_text, ml=False)\n",
    "preprocessed_text_ml = train_df.ABSTRACT.apply(preprocess_text)"
   ]
  },
  {
   "cell_type": "code",
   "execution_count": 10,
   "id": "1a788c2f",
   "metadata": {
    "execution": {
     "iopub.execute_input": "2024-07-04T11:21:07.411559Z",
     "iopub.status.busy": "2024-07-04T11:21:07.411250Z",
     "iopub.status.idle": "2024-07-04T11:21:07.432488Z",
     "shell.execute_reply": "2024-07-04T11:21:07.431620Z"
    },
    "papermill": {
     "duration": 0.038141,
     "end_time": "2024-07-04T11:21:07.434515",
     "exception": false,
     "start_time": "2024-07-04T11:21:07.396374",
     "status": "completed"
    },
    "tags": []
   },
   "outputs": [
    {
     "data": {
      "text/html": [
       "<div>\n",
       "<style scoped>\n",
       "    .dataframe tbody tr th:only-of-type {\n",
       "        vertical-align: middle;\n",
       "    }\n",
       "\n",
       "    .dataframe tbody tr th {\n",
       "        vertical-align: top;\n",
       "    }\n",
       "\n",
       "    .dataframe thead th {\n",
       "        text-align: right;\n",
       "    }\n",
       "</style>\n",
       "<table border=\"1\" class=\"dataframe\">\n",
       "  <thead>\n",
       "    <tr style=\"text-align: right;\">\n",
       "      <th></th>\n",
       "      <th>Target</th>\n",
       "      <th>Target_Label</th>\n",
       "      <th>Preprocessed Text ML</th>\n",
       "      <th>Preprocessed Text DL</th>\n",
       "    </tr>\n",
       "  </thead>\n",
       "  <tbody>\n",
       "    <tr>\n",
       "      <th>0</th>\n",
       "      <td>Physics</td>\n",
       "      <td>2</td>\n",
       "      <td>datasets inside observational astronomy challe...</td>\n",
       "      <td>[datasets, inside, observational, astronomy, c...</td>\n",
       "    </tr>\n",
       "    <tr>\n",
       "      <th>1</th>\n",
       "      <td>Computer Science</td>\n",
       "      <td>0</td>\n",
       "      <td>propose framework considering optimal excludin...</td>\n",
       "      <td>[propose, framework, considering, optimal, exc...</td>\n",
       "    </tr>\n",
       "    <tr>\n",
       "      <th>2</th>\n",
       "      <td>Physics</td>\n",
       "      <td>2</td>\n",
       "      <td>nanostructures open shell transition metal mol...</td>\n",
       "      <td>[nanostructures, open, shell, transition, meta...</td>\n",
       "    </tr>\n",
       "    <tr>\n",
       "      <th>3</th>\n",
       "      <td>Physics</td>\n",
       "      <td>2</td>\n",
       "      <td>star fluid inside pressure buoyancy rotation m...</td>\n",
       "      <td>[star, fluid, inside, pressure, buoyancy, rota...</td>\n",
       "    </tr>\n",
       "    <tr>\n",
       "      <th>4</th>\n",
       "      <td>Computer Science</td>\n",
       "      <td>0</td>\n",
       "      <td>deep neural perception control network likely ...</td>\n",
       "      <td>[deep, neural, perception, control, network, l...</td>\n",
       "    </tr>\n",
       "  </tbody>\n",
       "</table>\n",
       "</div>"
      ],
      "text/plain": [
       "             Target  Target_Label  \\\n",
       "0           Physics             2   \n",
       "1  Computer Science             0   \n",
       "2           Physics             2   \n",
       "3           Physics             2   \n",
       "4  Computer Science             0   \n",
       "\n",
       "                                Preprocessed Text ML  \\\n",
       "0  datasets inside observational astronomy challe...   \n",
       "1  propose framework considering optimal excludin...   \n",
       "2  nanostructures open shell transition metal mol...   \n",
       "3  star fluid inside pressure buoyancy rotation m...   \n",
       "4  deep neural perception control network likely ...   \n",
       "\n",
       "                                Preprocessed Text DL  \n",
       "0  [datasets, inside, observational, astronomy, c...  \n",
       "1  [propose, framework, considering, optimal, exc...  \n",
       "2  [nanostructures, open, shell, transition, meta...  \n",
       "3  [star, fluid, inside, pressure, buoyancy, rota...  \n",
       "4  [deep, neural, perception, control, network, l...  "
      ]
     },
     "execution_count": 10,
     "metadata": {},
     "output_type": "execute_result"
    }
   ],
   "source": [
    "train_df['Preprocessed Text ML'] = preprocessed_text_ml\n",
    "train_df['Preprocessed Text DL'] = preprocessed_text_dl\n",
    "train_df.drop('ABSTRACT', axis=1, inplace=True)\n",
    "train_df.head()"
   ]
  },
  {
   "cell_type": "markdown",
   "id": "f4b3f9a1",
   "metadata": {
    "papermill": {
     "duration": 0.013762,
     "end_time": "2024-07-04T11:21:07.462475",
     "exception": false,
     "start_time": "2024-07-04T11:21:07.448713",
     "status": "completed"
    },
    "tags": []
   },
   "source": [
    "### Building Vocabulary and Encoding Text"
   ]
  },
  {
   "cell_type": "code",
   "execution_count": 11,
   "id": "27f42257",
   "metadata": {
    "execution": {
     "iopub.execute_input": "2024-07-04T11:21:07.493267Z",
     "iopub.status.busy": "2024-07-04T11:21:07.492546Z",
     "iopub.status.idle": "2024-07-04T11:21:09.033360Z",
     "shell.execute_reply": "2024-07-04T11:21:09.032358Z"
    },
    "papermill": {
     "duration": 1.559465,
     "end_time": "2024-07-04T11:21:09.035846",
     "exception": false,
     "start_time": "2024-07-04T11:21:07.476381",
     "status": "completed"
    },
    "tags": []
   },
   "outputs": [],
   "source": [
    "# Build vocabulary\n",
    "vocab = build_vocab_from_iterator(preprocessed_text_dl, specials=[\"<pad>\", \"<unk>\"], min_freq=2)\n",
    "vocab.set_default_index(vocab[\"<unk>\"])\n",
    "\n",
    "# Convert tokens to indices\n",
    "def encode(text):\n",
    "    return [vocab[token] for token in text]\n",
    "\n",
    "encoded_data = [encode(text) for text in preprocessed_text_dl]"
   ]
  },
  {
   "cell_type": "code",
   "execution_count": 12,
   "id": "b3bfb49b",
   "metadata": {
    "execution": {
     "iopub.execute_input": "2024-07-04T11:21:09.065597Z",
     "iopub.status.busy": "2024-07-04T11:21:09.065276Z",
     "iopub.status.idle": "2024-07-04T11:21:09.930518Z",
     "shell.execute_reply": "2024-07-04T11:21:09.929601Z"
    },
    "papermill": {
     "duration": 0.882438,
     "end_time": "2024-07-04T11:21:09.932648",
     "exception": false,
     "start_time": "2024-07-04T11:21:09.050210",
     "status": "completed"
    },
    "tags": []
   },
   "outputs": [
    {
     "data": {
      "text/html": [
       "<div>\n",
       "<style scoped>\n",
       "    .dataframe tbody tr th:only-of-type {\n",
       "        vertical-align: middle;\n",
       "    }\n",
       "\n",
       "    .dataframe tbody tr th {\n",
       "        vertical-align: top;\n",
       "    }\n",
       "\n",
       "    .dataframe thead th {\n",
       "        text-align: right;\n",
       "    }\n",
       "</style>\n",
       "<table border=\"1\" class=\"dataframe\">\n",
       "  <thead>\n",
       "    <tr style=\"text-align: right;\">\n",
       "      <th></th>\n",
       "      <th>Target</th>\n",
       "      <th>Target_Label</th>\n",
       "      <th>Preprocessed Text ML</th>\n",
       "      <th>Preprocessed Text DL</th>\n",
       "      <th>Encoded &amp; Padded Text</th>\n",
       "    </tr>\n",
       "  </thead>\n",
       "  <tbody>\n",
       "    <tr>\n",
       "      <th>0</th>\n",
       "      <td>Physics</td>\n",
       "      <td>2</td>\n",
       "      <td>datasets inside observational astronomy challe...</td>\n",
       "      <td>[datasets, inside, observational, astronomy, c...</td>\n",
       "      <td>[140, 2, 1087, 2624, 7251, 3218, 2, 91, 725, 1...</td>\n",
       "    </tr>\n",
       "    <tr>\n",
       "      <th>1</th>\n",
       "      <td>Computer Science</td>\n",
       "      <td>0</td>\n",
       "      <td>propose framework considering optimal excludin...</td>\n",
       "      <td>[propose, framework, considering, optimal, exc...</td>\n",
       "      <td>[33, 57, 3, 112, 6777, 2771, 2, 2581, 68, 22, ...</td>\n",
       "    </tr>\n",
       "    <tr>\n",
       "      <th>2</th>\n",
       "      <td>Physics</td>\n",
       "      <td>2</td>\n",
       "      <td>nanostructures open shell transition metal mol...</td>\n",
       "      <td>[nanostructures, open, shell, transition, meta...</td>\n",
       "      <td>[6594, 474, 2427, 144, 917, 769, 3430, 765, 23...</td>\n",
       "    </tr>\n",
       "    <tr>\n",
       "      <th>3</th>\n",
       "      <td>Physics</td>\n",
       "      <td>2</td>\n",
       "      <td>star fluid inside pressure buoyancy rotation m...</td>\n",
       "      <td>[star, fluid, inside, pressure, buoyancy, rota...</td>\n",
       "      <td>[126, 712, 2, 577, 6052, 899, 85, 39, 69, 7144...</td>\n",
       "    </tr>\n",
       "    <tr>\n",
       "      <th>4</th>\n",
       "      <td>Computer Science</td>\n",
       "      <td>0</td>\n",
       "      <td>deep neural perception control network likely ...</td>\n",
       "      <td>[deep, neural, perception, control, network, l...</td>\n",
       "      <td>[54, 49, 1674, 77, 7, 891, 295, 172, 503, 4, 3...</td>\n",
       "    </tr>\n",
       "  </tbody>\n",
       "</table>\n",
       "</div>"
      ],
      "text/plain": [
       "             Target  Target_Label  \\\n",
       "0           Physics             2   \n",
       "1  Computer Science             0   \n",
       "2           Physics             2   \n",
       "3           Physics             2   \n",
       "4  Computer Science             0   \n",
       "\n",
       "                                Preprocessed Text ML  \\\n",
       "0  datasets inside observational astronomy challe...   \n",
       "1  propose framework considering optimal excludin...   \n",
       "2  nanostructures open shell transition metal mol...   \n",
       "3  star fluid inside pressure buoyancy rotation m...   \n",
       "4  deep neural perception control network likely ...   \n",
       "\n",
       "                                Preprocessed Text DL  \\\n",
       "0  [datasets, inside, observational, astronomy, c...   \n",
       "1  [propose, framework, considering, optimal, exc...   \n",
       "2  [nanostructures, open, shell, transition, meta...   \n",
       "3  [star, fluid, inside, pressure, buoyancy, rota...   \n",
       "4  [deep, neural, perception, control, network, l...   \n",
       "\n",
       "                               Encoded & Padded Text  \n",
       "0  [140, 2, 1087, 2624, 7251, 3218, 2, 91, 725, 1...  \n",
       "1  [33, 57, 3, 112, 6777, 2771, 2, 2581, 68, 22, ...  \n",
       "2  [6594, 474, 2427, 144, 917, 769, 3430, 765, 23...  \n",
       "3  [126, 712, 2, 577, 6052, 899, 85, 39, 69, 7144...  \n",
       "4  [54, 49, 1674, 77, 7, 891, 295, 172, 503, 4, 3...  "
      ]
     },
     "execution_count": 12,
     "metadata": {},
     "output_type": "execute_result"
    }
   ],
   "source": [
    "text_data = pad_sequence([torch.tensor(seq) for seq in encoded_data], batch_first=True, padding_value=vocab['<pad>'])\n",
    "train_df['Encoded & Padded Text'] = text_data.tolist()\n",
    "train_df.head()"
   ]
  },
  {
   "cell_type": "markdown",
   "id": "a82404d4",
   "metadata": {
    "papermill": {
     "duration": 0.014107,
     "end_time": "2024-07-04T11:21:09.961344",
     "exception": false,
     "start_time": "2024-07-04T11:21:09.947237",
     "status": "completed"
    },
    "tags": []
   },
   "source": [
    "# Balancing an Imbalanced Dataset "
   ]
  },
  {
   "cell_type": "code",
   "execution_count": 13,
   "id": "79b17687",
   "metadata": {
    "execution": {
     "iopub.execute_input": "2024-07-04T11:21:09.991496Z",
     "iopub.status.busy": "2024-07-04T11:21:09.991165Z",
     "iopub.status.idle": "2024-07-04T11:21:10.056627Z",
     "shell.execute_reply": "2024-07-04T11:21:10.055715Z"
    },
    "papermill": {
     "duration": 0.083245,
     "end_time": "2024-07-04T11:21:10.058813",
     "exception": false,
     "start_time": "2024-07-04T11:21:09.975568",
     "status": "completed"
    },
    "tags": []
   },
   "outputs": [],
   "source": [
    "ros = RandomOverSampler(random_state=42)\n",
    "X_balanced_ml, y_balanced_ml = ros.fit_resample(train_df[['Preprocessed Text ML']], train_df[['Target']])"
   ]
  },
  {
   "cell_type": "code",
   "execution_count": 14,
   "id": "ee97a417",
   "metadata": {
    "execution": {
     "iopub.execute_input": "2024-07-04T11:21:10.089279Z",
     "iopub.status.busy": "2024-07-04T11:21:10.088983Z",
     "iopub.status.idle": "2024-07-04T11:21:10.102738Z",
     "shell.execute_reply": "2024-07-04T11:21:10.101826Z"
    },
    "papermill": {
     "duration": 0.031022,
     "end_time": "2024-07-04T11:21:10.104587",
     "exception": false,
     "start_time": "2024-07-04T11:21:10.073565",
     "status": "completed"
    },
    "tags": []
   },
   "outputs": [
    {
     "data": {
      "text/html": [
       "<div>\n",
       "<style scoped>\n",
       "    .dataframe tbody tr th:only-of-type {\n",
       "        vertical-align: middle;\n",
       "    }\n",
       "\n",
       "    .dataframe tbody tr th {\n",
       "        vertical-align: top;\n",
       "    }\n",
       "\n",
       "    .dataframe thead th {\n",
       "        text-align: right;\n",
       "    }\n",
       "</style>\n",
       "<table border=\"1\" class=\"dataframe\">\n",
       "  <thead>\n",
       "    <tr style=\"text-align: right;\">\n",
       "      <th></th>\n",
       "      <th>Preprocessed Text</th>\n",
       "      <th>Target</th>\n",
       "    </tr>\n",
       "  </thead>\n",
       "  <tbody>\n",
       "    <tr>\n",
       "      <th>0</th>\n",
       "      <td>inside paper prove equation l k p odd prime nu...</td>\n",
       "      <td>Mathematics</td>\n",
       "    </tr>\n",
       "    <tr>\n",
       "      <th>1</th>\n",
       "      <td>review exact numerical result considering quan...</td>\n",
       "      <td>Physics</td>\n",
       "    </tr>\n",
       "    <tr>\n",
       "      <th>2</th>\n",
       "      <td>synthesis physical photocatalytic antibacteria...</td>\n",
       "      <td>Physics</td>\n",
       "    </tr>\n",
       "    <tr>\n",
       "      <th>3</th>\n",
       "      <td>analyze bias correction method help jackknife ...</td>\n",
       "      <td>Mathematics</td>\n",
       "    </tr>\n",
       "    <tr>\n",
       "      <th>4</th>\n",
       "      <td>study formality total space principal su wolf ...</td>\n",
       "      <td>Mathematics</td>\n",
       "    </tr>\n",
       "  </tbody>\n",
       "</table>\n",
       "</div>"
      ],
      "text/plain": [
       "                                   Preprocessed Text       Target\n",
       "0  inside paper prove equation l k p odd prime nu...  Mathematics\n",
       "1  review exact numerical result considering quan...      Physics\n",
       "2  synthesis physical photocatalytic antibacteria...      Physics\n",
       "3  analyze bias correction method help jackknife ...  Mathematics\n",
       "4  study formality total space principal su wolf ...  Mathematics"
      ]
     },
     "execution_count": 14,
     "metadata": {},
     "output_type": "execute_result"
    }
   ],
   "source": [
    "balanced_dict = {\n",
    "    'Preprocessed Text': X_balanced_ml.squeeze(),\n",
    "    'Target': y_balanced_ml.squeeze()\n",
    "}\n",
    "\n",
    "balanced_df_ml = pd.DataFrame(balanced_dict)\n",
    "balanced_df_ml = balanced_df_ml.sample(n=len(balanced_df_ml)).reset_index(drop=True)\n",
    "balanced_df_ml.head()"
   ]
  },
  {
   "cell_type": "code",
   "execution_count": 15,
   "id": "8b381432",
   "metadata": {
    "execution": {
     "iopub.execute_input": "2024-07-04T11:21:10.135481Z",
     "iopub.status.busy": "2024-07-04T11:21:10.134559Z",
     "iopub.status.idle": "2024-07-04T11:21:10.164511Z",
     "shell.execute_reply": "2024-07-04T11:21:10.163625Z"
    },
    "papermill": {
     "duration": 0.047305,
     "end_time": "2024-07-04T11:21:10.166412",
     "exception": false,
     "start_time": "2024-07-04T11:21:10.119107",
     "status": "completed"
    },
    "tags": []
   },
   "outputs": [
    {
     "data": {
      "text/html": [
       "<div>\n",
       "<style scoped>\n",
       "    .dataframe tbody tr th:only-of-type {\n",
       "        vertical-align: middle;\n",
       "    }\n",
       "\n",
       "    .dataframe tbody tr th {\n",
       "        vertical-align: top;\n",
       "    }\n",
       "\n",
       "    .dataframe thead th {\n",
       "        text-align: right;\n",
       "    }\n",
       "</style>\n",
       "<table border=\"1\" class=\"dataframe\">\n",
       "  <thead>\n",
       "    <tr style=\"text-align: right;\">\n",
       "      <th></th>\n",
       "      <th>Preprocessed Text</th>\n",
       "      <th>Target</th>\n",
       "    </tr>\n",
       "  </thead>\n",
       "  <tbody>\n",
       "    <tr>\n",
       "      <th>0</th>\n",
       "      <td>[119, 3836, 727, 311, 294, 443, 8, 82, 428, 18...</td>\n",
       "      <td>1</td>\n",
       "    </tr>\n",
       "    <tr>\n",
       "      <th>1</th>\n",
       "      <td>[2, 566, 249, 47, 62, 51, 4, 331, 296, 2, 116,...</td>\n",
       "      <td>1</td>\n",
       "    </tr>\n",
       "    <tr>\n",
       "      <th>2</th>\n",
       "      <td>[2, 566, 33, 86, 65, 3, 111, 15031, 2, 2656, 1...</td>\n",
       "      <td>3</td>\n",
       "    </tr>\n",
       "    <tr>\n",
       "      <th>3</th>\n",
       "      <td>[92, 2187, 191, 3661, 2754, 153, 117, 100, 633...</td>\n",
       "      <td>2</td>\n",
       "    </tr>\n",
       "    <tr>\n",
       "      <th>4</th>\n",
       "      <td>[1586, 428, 314, 271, 19, 1, 3, 120, 14, 3, 59...</td>\n",
       "      <td>3</td>\n",
       "    </tr>\n",
       "  </tbody>\n",
       "</table>\n",
       "</div>"
      ],
      "text/plain": [
       "                                   Preprocessed Text  Target\n",
       "0  [119, 3836, 727, 311, 294, 443, 8, 82, 428, 18...       1\n",
       "1  [2, 566, 249, 47, 62, 51, 4, 331, 296, 2, 116,...       1\n",
       "2  [2, 566, 33, 86, 65, 3, 111, 15031, 2, 2656, 1...       3\n",
       "3  [92, 2187, 191, 3661, 2754, 153, 117, 100, 633...       2\n",
       "4  [1586, 428, 314, 271, 19, 1, 3, 120, 14, 3, 59...       3"
      ]
     },
     "execution_count": 15,
     "metadata": {},
     "output_type": "execute_result"
    }
   ],
   "source": [
    "X_balanced_dl, y_balanced_dl = ros.fit_resample(train_df[['Encoded & Padded Text']], train_df[['Target_Label']])\n",
    "\n",
    "balanced_dict = {\n",
    "    'Preprocessed Text': X_balanced_dl.squeeze(),\n",
    "    'Target': y_balanced_dl.squeeze()\n",
    "}\n",
    "\n",
    "balanced_df_dl = pd.DataFrame(balanced_dict)\n",
    "balanced_df_dl = balanced_df_dl.sample(n=len(balanced_df_dl)).reset_index(drop=True)\n",
    "balanced_df_dl.head()"
   ]
  },
  {
   "cell_type": "code",
   "execution_count": 16,
   "id": "78ad256a",
   "metadata": {
    "execution": {
     "iopub.execute_input": "2024-07-04T11:21:10.239409Z",
     "iopub.status.busy": "2024-07-04T11:21:10.239059Z",
     "iopub.status.idle": "2024-07-04T11:21:18.240085Z",
     "shell.execute_reply": "2024-07-04T11:21:18.239011Z"
    },
    "papermill": {
     "duration": 8.061435,
     "end_time": "2024-07-04T11:21:18.242447",
     "exception": false,
     "start_time": "2024-07-04T11:21:10.181012",
     "status": "completed"
    },
    "tags": []
   },
   "outputs": [],
   "source": [
    "count_vect = CountVectorizer(ngram_range=(1, 2))        \n",
    "transformer = TfidfTransformer(norm='l2',sublinear_tf=True)\n",
    "\n",
    "counts = count_vect.fit_transform(balanced_df_ml['Preprocessed Text'])\n",
    "tfidf = transformer.fit_transform(counts)"
   ]
  },
  {
   "cell_type": "markdown",
   "id": "e1965751",
   "metadata": {
    "papermill": {
     "duration": 0.014552,
     "end_time": "2024-07-04T11:21:18.272033",
     "exception": false,
     "start_time": "2024-07-04T11:21:18.257481",
     "status": "completed"
    },
    "tags": []
   },
   "source": [
    "# Data Visualization"
   ]
  },
  {
   "cell_type": "code",
   "execution_count": 17,
   "id": "8bfc1b28",
   "metadata": {
    "execution": {
     "iopub.execute_input": "2024-07-04T11:21:18.303539Z",
     "iopub.status.busy": "2024-07-04T11:21:18.302700Z",
     "iopub.status.idle": "2024-07-04T11:21:19.216880Z",
     "shell.execute_reply": "2024-07-04T11:21:19.215935Z"
    },
    "papermill": {
     "duration": 0.932095,
     "end_time": "2024-07-04T11:21:19.218942",
     "exception": false,
     "start_time": "2024-07-04T11:21:18.286847",
     "status": "completed"
    },
    "tags": []
   },
   "outputs": [
    {
     "data": {
      "text/plain": [
       "<Axes: xlabel='Target', ylabel='count'>"
      ]
     },
     "execution_count": 17,
     "metadata": {},
     "output_type": "execute_result"
    },
    {
     "data": {
      "image/png": "[encoded data removed]",
      "text/plain": [
       "<Figure size 1000x550 with 2 Axes>"
      ]
     },
     "metadata": {},
     "output_type": "display_data"
    }
   ],
   "source": [
    "plt.rcParams[\"figure.figsize\"] = [10.00, 5.50]\n",
    "plt.rcParams[\"figure.autolayout\"] = True\n",
    "f, axes = plt.subplots(1, 2)\n",
    "sns.countplot(data=train_df, x='Target', ax=axes[0])\n",
    "sns.countplot(data=balanced_df_ml, x='Target', ax=axes[1])"
   ]
  },
  {
   "cell_type": "markdown",
   "id": "5157267a",
   "metadata": {
    "papermill": {
     "duration": 0.016097,
     "end_time": "2024-07-04T11:21:19.250612",
     "exception": false,
     "start_time": "2024-07-04T11:21:19.234515",
     "status": "completed"
    },
    "tags": []
   },
   "source": [
    "# Machine Learning with Scikit Learn"
   ]
  },
  {
   "cell_type": "code",
   "execution_count": 18,
   "id": "4bdfe4ff",
   "metadata": {
    "execution": {
     "iopub.execute_input": "2024-07-04T11:21:19.282885Z",
     "iopub.status.busy": "2024-07-04T11:21:19.282571Z",
     "iopub.status.idle": "2024-07-04T11:21:19.287116Z",
     "shell.execute_reply": "2024-07-04T11:21:19.286191Z"
    },
    "papermill": {
     "duration": 0.023256,
     "end_time": "2024-07-04T11:21:19.289275",
     "exception": false,
     "start_time": "2024-07-04T11:21:19.266019",
     "status": "completed"
    },
    "tags": []
   },
   "outputs": [],
   "source": [
    "LABELS = ['Computer Science', 'Mathematics', 'Physics', 'Statistics']"
   ]
  },
  {
   "cell_type": "code",
   "execution_count": 19,
   "id": "e512676a",
   "metadata": {
    "execution": {
     "iopub.execute_input": "2024-07-04T11:21:19.320874Z",
     "iopub.status.busy": "2024-07-04T11:21:19.320611Z",
     "iopub.status.idle": "2024-07-04T11:21:19.338587Z",
     "shell.execute_reply": "2024-07-04T11:21:19.337830Z"
    },
    "papermill": {
     "duration": 0.036237,
     "end_time": "2024-07-04T11:21:19.340782",
     "exception": false,
     "start_time": "2024-07-04T11:21:19.304545",
     "status": "completed"
    },
    "tags": []
   },
   "outputs": [],
   "source": [
    "x_train, x_test, y_train, y_test = train_test_split(tfidf, balanced_df_ml['Target'], \n",
    "                                                    test_size=0.2, random_state=42)"
   ]
  },
  {
   "cell_type": "code",
   "execution_count": 20,
   "id": "1dac60ba",
   "metadata": {
    "execution": {
     "iopub.execute_input": "2024-07-04T11:21:19.374403Z",
     "iopub.status.busy": "2024-07-04T11:21:19.373614Z",
     "iopub.status.idle": "2024-07-04T11:21:19.378937Z",
     "shell.execute_reply": "2024-07-04T11:21:19.378192Z"
    },
    "papermill": {
     "duration": 0.023378,
     "end_time": "2024-07-04T11:21:19.380794",
     "exception": false,
     "start_time": "2024-07-04T11:21:19.357416",
     "status": "completed"
    },
    "tags": []
   },
   "outputs": [],
   "source": [
    "def model_training(model, x_train, y_train, x_test, y_test):\n",
    "    \"\"\"\n",
    "    Trains the given model using the provided training data and evaluates it using the test data.\n",
    "\n",
    "    Args:\n",
    "        model: The machine learning model to be trained.\n",
    "        x_train: The training data features.\n",
    "        y_train: The training data labels.\n",
    "        x_test: The test data features.\n",
    "        y_test: The test data labels.\n",
    "\n",
    "    Returns:\n",
    "        array-like: The predicted labels for the test data.\n",
    "    \"\"\"\n",
    "    \n",
    "    model = model\n",
    "    model.fit(x_train, y_train)\n",
    "    y_pred = model.predict(x_test)\n",
    "    return y_pred"
   ]
  },
  {
   "cell_type": "code",
   "execution_count": 21,
   "id": "72e039f7",
   "metadata": {
    "execution": {
     "iopub.execute_input": "2024-07-04T11:21:19.412977Z",
     "iopub.status.busy": "2024-07-04T11:21:19.412105Z",
     "iopub.status.idle": "2024-07-04T11:21:19.418444Z",
     "shell.execute_reply": "2024-07-04T11:21:19.417603Z"
    },
    "papermill": {
     "duration": 0.024375,
     "end_time": "2024-07-04T11:21:19.420392",
     "exception": false,
     "start_time": "2024-07-04T11:21:19.396017",
     "status": "completed"
    },
    "tags": []
   },
   "outputs": [],
   "source": [
    "def plot_confusion_matrix(y_true, y_pred, labels):\n",
    "    \"\"\"\n",
    "    Plots a confusion matrix using the true and predicted labels.\n",
    "\n",
    "    Args:\n",
    "        y_true (array-like): The true labels.\n",
    "        y_pred (array-like): The predicted labels.\n",
    "        labels (array-like): The list of labels to index the matrix.\n",
    "    \"\"\"\n",
    "    \n",
    "    cm = confusion_matrix(y_true, y_pred)\n",
    "    disp = ConfusionMatrixDisplay(confusion_matrix=cm, display_labels=labels)\n",
    "    disp.plot(cmap=plt.cm.Blues)\n",
    "    plt.title('Confusion Matrix')\n",
    "    plt.show()"
   ]
  },
  {
   "cell_type": "markdown",
   "id": "b46d9b72",
   "metadata": {
    "papermill": {
     "duration": 0.014909,
     "end_time": "2024-07-04T11:21:19.450785",
     "exception": false,
     "start_time": "2024-07-04T11:21:19.435876",
     "status": "completed"
    },
    "tags": []
   },
   "source": [
    "## Logistic Regression"
   ]
  },
  {
   "cell_type": "code",
   "execution_count": 22,
   "id": "6e362fd7",
   "metadata": {
    "execution": {
     "iopub.execute_input": "2024-07-04T11:21:19.482140Z",
     "iopub.status.busy": "2024-07-04T11:21:19.481852Z",
     "iopub.status.idle": "2024-07-04T11:21:32.160371Z",
     "shell.execute_reply": "2024-07-04T11:21:32.159147Z"
    },
    "papermill": {
     "duration": 12.6967,
     "end_time": "2024-07-04T11:21:32.162585",
     "exception": false,
     "start_time": "2024-07-04T11:21:19.465885",
     "status": "completed"
    },
    "tags": []
   },
   "outputs": [
    {
     "data": {
      "text/plain": [
       "0.9182242990654206"
      ]
     },
     "execution_count": 22,
     "metadata": {},
     "output_type": "execute_result"
    }
   ],
   "source": [
    "lr = LogisticRegression(C=1, max_iter=1000, n_jobs=-1, solver='newton-cg')\n",
    "y_pred_lr = model_training(model=lr, x_train=x_train, y_train=y_train, x_test=x_test, y_test=y_test)\n",
    "accuracy_score(y_test,y_pred_lr)"
   ]
  },
  {
   "cell_type": "code",
   "execution_count": 23,
   "id": "ee132e04",
   "metadata": {
    "execution": {
     "iopub.execute_input": "2024-07-04T11:21:32.195552Z",
     "iopub.status.busy": "2024-07-04T11:21:32.194957Z",
     "iopub.status.idle": "2024-07-04T11:21:32.616115Z",
     "shell.execute_reply": "2024-07-04T11:21:32.615146Z"
    },
    "papermill": {
     "duration": 0.439716,
     "end_time": "2024-07-04T11:21:32.618083",
     "exception": false,
     "start_time": "2024-07-04T11:21:32.178367",
     "status": "completed"
    },
    "tags": []
   },
   "outputs": [
    {
     "data": {
      "image/png": "[encoded data removed]",
      "text/plain": [
       "<Figure size 1000x550 with 2 Axes>"
      ]
     },
     "metadata": {},
     "output_type": "display_data"
    }
   ],
   "source": [
    "plot_confusion_matrix(y_test, y_pred_lr, LABELS)"
   ]
  },
  {
   "cell_type": "code",
   "execution_count": 24,
   "id": "37c01c8d",
   "metadata": {
    "execution": {
     "iopub.execute_input": "2024-07-04T11:21:32.652085Z",
     "iopub.status.busy": "2024-07-04T11:21:32.651489Z",
     "iopub.status.idle": "2024-07-04T11:21:32.863958Z",
     "shell.execute_reply": "2024-07-04T11:21:32.862864Z"
    },
    "papermill": {
     "duration": 0.231576,
     "end_time": "2024-07-04T11:21:32.866216",
     "exception": false,
     "start_time": "2024-07-04T11:21:32.634640",
     "status": "completed"
    },
    "tags": []
   },
   "outputs": [
    {
     "name": "stdout",
     "output_type": "stream",
     "text": [
      "                  precision    recall  f1-score   support\n",
      "\n",
      "Computer Science       0.90      0.84      0.87      1195\n",
      "     Mathematics       0.94      0.93      0.93      1178\n",
      "         Physics       0.98      0.98      0.98      1181\n",
      "      Statistics       0.86      0.92      0.89      1154\n",
      "\n",
      "        accuracy                           0.92      4708\n",
      "       macro avg       0.92      0.92      0.92      4708\n",
      "    weighted avg       0.92      0.92      0.92      4708\n",
      "\n"
     ]
    }
   ],
   "source": [
    "print(classification_report(y_test, y_pred_lr))"
   ]
  },
  {
   "cell_type": "markdown",
   "id": "27fed691",
   "metadata": {
    "papermill": {
     "duration": 0.01587,
     "end_time": "2024-07-04T11:21:32.898904",
     "exception": false,
     "start_time": "2024-07-04T11:21:32.883034",
     "status": "completed"
    },
    "tags": []
   },
   "source": [
    "## Multinomial Naive Bayes"
   ]
  },
  {
   "cell_type": "code",
   "execution_count": 25,
   "id": "9dc9892b",
   "metadata": {
    "execution": {
     "iopub.execute_input": "2024-07-04T11:21:32.932382Z",
     "iopub.status.busy": "2024-07-04T11:21:32.932092Z",
     "iopub.status.idle": "2024-07-04T11:21:33.139749Z",
     "shell.execute_reply": "2024-07-04T11:21:33.138832Z"
    },
    "papermill": {
     "duration": 0.226725,
     "end_time": "2024-07-04T11:21:33.141785",
     "exception": false,
     "start_time": "2024-07-04T11:21:32.915060",
     "status": "completed"
    },
    "tags": []
   },
   "outputs": [
    {
     "data": {
      "text/plain": [
       "0.8702209005947323"
      ]
     },
     "execution_count": 25,
     "metadata": {},
     "output_type": "execute_result"
    }
   ],
   "source": [
    "nb = MultinomialNB(alpha=0.8)\n",
    "y_pred_nb = model_training(model=nb, x_train=x_train, y_train=y_train, x_test=x_test, y_test=y_test)\n",
    "accuracy_score(y_test,y_pred_nb)"
   ]
  },
  {
   "cell_type": "code",
   "execution_count": 26,
   "id": "0879edb2",
   "metadata": {
    "execution": {
     "iopub.execute_input": "2024-07-04T11:21:33.176224Z",
     "iopub.status.busy": "2024-07-04T11:21:33.175921Z",
     "iopub.status.idle": "2024-07-04T11:21:33.491699Z",
     "shell.execute_reply": "2024-07-04T11:21:33.490725Z"
    },
    "papermill": {
     "duration": 0.335307,
     "end_time": "2024-07-04T11:21:33.493796",
     "exception": false,
     "start_time": "2024-07-04T11:21:33.158489",
     "status": "completed"
    },
    "tags": []
   },
   "outputs": [
    {
     "data": {
      "image/png": "[encoded data removed]",
      "text/plain": [
       "<Figure size 1000x550 with 2 Axes>"
      ]
     },
     "metadata": {},
     "output_type": "display_data"
    }
   ],
   "source": [
    "plot_confusion_matrix(y_test, y_pred_nb, LABELS)"
   ]
  },
  {
   "cell_type": "code",
   "execution_count": 27,
   "id": "9f7eecd8",
   "metadata": {
    "execution": {
     "iopub.execute_input": "2024-07-04T11:21:33.528952Z",
     "iopub.status.busy": "2024-07-04T11:21:33.528641Z",
     "iopub.status.idle": "2024-07-04T11:21:33.670554Z",
     "shell.execute_reply": "2024-07-04T11:21:33.669407Z"
    },
    "papermill": {
     "duration": 0.161426,
     "end_time": "2024-07-04T11:21:33.672460",
     "exception": false,
     "start_time": "2024-07-04T11:21:33.511034",
     "status": "completed"
    },
    "tags": []
   },
   "outputs": [
    {
     "name": "stdout",
     "output_type": "stream",
     "text": [
      "                  precision    recall  f1-score   support\n",
      "\n",
      "Computer Science       0.92      0.69      0.79      1195\n",
      "     Mathematics       0.95      0.86      0.91      1178\n",
      "         Physics       0.98      0.97      0.98      1181\n",
      "      Statistics       0.70      0.97      0.82      1154\n",
      "\n",
      "        accuracy                           0.87      4708\n",
      "       macro avg       0.89      0.87      0.87      4708\n",
      "    weighted avg       0.89      0.87      0.87      4708\n",
      "\n"
     ]
    }
   ],
   "source": [
    "print(classification_report(y_test, y_pred_nb, zero_division=0))"
   ]
  },
  {
   "cell_type": "markdown",
   "id": "3b0e11d1",
   "metadata": {
    "papermill": {
     "duration": 0.016875,
     "end_time": "2024-07-04T11:21:33.706349",
     "exception": false,
     "start_time": "2024-07-04T11:21:33.689474",
     "status": "completed"
    },
    "tags": []
   },
   "source": [
    "# Deep Learning with PyTorch"
   ]
  },
  {
   "cell_type": "markdown",
   "id": "e87924f0",
   "metadata": {
    "papermill": {
     "duration": 0.01672,
     "end_time": "2024-07-04T11:21:33.740059",
     "exception": false,
     "start_time": "2024-07-04T11:21:33.723339",
     "status": "completed"
    },
    "tags": []
   },
   "source": [
    "## Model Preparation"
   ]
  },
  {
   "cell_type": "code",
   "execution_count": 28,
   "id": "0a277641",
   "metadata": {
    "execution": {
     "iopub.execute_input": "2024-07-04T11:21:33.774973Z",
     "iopub.status.busy": "2024-07-04T11:21:33.774665Z",
     "iopub.status.idle": "2024-07-04T11:21:33.781233Z",
     "shell.execute_reply": "2024-07-04T11:21:33.780302Z"
    },
    "papermill": {
     "duration": 0.026664,
     "end_time": "2024-07-04T11:21:33.783322",
     "exception": false,
     "start_time": "2024-07-04T11:21:33.756658",
     "status": "completed"
    },
    "tags": []
   },
   "outputs": [],
   "source": [
    "class TextDataset(Dataset):\n",
    "    \"\"\"\n",
    "    A custom dataset class for text data.\n",
    "\n",
    "    Args:\n",
    "        texts (list of list of int): A list of tokenized texts, where each text is a list of token IDs.\n",
    "        labels (list of int): A list of labels corresponding to the texts.\n",
    "    \"\"\"\n",
    "    \n",
    "    def __init__(self, texts, labels):\n",
    "        self.texts = texts\n",
    "        self.labels = labels\n",
    "        \n",
    "    def __len__(self):\n",
    "        \"\"\"Returns the number of samples in the dataset.\"\"\"\n",
    "        return len(self.texts)\n",
    "    \n",
    "    def __getitem__(self, idx):\n",
    "        \"\"\"Retrieves the sample and label at the given index.\"\"\"\n",
    "        return torch.tensor(self.texts[idx], dtype=torch.long), torch.tensor(self.labels[idx], dtype=torch.long)"
   ]
  },
  {
   "cell_type": "code",
   "execution_count": 29,
   "id": "fd8c89f1",
   "metadata": {
    "execution": {
     "iopub.execute_input": "2024-07-04T11:21:33.818426Z",
     "iopub.status.busy": "2024-07-04T11:21:33.818109Z",
     "iopub.status.idle": "2024-07-04T11:21:36.803092Z",
     "shell.execute_reply": "2024-07-04T11:21:36.802298Z"
    },
    "papermill": {
     "duration": 3.004731,
     "end_time": "2024-07-04T11:21:36.805076",
     "exception": false,
     "start_time": "2024-07-04T11:21:33.800345",
     "status": "completed"
    },
    "tags": []
   },
   "outputs": [],
   "source": [
    "text_data = torch.tensor(balanced_df_dl['Preprocessed Text'].values.tolist())\n",
    "target = torch.tensor(balanced_df_dl['Target'].values)\n",
    "X, y = text_data, target"
   ]
  },
  {
   "cell_type": "code",
   "execution_count": 30,
   "id": "cdbfbda9",
   "metadata": {
    "execution": {
     "iopub.execute_input": "2024-07-04T11:21:36.841480Z",
     "iopub.status.busy": "2024-07-04T11:21:36.841161Z",
     "iopub.status.idle": "2024-07-04T11:21:37.061731Z",
     "shell.execute_reply": "2024-07-04T11:21:37.060898Z"
    },
    "papermill": {
     "duration": 0.241439,
     "end_time": "2024-07-04T11:21:37.064078",
     "exception": false,
     "start_time": "2024-07-04T11:21:36.822639",
     "status": "completed"
    },
    "tags": []
   },
   "outputs": [],
   "source": [
    "X_train, X_test, y_train, y_test = train_test_split(X, y, test_size=0.2, random_state=42)\n",
    "X_train, X_test, y_train, y_test = X_train.to(device), X_test.to(device), y_train.to(device), y_test.to(device)"
   ]
  },
  {
   "cell_type": "code",
   "execution_count": 31,
   "id": "71e1b375",
   "metadata": {
    "execution": {
     "iopub.execute_input": "2024-07-04T11:21:37.099621Z",
     "iopub.status.busy": "2024-07-04T11:21:37.099165Z",
     "iopub.status.idle": "2024-07-04T11:21:37.103473Z",
     "shell.execute_reply": "2024-07-04T11:21:37.102610Z"
    },
    "papermill": {
     "duration": 0.023977,
     "end_time": "2024-07-04T11:21:37.105372",
     "exception": false,
     "start_time": "2024-07-04T11:21:37.081395",
     "status": "completed"
    },
    "tags": []
   },
   "outputs": [],
   "source": [
    "train_dataset = TextDataset(X_train, y_train)\n",
    "test_dataset = TextDataset(X_test, y_test)"
   ]
  },
  {
   "cell_type": "code",
   "execution_count": 32,
   "id": "94be0cd4",
   "metadata": {
    "execution": {
     "iopub.execute_input": "2024-07-04T11:21:37.139918Z",
     "iopub.status.busy": "2024-07-04T11:21:37.139612Z",
     "iopub.status.idle": "2024-07-04T11:21:37.144857Z",
     "shell.execute_reply": "2024-07-04T11:21:37.144100Z"
    },
    "papermill": {
     "duration": 0.024587,
     "end_time": "2024-07-04T11:21:37.146808",
     "exception": false,
     "start_time": "2024-07-04T11:21:37.122221",
     "status": "completed"
    },
    "tags": []
   },
   "outputs": [],
   "source": [
    "train_loader = DataLoader(train_dataset, batch_size=256, shuffle=True)\n",
    "test_loader = DataLoader(test_dataset, batch_size=256, shuffle=True)"
   ]
  },
  {
   "cell_type": "markdown",
   "id": "a76f8d4a",
   "metadata": {
    "papermill": {
     "duration": 0.017143,
     "end_time": "2024-07-04T11:21:37.180709",
     "exception": false,
     "start_time": "2024-07-04T11:21:37.163566",
     "status": "completed"
    },
    "tags": []
   },
   "source": [
    "## Model Building"
   ]
  },
  {
   "cell_type": "code",
   "execution_count": 33,
   "id": "c846acf5",
   "metadata": {
    "execution": {
     "iopub.execute_input": "2024-07-04T11:21:37.216665Z",
     "iopub.status.busy": "2024-07-04T11:21:37.216137Z",
     "iopub.status.idle": "2024-07-04T11:21:37.224803Z",
     "shell.execute_reply": "2024-07-04T11:21:37.224000Z"
    },
    "papermill": {
     "duration": 0.028363,
     "end_time": "2024-07-04T11:21:37.226667",
     "exception": false,
     "start_time": "2024-07-04T11:21:37.198304",
     "status": "completed"
    },
    "tags": []
   },
   "outputs": [],
   "source": [
    "class TextClassifier(nn.Module):\n",
    "    \n",
    "    \"\"\"\n",
    "    A text classification model using an embedding layer, a bidirectional LSTM, and a linear layer.\n",
    "\n",
    "    Args:\n",
    "        vocab_size (int): The size of the vocabulary.\n",
    "        embed_dim (int): The dimensionality of the embeddings.\n",
    "        hidden_dim (int): The number of features in the hidden state of the LSTM.\n",
    "        output_dim (int): The number of output classes.\n",
    "    \"\"\"\n",
    "    \n",
    "    def __init__(self, vocab_size:int, embed_dim:int, hidden_dim:int, output_dim:int):\n",
    "        super(TextClassifier, self).__init__()\n",
    "        \n",
    "        self.embedding = nn.Embedding(num_embeddings=vocab_size, embedding_dim=embed_dim, padding_idx=0)\n",
    "        \n",
    "        self.lstm = nn.LSTM(input_size=embed_dim, hidden_size=embed_dim, dropout=0.5, \n",
    "                            bidirectional=True, batch_first=True, num_layers=2)\n",
    "        \n",
    "        self.linear = nn.Linear(in_features=embed_dim * 2, out_features=output_dim)\n",
    "        self.dropout = nn.Dropout(0.5)\n",
    "        \n",
    "    def forward(self, x):\n",
    "        \"\"\"Forward pass of the model.\"\"\"\n",
    "        \n",
    "        embedded = self.dropout(self.embedding(x))\n",
    "        lstm_out, (hidden, cell) = self.lstm(embedded)\n",
    "        hidden = self.dropout(torch.cat((hidden[-2,:,:], hidden[-1,:,:]), dim=1))\n",
    "        output = self.linear(hidden)\n",
    "        return output"
   ]
  },
  {
   "cell_type": "code",
   "execution_count": 34,
   "id": "052a76c7",
   "metadata": {
    "execution": {
     "iopub.execute_input": "2024-07-04T11:21:37.261034Z",
     "iopub.status.busy": "2024-07-04T11:21:37.260730Z",
     "iopub.status.idle": "2024-07-04T11:21:37.266310Z",
     "shell.execute_reply": "2024-07-04T11:21:37.265465Z"
    },
    "papermill": {
     "duration": 0.025308,
     "end_time": "2024-07-04T11:21:37.268578",
     "exception": false,
     "start_time": "2024-07-04T11:21:37.243270",
     "status": "completed"
    },
    "tags": []
   },
   "outputs": [],
   "source": [
    "# Hyperparameters\n",
    "VOCAB_SIZE = len(vocab)\n",
    "EMBED_DIM = 100\n",
    "HIDDEN_DIM = 128\n",
    "OUTPUT_DIM = 4\n",
    "\n",
    "EPOCHS = 10"
   ]
  },
  {
   "cell_type": "code",
   "execution_count": 35,
   "id": "e0aaaca4",
   "metadata": {
    "execution": {
     "iopub.execute_input": "2024-07-04T11:21:37.303599Z",
     "iopub.status.busy": "2024-07-04T11:21:37.303102Z",
     "iopub.status.idle": "2024-07-04T11:21:38.289899Z",
     "shell.execute_reply": "2024-07-04T11:21:38.289087Z"
    },
    "papermill": {
     "duration": 1.007007,
     "end_time": "2024-07-04T11:21:38.292493",
     "exception": false,
     "start_time": "2024-07-04T11:21:37.285486",
     "status": "completed"
    },
    "tags": []
   },
   "outputs": [],
   "source": [
    "model = TextClassifier(vocab_size=VOCAB_SIZE, embed_dim=EMBED_DIM, \n",
    "                       hidden_dim=HIDDEN_DIM, output_dim=OUTPUT_DIM).to(device)\n",
    "\n",
    "loss_fn = nn.CrossEntropyLoss()\n",
    "optimizer = optim.Adam(model.parameters())"
   ]
  },
  {
   "cell_type": "markdown",
   "id": "91d3b2a3",
   "metadata": {
    "papermill": {
     "duration": 0.016663,
     "end_time": "2024-07-04T11:21:38.326638",
     "exception": false,
     "start_time": "2024-07-04T11:21:38.309975",
     "status": "completed"
    },
    "tags": []
   },
   "source": [
    "## Model Training"
   ]
  },
  {
   "cell_type": "code",
   "execution_count": 36,
   "id": "95513bf6",
   "metadata": {
    "execution": {
     "iopub.execute_input": "2024-07-04T11:21:38.362238Z",
     "iopub.status.busy": "2024-07-04T11:21:38.361706Z",
     "iopub.status.idle": "2024-07-04T11:23:27.960469Z",
     "shell.execute_reply": "2024-07-04T11:23:27.959173Z"
    },
    "papermill": {
     "duration": 109.618582,
     "end_time": "2024-07-04T11:23:27.962644",
     "exception": false,
     "start_time": "2024-07-04T11:21:38.344062",
     "status": "completed"
    },
    "tags": []
   },
   "outputs": [
    {
     "name": "stderr",
     "output_type": "stream",
     "text": [
      "/tmp/ipykernel_24/3154785326.py:20: UserWarning: To copy construct from a tensor, it is recommended to use sourceTensor.clone().detach() or sourceTensor.clone().detach().requires_grad_(True), rather than torch.tensor(sourceTensor).\n",
      "  return torch.tensor(self.texts[idx], dtype=torch.long), torch.tensor(self.labels[idx], dtype=torch.long)\n"
     ]
    },
    {
     "name": "stdout",
     "output_type": "stream",
     "text": [
      "Epoch [1/10], Loss: 1.0123\n",
      "Epoch [2/10], Loss: 1.0205\n",
      "Epoch [3/10], Loss: 0.7259\n",
      "Epoch [4/10], Loss: 0.6655\n",
      "Epoch [5/10], Loss: 0.6513\n",
      "Epoch [6/10], Loss: 0.6945\n",
      "Epoch [7/10], Loss: 0.6237\n",
      "Epoch [8/10], Loss: 0.5102\n",
      "Epoch [9/10], Loss: 0.6037\n",
      "Epoch [10/10], Loss: 0.4681\n"
     ]
    }
   ],
   "source": [
    "torch.manual_seed(42)\n",
    "torch.cuda.manual_seed(42)\n",
    "\n",
    "for epoch in range(EPOCHS):\n",
    "    model.train()\n",
    "    \n",
    "    for texts, labels in train_loader:\n",
    "        output_logits = model(texts)\n",
    "        loss = loss_fn(output_logits, labels)\n",
    "        optimizer.zero_grad()\n",
    "        loss.backward()\n",
    "        optimizer.step()\n",
    "        \n",
    "    print(f'Epoch [{epoch+1}/{EPOCHS}], Loss: {loss.item():.4f}')"
   ]
  },
  {
   "cell_type": "markdown",
   "id": "2119be38",
   "metadata": {
    "papermill": {
     "duration": 0.017232,
     "end_time": "2024-07-04T11:23:27.997872",
     "exception": false,
     "start_time": "2024-07-04T11:23:27.980640",
     "status": "completed"
    },
    "tags": []
   },
   "source": [
    "## Model Testing"
   ]
  },
  {
   "cell_type": "code",
   "execution_count": 37,
   "id": "4e6509c8",
   "metadata": {
    "execution": {
     "iopub.execute_input": "2024-07-04T11:23:28.035170Z",
     "iopub.status.busy": "2024-07-04T11:23:28.034807Z",
     "iopub.status.idle": "2024-07-04T11:23:28.807218Z",
     "shell.execute_reply": "2024-07-04T11:23:28.806222Z"
    },
    "papermill": {
     "duration": 0.793188,
     "end_time": "2024-07-04T11:23:28.809663",
     "exception": false,
     "start_time": "2024-07-04T11:23:28.016475",
     "status": "completed"
    },
    "tags": []
   },
   "outputs": [
    {
     "name": "stderr",
     "output_type": "stream",
     "text": [
      "/tmp/ipykernel_24/3154785326.py:20: UserWarning: To copy construct from a tensor, it is recommended to use sourceTensor.clone().detach() or sourceTensor.clone().detach().requires_grad_(True), rather than torch.tensor(sourceTensor).\n",
      "  return torch.tensor(self.texts[idx], dtype=torch.long), torch.tensor(self.labels[idx], dtype=torch.long)\n"
     ]
    }
   ],
   "source": [
    "model.eval()\n",
    "with torch.inference_mode():\n",
    "    for texts, labels in test_loader:\n",
    "        output_logits = model(texts)\n",
    "        output = torch.softmax(output_logits, dim=1).argmax(dim=1)"
   ]
  },
  {
   "cell_type": "markdown",
   "id": "97684270",
   "metadata": {
    "papermill": {
     "duration": 0.017537,
     "end_time": "2024-07-04T11:23:28.845612",
     "exception": false,
     "start_time": "2024-07-04T11:23:28.828075",
     "status": "completed"
    },
    "tags": []
   },
   "source": [
    "## Evaluation"
   ]
  },
  {
   "cell_type": "code",
   "execution_count": 38,
   "id": "14282123",
   "metadata": {
    "execution": {
     "iopub.execute_input": "2024-07-04T11:23:28.882708Z",
     "iopub.status.busy": "2024-07-04T11:23:28.882123Z",
     "iopub.status.idle": "2024-07-04T11:23:29.278976Z",
     "shell.execute_reply": "2024-07-04T11:23:29.278021Z"
    },
    "papermill": {
     "duration": 0.41794,
     "end_time": "2024-07-04T11:23:29.281093",
     "exception": false,
     "start_time": "2024-07-04T11:23:28.863153",
     "status": "completed"
    },
    "tags": []
   },
   "outputs": [
    {
     "data": {
      "image/png": "[encoded data removed]",
      "text/plain": [
       "<Figure size 1000x550 with 2 Axes>"
      ]
     },
     "metadata": {},
     "output_type": "display_data"
    }
   ],
   "source": [
    "plot_confusion_matrix(labels.to('cpu'), output.to('cpu'), LABELS)"
   ]
  },
  {
   "cell_type": "code",
   "execution_count": 39,
   "id": "e3f40d19",
   "metadata": {
    "execution": {
     "iopub.execute_input": "2024-07-04T11:23:29.320032Z",
     "iopub.status.busy": "2024-07-04T11:23:29.319214Z",
     "iopub.status.idle": "2024-07-04T11:23:29.332221Z",
     "shell.execute_reply": "2024-07-04T11:23:29.331176Z"
    },
    "papermill": {
     "duration": 0.034594,
     "end_time": "2024-07-04T11:23:29.334242",
     "exception": false,
     "start_time": "2024-07-04T11:23:29.299648",
     "status": "completed"
    },
    "tags": []
   },
   "outputs": [
    {
     "name": "stdout",
     "output_type": "stream",
     "text": [
      "              precision    recall  f1-score   support\n",
      "\n",
      "           0       0.64      0.54      0.58        26\n",
      "           1       0.61      1.00      0.76        19\n",
      "           2       1.00      0.74      0.85        19\n",
      "           3       0.76      0.69      0.72        36\n",
      "\n",
      "    accuracy                           0.72       100\n",
      "   macro avg       0.75      0.74      0.73       100\n",
      "weighted avg       0.74      0.72      0.72       100\n",
      "\n"
     ]
    }
   ],
   "source": [
    "print(classification_report(labels.to('cpu'), output.to('cpu')))"
   ]
  }
 ],
 "metadata": {
  "kaggle": {
   "accelerator": "gpu",
   "dataSources": [
    {
     "datasetId": 932025,
     "sourceId": 2994327,
     "sourceType": "datasetVersion"
    }
   ],
   "dockerImageVersionId": 30732,
   "isGpuEnabled": true,
   "isInternetEnabled": true,
   "language": "python",
   "sourceType": "notebook"
  },
  "kernelspec": {
   "display_name": "Python 3",
   "language": "python",
   "name": "python3"
  },
  "language_info": {
   "codemirror_mode": {
    "name": "ipython",
    "version": 3
   },
   "file_extension": ".py",
   "mimetype": "text/x-python",
   "name": "python",
   "nbconvert_exporter": "python",
   "pygments_lexer": "ipython3",
   "version": "3.10.13"
  },
  "papermill": {
   "default_parameters": {},
   "duration": 234.95356,
   "end_time": "2024-07-04T11:23:32.072360",
   "environment_variables": {},
   "exception": null,
   "input_path": "__notebook__.ipynb",
   "output_path": "__notebook__.ipynb",
   "parameters": {},
   "start_time": "2024-07-04T11:19:37.118800",
   "version": "2.5.0"
  }
 },
 "nbformat": 4,
 "nbformat_minor": 5
}
