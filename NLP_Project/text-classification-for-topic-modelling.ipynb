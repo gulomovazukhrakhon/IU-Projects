{
 "cells": [
  {
   "cell_type": "markdown",
   "id": "9ef6d06e",
   "metadata": {
    "papermill": {
     "duration": 0.011006,
     "end_time": "2024-07-02T12:55:15.959108",
     "exception": false,
     "start_time": "2024-07-02T12:55:15.948102",
     "status": "completed"
    },
    "tags": []
   },
   "source": [
    "# Text Classification for Topic Modelling"
   ]
  },
  {
   "cell_type": "markdown",
   "id": "a5299e86",
   "metadata": {
    "papermill": {
     "duration": 0.010428,
     "end_time": "2024-07-02T12:55:15.980171",
     "exception": false,
     "start_time": "2024-07-02T12:55:15.969743",
     "status": "completed"
    },
    "tags": []
   },
   "source": [
    "## Notebook Imports"
   ]
  },
  {
   "cell_type": "code",
   "execution_count": 1,
   "id": "028dfe8b",
   "metadata": {
    "_cell_guid": "b1076dfc-b9ad-4769-8c92-a6c4dae69d19",
    "_uuid": "8f2839f25d086af736a60e9eeb907d3b93b6e0e5",
    "execution": {
     "iopub.execute_input": "2024-07-02T12:55:16.003043Z",
     "iopub.status.busy": "2024-07-02T12:55:16.002325Z",
     "iopub.status.idle": "2024-07-02T12:55:23.790441Z",
     "shell.execute_reply": "2024-07-02T12:55:23.789650Z"
    },
    "papermill": {
     "duration": 7.8021,
     "end_time": "2024-07-02T12:55:23.792801",
     "exception": false,
     "start_time": "2024-07-02T12:55:15.990701",
     "status": "completed"
    },
    "tags": []
   },
   "outputs": [],
   "source": [
    "# NLTK\n",
    "import nltk\n",
    "from nltk.corpus import stopwords\n",
    "from nltk.stem import WordNetLemmatizer\n",
    "from nltk.tokenize import word_tokenize\n",
    "\n",
    "# Sklearn\n",
    "import sklearn\n",
    "from sklearn.naive_bayes import MultinomialNB\n",
    "from sklearn.preprocessing import LabelEncoder\n",
    "from sklearn.ensemble import RandomForestClassifier\n",
    "from sklearn.linear_model import LogisticRegression\n",
    "from sklearn.model_selection import train_test_split\n",
    "from sklearn.feature_extraction.text import CountVectorizer, TfidfTransformer\n",
    "from sklearn.metrics import accuracy_score, classification_report, confusion_matrix, ConfusionMatrixDisplay\n",
    "\n",
    "# PyTorch\n",
    "import torch\n",
    "import torch.nn as nn\n",
    "import torch.optim as optim\n",
    "from torch.nn.utils.rnn import pad_sequence\n",
    "from torch.utils.data import DataLoader, Dataset\n",
    "from torchtext.vocab import build_vocab_from_iterator\n",
    "\n",
    "# Other\n",
    "import numpy as np\n",
    "import pandas as pd\n",
    "import seaborn as sns\n",
    "import matplotlib.pyplot as plt\n",
    "\n",
    "%matplotlib inline"
   ]
  },
  {
   "cell_type": "code",
   "execution_count": 2,
   "id": "b4741204",
   "metadata": {
    "execution": {
     "iopub.execute_input": "2024-07-02T12:55:23.816528Z",
     "iopub.status.busy": "2024-07-02T12:55:23.816021Z",
     "iopub.status.idle": "2024-07-02T12:55:24.168614Z",
     "shell.execute_reply": "2024-07-02T12:55:24.167662Z"
    },
    "papermill": {
     "duration": 0.366952,
     "end_time": "2024-07-02T12:55:24.170590",
     "exception": false,
     "start_time": "2024-07-02T12:55:23.803638",
     "status": "completed"
    },
    "tags": []
   },
   "outputs": [
    {
     "name": "stdout",
     "output_type": "stream",
     "text": [
      "[nltk_data] Downloading package stopwords to /usr/share/nltk_data...\n",
      "[nltk_data]   Package stopwords is already up-to-date!\n",
      "[nltk_data] Downloading package punkt to /usr/share/nltk_data...\n",
      "[nltk_data]   Package punkt is already up-to-date!\n",
      "[nltk_data] Downloading package wordnet to /usr/share/nltk_data...\n",
      "[nltk_data]   Package wordnet is already up-to-date!\n",
      "[nltk_data] Downloading package omw-1.4 to /usr/share/nltk_data...\n"
     ]
    },
    {
     "data": {
      "text/plain": [
       "True"
      ]
     },
     "execution_count": 2,
     "metadata": {},
     "output_type": "execute_result"
    }
   ],
   "source": [
    "nltk.download('stopwords')\n",
    "nltk.download(\"punkt\")\n",
    "nltk.download(\"wordnet\")\n",
    "nltk.download(\"omw-1.4\")"
   ]
  },
  {
   "cell_type": "code",
   "execution_count": 3,
   "id": "81773103",
   "metadata": {
    "execution": {
     "iopub.execute_input": "2024-07-02T12:55:24.193966Z",
     "iopub.status.busy": "2024-07-02T12:55:24.193232Z",
     "iopub.status.idle": "2024-07-02T12:55:25.436607Z",
     "shell.execute_reply": "2024-07-02T12:55:25.435674Z"
    },
    "papermill": {
     "duration": 1.257353,
     "end_time": "2024-07-02T12:55:25.438961",
     "exception": false,
     "start_time": "2024-07-02T12:55:24.181608",
     "status": "completed"
    },
    "tags": []
   },
   "outputs": [
    {
     "name": "stdout",
     "output_type": "stream",
     "text": [
      "Archive:  /usr/share/nltk_data/corpora/wordnet.zip\r\n",
      "   creating: /usr/share/nltk_data/corpora/wordnet/\r\n",
      "  inflating: /usr/share/nltk_data/corpora/wordnet/lexnames  \r\n",
      "  inflating: /usr/share/nltk_data/corpora/wordnet/data.verb  \r\n",
      "  inflating: /usr/share/nltk_data/corpora/wordnet/index.adv  \r\n",
      "  inflating: /usr/share/nltk_data/corpora/wordnet/adv.exc  \r\n",
      "  inflating: /usr/share/nltk_data/corpora/wordnet/index.verb  \r\n",
      "  inflating: /usr/share/nltk_data/corpora/wordnet/cntlist.rev  \r\n",
      "  inflating: /usr/share/nltk_data/corpora/wordnet/data.adj  \r\n",
      "  inflating: /usr/share/nltk_data/corpora/wordnet/index.adj  \r\n",
      "  inflating: /usr/share/nltk_data/corpora/wordnet/LICENSE  \r\n",
      "  inflating: /usr/share/nltk_data/corpora/wordnet/citation.bib  \r\n",
      "  inflating: /usr/share/nltk_data/corpora/wordnet/noun.exc  \r\n",
      "  inflating: /usr/share/nltk_data/corpora/wordnet/verb.exc  \r\n",
      "  inflating: /usr/share/nltk_data/corpora/wordnet/README  \r\n",
      "  inflating: /usr/share/nltk_data/corpora/wordnet/index.sense  \r\n",
      "  inflating: /usr/share/nltk_data/corpora/wordnet/data.noun  \r\n",
      "  inflating: /usr/share/nltk_data/corpora/wordnet/data.adv  \r\n",
      "  inflating: /usr/share/nltk_data/corpora/wordnet/index.noun  \r\n",
      "  inflating: /usr/share/nltk_data/corpora/wordnet/adj.exc  \r\n"
     ]
    }
   ],
   "source": [
    "from nltk.corpus import wordnet\n",
    "! unzip /usr/share/nltk_data/corpora/wordnet.zip -d /usr/share/nltk_data/corpora/"
   ]
  },
  {
   "cell_type": "markdown",
   "id": "22440513",
   "metadata": {
    "papermill": {
     "duration": 0.011114,
     "end_time": "2024-07-02T12:55:25.461446",
     "exception": false,
     "start_time": "2024-07-02T12:55:25.450332",
     "status": "completed"
    },
    "tags": []
   },
   "source": [
    "# Data Loading"
   ]
  },
  {
   "cell_type": "code",
   "execution_count": 4,
   "id": "5f7f175e",
   "metadata": {
    "execution": {
     "iopub.execute_input": "2024-07-02T12:55:25.485900Z",
     "iopub.status.busy": "2024-07-02T12:55:25.485075Z",
     "iopub.status.idle": "2024-07-02T12:55:25.536564Z",
     "shell.execute_reply": "2024-07-02T12:55:25.535584Z"
    },
    "papermill": {
     "duration": 0.066151,
     "end_time": "2024-07-02T12:55:25.538635",
     "exception": false,
     "start_time": "2024-07-02T12:55:25.472484",
     "status": "completed"
    },
    "tags": []
   },
   "outputs": [],
   "source": [
    "DATASET_ROOT = '/kaggle/input/topic-modeling-for-research-articles/Train.csv'\n",
    "device = 'cuda' if torch.cuda.is_available() else 'cpu'"
   ]
  },
  {
   "cell_type": "code",
   "execution_count": 5,
   "id": "411fa3bc",
   "metadata": {
    "execution": {
     "iopub.execute_input": "2024-07-02T12:55:25.562738Z",
     "iopub.status.busy": "2024-07-02T12:55:25.562412Z",
     "iopub.status.idle": "2024-07-02T12:55:25.990943Z",
     "shell.execute_reply": "2024-07-02T12:55:25.989975Z"
    },
    "papermill": {
     "duration": 0.442986,
     "end_time": "2024-07-02T12:55:25.993040",
     "exception": false,
     "start_time": "2024-07-02T12:55:25.550054",
     "status": "completed"
    },
    "tags": []
   },
   "outputs": [
    {
     "data": {
      "text/html": [
       "<div>\n",
       "<style scoped>\n",
       "    .dataframe tbody tr th:only-of-type {\n",
       "        vertical-align: middle;\n",
       "    }\n",
       "\n",
       "    .dataframe tbody tr th {\n",
       "        vertical-align: top;\n",
       "    }\n",
       "\n",
       "    .dataframe thead th {\n",
       "        text-align: right;\n",
       "    }\n",
       "</style>\n",
       "<table border=\"1\" class=\"dataframe\">\n",
       "  <thead>\n",
       "    <tr style=\"text-align: right;\">\n",
       "      <th></th>\n",
       "      <th>id</th>\n",
       "      <th>ABSTRACT</th>\n",
       "      <th>Computer Science</th>\n",
       "      <th>Mathematics</th>\n",
       "      <th>Physics</th>\n",
       "      <th>Statistics</th>\n",
       "      <th>Analysis of PDEs</th>\n",
       "      <th>Applications</th>\n",
       "      <th>Artificial Intelligence</th>\n",
       "      <th>Astrophysics of Galaxies</th>\n",
       "      <th>...</th>\n",
       "      <th>Methodology</th>\n",
       "      <th>Number Theory</th>\n",
       "      <th>Optimization and Control</th>\n",
       "      <th>Representation Theory</th>\n",
       "      <th>Robotics</th>\n",
       "      <th>Social and Information Networks</th>\n",
       "      <th>Statistics Theory</th>\n",
       "      <th>Strongly Correlated Electrons</th>\n",
       "      <th>Superconductivity</th>\n",
       "      <th>Systems and Control</th>\n",
       "    </tr>\n",
       "  </thead>\n",
       "  <tbody>\n",
       "    <tr>\n",
       "      <th>0</th>\n",
       "      <td>1824</td>\n",
       "      <td>a ever-growing datasets inside observational a...</td>\n",
       "      <td>0</td>\n",
       "      <td>0</td>\n",
       "      <td>1</td>\n",
       "      <td>0</td>\n",
       "      <td>0</td>\n",
       "      <td>0</td>\n",
       "      <td>0</td>\n",
       "      <td>0</td>\n",
       "      <td>...</td>\n",
       "      <td>0</td>\n",
       "      <td>0</td>\n",
       "      <td>0</td>\n",
       "      <td>0</td>\n",
       "      <td>0</td>\n",
       "      <td>0</td>\n",
       "      <td>0</td>\n",
       "      <td>0</td>\n",
       "      <td>0</td>\n",
       "      <td>0</td>\n",
       "    </tr>\n",
       "    <tr>\n",
       "      <th>1</th>\n",
       "      <td>3094</td>\n",
       "      <td>we propose the framework considering optimal $...</td>\n",
       "      <td>1</td>\n",
       "      <td>0</td>\n",
       "      <td>0</td>\n",
       "      <td>0</td>\n",
       "      <td>0</td>\n",
       "      <td>0</td>\n",
       "      <td>0</td>\n",
       "      <td>0</td>\n",
       "      <td>...</td>\n",
       "      <td>0</td>\n",
       "      <td>0</td>\n",
       "      <td>0</td>\n",
       "      <td>0</td>\n",
       "      <td>0</td>\n",
       "      <td>0</td>\n",
       "      <td>0</td>\n",
       "      <td>0</td>\n",
       "      <td>0</td>\n",
       "      <td>0</td>\n",
       "    </tr>\n",
       "    <tr>\n",
       "      <th>2</th>\n",
       "      <td>8463</td>\n",
       "      <td>nanostructures with open shell transition meta...</td>\n",
       "      <td>0</td>\n",
       "      <td>0</td>\n",
       "      <td>1</td>\n",
       "      <td>0</td>\n",
       "      <td>0</td>\n",
       "      <td>0</td>\n",
       "      <td>0</td>\n",
       "      <td>0</td>\n",
       "      <td>...</td>\n",
       "      <td>0</td>\n",
       "      <td>0</td>\n",
       "      <td>0</td>\n",
       "      <td>0</td>\n",
       "      <td>0</td>\n",
       "      <td>0</td>\n",
       "      <td>0</td>\n",
       "      <td>1</td>\n",
       "      <td>0</td>\n",
       "      <td>0</td>\n",
       "    </tr>\n",
       "    <tr>\n",
       "      <th>3</th>\n",
       "      <td>2082</td>\n",
       "      <td>stars are self-gravitating fluids inside which...</td>\n",
       "      <td>0</td>\n",
       "      <td>0</td>\n",
       "      <td>1</td>\n",
       "      <td>0</td>\n",
       "      <td>0</td>\n",
       "      <td>0</td>\n",
       "      <td>0</td>\n",
       "      <td>0</td>\n",
       "      <td>...</td>\n",
       "      <td>0</td>\n",
       "      <td>0</td>\n",
       "      <td>0</td>\n",
       "      <td>0</td>\n",
       "      <td>0</td>\n",
       "      <td>0</td>\n",
       "      <td>0</td>\n",
       "      <td>0</td>\n",
       "      <td>0</td>\n",
       "      <td>0</td>\n",
       "    </tr>\n",
       "    <tr>\n",
       "      <th>4</th>\n",
       "      <td>8687</td>\n",
       "      <td>deep neural perception and control networks ar...</td>\n",
       "      <td>1</td>\n",
       "      <td>0</td>\n",
       "      <td>0</td>\n",
       "      <td>0</td>\n",
       "      <td>0</td>\n",
       "      <td>0</td>\n",
       "      <td>0</td>\n",
       "      <td>0</td>\n",
       "      <td>...</td>\n",
       "      <td>0</td>\n",
       "      <td>0</td>\n",
       "      <td>0</td>\n",
       "      <td>0</td>\n",
       "      <td>0</td>\n",
       "      <td>0</td>\n",
       "      <td>0</td>\n",
       "      <td>0</td>\n",
       "      <td>0</td>\n",
       "      <td>0</td>\n",
       "    </tr>\n",
       "  </tbody>\n",
       "</table>\n",
       "<p>5 rows × 31 columns</p>\n",
       "</div>"
      ],
      "text/plain": [
       "     id                                           ABSTRACT  Computer Science  \\\n",
       "0  1824  a ever-growing datasets inside observational a...                 0   \n",
       "1  3094  we propose the framework considering optimal $...                 1   \n",
       "2  8463  nanostructures with open shell transition meta...                 0   \n",
       "3  2082  stars are self-gravitating fluids inside which...                 0   \n",
       "4  8687  deep neural perception and control networks ar...                 1   \n",
       "\n",
       "   Mathematics  Physics  Statistics  Analysis of PDEs  Applications  \\\n",
       "0            0        1           0                 0             0   \n",
       "1            0        0           0                 0             0   \n",
       "2            0        1           0                 0             0   \n",
       "3            0        1           0                 0             0   \n",
       "4            0        0           0                 0             0   \n",
       "\n",
       "   Artificial Intelligence  Astrophysics of Galaxies  ...  Methodology  \\\n",
       "0                        0                         0  ...            0   \n",
       "1                        0                         0  ...            0   \n",
       "2                        0                         0  ...            0   \n",
       "3                        0                         0  ...            0   \n",
       "4                        0                         0  ...            0   \n",
       "\n",
       "   Number Theory  Optimization and Control  Representation Theory  Robotics  \\\n",
       "0              0                         0                      0         0   \n",
       "1              0                         0                      0         0   \n",
       "2              0                         0                      0         0   \n",
       "3              0                         0                      0         0   \n",
       "4              0                         0                      0         0   \n",
       "\n",
       "   Social and Information Networks  Statistics Theory  \\\n",
       "0                                0                  0   \n",
       "1                                0                  0   \n",
       "2                                0                  0   \n",
       "3                                0                  0   \n",
       "4                                0                  0   \n",
       "\n",
       "   Strongly Correlated Electrons  Superconductivity  Systems and Control  \n",
       "0                              0                  0                    0  \n",
       "1                              0                  0                    0  \n",
       "2                              1                  0                    0  \n",
       "3                              0                  0                    0  \n",
       "4                              0                  0                    0  \n",
       "\n",
       "[5 rows x 31 columns]"
      ]
     },
     "execution_count": 5,
     "metadata": {},
     "output_type": "execute_result"
    }
   ],
   "source": [
    "train_df = pd.read_csv(DATASET_ROOT)\n",
    "train_df.head()"
   ]
  },
  {
   "cell_type": "markdown",
   "id": "e9cd0e21",
   "metadata": {
    "papermill": {
     "duration": 0.011394,
     "end_time": "2024-07-02T12:55:26.016304",
     "exception": false,
     "start_time": "2024-07-02T12:55:26.004910",
     "status": "completed"
    },
    "tags": []
   },
   "source": [
    "# Data Preprocessing"
   ]
  },
  {
   "cell_type": "code",
   "execution_count": 6,
   "id": "58b1180c",
   "metadata": {
    "execution": {
     "iopub.execute_input": "2024-07-02T12:55:26.041132Z",
     "iopub.status.busy": "2024-07-02T12:55:26.040380Z",
     "iopub.status.idle": "2024-07-02T12:55:26.066751Z",
     "shell.execute_reply": "2024-07-02T12:55:26.065848Z"
    },
    "papermill": {
     "duration": 0.040891,
     "end_time": "2024-07-02T12:55:26.068677",
     "exception": false,
     "start_time": "2024-07-02T12:55:26.027786",
     "status": "completed"
    },
    "tags": []
   },
   "outputs": [
    {
     "data": {
      "text/html": [
       "<div>\n",
       "<style scoped>\n",
       "    .dataframe tbody tr th:only-of-type {\n",
       "        vertical-align: middle;\n",
       "    }\n",
       "\n",
       "    .dataframe tbody tr th {\n",
       "        vertical-align: top;\n",
       "    }\n",
       "\n",
       "    .dataframe thead th {\n",
       "        text-align: right;\n",
       "    }\n",
       "</style>\n",
       "<table border=\"1\" class=\"dataframe\">\n",
       "  <thead>\n",
       "    <tr style=\"text-align: right;\">\n",
       "      <th></th>\n",
       "      <th>ABSTRACT</th>\n",
       "      <th>Target</th>\n",
       "    </tr>\n",
       "  </thead>\n",
       "  <tbody>\n",
       "    <tr>\n",
       "      <th>0</th>\n",
       "      <td>a ever-growing datasets inside observational a...</td>\n",
       "      <td>Physics</td>\n",
       "    </tr>\n",
       "    <tr>\n",
       "      <th>1</th>\n",
       "      <td>we propose the framework considering optimal $...</td>\n",
       "      <td>Computer Science</td>\n",
       "    </tr>\n",
       "    <tr>\n",
       "      <th>2</th>\n",
       "      <td>nanostructures with open shell transition meta...</td>\n",
       "      <td>Physics</td>\n",
       "    </tr>\n",
       "    <tr>\n",
       "      <th>3</th>\n",
       "      <td>stars are self-gravitating fluids inside which...</td>\n",
       "      <td>Physics</td>\n",
       "    </tr>\n",
       "    <tr>\n",
       "      <th>4</th>\n",
       "      <td>deep neural perception and control networks ar...</td>\n",
       "      <td>Computer Science</td>\n",
       "    </tr>\n",
       "  </tbody>\n",
       "</table>\n",
       "</div>"
      ],
      "text/plain": [
       "                                            ABSTRACT            Target\n",
       "0  a ever-growing datasets inside observational a...           Physics\n",
       "1  we propose the framework considering optimal $...  Computer Science\n",
       "2  nanostructures with open shell transition meta...           Physics\n",
       "3  stars are self-gravitating fluids inside which...           Physics\n",
       "4  deep neural perception and control networks ar...  Computer Science"
      ]
     },
     "execution_count": 6,
     "metadata": {},
     "output_type": "execute_result"
    }
   ],
   "source": [
    "# Dropping ID\n",
    "train_df.drop('id', axis=1, inplace=True)\n",
    "\n",
    "# Resetting ID \n",
    "train_df.reset_index()\n",
    "\n",
    "topics = train_df.columns[1:]\n",
    "train_df['Target'] = train_df[topics].idxmax(axis=1)\n",
    "train_df.drop(topics, axis=1, inplace=True)\n",
    "train_df.head()"
   ]
  },
  {
   "cell_type": "code",
   "execution_count": 7,
   "id": "14a1d937",
   "metadata": {
    "execution": {
     "iopub.execute_input": "2024-07-02T12:55:26.093968Z",
     "iopub.status.busy": "2024-07-02T12:55:26.093243Z",
     "iopub.status.idle": "2024-07-02T12:55:26.101477Z",
     "shell.execute_reply": "2024-07-02T12:55:26.100641Z"
    },
    "papermill": {
     "duration": 0.022786,
     "end_time": "2024-07-02T12:55:26.103423",
     "exception": false,
     "start_time": "2024-07-02T12:55:26.080637",
     "status": "completed"
    },
    "tags": []
   },
   "outputs": [],
   "source": [
    "encoder = LabelEncoder()\n",
    "train_df['Target_Label'] = encoder.fit_transform(train_df['Target'])"
   ]
  },
  {
   "cell_type": "code",
   "execution_count": 8,
   "id": "93665751",
   "metadata": {
    "execution": {
     "iopub.execute_input": "2024-07-02T12:55:26.128642Z",
     "iopub.status.busy": "2024-07-02T12:55:26.127946Z",
     "iopub.status.idle": "2024-07-02T12:55:26.136130Z",
     "shell.execute_reply": "2024-07-02T12:55:26.135491Z"
    },
    "papermill": {
     "duration": 0.022781,
     "end_time": "2024-07-02T12:55:26.138065",
     "exception": false,
     "start_time": "2024-07-02T12:55:26.115284",
     "status": "completed"
    },
    "tags": []
   },
   "outputs": [],
   "source": [
    "def preprocess_text(text: str, stopwords=set(stopwords.words('english')), wnl=WordNetLemmatizer(), ml=True) -> list:\n",
    "    # Tokenising\n",
    "    words = word_tokenize(text.lower())\n",
    "    \n",
    "    # Removing Stopwords & Punctuation\n",
    "    filtered_text = [word for word in words if word not in stopwords and word.isalpha()]\n",
    "    \n",
    "    # Lemmatization\n",
    "    preprocessed_text = [wnl.lemmatize(word) for word in filtered_text]\n",
    "    \n",
    "    if ml:\n",
    "        preprocessed_text = ' '.join(preprocessed_text)\n",
    "    \n",
    "    return preprocessed_text"
   ]
  },
  {
   "cell_type": "code",
   "execution_count": 9,
   "id": "3c210e67",
   "metadata": {
    "execution": {
     "iopub.execute_input": "2024-07-02T12:55:26.163155Z",
     "iopub.status.busy": "2024-07-02T12:55:26.162873Z",
     "iopub.status.idle": "2024-07-02T12:56:43.023717Z",
     "shell.execute_reply": "2024-07-02T12:56:43.022798Z"
    },
    "papermill": {
     "duration": 76.876041,
     "end_time": "2024-07-02T12:56:43.026104",
     "exception": false,
     "start_time": "2024-07-02T12:55:26.150063",
     "status": "completed"
    },
    "tags": []
   },
   "outputs": [],
   "source": [
    "preprocessed_text_dl = train_df.ABSTRACT.apply(preprocess_text, ml=False)\n",
    "preprocessed_text_ml = train_df.ABSTRACT.apply(preprocess_text)"
   ]
  },
  {
   "cell_type": "code",
   "execution_count": 10,
   "id": "9457837d",
   "metadata": {
    "execution": {
     "iopub.execute_input": "2024-07-02T12:56:43.052127Z",
     "iopub.status.busy": "2024-07-02T12:56:43.051836Z",
     "iopub.status.idle": "2024-07-02T12:56:43.072292Z",
     "shell.execute_reply": "2024-07-02T12:56:43.071434Z"
    },
    "papermill": {
     "duration": 0.035536,
     "end_time": "2024-07-02T12:56:43.074285",
     "exception": false,
     "start_time": "2024-07-02T12:56:43.038749",
     "status": "completed"
    },
    "tags": []
   },
   "outputs": [
    {
     "data": {
      "text/html": [
       "<div>\n",
       "<style scoped>\n",
       "    .dataframe tbody tr th:only-of-type {\n",
       "        vertical-align: middle;\n",
       "    }\n",
       "\n",
       "    .dataframe tbody tr th {\n",
       "        vertical-align: top;\n",
       "    }\n",
       "\n",
       "    .dataframe thead th {\n",
       "        text-align: right;\n",
       "    }\n",
       "</style>\n",
       "<table border=\"1\" class=\"dataframe\">\n",
       "  <thead>\n",
       "    <tr style=\"text-align: right;\">\n",
       "      <th></th>\n",
       "      <th>Target</th>\n",
       "      <th>Target_Label</th>\n",
       "      <th>Preprocessed Text ML</th>\n",
       "      <th>Preprocessed Text DL</th>\n",
       "    </tr>\n",
       "  </thead>\n",
       "  <tbody>\n",
       "    <tr>\n",
       "      <th>0</th>\n",
       "      <td>Physics</td>\n",
       "      <td>2</td>\n",
       "      <td>datasets inside observational astronomy challe...</td>\n",
       "      <td>[datasets, inside, observational, astronomy, c...</td>\n",
       "    </tr>\n",
       "    <tr>\n",
       "      <th>1</th>\n",
       "      <td>Computer Science</td>\n",
       "      <td>0</td>\n",
       "      <td>propose framework considering optimal excludin...</td>\n",
       "      <td>[propose, framework, considering, optimal, exc...</td>\n",
       "    </tr>\n",
       "    <tr>\n",
       "      <th>2</th>\n",
       "      <td>Physics</td>\n",
       "      <td>2</td>\n",
       "      <td>nanostructures open shell transition metal mol...</td>\n",
       "      <td>[nanostructures, open, shell, transition, meta...</td>\n",
       "    </tr>\n",
       "    <tr>\n",
       "      <th>3</th>\n",
       "      <td>Physics</td>\n",
       "      <td>2</td>\n",
       "      <td>star fluid inside pressure buoyancy rotation m...</td>\n",
       "      <td>[star, fluid, inside, pressure, buoyancy, rota...</td>\n",
       "    </tr>\n",
       "    <tr>\n",
       "      <th>4</th>\n",
       "      <td>Computer Science</td>\n",
       "      <td>0</td>\n",
       "      <td>deep neural perception control network likely ...</td>\n",
       "      <td>[deep, neural, perception, control, network, l...</td>\n",
       "    </tr>\n",
       "  </tbody>\n",
       "</table>\n",
       "</div>"
      ],
      "text/plain": [
       "             Target  Target_Label  \\\n",
       "0           Physics             2   \n",
       "1  Computer Science             0   \n",
       "2           Physics             2   \n",
       "3           Physics             2   \n",
       "4  Computer Science             0   \n",
       "\n",
       "                                Preprocessed Text ML  \\\n",
       "0  datasets inside observational astronomy challe...   \n",
       "1  propose framework considering optimal excludin...   \n",
       "2  nanostructures open shell transition metal mol...   \n",
       "3  star fluid inside pressure buoyancy rotation m...   \n",
       "4  deep neural perception control network likely ...   \n",
       "\n",
       "                                Preprocessed Text DL  \n",
       "0  [datasets, inside, observational, astronomy, c...  \n",
       "1  [propose, framework, considering, optimal, exc...  \n",
       "2  [nanostructures, open, shell, transition, meta...  \n",
       "3  [star, fluid, inside, pressure, buoyancy, rota...  \n",
       "4  [deep, neural, perception, control, network, l...  "
      ]
     },
     "execution_count": 10,
     "metadata": {},
     "output_type": "execute_result"
    }
   ],
   "source": [
    "train_df['Preprocessed Text ML'] = preprocessed_text_ml\n",
    "train_df['Preprocessed Text DL'] = preprocessed_text_dl\n",
    "train_df.drop('ABSTRACT', axis=1, inplace=True)\n",
    "train_df.head()"
   ]
  },
  {
   "cell_type": "markdown",
   "id": "66d4a218",
   "metadata": {
    "papermill": {
     "duration": 0.012191,
     "end_time": "2024-07-02T12:56:43.098880",
     "exception": false,
     "start_time": "2024-07-02T12:56:43.086689",
     "status": "completed"
    },
    "tags": []
   },
   "source": [
    "### Building Vocabulary and Encoding Text"
   ]
  },
  {
   "cell_type": "code",
   "execution_count": 11,
   "id": "70b61bcf",
   "metadata": {
    "execution": {
     "iopub.execute_input": "2024-07-02T12:56:43.125028Z",
     "iopub.status.busy": "2024-07-02T12:56:43.124422Z",
     "iopub.status.idle": "2024-07-02T12:56:44.739305Z",
     "shell.execute_reply": "2024-07-02T12:56:44.738293Z"
    },
    "papermill": {
     "duration": 1.630352,
     "end_time": "2024-07-02T12:56:44.741620",
     "exception": false,
     "start_time": "2024-07-02T12:56:43.111268",
     "status": "completed"
    },
    "tags": []
   },
   "outputs": [],
   "source": [
    "# Build vocabulary\n",
    "vocab = build_vocab_from_iterator(preprocessed_text_dl, specials=[\"<pad>\", \"<unk>\"], min_freq=2)\n",
    "vocab.set_default_index(vocab[\"<unk>\"])\n",
    "\n",
    "# Convert tokens to indices\n",
    "def encode(text):\n",
    "    return [vocab[token] for token in text]\n",
    "\n",
    "encoded_data = [encode(text) for text in preprocessed_text_dl]"
   ]
  },
  {
   "cell_type": "code",
   "execution_count": 12,
   "id": "cb702af5",
   "metadata": {
    "execution": {
     "iopub.execute_input": "2024-07-02T12:56:44.768323Z",
     "iopub.status.busy": "2024-07-02T12:56:44.767782Z",
     "iopub.status.idle": "2024-07-02T12:56:45.390322Z",
     "shell.execute_reply": "2024-07-02T12:56:45.389512Z"
    },
    "papermill": {
     "duration": 0.638106,
     "end_time": "2024-07-02T12:56:45.392462",
     "exception": false,
     "start_time": "2024-07-02T12:56:44.754356",
     "status": "completed"
    },
    "tags": []
   },
   "outputs": [],
   "source": [
    "text_data = pad_sequence([torch.tensor(seq) for seq in encoded_data], batch_first=True, padding_value=vocab['<pad>'])"
   ]
  },
  {
   "cell_type": "code",
   "execution_count": 13,
   "id": "a484c7a1",
   "metadata": {
    "execution": {
     "iopub.execute_input": "2024-07-02T12:56:45.419281Z",
     "iopub.status.busy": "2024-07-02T12:56:45.418548Z",
     "iopub.status.idle": "2024-07-02T12:56:45.648466Z",
     "shell.execute_reply": "2024-07-02T12:56:45.647595Z"
    },
    "papermill": {
     "duration": 0.245443,
     "end_time": "2024-07-02T12:56:45.650551",
     "exception": false,
     "start_time": "2024-07-02T12:56:45.405108",
     "status": "completed"
    },
    "tags": []
   },
   "outputs": [],
   "source": [
    "train_df['Encoded & Padded Text'] = text_data.tolist()"
   ]
  },
  {
   "cell_type": "code",
   "execution_count": 14,
   "id": "fe310cad",
   "metadata": {
    "execution": {
     "iopub.execute_input": "2024-07-02T12:56:45.677687Z",
     "iopub.status.busy": "2024-07-02T12:56:45.676966Z",
     "iopub.status.idle": "2024-07-02T12:56:45.687986Z",
     "shell.execute_reply": "2024-07-02T12:56:45.687146Z"
    },
    "papermill": {
     "duration": 0.026496,
     "end_time": "2024-07-02T12:56:45.689979",
     "exception": false,
     "start_time": "2024-07-02T12:56:45.663483",
     "status": "completed"
    },
    "tags": []
   },
   "outputs": [
    {
     "data": {
      "text/html": [
       "<div>\n",
       "<style scoped>\n",
       "    .dataframe tbody tr th:only-of-type {\n",
       "        vertical-align: middle;\n",
       "    }\n",
       "\n",
       "    .dataframe tbody tr th {\n",
       "        vertical-align: top;\n",
       "    }\n",
       "\n",
       "    .dataframe thead th {\n",
       "        text-align: right;\n",
       "    }\n",
       "</style>\n",
       "<table border=\"1\" class=\"dataframe\">\n",
       "  <thead>\n",
       "    <tr style=\"text-align: right;\">\n",
       "      <th></th>\n",
       "      <th>Preprocessed Text ML</th>\n",
       "      <th>Target</th>\n",
       "      <th>Target_Label</th>\n",
       "    </tr>\n",
       "  </thead>\n",
       "  <tbody>\n",
       "    <tr>\n",
       "      <th>0</th>\n",
       "      <td>datasets inside observational astronomy challe...</td>\n",
       "      <td>Physics</td>\n",
       "      <td>2</td>\n",
       "    </tr>\n",
       "    <tr>\n",
       "      <th>1</th>\n",
       "      <td>propose framework considering optimal excludin...</td>\n",
       "      <td>Computer Science</td>\n",
       "      <td>0</td>\n",
       "    </tr>\n",
       "    <tr>\n",
       "      <th>2</th>\n",
       "      <td>nanostructures open shell transition metal mol...</td>\n",
       "      <td>Physics</td>\n",
       "      <td>2</td>\n",
       "    </tr>\n",
       "    <tr>\n",
       "      <th>3</th>\n",
       "      <td>star fluid inside pressure buoyancy rotation m...</td>\n",
       "      <td>Physics</td>\n",
       "      <td>2</td>\n",
       "    </tr>\n",
       "    <tr>\n",
       "      <th>4</th>\n",
       "      <td>deep neural perception control network likely ...</td>\n",
       "      <td>Computer Science</td>\n",
       "      <td>0</td>\n",
       "    </tr>\n",
       "  </tbody>\n",
       "</table>\n",
       "</div>"
      ],
      "text/plain": [
       "                                Preprocessed Text ML            Target  \\\n",
       "0  datasets inside observational astronomy challe...           Physics   \n",
       "1  propose framework considering optimal excludin...  Computer Science   \n",
       "2  nanostructures open shell transition metal mol...           Physics   \n",
       "3  star fluid inside pressure buoyancy rotation m...           Physics   \n",
       "4  deep neural perception control network likely ...  Computer Science   \n",
       "\n",
       "   Target_Label  \n",
       "0             2  \n",
       "1             0  \n",
       "2             2  \n",
       "3             2  \n",
       "4             0  "
      ]
     },
     "execution_count": 14,
     "metadata": {},
     "output_type": "execute_result"
    }
   ],
   "source": [
    "df_ml = train_df[['Preprocessed Text ML', 'Target', 'Target_Label']]\n",
    "df_ml.head()"
   ]
  },
  {
   "cell_type": "code",
   "execution_count": 15,
   "id": "c7242626",
   "metadata": {
    "execution": {
     "iopub.execute_input": "2024-07-02T12:56:45.718814Z",
     "iopub.status.busy": "2024-07-02T12:56:45.718475Z",
     "iopub.status.idle": "2024-07-02T12:56:52.213570Z",
     "shell.execute_reply": "2024-07-02T12:56:52.212577Z"
    },
    "papermill": {
     "duration": 6.511845,
     "end_time": "2024-07-02T12:56:52.215892",
     "exception": false,
     "start_time": "2024-07-02T12:56:45.704047",
     "status": "completed"
    },
    "tags": []
   },
   "outputs": [],
   "source": [
    "count_vect = CountVectorizer(ngram_range=(1, 2))        \n",
    "transformer = TfidfTransformer(norm='l2',sublinear_tf=True)\n",
    "\n",
    "counts = count_vect.fit_transform(df_ml['Preprocessed Text ML'])\n",
    "tfidf = transformer.fit_transform(counts)"
   ]
  },
  {
   "cell_type": "code",
   "execution_count": 16,
   "id": "4dfd530e",
   "metadata": {
    "execution": {
     "iopub.execute_input": "2024-07-02T12:56:52.243224Z",
     "iopub.status.busy": "2024-07-02T12:56:52.242899Z",
     "iopub.status.idle": "2024-07-02T12:56:52.266559Z",
     "shell.execute_reply": "2024-07-02T12:56:52.265683Z"
    },
    "papermill": {
     "duration": 0.039537,
     "end_time": "2024-07-02T12:56:52.268453",
     "exception": false,
     "start_time": "2024-07-02T12:56:52.228916",
     "status": "completed"
    },
    "tags": []
   },
   "outputs": [
    {
     "data": {
      "text/html": [
       "<div>\n",
       "<style scoped>\n",
       "    .dataframe tbody tr th:only-of-type {\n",
       "        vertical-align: middle;\n",
       "    }\n",
       "\n",
       "    .dataframe tbody tr th {\n",
       "        vertical-align: top;\n",
       "    }\n",
       "\n",
       "    .dataframe thead th {\n",
       "        text-align: right;\n",
       "    }\n",
       "</style>\n",
       "<table border=\"1\" class=\"dataframe\">\n",
       "  <thead>\n",
       "    <tr style=\"text-align: right;\">\n",
       "      <th></th>\n",
       "      <th>Preprocessed Text DL</th>\n",
       "      <th>Encoded &amp; Padded Text</th>\n",
       "      <th>Target</th>\n",
       "      <th>Target_Label</th>\n",
       "    </tr>\n",
       "  </thead>\n",
       "  <tbody>\n",
       "    <tr>\n",
       "      <th>0</th>\n",
       "      <td>[datasets, inside, observational, astronomy, c...</td>\n",
       "      <td>[140, 2, 1087, 2624, 7251, 3218, 2, 91, 725, 1...</td>\n",
       "      <td>Physics</td>\n",
       "      <td>2</td>\n",
       "    </tr>\n",
       "    <tr>\n",
       "      <th>1</th>\n",
       "      <td>[propose, framework, considering, optimal, exc...</td>\n",
       "      <td>[33, 57, 3, 112, 6777, 2771, 2, 2581, 68, 22, ...</td>\n",
       "      <td>Computer Science</td>\n",
       "      <td>0</td>\n",
       "    </tr>\n",
       "    <tr>\n",
       "      <th>2</th>\n",
       "      <td>[nanostructures, open, shell, transition, meta...</td>\n",
       "      <td>[6594, 474, 2427, 144, 917, 769, 3430, 765, 23...</td>\n",
       "      <td>Physics</td>\n",
       "      <td>2</td>\n",
       "    </tr>\n",
       "    <tr>\n",
       "      <th>3</th>\n",
       "      <td>[star, fluid, inside, pressure, buoyancy, rota...</td>\n",
       "      <td>[126, 712, 2, 577, 6052, 899, 85, 39, 69, 7144...</td>\n",
       "      <td>Physics</td>\n",
       "      <td>2</td>\n",
       "    </tr>\n",
       "    <tr>\n",
       "      <th>4</th>\n",
       "      <td>[deep, neural, perception, control, network, l...</td>\n",
       "      <td>[54, 49, 1674, 77, 7, 891, 295, 172, 503, 4, 3...</td>\n",
       "      <td>Computer Science</td>\n",
       "      <td>0</td>\n",
       "    </tr>\n",
       "  </tbody>\n",
       "</table>\n",
       "</div>"
      ],
      "text/plain": [
       "                                Preprocessed Text DL  \\\n",
       "0  [datasets, inside, observational, astronomy, c...   \n",
       "1  [propose, framework, considering, optimal, exc...   \n",
       "2  [nanostructures, open, shell, transition, meta...   \n",
       "3  [star, fluid, inside, pressure, buoyancy, rota...   \n",
       "4  [deep, neural, perception, control, network, l...   \n",
       "\n",
       "                               Encoded & Padded Text            Target  \\\n",
       "0  [140, 2, 1087, 2624, 7251, 3218, 2, 91, 725, 1...           Physics   \n",
       "1  [33, 57, 3, 112, 6777, 2771, 2, 2581, 68, 22, ...  Computer Science   \n",
       "2  [6594, 474, 2427, 144, 917, 769, 3430, 765, 23...           Physics   \n",
       "3  [126, 712, 2, 577, 6052, 899, 85, 39, 69, 7144...           Physics   \n",
       "4  [54, 49, 1674, 77, 7, 891, 295, 172, 503, 4, 3...  Computer Science   \n",
       "\n",
       "   Target_Label  \n",
       "0             2  \n",
       "1             0  \n",
       "2             2  \n",
       "3             2  \n",
       "4             0  "
      ]
     },
     "execution_count": 16,
     "metadata": {},
     "output_type": "execute_result"
    }
   ],
   "source": [
    "df_dl = train_df[['Preprocessed Text DL', 'Encoded & Padded Text' ,'Target', 'Target_Label']]\n",
    "df_dl.head()"
   ]
  },
  {
   "cell_type": "markdown",
   "id": "4d0bcdc8",
   "metadata": {
    "papermill": {
     "duration": 0.012663,
     "end_time": "2024-07-02T12:56:52.294258",
     "exception": false,
     "start_time": "2024-07-02T12:56:52.281595",
     "status": "completed"
    },
    "tags": []
   },
   "source": [
    "# Data Visualization"
   ]
  },
  {
   "cell_type": "code",
   "execution_count": 17,
   "id": "b8741f85",
   "metadata": {
    "execution": {
     "iopub.execute_input": "2024-07-02T12:56:52.367137Z",
     "iopub.status.busy": "2024-07-02T12:56:52.366781Z",
     "iopub.status.idle": "2024-07-02T12:56:52.640564Z",
     "shell.execute_reply": "2024-07-02T12:56:52.639635Z"
    },
    "papermill": {
     "duration": 0.290347,
     "end_time": "2024-07-02T12:56:52.642525",
     "exception": false,
     "start_time": "2024-07-02T12:56:52.352178",
     "status": "completed"
    },
    "tags": []
   },
   "outputs": [
    {
     "data": {
      "text/plain": [
       "<Axes: xlabel='Target', ylabel='count'>"
      ]
     },
     "execution_count": 17,
     "metadata": {},
     "output_type": "execute_result"
    },
    {
     "data": {
      "image/png": "[encoded data removed]",
      "text/plain": [
       "<Figure size 640x480 with 1 Axes>"
      ]
     },
     "metadata": {},
     "output_type": "display_data"
    }
   ],
   "source": [
    "sns.countplot(data=train_df, x='Target')"
   ]
  },
  {
   "cell_type": "markdown",
   "id": "fbb8df0c",
   "metadata": {
    "papermill": {
     "duration": 0.01358,
     "end_time": "2024-07-02T12:56:52.669931",
     "exception": false,
     "start_time": "2024-07-02T12:56:52.656351",
     "status": "completed"
    },
    "tags": []
   },
   "source": [
    "# Machine Learning with Scikit Learn"
   ]
  },
  {
   "cell_type": "code",
   "execution_count": 18,
   "id": "cd540c98",
   "metadata": {
    "execution": {
     "iopub.execute_input": "2024-07-02T12:56:52.698791Z",
     "iopub.status.busy": "2024-07-02T12:56:52.698082Z",
     "iopub.status.idle": "2024-07-02T12:56:52.702284Z",
     "shell.execute_reply": "2024-07-02T12:56:52.701433Z"
    },
    "papermill": {
     "duration": 0.02067,
     "end_time": "2024-07-02T12:56:52.704159",
     "exception": false,
     "start_time": "2024-07-02T12:56:52.683489",
     "status": "completed"
    },
    "tags": []
   },
   "outputs": [],
   "source": [
    "LABELS = ['Computer Science', 'Mathematics', 'Physics', 'Statistics']"
   ]
  },
  {
   "cell_type": "code",
   "execution_count": 19,
   "id": "1c4c8c70",
   "metadata": {
    "execution": {
     "iopub.execute_input": "2024-07-02T12:56:52.733605Z",
     "iopub.status.busy": "2024-07-02T12:56:52.733278Z",
     "iopub.status.idle": "2024-07-02T12:56:52.747656Z",
     "shell.execute_reply": "2024-07-02T12:56:52.746922Z"
    },
    "papermill": {
     "duration": 0.031768,
     "end_time": "2024-07-02T12:56:52.749582",
     "exception": false,
     "start_time": "2024-07-02T12:56:52.717814",
     "status": "completed"
    },
    "tags": []
   },
   "outputs": [],
   "source": [
    "x_train, x_test, y_train, y_test = train_test_split(tfidf, train_df['Target'], \n",
    "                                                    test_size=0.2, random_state=42)"
   ]
  },
  {
   "cell_type": "code",
   "execution_count": 20,
   "id": "d46667e1",
   "metadata": {
    "execution": {
     "iopub.execute_input": "2024-07-02T12:56:52.778566Z",
     "iopub.status.busy": "2024-07-02T12:56:52.778230Z",
     "iopub.status.idle": "2024-07-02T12:56:52.782898Z",
     "shell.execute_reply": "2024-07-02T12:56:52.782069Z"
    },
    "papermill": {
     "duration": 0.021332,
     "end_time": "2024-07-02T12:56:52.784994",
     "exception": false,
     "start_time": "2024-07-02T12:56:52.763662",
     "status": "completed"
    },
    "tags": []
   },
   "outputs": [],
   "source": [
    "def model_training(model, x_train, y_train, x_test, y_test):\n",
    "    \n",
    "    model = model\n",
    "    model.fit(x_train, y_train)\n",
    "    y_pred = model.predict(x_test)\n",
    "    return y_pred"
   ]
  },
  {
   "cell_type": "code",
   "execution_count": 21,
   "id": "b2c16c52",
   "metadata": {
    "execution": {
     "iopub.execute_input": "2024-07-02T12:56:52.814020Z",
     "iopub.status.busy": "2024-07-02T12:56:52.813496Z",
     "iopub.status.idle": "2024-07-02T12:56:52.818336Z",
     "shell.execute_reply": "2024-07-02T12:56:52.817534Z"
    },
    "papermill": {
     "duration": 0.021467,
     "end_time": "2024-07-02T12:56:52.820261",
     "exception": false,
     "start_time": "2024-07-02T12:56:52.798794",
     "status": "completed"
    },
    "tags": []
   },
   "outputs": [],
   "source": [
    "def plot_confusion_matrix(y_true, y_pred, labels):\n",
    "    cm = confusion_matrix(y_true, y_pred)\n",
    "    disp = ConfusionMatrixDisplay(confusion_matrix=cm, display_labels=labels)\n",
    "    disp.plot(cmap=plt.cm.Blues)\n",
    "    plt.title('Confusion Matrix')\n",
    "    plt.show()"
   ]
  },
  {
   "cell_type": "markdown",
   "id": "d1b70aaa",
   "metadata": {
    "papermill": {
     "duration": 0.013643,
     "end_time": "2024-07-02T12:56:52.847885",
     "exception": false,
     "start_time": "2024-07-02T12:56:52.834242",
     "status": "completed"
    },
    "tags": []
   },
   "source": [
    "## Logistic Regression"
   ]
  },
  {
   "cell_type": "code",
   "execution_count": 22,
   "id": "9309a8c1",
   "metadata": {
    "execution": {
     "iopub.execute_input": "2024-07-02T12:56:52.877215Z",
     "iopub.status.busy": "2024-07-02T12:56:52.876435Z",
     "iopub.status.idle": "2024-07-02T12:57:03.115447Z",
     "shell.execute_reply": "2024-07-02T12:57:03.114394Z"
    },
    "papermill": {
     "duration": 10.255879,
     "end_time": "2024-07-02T12:57:03.117605",
     "exception": false,
     "start_time": "2024-07-02T12:56:52.861726",
     "status": "completed"
    },
    "tags": []
   },
   "outputs": [
    {
     "data": {
      "text/plain": [
       "0.8325598000714031"
      ]
     },
     "execution_count": 22,
     "metadata": {},
     "output_type": "execute_result"
    }
   ],
   "source": [
    "lr = LogisticRegression(C=1, max_iter=1000, n_jobs=-1, solver='newton-cg')\n",
    "y_pred_lr = model_training(model=lr, x_train=x_train, y_train=y_train, x_test=x_test, y_test=y_test)\n",
    "accuracy_score(y_test,y_pred_lr)"
   ]
  },
  {
   "cell_type": "code",
   "execution_count": 23,
   "id": "b23f574f",
   "metadata": {
    "execution": {
     "iopub.execute_input": "2024-07-02T12:57:03.148133Z",
     "iopub.status.busy": "2024-07-02T12:57:03.147380Z",
     "iopub.status.idle": "2024-07-02T12:57:03.486589Z",
     "shell.execute_reply": "2024-07-02T12:57:03.485704Z"
    },
    "papermill": {
     "duration": 0.356754,
     "end_time": "2024-07-02T12:57:03.488978",
     "exception": false,
     "start_time": "2024-07-02T12:57:03.132224",
     "status": "completed"
    },
    "tags": []
   },
   "outputs": [
    {
     "data": {
      "image/png": "[encoded data removed]",
      "text/plain": [
       "<Figure size 640x480 with 2 Axes>"
      ]
     },
     "metadata": {},
     "output_type": "display_data"
    }
   ],
   "source": [
    "plot_confusion_matrix(y_test, y_pred_lr, LABELS)"
   ]
  },
  {
   "cell_type": "code",
   "execution_count": 24,
   "id": "ddaf39d6",
   "metadata": {
    "execution": {
     "iopub.execute_input": "2024-07-02T12:57:03.523319Z",
     "iopub.status.busy": "2024-07-02T12:57:03.522688Z",
     "iopub.status.idle": "2024-07-02T12:57:03.650998Z",
     "shell.execute_reply": "2024-07-02T12:57:03.650050Z"
    },
    "papermill": {
     "duration": 0.14734,
     "end_time": "2024-07-02T12:57:03.653243",
     "exception": false,
     "start_time": "2024-07-02T12:57:03.505903",
     "status": "completed"
    },
    "tags": []
   },
   "outputs": [
    {
     "name": "stdout",
     "output_type": "stream",
     "text": [
      "                  precision    recall  f1-score   support\n",
      "\n",
      "Computer Science       0.76      0.96      0.85      1192\n",
      "     Mathematics       0.90      0.79      0.84       472\n",
      "         Physics       0.96      0.96      0.96       750\n",
      "      Statistics       0.72      0.25      0.37       387\n",
      "\n",
      "        accuracy                           0.83      2801\n",
      "       macro avg       0.84      0.74      0.75      2801\n",
      "    weighted avg       0.83      0.83      0.81      2801\n",
      "\n"
     ]
    }
   ],
   "source": [
    "print(classification_report(y_test, y_pred_lr))"
   ]
  },
  {
   "cell_type": "markdown",
   "id": "9f413e9d",
   "metadata": {
    "papermill": {
     "duration": 0.014668,
     "end_time": "2024-07-02T12:57:03.683580",
     "exception": false,
     "start_time": "2024-07-02T12:57:03.668912",
     "status": "completed"
    },
    "tags": []
   },
   "source": [
    "## Multinomial Naive Bayes"
   ]
  },
  {
   "cell_type": "code",
   "execution_count": 25,
   "id": "c33a9425",
   "metadata": {
    "execution": {
     "iopub.execute_input": "2024-07-02T12:57:03.714888Z",
     "iopub.status.busy": "2024-07-02T12:57:03.714153Z",
     "iopub.status.idle": "2024-07-02T12:57:03.873813Z",
     "shell.execute_reply": "2024-07-02T12:57:03.872884Z"
    },
    "papermill": {
     "duration": 0.177553,
     "end_time": "2024-07-02T12:57:03.875881",
     "exception": false,
     "start_time": "2024-07-02T12:57:03.698328",
     "status": "completed"
    },
    "tags": []
   },
   "outputs": [
    {
     "data": {
      "text/plain": [
       "0.7272402713316672"
      ]
     },
     "execution_count": 25,
     "metadata": {},
     "output_type": "execute_result"
    }
   ],
   "source": [
    "nb = MultinomialNB(alpha=0.8)\n",
    "y_pred_nb = model_training(model=nb, x_train=x_train, y_train=y_train, x_test=x_test, y_test=y_test)\n",
    "accuracy_score(y_test,y_pred_nb)"
   ]
  },
  {
   "cell_type": "code",
   "execution_count": 26,
   "id": "976ff8d9",
   "metadata": {
    "execution": {
     "iopub.execute_input": "2024-07-02T12:57:03.908308Z",
     "iopub.status.busy": "2024-07-02T12:57:03.907721Z",
     "iopub.status.idle": "2024-07-02T12:57:04.222451Z",
     "shell.execute_reply": "2024-07-02T12:57:04.221556Z"
    },
    "papermill": {
     "duration": 0.333522,
     "end_time": "2024-07-02T12:57:04.224841",
     "exception": false,
     "start_time": "2024-07-02T12:57:03.891319",
     "status": "completed"
    },
    "tags": []
   },
   "outputs": [
    {
     "data": {
      "image/png": "[encoded data removed]",
      "text/plain": [
       "<Figure size 640x480 with 2 Axes>"
      ]
     },
     "metadata": {},
     "output_type": "display_data"
    }
   ],
   "source": [
    "plot_confusion_matrix(y_test, y_pred_nb, LABELS)"
   ]
  },
  {
   "cell_type": "code",
   "execution_count": 27,
   "id": "1b996da0",
   "metadata": {
    "execution": {
     "iopub.execute_input": "2024-07-02T12:57:04.257816Z",
     "iopub.status.busy": "2024-07-02T12:57:04.257456Z",
     "iopub.status.idle": "2024-07-02T12:57:04.342497Z",
     "shell.execute_reply": "2024-07-02T12:57:04.341490Z"
    },
    "papermill": {
     "duration": 0.103942,
     "end_time": "2024-07-02T12:57:04.344824",
     "exception": false,
     "start_time": "2024-07-02T12:57:04.240882",
     "status": "completed"
    },
    "tags": []
   },
   "outputs": [
    {
     "name": "stdout",
     "output_type": "stream",
     "text": [
      "                  precision    recall  f1-score   support\n",
      "\n",
      "Computer Science       0.62      1.00      0.76      1192\n",
      "     Mathematics       1.00      0.37      0.54       472\n",
      "         Physics       0.97      0.89      0.93       750\n",
      "      Statistics       0.00      0.00      0.00       387\n",
      "\n",
      "        accuracy                           0.73      2801\n",
      "       macro avg       0.65      0.57      0.56      2801\n",
      "    weighted avg       0.69      0.73      0.66      2801\n",
      "\n"
     ]
    }
   ],
   "source": [
    "print(classification_report(y_test, y_pred_nb, zero_division=0))"
   ]
  },
  {
   "cell_type": "markdown",
   "id": "505a17d1",
   "metadata": {
    "papermill": {
     "duration": 0.015928,
     "end_time": "2024-07-02T12:57:04.376967",
     "exception": false,
     "start_time": "2024-07-02T12:57:04.361039",
     "status": "completed"
    },
    "tags": []
   },
   "source": [
    "# Deep Learning with PyTorch"
   ]
  },
  {
   "cell_type": "markdown",
   "id": "91a3838c",
   "metadata": {
    "papermill": {
     "duration": 0.016067,
     "end_time": "2024-07-02T12:57:04.408977",
     "exception": false,
     "start_time": "2024-07-02T12:57:04.392910",
     "status": "completed"
    },
    "tags": []
   },
   "source": [
    "## Model Building"
   ]
  },
  {
   "cell_type": "code",
   "execution_count": 28,
   "id": "bc0bd719",
   "metadata": {
    "execution": {
     "iopub.execute_input": "2024-07-02T12:57:04.442591Z",
     "iopub.status.busy": "2024-07-02T12:57:04.442236Z",
     "iopub.status.idle": "2024-07-02T12:57:04.448496Z",
     "shell.execute_reply": "2024-07-02T12:57:04.447586Z"
    },
    "papermill": {
     "duration": 0.025606,
     "end_time": "2024-07-02T12:57:04.450493",
     "exception": false,
     "start_time": "2024-07-02T12:57:04.424887",
     "status": "completed"
    },
    "tags": []
   },
   "outputs": [],
   "source": [
    "class TextDataset(Dataset):\n",
    "    def __init__(self, texts, labels):\n",
    "        self.texts = texts\n",
    "        self.labels = labels\n",
    "        \n",
    "    def __len__(self):\n",
    "        return len(self.texts)\n",
    "    \n",
    "    def __getitem__(self, idx):\n",
    "        return torch.tensor(self.texts[idx], dtype=torch.long), torch.tensor(self.labels[idx], dtype=torch.long)"
   ]
  },
  {
   "cell_type": "code",
   "execution_count": 29,
   "id": "af74a3b8",
   "metadata": {
    "execution": {
     "iopub.execute_input": "2024-07-02T12:57:04.483533Z",
     "iopub.status.busy": "2024-07-02T12:57:04.483175Z",
     "iopub.status.idle": "2024-07-02T12:57:04.493294Z",
     "shell.execute_reply": "2024-07-02T12:57:04.492418Z"
    },
    "papermill": {
     "duration": 0.028872,
     "end_time": "2024-07-02T12:57:04.495204",
     "exception": false,
     "start_time": "2024-07-02T12:57:04.466332",
     "status": "completed"
    },
    "tags": []
   },
   "outputs": [],
   "source": [
    "target = torch.tensor(train_df['Target_Label'].values)\n",
    "X, y = text_data, target"
   ]
  },
  {
   "cell_type": "code",
   "execution_count": 30,
   "id": "501908b9",
   "metadata": {
    "execution": {
     "iopub.execute_input": "2024-07-02T12:57:04.529977Z",
     "iopub.status.busy": "2024-07-02T12:57:04.529636Z",
     "iopub.status.idle": "2024-07-02T12:57:04.710124Z",
     "shell.execute_reply": "2024-07-02T12:57:04.709320Z"
    },
    "papermill": {
     "duration": 0.19987,
     "end_time": "2024-07-02T12:57:04.712439",
     "exception": false,
     "start_time": "2024-07-02T12:57:04.512569",
     "status": "completed"
    },
    "tags": []
   },
   "outputs": [],
   "source": [
    "X_train, X_test, y_train, y_test = train_test_split(X, y, test_size=0.2, random_state=42)\n",
    "X_train, X_test, y_train, y_test = X_train.to(device), X_test.to(device), y_train.to(device), y_test.to(device)"
   ]
  },
  {
   "cell_type": "code",
   "execution_count": 31,
   "id": "7ed54c58",
   "metadata": {
    "execution": {
     "iopub.execute_input": "2024-07-02T12:57:04.746837Z",
     "iopub.status.busy": "2024-07-02T12:57:04.746514Z",
     "iopub.status.idle": "2024-07-02T12:57:04.750917Z",
     "shell.execute_reply": "2024-07-02T12:57:04.750004Z"
    },
    "papermill": {
     "duration": 0.023909,
     "end_time": "2024-07-02T12:57:04.752850",
     "exception": false,
     "start_time": "2024-07-02T12:57:04.728941",
     "status": "completed"
    },
    "tags": []
   },
   "outputs": [],
   "source": [
    "train_dataset = TextDataset(X_train, y_train)\n",
    "test_dataset = TextDataset(X_test, y_test)"
   ]
  },
  {
   "cell_type": "code",
   "execution_count": 32,
   "id": "61b3b6a2",
   "metadata": {
    "execution": {
     "iopub.execute_input": "2024-07-02T12:57:04.786301Z",
     "iopub.status.busy": "2024-07-02T12:57:04.786017Z",
     "iopub.status.idle": "2024-07-02T12:57:04.791597Z",
     "shell.execute_reply": "2024-07-02T12:57:04.790648Z"
    },
    "papermill": {
     "duration": 0.024672,
     "end_time": "2024-07-02T12:57:04.793643",
     "exception": false,
     "start_time": "2024-07-02T12:57:04.768971",
     "status": "completed"
    },
    "tags": []
   },
   "outputs": [],
   "source": [
    "train_loader = DataLoader(train_dataset, batch_size=64, shuffle=True)\n",
    "test_loader = DataLoader(test_dataset, batch_size=64, shuffle=True)"
   ]
  },
  {
   "cell_type": "code",
   "execution_count": 33,
   "id": "ca5e420b",
   "metadata": {
    "execution": {
     "iopub.execute_input": "2024-07-02T12:57:04.827424Z",
     "iopub.status.busy": "2024-07-02T12:57:04.827113Z",
     "iopub.status.idle": "2024-07-02T12:57:04.839026Z",
     "shell.execute_reply": "2024-07-02T12:57:04.838126Z"
    },
    "papermill": {
     "duration": 0.031033,
     "end_time": "2024-07-02T12:57:04.840961",
     "exception": false,
     "start_time": "2024-07-02T12:57:04.809928",
     "status": "completed"
    },
    "tags": []
   },
   "outputs": [],
   "source": [
    "class TextClassifier(nn.Module):\n",
    "    def __init__(self, vocab_size, embed_dim, hidden_dim, output_dim, input_length):\n",
    "        super(TextClassifier, self).__init__()\n",
    "        \n",
    "        self.embedding = nn.Embedding(num_embeddings=vocab_size, embedding_dim=embed_dim, padding_idx=input_length)\n",
    "        self.lstm = nn.LSTM(input_size=embed_dim, hidden_size=embed_dim, dropout=0.5, \n",
    "                            bidirectional=True, batch_first=True, num_layers=4)\n",
    "        self.flatten = nn.Flatten()\n",
    "        self.linear = nn.Linear(in_features=embed_dim * 2, out_features=output_dim)\n",
    "        self.dropout = nn.Dropout(0.5)\n",
    "        \n",
    "    def forward(self, x):\n",
    "        embedded = self.dropout(self.embedding(x))\n",
    "        lstm_out, (hidden, cell) = self.lstm(embedded)\n",
    "        hidden = self.dropout(torch.cat((hidden[-2,:,:], hidden[-1,:,:]), dim=1))\n",
    "        flatten = self.flatten(hidden)\n",
    "        output = self.linear(flatten)\n",
    "        return output"
   ]
  },
  {
   "cell_type": "code",
   "execution_count": 34,
   "id": "a5c413dc",
   "metadata": {
    "execution": {
     "iopub.execute_input": "2024-07-02T12:57:04.875046Z",
     "iopub.status.busy": "2024-07-02T12:57:04.874716Z",
     "iopub.status.idle": "2024-07-02T12:57:04.879536Z",
     "shell.execute_reply": "2024-07-02T12:57:04.878660Z"
    },
    "papermill": {
     "duration": 0.024191,
     "end_time": "2024-07-02T12:57:04.881547",
     "exception": false,
     "start_time": "2024-07-02T12:57:04.857356",
     "status": "completed"
    },
    "tags": []
   },
   "outputs": [],
   "source": [
    "# Hyperparameters\n",
    "VOCAB_SIZE = len(vocab)\n",
    "EMBED_DIM = 100\n",
    "HIDDEN_DIM = 128\n",
    "OUTPUT_DIM = 4\n",
    "INPUT_LENGTH = text_data.shape[1]\n",
    "\n",
    "EPOCHS = 10"
   ]
  },
  {
   "cell_type": "code",
   "execution_count": 35,
   "id": "2a365314",
   "metadata": {
    "execution": {
     "iopub.execute_input": "2024-07-02T12:57:04.915667Z",
     "iopub.status.busy": "2024-07-02T12:57:04.914922Z",
     "iopub.status.idle": "2024-07-02T12:57:05.873536Z",
     "shell.execute_reply": "2024-07-02T12:57:05.872731Z"
    },
    "papermill": {
     "duration": 0.977905,
     "end_time": "2024-07-02T12:57:05.875728",
     "exception": false,
     "start_time": "2024-07-02T12:57:04.897823",
     "status": "completed"
    },
    "tags": []
   },
   "outputs": [],
   "source": [
    "model = TextClassifier(vocab_size=VOCAB_SIZE, embed_dim=EMBED_DIM, \n",
    "                       hidden_dim=HIDDEN_DIM, output_dim=OUTPUT_DIM, input_length=INPUT_LENGTH).to(device)\n",
    "\n",
    "loss_fn = nn.CrossEntropyLoss()\n",
    "optimizer = optim.Adam(model.parameters())"
   ]
  },
  {
   "cell_type": "code",
   "execution_count": 36,
   "id": "6cc66e05",
   "metadata": {
    "execution": {
     "iopub.execute_input": "2024-07-02T12:57:05.910426Z",
     "iopub.status.busy": "2024-07-02T12:57:05.909905Z",
     "iopub.status.idle": "2024-07-02T12:57:05.915908Z",
     "shell.execute_reply": "2024-07-02T12:57:05.915111Z"
    },
    "papermill": {
     "duration": 0.02534,
     "end_time": "2024-07-02T12:57:05.917877",
     "exception": false,
     "start_time": "2024-07-02T12:57:05.892537",
     "status": "completed"
    },
    "tags": []
   },
   "outputs": [
    {
     "data": {
      "text/plain": [
       "TextClassifier(\n",
       "  (embedding): Embedding(20534, 100, padding_idx=401)\n",
       "  (lstm): LSTM(100, 100, num_layers=4, batch_first=True, dropout=0.5, bidirectional=True)\n",
       "  (flatten): Flatten(start_dim=1, end_dim=-1)\n",
       "  (linear): Linear(in_features=200, out_features=4, bias=True)\n",
       "  (dropout): Dropout(p=0.5, inplace=False)\n",
       ")"
      ]
     },
     "execution_count": 36,
     "metadata": {},
     "output_type": "execute_result"
    }
   ],
   "source": [
    "model"
   ]
  },
  {
   "cell_type": "markdown",
   "id": "4170ac27",
   "metadata": {
    "papermill": {
     "duration": 0.016261,
     "end_time": "2024-07-02T12:57:05.950656",
     "exception": false,
     "start_time": "2024-07-02T12:57:05.934395",
     "status": "completed"
    },
    "tags": []
   },
   "source": [
    "## Model Training"
   ]
  },
  {
   "cell_type": "code",
   "execution_count": 37,
   "id": "65ecb6fb",
   "metadata": {
    "execution": {
     "iopub.execute_input": "2024-07-02T12:57:05.985076Z",
     "iopub.status.busy": "2024-07-02T12:57:05.984519Z",
     "iopub.status.idle": "2024-07-02T12:59:55.331692Z",
     "shell.execute_reply": "2024-07-02T12:59:55.330557Z"
    },
    "papermill": {
     "duration": 169.383389,
     "end_time": "2024-07-02T12:59:55.350382",
     "exception": false,
     "start_time": "2024-07-02T12:57:05.966993",
     "status": "completed"
    },
    "tags": []
   },
   "outputs": [
    {
     "name": "stderr",
     "output_type": "stream",
     "text": [
      "/tmp/ipykernel_24/1367531656.py:10: UserWarning: To copy construct from a tensor, it is recommended to use sourceTensor.clone().detach() or sourceTensor.clone().detach().requires_grad_(True), rather than torch.tensor(sourceTensor).\n",
      "  return torch.tensor(self.texts[idx], dtype=torch.long), torch.tensor(self.labels[idx], dtype=torch.long)\n"
     ]
    },
    {
     "name": "stdout",
     "output_type": "stream",
     "text": [
      "Epoch [1/10], Loss: 0.7598\n",
      "Epoch [2/10], Loss: 0.2229\n",
      "Epoch [3/10], Loss: 0.6633\n",
      "Epoch [4/10], Loss: 0.5354\n",
      "Epoch [5/10], Loss: 0.8071\n",
      "Epoch [6/10], Loss: 1.4227\n",
      "Epoch [7/10], Loss: 0.6524\n",
      "Epoch [8/10], Loss: 0.5047\n",
      "Epoch [9/10], Loss: 0.8451\n",
      "Epoch [10/10], Loss: 0.1862\n"
     ]
    }
   ],
   "source": [
    "torch.manual_seed(42)\n",
    "torch.cuda.manual_seed(42)\n",
    "\n",
    "for epoch in range(EPOCHS):\n",
    "    model.train()\n",
    "    \n",
    "    for texts, labels in train_loader:\n",
    "        output_logits = model(texts)\n",
    "        output = torch.softmax(output_logits, dim=1).argmax(dim=1)\n",
    "        loss = loss_fn(output_logits, labels)\n",
    "        optimizer.zero_grad()\n",
    "        loss.backward()\n",
    "        optimizer.step()\n",
    "        \n",
    "    print(f'Epoch [{epoch+1}/{EPOCHS}], Loss: {loss.item():.4f}')"
   ]
  },
  {
   "cell_type": "markdown",
   "id": "ac8fcdf7",
   "metadata": {
    "papermill": {
     "duration": 0.017324,
     "end_time": "2024-07-02T12:59:55.384888",
     "exception": false,
     "start_time": "2024-07-02T12:59:55.367564",
     "status": "completed"
    },
    "tags": []
   },
   "source": [
    "## Model Testing"
   ]
  },
  {
   "cell_type": "code",
   "execution_count": 38,
   "id": "253f92b0",
   "metadata": {
    "execution": {
     "iopub.execute_input": "2024-07-02T12:59:55.420902Z",
     "iopub.status.busy": "2024-07-02T12:59:55.420555Z",
     "iopub.status.idle": "2024-07-02T12:59:55.436740Z",
     "shell.execute_reply": "2024-07-02T12:59:55.435737Z"
    },
    "papermill": {
     "duration": 0.03693,
     "end_time": "2024-07-02T12:59:55.438951",
     "exception": false,
     "start_time": "2024-07-02T12:59:55.402021",
     "status": "completed"
    },
    "tags": []
   },
   "outputs": [],
   "source": [
    "model.eval()\n",
    "with torch.inference_mode():\n",
    "    y_pred_logits = model(X_test)\n",
    "    y_preds = torch.softmax(y_pred_logits, dim=1).argmax(dim=1)"
   ]
  },
  {
   "cell_type": "markdown",
   "id": "ac5cbfac",
   "metadata": {
    "papermill": {
     "duration": 0.017267,
     "end_time": "2024-07-02T12:59:55.474036",
     "exception": false,
     "start_time": "2024-07-02T12:59:55.456769",
     "status": "completed"
    },
    "tags": []
   },
   "source": [
    "## Evaluation"
   ]
  },
  {
   "cell_type": "code",
   "execution_count": 39,
   "id": "d0b49061",
   "metadata": {
    "execution": {
     "iopub.execute_input": "2024-07-02T12:59:55.510665Z",
     "iopub.status.busy": "2024-07-02T12:59:55.509986Z",
     "iopub.status.idle": "2024-07-02T12:59:56.657575Z",
     "shell.execute_reply": "2024-07-02T12:59:56.656510Z"
    },
    "papermill": {
     "duration": 1.168282,
     "end_time": "2024-07-02T12:59:56.659895",
     "exception": false,
     "start_time": "2024-07-02T12:59:55.491613",
     "status": "completed"
    },
    "tags": []
   },
   "outputs": [
    {
     "data": {
      "image/png": "[encoded data removed]",
      "text/plain": [
       "<Figure size 640x480 with 2 Axes>"
      ]
     },
     "metadata": {},
     "output_type": "display_data"
    }
   ],
   "source": [
    "plot_confusion_matrix(y_test.to('cpu'), y_preds.to('cpu'), LABELS)"
   ]
  },
  {
   "cell_type": "code",
   "execution_count": 40,
   "id": "e25e3fb2",
   "metadata": {
    "execution": {
     "iopub.execute_input": "2024-07-02T12:59:56.697402Z",
     "iopub.status.busy": "2024-07-02T12:59:56.697059Z",
     "iopub.status.idle": "2024-07-02T12:59:56.710976Z",
     "shell.execute_reply": "2024-07-02T12:59:56.709968Z"
    },
    "papermill": {
     "duration": 0.034895,
     "end_time": "2024-07-02T12:59:56.712990",
     "exception": false,
     "start_time": "2024-07-02T12:59:56.678095",
     "status": "completed"
    },
    "tags": []
   },
   "outputs": [
    {
     "name": "stdout",
     "output_type": "stream",
     "text": [
      "              precision    recall  f1-score   support\n",
      "\n",
      "           0       0.69      0.98      0.81      1192\n",
      "           1       0.90      0.73      0.80       472\n",
      "           2       0.96      0.91      0.93       750\n",
      "           3       0.20      0.00      0.01       387\n",
      "\n",
      "    accuracy                           0.78      2801\n",
      "   macro avg       0.69      0.66      0.64      2801\n",
      "weighted avg       0.73      0.78      0.73      2801\n",
      "\n"
     ]
    }
   ],
   "source": [
    "print(classification_report(y_test.to('cpu'), y_preds.to('cpu')))"
   ]
  },
  {
   "cell_type": "markdown",
   "id": "b5a16cb7",
   "metadata": {
    "papermill": {
     "duration": 0.017921,
     "end_time": "2024-07-02T12:59:56.749047",
     "exception": false,
     "start_time": "2024-07-02T12:59:56.731126",
     "status": "completed"
    },
    "tags": []
   },
   "source": [
    "# I have imbalanced dataset. so that's why the results are awful"
   ]
  }
 ],
 "metadata": {
  "kaggle": {
   "accelerator": "gpu",
   "dataSources": [
    {
     "datasetId": 932025,
     "sourceId": 2994327,
     "sourceType": "datasetVersion"
    }
   ],
   "dockerImageVersionId": 30732,
   "isGpuEnabled": true,
   "isInternetEnabled": true,
   "language": "python",
   "sourceType": "notebook"
  },
  "kernelspec": {
   "display_name": "Python 3",
   "language": "python",
   "name": "python3"
  },
  "language_info": {
   "codemirror_mode": {
    "name": "ipython",
    "version": 3
   },
   "file_extension": ".py",
   "mimetype": "text/x-python",
   "name": "python",
   "nbconvert_exporter": "python",
   "pygments_lexer": "ipython3",
   "version": "3.10.13"
  },
  "papermill": {
   "default_parameters": {},
   "duration": 286.335601,
   "end_time": "2024-07-02T12:59:59.493152",
   "environment_variables": {},
   "exception": null,
   "input_path": "__notebook__.ipynb",
   "output_path": "__notebook__.ipynb",
   "parameters": {},
   "start_time": "2024-07-02T12:55:13.157551",
   "version": "2.5.0"
  }
 },
 "nbformat": 4,
 "nbformat_minor": 5
}
