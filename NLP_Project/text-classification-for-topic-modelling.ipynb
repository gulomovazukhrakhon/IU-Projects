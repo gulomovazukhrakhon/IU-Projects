{
 "cells": [
  {
   "cell_type": "markdown",
   "id": "9bc080a4",
   "metadata": {
    "papermill": {
     "duration": 0.016917,
     "end_time": "2024-07-11T10:51:58.672435",
     "exception": false,
     "start_time": "2024-07-11T10:51:58.655518",
     "status": "completed"
    },
    "tags": []
   },
   "source": [
    "# Text Classification for Topic Modelling"
   ]
  },
  {
   "cell_type": "markdown",
   "id": "253c132e",
   "metadata": {
    "papermill": {
     "duration": 0.016277,
     "end_time": "2024-07-11T10:51:58.705587",
     "exception": false,
     "start_time": "2024-07-11T10:51:58.689310",
     "status": "completed"
    },
    "tags": []
   },
   "source": [
    "## Notebook Imports"
   ]
  },
  {
   "cell_type": "code",
   "execution_count": 1,
   "id": "38ae3065",
   "metadata": {
    "_cell_guid": "b1076dfc-b9ad-4769-8c92-a6c4dae69d19",
    "_uuid": "8f2839f25d086af736a60e9eeb907d3b93b6e0e5",
    "execution": {
     "iopub.execute_input": "2024-07-11T10:51:58.741971Z",
     "iopub.status.busy": "2024-07-11T10:51:58.741548Z",
     "iopub.status.idle": "2024-07-11T10:52:07.677630Z",
     "shell.execute_reply": "2024-07-11T10:52:07.676659Z"
    },
    "papermill": {
     "duration": 8.958051,
     "end_time": "2024-07-11T10:52:07.680433",
     "exception": false,
     "start_time": "2024-07-11T10:51:58.722382",
     "status": "completed"
    },
    "tags": []
   },
   "outputs": [],
   "source": [
    "# NLTK\n",
    "import nltk\n",
    "from nltk.corpus import stopwords\n",
    "from nltk.stem import WordNetLemmatizer\n",
    "from nltk.tokenize import word_tokenize\n",
    "\n",
    "# Sklearn\n",
    "import sklearn\n",
    "from sklearn.naive_bayes import MultinomialNB\n",
    "from sklearn.preprocessing import LabelEncoder\n",
    "from sklearn.ensemble import RandomForestClassifier\n",
    "from sklearn.linear_model import LogisticRegression\n",
    "from sklearn.model_selection import train_test_split\n",
    "from sklearn.feature_extraction.text import CountVectorizer, TfidfTransformer\n",
    "from sklearn.metrics import accuracy_score, classification_report, confusion_matrix, ConfusionMatrixDisplay\n",
    "\n",
    "# Imblearn\n",
    "import imblearn\n",
    "from imblearn.over_sampling import RandomOverSampler\n",
    "\n",
    "# PyTorch\n",
    "import torch\n",
    "import torch.nn as nn\n",
    "import torch.optim as optim\n",
    "from torch.nn.utils.rnn import pad_sequence\n",
    "from torch.utils.data import DataLoader, Dataset\n",
    "from torchtext.vocab import build_vocab_from_iterator\n",
    "\n",
    "# Other\n",
    "import numpy as np\n",
    "import pandas as pd\n",
    "import seaborn as sns\n",
    "import matplotlib.pyplot as plt\n",
    "\n",
    "%matplotlib inline"
   ]
  },
  {
   "cell_type": "code",
   "execution_count": 2,
   "id": "1d9102ba",
   "metadata": {
    "execution": {
     "iopub.execute_input": "2024-07-11T10:52:07.715377Z",
     "iopub.status.busy": "2024-07-11T10:52:07.714676Z",
     "iopub.status.idle": "2024-07-11T10:52:07.719579Z",
     "shell.execute_reply": "2024-07-11T10:52:07.718617Z"
    },
    "papermill": {
     "duration": 0.024614,
     "end_time": "2024-07-11T10:52:07.721972",
     "exception": false,
     "start_time": "2024-07-11T10:52:07.697358",
     "status": "completed"
    },
    "tags": []
   },
   "outputs": [],
   "source": [
    "import warnings\n",
    "warnings.filterwarnings('ignore')"
   ]
  },
  {
   "cell_type": "code",
   "execution_count": 3,
   "id": "0da6d218",
   "metadata": {
    "execution": {
     "iopub.execute_input": "2024-07-11T10:52:07.756434Z",
     "iopub.status.busy": "2024-07-11T10:52:07.755728Z",
     "iopub.status.idle": "2024-07-11T10:52:08.175765Z",
     "shell.execute_reply": "2024-07-11T10:52:08.174691Z"
    },
    "papermill": {
     "duration": 0.440208,
     "end_time": "2024-07-11T10:52:08.178351",
     "exception": false,
     "start_time": "2024-07-11T10:52:07.738143",
     "status": "completed"
    },
    "tags": []
   },
   "outputs": [
    {
     "name": "stdout",
     "output_type": "stream",
     "text": [
      "[nltk_data] Downloading package stopwords to /usr/share/nltk_data...\n",
      "[nltk_data]   Package stopwords is already up-to-date!\n",
      "[nltk_data] Downloading package punkt to /usr/share/nltk_data...\n",
      "[nltk_data]   Package punkt is already up-to-date!\n",
      "[nltk_data] Downloading package wordnet to /usr/share/nltk_data...\n",
      "[nltk_data]   Package wordnet is already up-to-date!\n",
      "[nltk_data] Downloading package omw-1.4 to /usr/share/nltk_data...\n"
     ]
    },
    {
     "data": {
      "text/plain": [
       "True"
      ]
     },
     "execution_count": 3,
     "metadata": {},
     "output_type": "execute_result"
    }
   ],
   "source": [
    "nltk.download('stopwords')\n",
    "nltk.download(\"punkt\")\n",
    "nltk.download(\"wordnet\")\n",
    "nltk.download(\"omw-1.4\")"
   ]
  },
  {
   "cell_type": "code",
   "execution_count": 4,
   "id": "0e6614ae",
   "metadata": {
    "execution": {
     "iopub.execute_input": "2024-07-11T10:52:08.214039Z",
     "iopub.status.busy": "2024-07-11T10:52:08.213095Z",
     "iopub.status.idle": "2024-07-11T10:52:09.688315Z",
     "shell.execute_reply": "2024-07-11T10:52:09.686948Z"
    },
    "papermill": {
     "duration": 1.495647,
     "end_time": "2024-07-11T10:52:09.691160",
     "exception": false,
     "start_time": "2024-07-11T10:52:08.195513",
     "status": "completed"
    },
    "tags": []
   },
   "outputs": [
    {
     "name": "stdout",
     "output_type": "stream",
     "text": [
      "Archive:  /usr/share/nltk_data/corpora/wordnet.zip\r\n",
      "   creating: /usr/share/nltk_data/corpora/wordnet/\r\n",
      "  inflating: /usr/share/nltk_data/corpora/wordnet/lexnames  \r\n",
      "  inflating: /usr/share/nltk_data/corpora/wordnet/data.verb  \r\n",
      "  inflating: /usr/share/nltk_data/corpora/wordnet/index.adv  \r\n",
      "  inflating: /usr/share/nltk_data/corpora/wordnet/adv.exc  \r\n",
      "  inflating: /usr/share/nltk_data/corpora/wordnet/index.verb  \r\n",
      "  inflating: /usr/share/nltk_data/corpora/wordnet/cntlist.rev  \r\n",
      "  inflating: /usr/share/nltk_data/corpora/wordnet/data.adj  \r\n",
      "  inflating: /usr/share/nltk_data/corpora/wordnet/index.adj  \r\n",
      "  inflating: /usr/share/nltk_data/corpora/wordnet/LICENSE  \r\n",
      "  inflating: /usr/share/nltk_data/corpora/wordnet/citation.bib  \r\n",
      "  inflating: /usr/share/nltk_data/corpora/wordnet/noun.exc  \r\n",
      "  inflating: /usr/share/nltk_data/corpora/wordnet/verb.exc  \r\n",
      "  inflating: /usr/share/nltk_data/corpora/wordnet/README  \r\n",
      "  inflating: /usr/share/nltk_data/corpora/wordnet/index.sense  \r\n",
      "  inflating: /usr/share/nltk_data/corpora/wordnet/data.noun  \r\n",
      "  inflating: /usr/share/nltk_data/corpora/wordnet/data.adv  \r\n",
      "  inflating: /usr/share/nltk_data/corpora/wordnet/index.noun  \r\n",
      "  inflating: /usr/share/nltk_data/corpora/wordnet/adj.exc  \r\n"
     ]
    }
   ],
   "source": [
    "from nltk.corpus import wordnet\n",
    "! unzip /usr/share/nltk_data/corpora/wordnet.zip -d /usr/share/nltk_data/corpora/"
   ]
  },
  {
   "cell_type": "markdown",
   "id": "76b62720",
   "metadata": {
    "papermill": {
     "duration": 0.01691,
     "end_time": "2024-07-11T10:52:09.725616",
     "exception": false,
     "start_time": "2024-07-11T10:52:09.708706",
     "status": "completed"
    },
    "tags": []
   },
   "source": [
    "# Data Loading"
   ]
  },
  {
   "cell_type": "code",
   "execution_count": 5,
   "id": "5418cc43",
   "metadata": {
    "execution": {
     "iopub.execute_input": "2024-07-11T10:52:09.762541Z",
     "iopub.status.busy": "2024-07-11T10:52:09.761501Z",
     "iopub.status.idle": "2024-07-11T10:52:09.832783Z",
     "shell.execute_reply": "2024-07-11T10:52:09.831594Z"
    },
    "papermill": {
     "duration": 0.092966,
     "end_time": "2024-07-11T10:52:09.835281",
     "exception": false,
     "start_time": "2024-07-11T10:52:09.742315",
     "status": "completed"
    },
    "tags": []
   },
   "outputs": [],
   "source": [
    "DATASET_ROOT = '/kaggle/input/topic-modeling-for-research-articles/Train.csv'\n",
    "device = 'cuda' if torch.cuda.is_available() else 'cpu'"
   ]
  },
  {
   "cell_type": "code",
   "execution_count": 6,
   "id": "e5e5d506",
   "metadata": {
    "execution": {
     "iopub.execute_input": "2024-07-11T10:52:09.871218Z",
     "iopub.status.busy": "2024-07-11T10:52:09.870301Z",
     "iopub.status.idle": "2024-07-11T10:52:10.347099Z",
     "shell.execute_reply": "2024-07-11T10:52:10.346113Z"
    },
    "papermill": {
     "duration": 0.497384,
     "end_time": "2024-07-11T10:52:10.349764",
     "exception": false,
     "start_time": "2024-07-11T10:52:09.852380",
     "status": "completed"
    },
    "tags": []
   },
   "outputs": [
    {
     "data": {
      "text/html": [
       "<div>\n",
       "<style scoped>\n",
       "    .dataframe tbody tr th:only-of-type {\n",
       "        vertical-align: middle;\n",
       "    }\n",
       "\n",
       "    .dataframe tbody tr th {\n",
       "        vertical-align: top;\n",
       "    }\n",
       "\n",
       "    .dataframe thead th {\n",
       "        text-align: right;\n",
       "    }\n",
       "</style>\n",
       "<table border=\"1\" class=\"dataframe\">\n",
       "  <thead>\n",
       "    <tr style=\"text-align: right;\">\n",
       "      <th></th>\n",
       "      <th>id</th>\n",
       "      <th>ABSTRACT</th>\n",
       "      <th>Computer Science</th>\n",
       "      <th>Mathematics</th>\n",
       "      <th>Physics</th>\n",
       "      <th>Statistics</th>\n",
       "      <th>Analysis of PDEs</th>\n",
       "      <th>Applications</th>\n",
       "      <th>Artificial Intelligence</th>\n",
       "      <th>Astrophysics of Galaxies</th>\n",
       "      <th>...</th>\n",
       "      <th>Methodology</th>\n",
       "      <th>Number Theory</th>\n",
       "      <th>Optimization and Control</th>\n",
       "      <th>Representation Theory</th>\n",
       "      <th>Robotics</th>\n",
       "      <th>Social and Information Networks</th>\n",
       "      <th>Statistics Theory</th>\n",
       "      <th>Strongly Correlated Electrons</th>\n",
       "      <th>Superconductivity</th>\n",
       "      <th>Systems and Control</th>\n",
       "    </tr>\n",
       "  </thead>\n",
       "  <tbody>\n",
       "    <tr>\n",
       "      <th>0</th>\n",
       "      <td>1824</td>\n",
       "      <td>a ever-growing datasets inside observational a...</td>\n",
       "      <td>0</td>\n",
       "      <td>0</td>\n",
       "      <td>1</td>\n",
       "      <td>0</td>\n",
       "      <td>0</td>\n",
       "      <td>0</td>\n",
       "      <td>0</td>\n",
       "      <td>0</td>\n",
       "      <td>...</td>\n",
       "      <td>0</td>\n",
       "      <td>0</td>\n",
       "      <td>0</td>\n",
       "      <td>0</td>\n",
       "      <td>0</td>\n",
       "      <td>0</td>\n",
       "      <td>0</td>\n",
       "      <td>0</td>\n",
       "      <td>0</td>\n",
       "      <td>0</td>\n",
       "    </tr>\n",
       "    <tr>\n",
       "      <th>1</th>\n",
       "      <td>3094</td>\n",
       "      <td>we propose the framework considering optimal $...</td>\n",
       "      <td>1</td>\n",
       "      <td>0</td>\n",
       "      <td>0</td>\n",
       "      <td>0</td>\n",
       "      <td>0</td>\n",
       "      <td>0</td>\n",
       "      <td>0</td>\n",
       "      <td>0</td>\n",
       "      <td>...</td>\n",
       "      <td>0</td>\n",
       "      <td>0</td>\n",
       "      <td>0</td>\n",
       "      <td>0</td>\n",
       "      <td>0</td>\n",
       "      <td>0</td>\n",
       "      <td>0</td>\n",
       "      <td>0</td>\n",
       "      <td>0</td>\n",
       "      <td>0</td>\n",
       "    </tr>\n",
       "    <tr>\n",
       "      <th>2</th>\n",
       "      <td>8463</td>\n",
       "      <td>nanostructures with open shell transition meta...</td>\n",
       "      <td>0</td>\n",
       "      <td>0</td>\n",
       "      <td>1</td>\n",
       "      <td>0</td>\n",
       "      <td>0</td>\n",
       "      <td>0</td>\n",
       "      <td>0</td>\n",
       "      <td>0</td>\n",
       "      <td>...</td>\n",
       "      <td>0</td>\n",
       "      <td>0</td>\n",
       "      <td>0</td>\n",
       "      <td>0</td>\n",
       "      <td>0</td>\n",
       "      <td>0</td>\n",
       "      <td>0</td>\n",
       "      <td>1</td>\n",
       "      <td>0</td>\n",
       "      <td>0</td>\n",
       "    </tr>\n",
       "    <tr>\n",
       "      <th>3</th>\n",
       "      <td>2082</td>\n",
       "      <td>stars are self-gravitating fluids inside which...</td>\n",
       "      <td>0</td>\n",
       "      <td>0</td>\n",
       "      <td>1</td>\n",
       "      <td>0</td>\n",
       "      <td>0</td>\n",
       "      <td>0</td>\n",
       "      <td>0</td>\n",
       "      <td>0</td>\n",
       "      <td>...</td>\n",
       "      <td>0</td>\n",
       "      <td>0</td>\n",
       "      <td>0</td>\n",
       "      <td>0</td>\n",
       "      <td>0</td>\n",
       "      <td>0</td>\n",
       "      <td>0</td>\n",
       "      <td>0</td>\n",
       "      <td>0</td>\n",
       "      <td>0</td>\n",
       "    </tr>\n",
       "    <tr>\n",
       "      <th>4</th>\n",
       "      <td>8687</td>\n",
       "      <td>deep neural perception and control networks ar...</td>\n",
       "      <td>1</td>\n",
       "      <td>0</td>\n",
       "      <td>0</td>\n",
       "      <td>0</td>\n",
       "      <td>0</td>\n",
       "      <td>0</td>\n",
       "      <td>0</td>\n",
       "      <td>0</td>\n",
       "      <td>...</td>\n",
       "      <td>0</td>\n",
       "      <td>0</td>\n",
       "      <td>0</td>\n",
       "      <td>0</td>\n",
       "      <td>0</td>\n",
       "      <td>0</td>\n",
       "      <td>0</td>\n",
       "      <td>0</td>\n",
       "      <td>0</td>\n",
       "      <td>0</td>\n",
       "    </tr>\n",
       "  </tbody>\n",
       "</table>\n",
       "<p>5 rows × 31 columns</p>\n",
       "</div>"
      ],
      "text/plain": [
       "     id                                           ABSTRACT  Computer Science  \\\n",
       "0  1824  a ever-growing datasets inside observational a...                 0   \n",
       "1  3094  we propose the framework considering optimal $...                 1   \n",
       "2  8463  nanostructures with open shell transition meta...                 0   \n",
       "3  2082  stars are self-gravitating fluids inside which...                 0   \n",
       "4  8687  deep neural perception and control networks ar...                 1   \n",
       "\n",
       "   Mathematics  Physics  Statistics  Analysis of PDEs  Applications  \\\n",
       "0            0        1           0                 0             0   \n",
       "1            0        0           0                 0             0   \n",
       "2            0        1           0                 0             0   \n",
       "3            0        1           0                 0             0   \n",
       "4            0        0           0                 0             0   \n",
       "\n",
       "   Artificial Intelligence  Astrophysics of Galaxies  ...  Methodology  \\\n",
       "0                        0                         0  ...            0   \n",
       "1                        0                         0  ...            0   \n",
       "2                        0                         0  ...            0   \n",
       "3                        0                         0  ...            0   \n",
       "4                        0                         0  ...            0   \n",
       "\n",
       "   Number Theory  Optimization and Control  Representation Theory  Robotics  \\\n",
       "0              0                         0                      0         0   \n",
       "1              0                         0                      0         0   \n",
       "2              0                         0                      0         0   \n",
       "3              0                         0                      0         0   \n",
       "4              0                         0                      0         0   \n",
       "\n",
       "   Social and Information Networks  Statistics Theory  \\\n",
       "0                                0                  0   \n",
       "1                                0                  0   \n",
       "2                                0                  0   \n",
       "3                                0                  0   \n",
       "4                                0                  0   \n",
       "\n",
       "   Strongly Correlated Electrons  Superconductivity  Systems and Control  \n",
       "0                              0                  0                    0  \n",
       "1                              0                  0                    0  \n",
       "2                              1                  0                    0  \n",
       "3                              0                  0                    0  \n",
       "4                              0                  0                    0  \n",
       "\n",
       "[5 rows x 31 columns]"
      ]
     },
     "execution_count": 6,
     "metadata": {},
     "output_type": "execute_result"
    }
   ],
   "source": [
    "train_df = pd.read_csv(DATASET_ROOT)\n",
    "train_df.head()"
   ]
  },
  {
   "cell_type": "markdown",
   "id": "fe1a6053",
   "metadata": {
    "papermill": {
     "duration": 0.017149,
     "end_time": "2024-07-11T10:52:10.385563",
     "exception": false,
     "start_time": "2024-07-11T10:52:10.368414",
     "status": "completed"
    },
    "tags": []
   },
   "source": [
    "# Data Preprocessing"
   ]
  },
  {
   "cell_type": "code",
   "execution_count": 7,
   "id": "ed72d5e4",
   "metadata": {
    "execution": {
     "iopub.execute_input": "2024-07-11T10:52:10.423058Z",
     "iopub.status.busy": "2024-07-11T10:52:10.422222Z",
     "iopub.status.idle": "2024-07-11T10:52:10.456759Z",
     "shell.execute_reply": "2024-07-11T10:52:10.455711Z"
    },
    "papermill": {
     "duration": 0.05646,
     "end_time": "2024-07-11T10:52:10.459444",
     "exception": false,
     "start_time": "2024-07-11T10:52:10.402984",
     "status": "completed"
    },
    "tags": []
   },
   "outputs": [
    {
     "data": {
      "text/html": [
       "<div>\n",
       "<style scoped>\n",
       "    .dataframe tbody tr th:only-of-type {\n",
       "        vertical-align: middle;\n",
       "    }\n",
       "\n",
       "    .dataframe tbody tr th {\n",
       "        vertical-align: top;\n",
       "    }\n",
       "\n",
       "    .dataframe thead th {\n",
       "        text-align: right;\n",
       "    }\n",
       "</style>\n",
       "<table border=\"1\" class=\"dataframe\">\n",
       "  <thead>\n",
       "    <tr style=\"text-align: right;\">\n",
       "      <th></th>\n",
       "      <th>ABSTRACT</th>\n",
       "      <th>Target</th>\n",
       "    </tr>\n",
       "  </thead>\n",
       "  <tbody>\n",
       "    <tr>\n",
       "      <th>0</th>\n",
       "      <td>a ever-growing datasets inside observational a...</td>\n",
       "      <td>Physics</td>\n",
       "    </tr>\n",
       "    <tr>\n",
       "      <th>1</th>\n",
       "      <td>we propose the framework considering optimal $...</td>\n",
       "      <td>Computer Science</td>\n",
       "    </tr>\n",
       "    <tr>\n",
       "      <th>2</th>\n",
       "      <td>nanostructures with open shell transition meta...</td>\n",
       "      <td>Physics</td>\n",
       "    </tr>\n",
       "    <tr>\n",
       "      <th>3</th>\n",
       "      <td>stars are self-gravitating fluids inside which...</td>\n",
       "      <td>Physics</td>\n",
       "    </tr>\n",
       "    <tr>\n",
       "      <th>4</th>\n",
       "      <td>deep neural perception and control networks ar...</td>\n",
       "      <td>Computer Science</td>\n",
       "    </tr>\n",
       "  </tbody>\n",
       "</table>\n",
       "</div>"
      ],
      "text/plain": [
       "                                            ABSTRACT            Target\n",
       "0  a ever-growing datasets inside observational a...           Physics\n",
       "1  we propose the framework considering optimal $...  Computer Science\n",
       "2  nanostructures with open shell transition meta...           Physics\n",
       "3  stars are self-gravitating fluids inside which...           Physics\n",
       "4  deep neural perception and control networks ar...  Computer Science"
      ]
     },
     "execution_count": 7,
     "metadata": {},
     "output_type": "execute_result"
    }
   ],
   "source": [
    "# Dropping ID\n",
    "train_df.drop('id', axis=1, inplace=True)\n",
    "\n",
    "# Resetting ID \n",
    "train_df.reset_index()\n",
    "\n",
    "topics = train_df.columns[1:]\n",
    "train_df['Target'] = train_df[topics].idxmax(axis=1)\n",
    "train_df.drop(topics, axis=1, inplace=True)\n",
    "train_df.head()"
   ]
  },
  {
   "cell_type": "code",
   "execution_count": 8,
   "id": "d14ff31a",
   "metadata": {
    "execution": {
     "iopub.execute_input": "2024-07-11T10:52:10.500353Z",
     "iopub.status.busy": "2024-07-11T10:52:10.499450Z",
     "iopub.status.idle": "2024-07-11T10:52:10.509615Z",
     "shell.execute_reply": "2024-07-11T10:52:10.508607Z"
    },
    "papermill": {
     "duration": 0.032642,
     "end_time": "2024-07-11T10:52:10.511905",
     "exception": false,
     "start_time": "2024-07-11T10:52:10.479263",
     "status": "completed"
    },
    "tags": []
   },
   "outputs": [],
   "source": [
    "encoder = LabelEncoder()\n",
    "train_df['Target_Label'] = encoder.fit_transform(train_df['Target'])"
   ]
  },
  {
   "cell_type": "code",
   "execution_count": 9,
   "id": "e8af4104",
   "metadata": {
    "execution": {
     "iopub.execute_input": "2024-07-11T10:52:10.549808Z",
     "iopub.status.busy": "2024-07-11T10:52:10.548946Z",
     "iopub.status.idle": "2024-07-11T10:52:10.560168Z",
     "shell.execute_reply": "2024-07-11T10:52:10.559106Z"
    },
    "papermill": {
     "duration": 0.032603,
     "end_time": "2024-07-11T10:52:10.562610",
     "exception": false,
     "start_time": "2024-07-11T10:52:10.530007",
     "status": "completed"
    },
    "tags": []
   },
   "outputs": [],
   "source": [
    "def preprocess_text(text: str, stopwords=set(stopwords.words('english')), wnl=WordNetLemmatizer(), ml=True):\n",
    "    \n",
    "    \"\"\"\n",
    "    Preprocesses the input text by tokenizing, removing stopwords and punctuation, and lemmatizing the words.\n",
    "    \n",
    "    Args:\n",
    "        text (str): The input text to be preprocessed.\n",
    "        stopwords (set, optional): A set of stopwords to be removed from the text. Defaults to nltk's English stopwords.\n",
    "        wnl (WordNetLemmatizer, optional): An instance of WordNetLemmatizer for lemmatizing words. Defaults to an instance of WordNetLemmatizer.\n",
    "        ml (bool, optional): If True, the preprocessed text is returned as a single string. If False, the preprocessed text is returned as a list of words. Defaults to True.\n",
    "    \n",
    "    Returns:\n",
    "        list or str: The preprocessed text. If ml is True, returns a string of the preprocessed text. If ml is False, returns a list of preprocessed words.\n",
    "    \"\"\"\n",
    "    \n",
    "    # Tokenising\n",
    "    words = word_tokenize(text.lower())\n",
    "    \n",
    "    # Removing Stopwords & Punctuation\n",
    "    filtered_text = [word for word in words if word not in stopwords and word.isalpha()]\n",
    "    \n",
    "    # Lemmatization\n",
    "    preprocessed_text = [wnl.lemmatize(word) for word in filtered_text]\n",
    "    \n",
    "    if ml:\n",
    "        preprocessed_text = ' '.join(preprocessed_text)\n",
    "    \n",
    "    return preprocessed_text"
   ]
  },
  {
   "cell_type": "code",
   "execution_count": 10,
   "id": "fea06e6a",
   "metadata": {
    "execution": {
     "iopub.execute_input": "2024-07-11T10:52:10.601493Z",
     "iopub.status.busy": "2024-07-11T10:52:10.600583Z",
     "iopub.status.idle": "2024-07-11T10:53:39.706002Z",
     "shell.execute_reply": "2024-07-11T10:53:39.704843Z"
    },
    "papermill": {
     "duration": 89.12766,
     "end_time": "2024-07-11T10:53:39.708972",
     "exception": false,
     "start_time": "2024-07-11T10:52:10.581312",
     "status": "completed"
    },
    "tags": []
   },
   "outputs": [],
   "source": [
    "preprocessed_text_dl = train_df.ABSTRACT.apply(preprocess_text, ml=False)\n",
    "preprocessed_text_ml = train_df.ABSTRACT.apply(preprocess_text)"
   ]
  },
  {
   "cell_type": "code",
   "execution_count": 11,
   "id": "47bf0f8b",
   "metadata": {
    "execution": {
     "iopub.execute_input": "2024-07-11T10:53:39.748066Z",
     "iopub.status.busy": "2024-07-11T10:53:39.747345Z",
     "iopub.status.idle": "2024-07-11T10:53:39.772932Z",
     "shell.execute_reply": "2024-07-11T10:53:39.771837Z"
    },
    "papermill": {
     "duration": 0.047916,
     "end_time": "2024-07-11T10:53:39.775526",
     "exception": false,
     "start_time": "2024-07-11T10:53:39.727610",
     "status": "completed"
    },
    "tags": []
   },
   "outputs": [
    {
     "data": {
      "text/html": [
       "<div>\n",
       "<style scoped>\n",
       "    .dataframe tbody tr th:only-of-type {\n",
       "        vertical-align: middle;\n",
       "    }\n",
       "\n",
       "    .dataframe tbody tr th {\n",
       "        vertical-align: top;\n",
       "    }\n",
       "\n",
       "    .dataframe thead th {\n",
       "        text-align: right;\n",
       "    }\n",
       "</style>\n",
       "<table border=\"1\" class=\"dataframe\">\n",
       "  <thead>\n",
       "    <tr style=\"text-align: right;\">\n",
       "      <th></th>\n",
       "      <th>Target</th>\n",
       "      <th>Target_Label</th>\n",
       "      <th>Preprocessed Text ML</th>\n",
       "      <th>Preprocessed Text DL</th>\n",
       "    </tr>\n",
       "  </thead>\n",
       "  <tbody>\n",
       "    <tr>\n",
       "      <th>0</th>\n",
       "      <td>Physics</td>\n",
       "      <td>2</td>\n",
       "      <td>datasets inside observational astronomy challe...</td>\n",
       "      <td>[datasets, inside, observational, astronomy, c...</td>\n",
       "    </tr>\n",
       "    <tr>\n",
       "      <th>1</th>\n",
       "      <td>Computer Science</td>\n",
       "      <td>0</td>\n",
       "      <td>propose framework considering optimal excludin...</td>\n",
       "      <td>[propose, framework, considering, optimal, exc...</td>\n",
       "    </tr>\n",
       "    <tr>\n",
       "      <th>2</th>\n",
       "      <td>Physics</td>\n",
       "      <td>2</td>\n",
       "      <td>nanostructures open shell transition metal mol...</td>\n",
       "      <td>[nanostructures, open, shell, transition, meta...</td>\n",
       "    </tr>\n",
       "    <tr>\n",
       "      <th>3</th>\n",
       "      <td>Physics</td>\n",
       "      <td>2</td>\n",
       "      <td>star fluid inside pressure buoyancy rotation m...</td>\n",
       "      <td>[star, fluid, inside, pressure, buoyancy, rota...</td>\n",
       "    </tr>\n",
       "    <tr>\n",
       "      <th>4</th>\n",
       "      <td>Computer Science</td>\n",
       "      <td>0</td>\n",
       "      <td>deep neural perception control network likely ...</td>\n",
       "      <td>[deep, neural, perception, control, network, l...</td>\n",
       "    </tr>\n",
       "  </tbody>\n",
       "</table>\n",
       "</div>"
      ],
      "text/plain": [
       "             Target  Target_Label  \\\n",
       "0           Physics             2   \n",
       "1  Computer Science             0   \n",
       "2           Physics             2   \n",
       "3           Physics             2   \n",
       "4  Computer Science             0   \n",
       "\n",
       "                                Preprocessed Text ML  \\\n",
       "0  datasets inside observational astronomy challe...   \n",
       "1  propose framework considering optimal excludin...   \n",
       "2  nanostructures open shell transition metal mol...   \n",
       "3  star fluid inside pressure buoyancy rotation m...   \n",
       "4  deep neural perception control network likely ...   \n",
       "\n",
       "                                Preprocessed Text DL  \n",
       "0  [datasets, inside, observational, astronomy, c...  \n",
       "1  [propose, framework, considering, optimal, exc...  \n",
       "2  [nanostructures, open, shell, transition, meta...  \n",
       "3  [star, fluid, inside, pressure, buoyancy, rota...  \n",
       "4  [deep, neural, perception, control, network, l...  "
      ]
     },
     "execution_count": 11,
     "metadata": {},
     "output_type": "execute_result"
    }
   ],
   "source": [
    "train_df['Preprocessed Text ML'] = preprocessed_text_ml\n",
    "train_df['Preprocessed Text DL'] = preprocessed_text_dl\n",
    "train_df.drop('ABSTRACT', axis=1, inplace=True)\n",
    "train_df.head()"
   ]
  },
  {
   "cell_type": "markdown",
   "id": "f0b89f4c",
   "metadata": {
    "papermill": {
     "duration": 0.017423,
     "end_time": "2024-07-11T10:53:39.811002",
     "exception": false,
     "start_time": "2024-07-11T10:53:39.793579",
     "status": "completed"
    },
    "tags": []
   },
   "source": [
    "### Building Vocabulary and Encoding Text"
   ]
  },
  {
   "cell_type": "code",
   "execution_count": 12,
   "id": "faa6b768",
   "metadata": {
    "execution": {
     "iopub.execute_input": "2024-07-11T10:53:39.849472Z",
     "iopub.status.busy": "2024-07-11T10:53:39.848510Z",
     "iopub.status.idle": "2024-07-11T10:53:41.705264Z",
     "shell.execute_reply": "2024-07-11T10:53:41.704250Z"
    },
    "papermill": {
     "duration": 1.878968,
     "end_time": "2024-07-11T10:53:41.707910",
     "exception": false,
     "start_time": "2024-07-11T10:53:39.828942",
     "status": "completed"
    },
    "tags": []
   },
   "outputs": [],
   "source": [
    "# Build vocabulary\n",
    "vocab = build_vocab_from_iterator(preprocessed_text_dl, specials=[\"<pad>\", \"<unk>\"], min_freq=2)\n",
    "vocab.set_default_index(vocab[\"<unk>\"])\n",
    "\n",
    "# Convert tokens to indices\n",
    "def encode(text):\n",
    "    return [vocab[token] for token in text]\n",
    "\n",
    "encoded_data = [encode(text) for text in preprocessed_text_dl]"
   ]
  },
  {
   "cell_type": "code",
   "execution_count": 13,
   "id": "f4b3604d",
   "metadata": {
    "execution": {
     "iopub.execute_input": "2024-07-11T10:53:41.744853Z",
     "iopub.status.busy": "2024-07-11T10:53:41.744417Z",
     "iopub.status.idle": "2024-07-11T10:53:42.781555Z",
     "shell.execute_reply": "2024-07-11T10:53:42.780344Z"
    },
    "papermill": {
     "duration": 1.058807,
     "end_time": "2024-07-11T10:53:42.784076",
     "exception": false,
     "start_time": "2024-07-11T10:53:41.725269",
     "status": "completed"
    },
    "tags": []
   },
   "outputs": [
    {
     "data": {
      "text/html": [
       "<div>\n",
       "<style scoped>\n",
       "    .dataframe tbody tr th:only-of-type {\n",
       "        vertical-align: middle;\n",
       "    }\n",
       "\n",
       "    .dataframe tbody tr th {\n",
       "        vertical-align: top;\n",
       "    }\n",
       "\n",
       "    .dataframe thead th {\n",
       "        text-align: right;\n",
       "    }\n",
       "</style>\n",
       "<table border=\"1\" class=\"dataframe\">\n",
       "  <thead>\n",
       "    <tr style=\"text-align: right;\">\n",
       "      <th></th>\n",
       "      <th>Target</th>\n",
       "      <th>Target_Label</th>\n",
       "      <th>Preprocessed Text ML</th>\n",
       "      <th>Preprocessed Text DL</th>\n",
       "      <th>Encoded &amp; Padded Text</th>\n",
       "    </tr>\n",
       "  </thead>\n",
       "  <tbody>\n",
       "    <tr>\n",
       "      <th>0</th>\n",
       "      <td>Physics</td>\n",
       "      <td>2</td>\n",
       "      <td>datasets inside observational astronomy challe...</td>\n",
       "      <td>[datasets, inside, observational, astronomy, c...</td>\n",
       "      <td>[140, 2, 1087, 2624, 7251, 3218, 2, 91, 725, 1...</td>\n",
       "    </tr>\n",
       "    <tr>\n",
       "      <th>1</th>\n",
       "      <td>Computer Science</td>\n",
       "      <td>0</td>\n",
       "      <td>propose framework considering optimal excludin...</td>\n",
       "      <td>[propose, framework, considering, optimal, exc...</td>\n",
       "      <td>[33, 57, 3, 112, 6777, 2771, 2, 2581, 68, 22, ...</td>\n",
       "    </tr>\n",
       "    <tr>\n",
       "      <th>2</th>\n",
       "      <td>Physics</td>\n",
       "      <td>2</td>\n",
       "      <td>nanostructures open shell transition metal mol...</td>\n",
       "      <td>[nanostructures, open, shell, transition, meta...</td>\n",
       "      <td>[6594, 474, 2427, 144, 917, 769, 3430, 765, 23...</td>\n",
       "    </tr>\n",
       "    <tr>\n",
       "      <th>3</th>\n",
       "      <td>Physics</td>\n",
       "      <td>2</td>\n",
       "      <td>star fluid inside pressure buoyancy rotation m...</td>\n",
       "      <td>[star, fluid, inside, pressure, buoyancy, rota...</td>\n",
       "      <td>[126, 712, 2, 577, 6052, 899, 85, 39, 69, 7144...</td>\n",
       "    </tr>\n",
       "    <tr>\n",
       "      <th>4</th>\n",
       "      <td>Computer Science</td>\n",
       "      <td>0</td>\n",
       "      <td>deep neural perception control network likely ...</td>\n",
       "      <td>[deep, neural, perception, control, network, l...</td>\n",
       "      <td>[54, 49, 1674, 77, 7, 891, 295, 172, 503, 4, 3...</td>\n",
       "    </tr>\n",
       "  </tbody>\n",
       "</table>\n",
       "</div>"
      ],
      "text/plain": [
       "             Target  Target_Label  \\\n",
       "0           Physics             2   \n",
       "1  Computer Science             0   \n",
       "2           Physics             2   \n",
       "3           Physics             2   \n",
       "4  Computer Science             0   \n",
       "\n",
       "                                Preprocessed Text ML  \\\n",
       "0  datasets inside observational astronomy challe...   \n",
       "1  propose framework considering optimal excludin...   \n",
       "2  nanostructures open shell transition metal mol...   \n",
       "3  star fluid inside pressure buoyancy rotation m...   \n",
       "4  deep neural perception control network likely ...   \n",
       "\n",
       "                                Preprocessed Text DL  \\\n",
       "0  [datasets, inside, observational, astronomy, c...   \n",
       "1  [propose, framework, considering, optimal, exc...   \n",
       "2  [nanostructures, open, shell, transition, meta...   \n",
       "3  [star, fluid, inside, pressure, buoyancy, rota...   \n",
       "4  [deep, neural, perception, control, network, l...   \n",
       "\n",
       "                               Encoded & Padded Text  \n",
       "0  [140, 2, 1087, 2624, 7251, 3218, 2, 91, 725, 1...  \n",
       "1  [33, 57, 3, 112, 6777, 2771, 2, 2581, 68, 22, ...  \n",
       "2  [6594, 474, 2427, 144, 917, 769, 3430, 765, 23...  \n",
       "3  [126, 712, 2, 577, 6052, 899, 85, 39, 69, 7144...  \n",
       "4  [54, 49, 1674, 77, 7, 891, 295, 172, 503, 4, 3...  "
      ]
     },
     "execution_count": 13,
     "metadata": {},
     "output_type": "execute_result"
    }
   ],
   "source": [
    "text_data = pad_sequence([torch.tensor(seq) for seq in encoded_data], batch_first=True, padding_value=vocab['<pad>'])\n",
    "train_df['Encoded & Padded Text'] = text_data.tolist()\n",
    "train_df.head()"
   ]
  },
  {
   "cell_type": "code",
   "execution_count": 14,
   "id": "376e5b1a",
   "metadata": {
    "execution": {
     "iopub.execute_input": "2024-07-11T10:53:42.822456Z",
     "iopub.status.busy": "2024-07-11T10:53:42.822108Z",
     "iopub.status.idle": "2024-07-11T10:53:42.828305Z",
     "shell.execute_reply": "2024-07-11T10:53:42.827318Z"
    },
    "papermill": {
     "duration": 0.027967,
     "end_time": "2024-07-11T10:53:42.830805",
     "exception": false,
     "start_time": "2024-07-11T10:53:42.802838",
     "status": "completed"
    },
    "tags": []
   },
   "outputs": [
    {
     "data": {
      "text/plain": [
       "(14004, 5)"
      ]
     },
     "execution_count": 14,
     "metadata": {},
     "output_type": "execute_result"
    }
   ],
   "source": [
    "train_df.shape"
   ]
  },
  {
   "cell_type": "markdown",
   "id": "cd9d093a",
   "metadata": {
    "papermill": {
     "duration": 0.017908,
     "end_time": "2024-07-11T10:53:42.866272",
     "exception": false,
     "start_time": "2024-07-11T10:53:42.848364",
     "status": "completed"
    },
    "tags": []
   },
   "source": [
    "# Balancing an Imbalanced Dataset "
   ]
  },
  {
   "cell_type": "code",
   "execution_count": 15,
   "id": "0f75b0a3",
   "metadata": {
    "execution": {
     "iopub.execute_input": "2024-07-11T10:53:42.966119Z",
     "iopub.status.busy": "2024-07-11T10:53:42.965400Z",
     "iopub.status.idle": "2024-07-11T10:53:43.043776Z",
     "shell.execute_reply": "2024-07-11T10:53:43.042632Z"
    },
    "papermill": {
     "duration": 0.161401,
     "end_time": "2024-07-11T10:53:43.046550",
     "exception": false,
     "start_time": "2024-07-11T10:53:42.885149",
     "status": "completed"
    },
    "tags": []
   },
   "outputs": [],
   "source": [
    "ros = RandomOverSampler(random_state=42)\n",
    "X_balanced_ml, y_balanced_ml = ros.fit_resample(train_df[['Preprocessed Text ML']], train_df[['Target']])"
   ]
  },
  {
   "cell_type": "code",
   "execution_count": 16,
   "id": "de1aa4a2",
   "metadata": {
    "execution": {
     "iopub.execute_input": "2024-07-11T10:53:43.085755Z",
     "iopub.status.busy": "2024-07-11T10:53:43.085026Z",
     "iopub.status.idle": "2024-07-11T10:53:43.103452Z",
     "shell.execute_reply": "2024-07-11T10:53:43.102312Z"
    },
    "papermill": {
     "duration": 0.041331,
     "end_time": "2024-07-11T10:53:43.105935",
     "exception": false,
     "start_time": "2024-07-11T10:53:43.064604",
     "status": "completed"
    },
    "tags": []
   },
   "outputs": [
    {
     "data": {
      "text/html": [
       "<div>\n",
       "<style scoped>\n",
       "    .dataframe tbody tr th:only-of-type {\n",
       "        vertical-align: middle;\n",
       "    }\n",
       "\n",
       "    .dataframe tbody tr th {\n",
       "        vertical-align: top;\n",
       "    }\n",
       "\n",
       "    .dataframe thead th {\n",
       "        text-align: right;\n",
       "    }\n",
       "</style>\n",
       "<table border=\"1\" class=\"dataframe\">\n",
       "  <thead>\n",
       "    <tr style=\"text-align: right;\">\n",
       "      <th></th>\n",
       "      <th>Preprocessed Text</th>\n",
       "      <th>Target</th>\n",
       "    </tr>\n",
       "  </thead>\n",
       "  <tbody>\n",
       "    <tr>\n",
       "      <th>0</th>\n",
       "      <td>intelligent system gain autonomy capability be...</td>\n",
       "      <td>Computer Science</td>\n",
       "    </tr>\n",
       "    <tr>\n",
       "      <th>1</th>\n",
       "      <td>power reproducibility key enabling refined sci...</td>\n",
       "      <td>Mathematics</td>\n",
       "    </tr>\n",
       "    <tr>\n",
       "      <th>2</th>\n",
       "      <td>propose extension convolutional neural network...</td>\n",
       "      <td>Statistics</td>\n",
       "    </tr>\n",
       "    <tr>\n",
       "      <th>3</th>\n",
       "      <td>describe mechanism artificial neural network l...</td>\n",
       "      <td>Computer Science</td>\n",
       "    </tr>\n",
       "    <tr>\n",
       "      <th>4</th>\n",
       "      <td>present result photometric observation six tra...</td>\n",
       "      <td>Physics</td>\n",
       "    </tr>\n",
       "  </tbody>\n",
       "</table>\n",
       "</div>"
      ],
      "text/plain": [
       "                                   Preprocessed Text            Target\n",
       "0  intelligent system gain autonomy capability be...  Computer Science\n",
       "1  power reproducibility key enabling refined sci...       Mathematics\n",
       "2  propose extension convolutional neural network...        Statistics\n",
       "3  describe mechanism artificial neural network l...  Computer Science\n",
       "4  present result photometric observation six tra...           Physics"
      ]
     },
     "execution_count": 16,
     "metadata": {},
     "output_type": "execute_result"
    }
   ],
   "source": [
    "balanced_dict = {\n",
    "    'Preprocessed Text': X_balanced_ml.squeeze(),\n",
    "    'Target': y_balanced_ml.squeeze()\n",
    "}\n",
    "\n",
    "balanced_df_ml = pd.DataFrame(balanced_dict)\n",
    "balanced_df_ml = balanced_df_ml.sample(n=len(balanced_df_ml)).reset_index(drop=True)\n",
    "balanced_df_ml.head()"
   ]
  },
  {
   "cell_type": "code",
   "execution_count": 17,
   "id": "0b2041ab",
   "metadata": {
    "execution": {
     "iopub.execute_input": "2024-07-11T10:53:43.147078Z",
     "iopub.status.busy": "2024-07-11T10:53:43.145913Z",
     "iopub.status.idle": "2024-07-11T10:53:43.186521Z",
     "shell.execute_reply": "2024-07-11T10:53:43.185383Z"
    },
    "papermill": {
     "duration": 0.063846,
     "end_time": "2024-07-11T10:53:43.188978",
     "exception": false,
     "start_time": "2024-07-11T10:53:43.125132",
     "status": "completed"
    },
    "tags": []
   },
   "outputs": [
    {
     "data": {
      "text/html": [
       "<div>\n",
       "<style scoped>\n",
       "    .dataframe tbody tr th:only-of-type {\n",
       "        vertical-align: middle;\n",
       "    }\n",
       "\n",
       "    .dataframe tbody tr th {\n",
       "        vertical-align: top;\n",
       "    }\n",
       "\n",
       "    .dataframe thead th {\n",
       "        text-align: right;\n",
       "    }\n",
       "</style>\n",
       "<table border=\"1\" class=\"dataframe\">\n",
       "  <thead>\n",
       "    <tr style=\"text-align: right;\">\n",
       "      <th></th>\n",
       "      <th>Preprocessed Text</th>\n",
       "      <th>Target</th>\n",
       "    </tr>\n",
       "  </thead>\n",
       "  <tbody>\n",
       "    <tr>\n",
       "      <th>0</th>\n",
       "      <td>[2, 15, 33, 3076, 772, 15675, 121, 12, 3, 1007...</td>\n",
       "      <td>3</td>\n",
       "    </tr>\n",
       "    <tr>\n",
       "      <th>1</th>\n",
       "      <td>[2, 1719, 230, 120, 14, 10, 323, 1193, 755, 10...</td>\n",
       "      <td>3</td>\n",
       "    </tr>\n",
       "    <tr>\n",
       "      <th>2</th>\n",
       "      <td>[9560, 274, 3031, 1408, 1332, 2969, 5301, 628,...</td>\n",
       "      <td>2</td>\n",
       "    </tr>\n",
       "    <tr>\n",
       "      <th>3</th>\n",
       "      <td>[26, 1051, 641, 327, 56, 2084, 266, 4, 13, 177...</td>\n",
       "      <td>3</td>\n",
       "    </tr>\n",
       "    <tr>\n",
       "      <th>4</th>\n",
       "      <td>[611, 1223, 49, 7, 9463, 44, 152, 894, 72, 10,...</td>\n",
       "      <td>0</td>\n",
       "    </tr>\n",
       "  </tbody>\n",
       "</table>\n",
       "</div>"
      ],
      "text/plain": [
       "                                   Preprocessed Text  Target\n",
       "0  [2, 15, 33, 3076, 772, 15675, 121, 12, 3, 1007...       3\n",
       "1  [2, 1719, 230, 120, 14, 10, 323, 1193, 755, 10...       3\n",
       "2  [9560, 274, 3031, 1408, 1332, 2969, 5301, 628,...       2\n",
       "3  [26, 1051, 641, 327, 56, 2084, 266, 4, 13, 177...       3\n",
       "4  [611, 1223, 49, 7, 9463, 44, 152, 894, 72, 10,...       0"
      ]
     },
     "execution_count": 17,
     "metadata": {},
     "output_type": "execute_result"
    }
   ],
   "source": [
    "X_balanced_dl, y_balanced_dl = ros.fit_resample(train_df[['Encoded & Padded Text']], train_df[['Target_Label']])\n",
    "\n",
    "balanced_dict = {\n",
    "    'Preprocessed Text': X_balanced_dl.squeeze(),\n",
    "    'Target': y_balanced_dl.squeeze()\n",
    "}\n",
    "\n",
    "balanced_df_dl = pd.DataFrame(balanced_dict)\n",
    "balanced_df_dl = balanced_df_dl.sample(n=len(balanced_df_dl)).reset_index(drop=True)\n",
    "balanced_df_dl.head()"
   ]
  },
  {
   "cell_type": "code",
   "execution_count": 18,
   "id": "e294919f",
   "metadata": {
    "execution": {
     "iopub.execute_input": "2024-07-11T10:53:43.229587Z",
     "iopub.status.busy": "2024-07-11T10:53:43.228590Z",
     "iopub.status.idle": "2024-07-11T10:53:53.289109Z",
     "shell.execute_reply": "2024-07-11T10:53:53.288157Z"
    },
    "papermill": {
     "duration": 10.083355,
     "end_time": "2024-07-11T10:53:53.291663",
     "exception": false,
     "start_time": "2024-07-11T10:53:43.208308",
     "status": "completed"
    },
    "tags": []
   },
   "outputs": [],
   "source": [
    "count_vect = CountVectorizer(ngram_range=(1, 2))        \n",
    "transformer = TfidfTransformer(norm='l2',sublinear_tf=True)\n",
    "\n",
    "counts = count_vect.fit_transform(balanced_df_ml['Preprocessed Text'])\n",
    "tfidf = transformer.fit_transform(counts)"
   ]
  },
  {
   "cell_type": "markdown",
   "id": "5e007850",
   "metadata": {
    "papermill": {
     "duration": 0.01807,
     "end_time": "2024-07-11T10:53:53.328712",
     "exception": false,
     "start_time": "2024-07-11T10:53:53.310642",
     "status": "completed"
    },
    "tags": []
   },
   "source": [
    "# Data Visualization"
   ]
  },
  {
   "cell_type": "code",
   "execution_count": 19,
   "id": "f69c4b63",
   "metadata": {
    "execution": {
     "iopub.execute_input": "2024-07-11T10:53:53.368157Z",
     "iopub.status.busy": "2024-07-11T10:53:53.367738Z",
     "iopub.status.idle": "2024-07-11T10:53:54.414962Z",
     "shell.execute_reply": "2024-07-11T10:53:54.413981Z"
    },
    "papermill": {
     "duration": 1.070788,
     "end_time": "2024-07-11T10:53:54.417587",
     "exception": false,
     "start_time": "2024-07-11T10:53:53.346799",
     "status": "completed"
    },
    "tags": []
   },
   "outputs": [
    {
     "data": {
      "text/plain": [
       "<Axes: xlabel='Target', ylabel='count'>"
      ]
     },
     "execution_count": 19,
     "metadata": {},
     "output_type": "execute_result"
    },
    {
     "data": {
      "image/png": "[encoded data removed]",
      "text/plain": [
       "<Figure size 1000x550 with 2 Axes>"
      ]
     },
     "metadata": {},
     "output_type": "display_data"
    }
   ],
   "source": [
    "plt.rcParams[\"figure.figsize\"] = [10.00, 5.50]\n",
    "plt.rcParams[\"figure.autolayout\"] = True\n",
    "f, axes = plt.subplots(1, 2)\n",
    "sns.countplot(data=train_df, x='Target', ax=axes[0])\n",
    "sns.countplot(data=balanced_df_ml, x='Target', ax=axes[1])"
   ]
  },
  {
   "cell_type": "markdown",
   "id": "1c947225",
   "metadata": {
    "papermill": {
     "duration": 0.018604,
     "end_time": "2024-07-11T10:53:54.455352",
     "exception": false,
     "start_time": "2024-07-11T10:53:54.436748",
     "status": "completed"
    },
    "tags": []
   },
   "source": [
    "# Machine Learning with Scikit Learn"
   ]
  },
  {
   "cell_type": "code",
   "execution_count": 20,
   "id": "5c3053eb",
   "metadata": {
    "execution": {
     "iopub.execute_input": "2024-07-11T10:53:54.498078Z",
     "iopub.status.busy": "2024-07-11T10:53:54.497361Z",
     "iopub.status.idle": "2024-07-11T10:53:54.502200Z",
     "shell.execute_reply": "2024-07-11T10:53:54.501251Z"
    },
    "papermill": {
     "duration": 0.029497,
     "end_time": "2024-07-11T10:53:54.504338",
     "exception": false,
     "start_time": "2024-07-11T10:53:54.474841",
     "status": "completed"
    },
    "tags": []
   },
   "outputs": [],
   "source": [
    "LABELS = ['Computer Science', 'Mathematics', 'Physics', 'Statistics']"
   ]
  },
  {
   "cell_type": "code",
   "execution_count": 21,
   "id": "69dea40e",
   "metadata": {
    "execution": {
     "iopub.execute_input": "2024-07-11T10:53:54.544106Z",
     "iopub.status.busy": "2024-07-11T10:53:54.543727Z",
     "iopub.status.idle": "2024-07-11T10:53:54.563382Z",
     "shell.execute_reply": "2024-07-11T10:53:54.562232Z"
    },
    "papermill": {
     "duration": 0.042828,
     "end_time": "2024-07-11T10:53:54.566222",
     "exception": false,
     "start_time": "2024-07-11T10:53:54.523394",
     "status": "completed"
    },
    "tags": []
   },
   "outputs": [],
   "source": [
    "x_train, x_test, y_train, y_test = train_test_split(tfidf, balanced_df_ml['Target'], \n",
    "                                                    test_size=0.2, random_state=42)"
   ]
  },
  {
   "cell_type": "code",
   "execution_count": 22,
   "id": "36e244ed",
   "metadata": {
    "execution": {
     "iopub.execute_input": "2024-07-11T10:53:54.608834Z",
     "iopub.status.busy": "2024-07-11T10:53:54.608133Z",
     "iopub.status.idle": "2024-07-11T10:53:54.614506Z",
     "shell.execute_reply": "2024-07-11T10:53:54.613439Z"
    },
    "papermill": {
     "duration": 0.030396,
     "end_time": "2024-07-11T10:53:54.617001",
     "exception": false,
     "start_time": "2024-07-11T10:53:54.586605",
     "status": "completed"
    },
    "tags": []
   },
   "outputs": [],
   "source": [
    "def model_training(model, x_train, y_train, x_test, y_test):\n",
    "    \"\"\"\n",
    "    Trains the given model using the provided training data and evaluates it using the test data.\n",
    "\n",
    "    Args:\n",
    "        model: The machine learning model to be trained.\n",
    "        x_train: The training data features.\n",
    "        y_train: The training data labels.\n",
    "        x_test: The test data features.\n",
    "        y_test: The test data labels.\n",
    "\n",
    "    Returns:\n",
    "        array-like: The predicted labels for the test data.\n",
    "    \"\"\"\n",
    "    \n",
    "    model = model\n",
    "    model.fit(x_train, y_train)\n",
    "    y_pred = model.predict(x_test)\n",
    "    return y_pred"
   ]
  },
  {
   "cell_type": "code",
   "execution_count": 23,
   "id": "b37c4f79",
   "metadata": {
    "execution": {
     "iopub.execute_input": "2024-07-11T10:53:54.660187Z",
     "iopub.status.busy": "2024-07-11T10:53:54.659315Z",
     "iopub.status.idle": "2024-07-11T10:53:54.665939Z",
     "shell.execute_reply": "2024-07-11T10:53:54.664853Z"
    },
    "papermill": {
     "duration": 0.031135,
     "end_time": "2024-07-11T10:53:54.668411",
     "exception": false,
     "start_time": "2024-07-11T10:53:54.637276",
     "status": "completed"
    },
    "tags": []
   },
   "outputs": [],
   "source": [
    "def plot_confusion_matrix(y_true, y_pred, labels):\n",
    "    \"\"\"\n",
    "    Plots a confusion matrix using the true and predicted labels.\n",
    "\n",
    "    Args:\n",
    "        y_true (array-like): The true labels.\n",
    "        y_pred (array-like): The predicted labels.\n",
    "        labels (array-like): The list of labels to index the matrix.\n",
    "    \"\"\"\n",
    "    \n",
    "    cm = confusion_matrix(y_true, y_pred)\n",
    "    disp = ConfusionMatrixDisplay(confusion_matrix=cm, display_labels=labels)\n",
    "    disp.plot(cmap=plt.cm.Blues)\n",
    "    plt.title('Confusion Matrix')\n",
    "    plt.show()"
   ]
  },
  {
   "cell_type": "markdown",
   "id": "1d684248",
   "metadata": {
    "papermill": {
     "duration": 0.020056,
     "end_time": "2024-07-11T10:53:54.708619",
     "exception": false,
     "start_time": "2024-07-11T10:53:54.688563",
     "status": "completed"
    },
    "tags": []
   },
   "source": [
    "## Logistic Regression"
   ]
  },
  {
   "cell_type": "code",
   "execution_count": 24,
   "id": "7175aa94",
   "metadata": {
    "execution": {
     "iopub.execute_input": "2024-07-11T10:53:54.749900Z",
     "iopub.status.busy": "2024-07-11T10:53:54.749505Z",
     "iopub.status.idle": "2024-07-11T10:54:10.454992Z",
     "shell.execute_reply": "2024-07-11T10:54:10.453661Z"
    },
    "papermill": {
     "duration": 15.729363,
     "end_time": "2024-07-11T10:54:10.457951",
     "exception": false,
     "start_time": "2024-07-11T10:53:54.728588",
     "status": "completed"
    },
    "tags": []
   },
   "outputs": [
    {
     "data": {
      "text/plain": [
       "0.9199235344095157"
      ]
     },
     "execution_count": 24,
     "metadata": {},
     "output_type": "execute_result"
    }
   ],
   "source": [
    "lr = LogisticRegression(C=1, max_iter=1000, n_jobs=-1, solver='newton-cg')\n",
    "y_pred_lr = model_training(model=lr, x_train=x_train, y_train=y_train, x_test=x_test, y_test=y_test)\n",
    "accuracy_score(y_test,y_pred_lr)"
   ]
  },
  {
   "cell_type": "code",
   "execution_count": 25,
   "id": "6c978420",
   "metadata": {
    "execution": {
     "iopub.execute_input": "2024-07-11T10:54:10.501800Z",
     "iopub.status.busy": "2024-07-11T10:54:10.501373Z",
     "iopub.status.idle": "2024-07-11T10:54:10.999358Z",
     "shell.execute_reply": "2024-07-11T10:54:10.998258Z"
    },
    "papermill": {
     "duration": 0.522362,
     "end_time": "2024-07-11T10:54:11.002211",
     "exception": false,
     "start_time": "2024-07-11T10:54:10.479849",
     "status": "completed"
    },
    "tags": []
   },
   "outputs": [
    {
     "data": {
      "image/png": "[encoded data removed]",
      "text/plain": [
       "<Figure size 1000x550 with 2 Axes>"
      ]
     },
     "metadata": {},
     "output_type": "display_data"
    }
   ],
   "source": [
    "plot_confusion_matrix(y_test, y_pred_lr, LABELS)"
   ]
  },
  {
   "cell_type": "code",
   "execution_count": 26,
   "id": "ca891779",
   "metadata": {
    "execution": {
     "iopub.execute_input": "2024-07-11T10:54:11.045070Z",
     "iopub.status.busy": "2024-07-11T10:54:11.044632Z",
     "iopub.status.idle": "2024-07-11T10:54:11.289134Z",
     "shell.execute_reply": "2024-07-11T10:54:11.288006Z"
    },
    "papermill": {
     "duration": 0.269785,
     "end_time": "2024-07-11T10:54:11.292028",
     "exception": false,
     "start_time": "2024-07-11T10:54:11.022243",
     "status": "completed"
    },
    "tags": []
   },
   "outputs": [
    {
     "name": "stdout",
     "output_type": "stream",
     "text": [
      "                  precision    recall  f1-score   support\n",
      "\n",
      "Computer Science       0.90      0.83      0.86      1152\n",
      "     Mathematics       0.93      0.95      0.94      1144\n",
      "         Physics       0.99      0.97      0.98      1197\n",
      "      Statistics       0.86      0.93      0.89      1215\n",
      "\n",
      "        accuracy                           0.92      4708\n",
      "       macro avg       0.92      0.92      0.92      4708\n",
      "    weighted avg       0.92      0.92      0.92      4708\n",
      "\n"
     ]
    }
   ],
   "source": [
    "print(classification_report(y_test, y_pred_lr))"
   ]
  },
  {
   "cell_type": "markdown",
   "id": "915f823d",
   "metadata": {
    "papermill": {
     "duration": 0.019686,
     "end_time": "2024-07-11T10:54:11.331739",
     "exception": false,
     "start_time": "2024-07-11T10:54:11.312053",
     "status": "completed"
    },
    "tags": []
   },
   "source": [
    "## Multinomial Naive Bayes"
   ]
  },
  {
   "cell_type": "code",
   "execution_count": 27,
   "id": "358c89cd",
   "metadata": {
    "execution": {
     "iopub.execute_input": "2024-07-11T10:54:11.376581Z",
     "iopub.status.busy": "2024-07-11T10:54:11.376110Z",
     "iopub.status.idle": "2024-07-11T10:54:11.634253Z",
     "shell.execute_reply": "2024-07-11T10:54:11.632890Z"
    },
    "papermill": {
     "duration": 0.283273,
     "end_time": "2024-07-11T10:54:11.636873",
     "exception": false,
     "start_time": "2024-07-11T10:54:11.353600",
     "status": "completed"
    },
    "tags": []
   },
   "outputs": [
    {
     "data": {
      "text/plain": [
       "0.8865760407816483"
      ]
     },
     "execution_count": 27,
     "metadata": {},
     "output_type": "execute_result"
    }
   ],
   "source": [
    "nb = MultinomialNB(alpha=0.8)\n",
    "y_pred_nb = model_training(model=nb, x_train=x_train, y_train=y_train, x_test=x_test, y_test=y_test)\n",
    "accuracy_score(y_test,y_pred_nb)"
   ]
  },
  {
   "cell_type": "code",
   "execution_count": 28,
   "id": "4e890376",
   "metadata": {
    "execution": {
     "iopub.execute_input": "2024-07-11T10:54:11.680987Z",
     "iopub.status.busy": "2024-07-11T10:54:11.680590Z",
     "iopub.status.idle": "2024-07-11T10:54:12.153192Z",
     "shell.execute_reply": "2024-07-11T10:54:12.152195Z"
    },
    "papermill": {
     "duration": 0.497673,
     "end_time": "2024-07-11T10:54:12.155600",
     "exception": false,
     "start_time": "2024-07-11T10:54:11.657927",
     "status": "completed"
    },
    "tags": []
   },
   "outputs": [
    {
     "data": {
      "image/png": "[encoded data removed]",
      "text/plain": [
       "<Figure size 1000x550 with 2 Axes>"
      ]
     },
     "metadata": {},
     "output_type": "display_data"
    }
   ],
   "source": [
    "plot_confusion_matrix(y_test, y_pred_nb, LABELS)"
   ]
  },
  {
   "cell_type": "code",
   "execution_count": 29,
   "id": "58ce7e8f",
   "metadata": {
    "execution": {
     "iopub.execute_input": "2024-07-11T10:54:12.205574Z",
     "iopub.status.busy": "2024-07-11T10:54:12.204460Z",
     "iopub.status.idle": "2024-07-11T10:54:12.389098Z",
     "shell.execute_reply": "2024-07-11T10:54:12.388019Z"
    },
    "papermill": {
     "duration": 0.215025,
     "end_time": "2024-07-11T10:54:12.391970",
     "exception": false,
     "start_time": "2024-07-11T10:54:12.176945",
     "status": "completed"
    },
    "tags": []
   },
   "outputs": [
    {
     "name": "stdout",
     "output_type": "stream",
     "text": [
      "                  precision    recall  f1-score   support\n",
      "\n",
      "Computer Science       0.93      0.70      0.80      1152\n",
      "     Mathematics       0.95      0.90      0.92      1144\n",
      "         Physics       0.99      0.97      0.98      1197\n",
      "      Statistics       0.74      0.97      0.84      1215\n",
      "\n",
      "        accuracy                           0.89      4708\n",
      "       macro avg       0.90      0.88      0.89      4708\n",
      "    weighted avg       0.90      0.89      0.89      4708\n",
      "\n"
     ]
    }
   ],
   "source": [
    "print(classification_report(y_test, y_pred_nb, zero_division=0))"
   ]
  },
  {
   "cell_type": "markdown",
   "id": "4328412c",
   "metadata": {
    "papermill": {
     "duration": 0.020399,
     "end_time": "2024-07-11T10:54:12.435658",
     "exception": false,
     "start_time": "2024-07-11T10:54:12.415259",
     "status": "completed"
    },
    "tags": []
   },
   "source": [
    "# Deep Learning with PyTorch"
   ]
  },
  {
   "cell_type": "markdown",
   "id": "cce5410c",
   "metadata": {
    "papermill": {
     "duration": 0.020566,
     "end_time": "2024-07-11T10:54:12.476773",
     "exception": false,
     "start_time": "2024-07-11T10:54:12.456207",
     "status": "completed"
    },
    "tags": []
   },
   "source": [
    "## Model Preparation"
   ]
  },
  {
   "cell_type": "code",
   "execution_count": 30,
   "id": "d8ae2477",
   "metadata": {
    "execution": {
     "iopub.execute_input": "2024-07-11T10:54:12.521668Z",
     "iopub.status.busy": "2024-07-11T10:54:12.520764Z",
     "iopub.status.idle": "2024-07-11T10:54:12.527956Z",
     "shell.execute_reply": "2024-07-11T10:54:12.527003Z"
    },
    "papermill": {
     "duration": 0.031453,
     "end_time": "2024-07-11T10:54:12.530145",
     "exception": false,
     "start_time": "2024-07-11T10:54:12.498692",
     "status": "completed"
    },
    "tags": []
   },
   "outputs": [],
   "source": [
    "class TextDataset(Dataset):\n",
    "    \"\"\"\n",
    "    A custom dataset class for text data.\n",
    "\n",
    "    Args:\n",
    "        texts (list of list of int): A list of tokenized texts, where each text is a list of token IDs.\n",
    "        labels (list of int): A list of labels corresponding to the texts.\n",
    "    \"\"\"\n",
    "    \n",
    "    def __init__(self, texts, labels):\n",
    "        self.texts = texts\n",
    "        self.labels = labels\n",
    "        \n",
    "    def __len__(self):\n",
    "        \"\"\"Returns the number of samples in the dataset.\"\"\"\n",
    "        return len(self.texts)\n",
    "    \n",
    "    def __getitem__(self, idx):\n",
    "        \"\"\"Retrieves the sample and label at the given index.\"\"\"\n",
    "        return torch.tensor(self.texts[idx], dtype=torch.long), torch.tensor(self.labels[idx], dtype=torch.long)"
   ]
  },
  {
   "cell_type": "code",
   "execution_count": 31,
   "id": "2b64bfb6",
   "metadata": {
    "execution": {
     "iopub.execute_input": "2024-07-11T10:54:12.574236Z",
     "iopub.status.busy": "2024-07-11T10:54:12.573816Z",
     "iopub.status.idle": "2024-07-11T10:54:15.992368Z",
     "shell.execute_reply": "2024-07-11T10:54:15.991433Z"
    },
    "papermill": {
     "duration": 3.443689,
     "end_time": "2024-07-11T10:54:15.994782",
     "exception": false,
     "start_time": "2024-07-11T10:54:12.551093",
     "status": "completed"
    },
    "tags": []
   },
   "outputs": [],
   "source": [
    "text_data = torch.tensor(balanced_df_dl['Preprocessed Text'].values.tolist())\n",
    "target = torch.tensor(balanced_df_dl['Target'].values)\n",
    "X, y = text_data, target"
   ]
  },
  {
   "cell_type": "code",
   "execution_count": 32,
   "id": "cdcef093",
   "metadata": {
    "execution": {
     "iopub.execute_input": "2024-07-11T10:54:16.038891Z",
     "iopub.status.busy": "2024-07-11T10:54:16.038493Z",
     "iopub.status.idle": "2024-07-11T10:54:16.275035Z",
     "shell.execute_reply": "2024-07-11T10:54:16.273929Z"
    },
    "papermill": {
     "duration": 0.262006,
     "end_time": "2024-07-11T10:54:16.277681",
     "exception": false,
     "start_time": "2024-07-11T10:54:16.015675",
     "status": "completed"
    },
    "tags": []
   },
   "outputs": [],
   "source": [
    "X_train, X_test, y_train, y_test = train_test_split(X, y, test_size=0.2, random_state=42)\n",
    "X_train, X_test, y_train, y_test = X_train.to(device), X_test.to(device), y_train.to(device), y_test.to(device)"
   ]
  },
  {
   "cell_type": "code",
   "execution_count": 33,
   "id": "10822cff",
   "metadata": {
    "execution": {
     "iopub.execute_input": "2024-07-11T10:54:16.320868Z",
     "iopub.status.busy": "2024-07-11T10:54:16.320479Z",
     "iopub.status.idle": "2024-07-11T10:54:16.325257Z",
     "shell.execute_reply": "2024-07-11T10:54:16.324295Z"
    },
    "papermill": {
     "duration": 0.028728,
     "end_time": "2024-07-11T10:54:16.327468",
     "exception": false,
     "start_time": "2024-07-11T10:54:16.298740",
     "status": "completed"
    },
    "tags": []
   },
   "outputs": [],
   "source": [
    "train_dataset = TextDataset(X_train, y_train)\n",
    "test_dataset = TextDataset(X_test, y_test)"
   ]
  },
  {
   "cell_type": "code",
   "execution_count": 34,
   "id": "fb5484df",
   "metadata": {
    "execution": {
     "iopub.execute_input": "2024-07-11T10:54:16.372630Z",
     "iopub.status.busy": "2024-07-11T10:54:16.371703Z",
     "iopub.status.idle": "2024-07-11T10:54:16.378478Z",
     "shell.execute_reply": "2024-07-11T10:54:16.377384Z"
    },
    "papermill": {
     "duration": 0.031815,
     "end_time": "2024-07-11T10:54:16.380896",
     "exception": false,
     "start_time": "2024-07-11T10:54:16.349081",
     "status": "completed"
    },
    "tags": []
   },
   "outputs": [],
   "source": [
    "torch.manual_seed(42)\n",
    "torch.cuda.manual_seed(42)\n",
    "\n",
    "train_loader = DataLoader(train_dataset, batch_size=256, shuffle=True)\n",
    "test_loader = DataLoader(test_dataset, batch_size=256, shuffle=True)"
   ]
  },
  {
   "cell_type": "markdown",
   "id": "851e11d1",
   "metadata": {
    "papermill": {
     "duration": 0.020555,
     "end_time": "2024-07-11T10:54:16.422274",
     "exception": false,
     "start_time": "2024-07-11T10:54:16.401719",
     "status": "completed"
    },
    "tags": []
   },
   "source": [
    "## Model Building"
   ]
  },
  {
   "cell_type": "code",
   "execution_count": 35,
   "id": "b8159747",
   "metadata": {
    "execution": {
     "iopub.execute_input": "2024-07-11T10:54:16.466556Z",
     "iopub.status.busy": "2024-07-11T10:54:16.465599Z",
     "iopub.status.idle": "2024-07-11T10:54:16.476275Z",
     "shell.execute_reply": "2024-07-11T10:54:16.475223Z"
    },
    "papermill": {
     "duration": 0.036185,
     "end_time": "2024-07-11T10:54:16.478621",
     "exception": false,
     "start_time": "2024-07-11T10:54:16.442436",
     "status": "completed"
    },
    "tags": []
   },
   "outputs": [],
   "source": [
    "class TextClassifier(nn.Module):\n",
    "    \n",
    "    \"\"\"\n",
    "    A text classification model using an embedding layer, a bidirectional LSTM, and a linear layer.\n",
    "\n",
    "    Args:\n",
    "        vocab_size (int): The size of the vocabulary.\n",
    "        embed_dim (int): The dimensionality of the embeddings.\n",
    "        hidden_dim (int): The number of features in the hidden state of the LSTM.\n",
    "        output_dim (int): The number of output classes.\n",
    "    \"\"\"\n",
    "    \n",
    "    def __init__(self, vocab_size:int, embed_dim:int, hidden_dim:int, output_dim:int):\n",
    "        super(TextClassifier, self).__init__()\n",
    "        \n",
    "        self.embedding = nn.Embedding(num_embeddings=vocab_size, embedding_dim=embed_dim, padding_idx=0)\n",
    "        \n",
    "        self.lstm = nn.LSTM(input_size=embed_dim, hidden_size=embed_dim, dropout=0.5, \n",
    "                            bidirectional=True, batch_first=True, num_layers=2)\n",
    "        \n",
    "        self.linear = nn.Linear(in_features=embed_dim * 2, out_features=output_dim)\n",
    "        self.dropout = nn.Dropout(0.5)\n",
    "        \n",
    "    def forward(self, x):\n",
    "        \"\"\"Forward pass of the model.\"\"\"\n",
    "        \n",
    "        embedded = self.dropout(self.embedding(x))\n",
    "        lstm_out, (hidden, cell) = self.lstm(embedded)\n",
    "        hidden = self.dropout(torch.cat((hidden[-2,:,:], hidden[-1,:,:]), dim=1))\n",
    "        output = self.linear(hidden)\n",
    "        return output"
   ]
  },
  {
   "cell_type": "code",
   "execution_count": 36,
   "id": "91484085",
   "metadata": {
    "execution": {
     "iopub.execute_input": "2024-07-11T10:54:16.523412Z",
     "iopub.status.busy": "2024-07-11T10:54:16.522590Z",
     "iopub.status.idle": "2024-07-11T10:54:16.528318Z",
     "shell.execute_reply": "2024-07-11T10:54:16.526982Z"
    },
    "papermill": {
     "duration": 0.030491,
     "end_time": "2024-07-11T10:54:16.530705",
     "exception": false,
     "start_time": "2024-07-11T10:54:16.500214",
     "status": "completed"
    },
    "tags": []
   },
   "outputs": [],
   "source": [
    "# Hyperparameters\n",
    "VOCAB_SIZE = len(vocab)\n",
    "EMBED_DIM = 100\n",
    "HIDDEN_DIM = 128\n",
    "OUTPUT_DIM = 4\n",
    "\n",
    "EPOCHS = 45"
   ]
  },
  {
   "cell_type": "code",
   "execution_count": 37,
   "id": "8b03dfc6",
   "metadata": {
    "execution": {
     "iopub.execute_input": "2024-07-11T10:54:16.578439Z",
     "iopub.status.busy": "2024-07-11T10:54:16.577192Z",
     "iopub.status.idle": "2024-07-11T10:54:17.648905Z",
     "shell.execute_reply": "2024-07-11T10:54:17.647979Z"
    },
    "papermill": {
     "duration": 1.099236,
     "end_time": "2024-07-11T10:54:17.651740",
     "exception": false,
     "start_time": "2024-07-11T10:54:16.552504",
     "status": "completed"
    },
    "tags": []
   },
   "outputs": [],
   "source": [
    "model = TextClassifier(vocab_size=VOCAB_SIZE, embed_dim=EMBED_DIM, \n",
    "                       hidden_dim=HIDDEN_DIM, output_dim=OUTPUT_DIM).to(device)\n",
    "\n",
    "loss_fn = nn.CrossEntropyLoss()\n",
    "optimizer = optim.Adam(model.parameters())"
   ]
  },
  {
   "cell_type": "markdown",
   "id": "ca175c80",
   "metadata": {
    "papermill": {
     "duration": 0.021891,
     "end_time": "2024-07-11T10:54:17.695470",
     "exception": false,
     "start_time": "2024-07-11T10:54:17.673579",
     "status": "completed"
    },
    "tags": []
   },
   "source": [
    "## Model Training"
   ]
  },
  {
   "cell_type": "code",
   "execution_count": 38,
   "id": "8665cac9",
   "metadata": {
    "execution": {
     "iopub.execute_input": "2024-07-11T10:54:17.739565Z",
     "iopub.status.busy": "2024-07-11T10:54:17.738892Z",
     "iopub.status.idle": "2024-07-11T11:03:31.383884Z",
     "shell.execute_reply": "2024-07-11T11:03:31.382769Z"
    },
    "papermill": {
     "duration": 553.692553,
     "end_time": "2024-07-11T11:03:31.409325",
     "exception": false,
     "start_time": "2024-07-11T10:54:17.716772",
     "status": "completed"
    },
    "tags": []
   },
   "outputs": [
    {
     "name": "stdout",
     "output_type": "stream",
     "text": [
      "Epoch: 0 | Train Loss: 1.0390 | Test Loss: 0.9413 & Accuracy: 55.0%\n",
      "Epoch: 5 | Train Loss: 0.5342 | Test Loss: 0.6540 & Accuracy: 66.0%\n",
      "Epoch: 10 | Train Loss: 0.4473 | Test Loss: 0.8005 & Accuracy: 71.0%\n",
      "Epoch: 15 | Train Loss: 0.3740 | Test Loss: 0.3812 & Accuracy: 89.0%\n",
      "Epoch: 20 | Train Loss: 0.2796 | Test Loss: 0.2812 & Accuracy: 93.0%\n",
      "Epoch: 25 | Train Loss: 0.3124 | Test Loss: 0.4382 & Accuracy: 84.0%\n",
      "Epoch: 30 | Train Loss: 0.3200 | Test Loss: 0.5128 & Accuracy: 83.0%\n",
      "Epoch: 35 | Train Loss: 0.1856 | Test Loss: 0.4297 & Accuracy: 87.0%\n",
      "Epoch: 40 | Train Loss: 0.1101 | Test Loss: 0.7656 & Accuracy: 85.0%\n",
      "Epoch: 45 | Train Loss: 0.1524 | Test Loss: 0.6973 & Accuracy: 83.0%\n"
     ]
    }
   ],
   "source": [
    "torch.manual_seed(42)\n",
    "torch.cuda.manual_seed(42)\n",
    "\n",
    "for epoch in range(EPOCHS+1):\n",
    "    model.train()\n",
    "    \n",
    "    for texts, labels in train_loader:\n",
    "        output_logits = model(texts)\n",
    "        loss = loss_fn(output_logits, labels)\n",
    "        optimizer.zero_grad()\n",
    "        loss.backward()\n",
    "        optimizer.step()\n",
    "        \n",
    "    model.eval()\n",
    "    with torch.inference_mode():\n",
    "        for test_texts, test_labels in test_loader:\n",
    "            test_logits = model(test_texts)\n",
    "            test_loss = loss_fn(test_logits, test_labels)\n",
    "            output = torch.softmax(test_logits, dim=1).argmax(dim=1)\n",
    "            accuracy = accuracy_score(y_true=test_labels.to('cpu'), y_pred=output.to('cpu')) * 100\n",
    "    \n",
    "    if epoch % 5 == 0:\n",
    "        print(f'Epoch: {epoch} | Train Loss: {loss.item():.4f} | Test Loss: {test_loss.item():.4f} & Accuracy: {accuracy:.1f}%')"
   ]
  },
  {
   "cell_type": "markdown",
   "id": "fe044fa3",
   "metadata": {
    "papermill": {
     "duration": 0.021061,
     "end_time": "2024-07-11T11:03:31.452736",
     "exception": false,
     "start_time": "2024-07-11T11:03:31.431675",
     "status": "completed"
    },
    "tags": []
   },
   "source": [
    "## Evaluation"
   ]
  },
  {
   "cell_type": "code",
   "execution_count": 39,
   "id": "b24652b8",
   "metadata": {
    "execution": {
     "iopub.execute_input": "2024-07-11T11:03:31.497791Z",
     "iopub.status.busy": "2024-07-11T11:03:31.496913Z",
     "iopub.status.idle": "2024-07-11T11:03:32.274570Z",
     "shell.execute_reply": "2024-07-11T11:03:32.273164Z"
    },
    "papermill": {
     "duration": 0.803535,
     "end_time": "2024-07-11T11:03:32.277875",
     "exception": false,
     "start_time": "2024-07-11T11:03:31.474340",
     "status": "completed"
    },
    "tags": []
   },
   "outputs": [
    {
     "data": {
      "image/png": "[encoded data removed]",
      "text/plain": [
       "<Figure size 1000x550 with 2 Axes>"
      ]
     },
     "metadata": {},
     "output_type": "display_data"
    }
   ],
   "source": [
    "plot_confusion_matrix(test_labels.to('cpu'), output.to('cpu'), LABELS)"
   ]
  },
  {
   "cell_type": "code",
   "execution_count": 40,
   "id": "1238cac7",
   "metadata": {
    "execution": {
     "iopub.execute_input": "2024-07-11T11:03:32.331433Z",
     "iopub.status.busy": "2024-07-11T11:03:32.331027Z",
     "iopub.status.idle": "2024-07-11T11:03:32.346315Z",
     "shell.execute_reply": "2024-07-11T11:03:32.344764Z"
    },
    "papermill": {
     "duration": 0.043017,
     "end_time": "2024-07-11T11:03:32.348695",
     "exception": false,
     "start_time": "2024-07-11T11:03:32.305678",
     "status": "completed"
    },
    "tags": []
   },
   "outputs": [
    {
     "name": "stdout",
     "output_type": "stream",
     "text": [
      "              precision    recall  f1-score   support\n",
      "\n",
      "           0       0.94      0.52      0.67        31\n",
      "           1       0.72      1.00      0.84        23\n",
      "           2       1.00      1.00      1.00        30\n",
      "           3       0.67      0.88      0.76        16\n",
      "\n",
      "    accuracy                           0.83       100\n",
      "   macro avg       0.83      0.85      0.81       100\n",
      "weighted avg       0.86      0.83      0.82       100\n",
      "\n"
     ]
    }
   ],
   "source": [
    "print(classification_report(test_labels.to('cpu'), output.to('cpu')))"
   ]
  },
  {
   "cell_type": "markdown",
   "id": "ebe41012",
   "metadata": {
    "papermill": {
     "duration": 0.022544,
     "end_time": "2024-07-11T11:03:32.394207",
     "exception": false,
     "start_time": "2024-07-11T11:03:32.371663",
     "status": "completed"
    },
    "tags": []
   },
   "source": [
    "# Example "
   ]
  },
  {
   "cell_type": "code",
   "execution_count": 41,
   "id": "01684feb",
   "metadata": {
    "execution": {
     "iopub.execute_input": "2024-07-11T11:03:32.442031Z",
     "iopub.status.busy": "2024-07-11T11:03:32.441559Z",
     "iopub.status.idle": "2024-07-11T11:03:32.448258Z",
     "shell.execute_reply": "2024-07-11T11:03:32.447167Z"
    },
    "papermill": {
     "duration": 0.034425,
     "end_time": "2024-07-11T11:03:32.450774",
     "exception": false,
     "start_time": "2024-07-11T11:03:32.416349",
     "status": "completed"
    },
    "tags": []
   },
   "outputs": [],
   "source": [
    "example_text = \"stars are self-gravitating fluids inside which pressure, buoyancy, rotation and magnetic fields provide \"\\\n",
    "\"a restoring forces considering global modes of oscillation. pressure and buoyancy energetically dominate, while rotation and magnetism \" \\\n",
    "\"are generally assumed to be weak perturbations and often ignored. however, observations of anomalously weak dipole mode amplitudes inside \"\\\n",
    "\"red giant stars suggest that the substantial fraction of these are subject to an additional source of damping localised to their core region, \"\\\n",
    "\"with indirect evidence pointing to a role of the deeply buried magnetic field. it was also known that inside many instances a gravity-mode character \"\\\n",
    "\"of affected modes was preserved, but so far no effective damping mechanism has been proposed that accommodates this aspect. here we present such the mechanism, \"\\\n",
    "\"which damps a oscillations of stars harbouring magnetised cores using resonant interactions with standing alfvén modes of high harmonic index. a damping rates \"\\\n",
    "\"produced by this mechanism are quantitatively on par with those associated with turbulent convection, and inside a range required to explain observations, considering \"\\\n",
    "\"realistic stellar models and magnetic field strengths. our results suggest that magnetic fields should provide an efficient means of damping stellar oscillations without \"\\\n",
    "\"needing to disrupt a internal structure of a modes, and lay a groundwork considering an extension of a theory of global stellar oscillations that incorporates these effects.\"\n",
    "\n",
    "example_target = 'Physics'\n",
    "example_label = 2"
   ]
  },
  {
   "cell_type": "code",
   "execution_count": 42,
   "id": "d1b31289",
   "metadata": {
    "execution": {
     "iopub.execute_input": "2024-07-11T11:03:32.499624Z",
     "iopub.status.busy": "2024-07-11T11:03:32.498625Z",
     "iopub.status.idle": "2024-07-11T11:03:32.517338Z",
     "shell.execute_reply": "2024-07-11T11:03:32.516198Z"
    },
    "papermill": {
     "duration": 0.04583,
     "end_time": "2024-07-11T11:03:32.519671",
     "exception": false,
     "start_time": "2024-07-11T11:03:32.473841",
     "status": "completed"
    },
    "tags": []
   },
   "outputs": [
    {
     "data": {
      "text/plain": [
       "tensor([[  126,   712,     2,   577,  6052,   899,    85,    39,    69,  7144,\n",
       "           865,     3,   258,   368,  1361,   577,  6052,  5203,  4067,   899,\n",
       "          2272,   929,  1369,   547,   548,   233,  4080,    59,    92,  7223,\n",
       "           547,  2458,   368,  1059,     2,  1999,  1168,   126,   611,  1407,\n",
       "           686,   808,   476,   131,  2352,  7390,   562,   164,  2474,   556,\n",
       "          4174,   461,  5451,  6717,    85,    39,    16,   153,     2,    91,\n",
       "           564,  1012,  1706,   368,  3172,   821,   236,  2352,   265,    22,\n",
       "          6691,   725,    26,   265,  9910,  1361,   126,     1, 14870,   562,\n",
       "           202,  2366,   102,  6413,  8444,   368,    74,  1487,   689,  2352,\n",
       "            79,  1250,   265,  2231,  4912,   270,  1329,  2651,     2,   169,\n",
       "           539,   908,    92,     3,   955,   321,     4,    85,    39,   764,\n",
       "             8,   611,    85,    39,    69,   175,   187,  2352,   321,  1361,\n",
       "           167,  6837,  9147,  1262,    30,   368,  6130, 12453,     3,   588,\n",
       "            80,   258,   321,  1361,  2067,    70]], device='cuda:0')"
      ]
     },
     "execution_count": 42,
     "metadata": {},
     "output_type": "execute_result"
    }
   ],
   "source": [
    "encoded_text = encode(preprocess_text(text=example_text, ml=False))\n",
    "encoded_text = torch.unsqueeze(torch.tensor(encoded_text).to(device), 0)\n",
    "encoded_text"
   ]
  },
  {
   "cell_type": "code",
   "execution_count": 43,
   "id": "dffcf3d6",
   "metadata": {
    "execution": {
     "iopub.execute_input": "2024-07-11T11:03:32.569778Z",
     "iopub.status.busy": "2024-07-11T11:03:32.568809Z",
     "iopub.status.idle": "2024-07-11T11:03:32.610616Z",
     "shell.execute_reply": "2024-07-11T11:03:32.609552Z"
    },
    "papermill": {
     "duration": 0.069237,
     "end_time": "2024-07-11T11:03:32.613005",
     "exception": false,
     "start_time": "2024-07-11T11:03:32.543768",
     "status": "completed"
    },
    "tags": []
   },
   "outputs": [
    {
     "data": {
      "text/plain": [
       "tensor([True], device='cuda:0')"
      ]
     },
     "execution_count": 43,
     "metadata": {},
     "output_type": "execute_result"
    }
   ],
   "source": [
    "model.eval()\n",
    "with torch.inference_mode():\n",
    "    output_logits = model(encoded_text)\n",
    "    output = torch.softmax(output_logits, dim=1).argmax(dim=1)\n",
    "    \n",
    "output == example_label"
   ]
  }
 ],
 "metadata": {
  "kaggle": {
   "accelerator": "gpu",
   "dataSources": [
    {
     "datasetId": 932025,
     "sourceId": 2994327,
     "sourceType": "datasetVersion"
    }
   ],
   "dockerImageVersionId": 30732,
   "isGpuEnabled": true,
   "isInternetEnabled": true,
   "language": "python",
   "sourceType": "notebook"
  },
  "kernelspec": {
   "display_name": "Python 3",
   "language": "python",
   "name": "python3"
  },
  "language_info": {
   "codemirror_mode": {
    "name": "ipython",
    "version": 3
   },
   "file_extension": ".py",
   "mimetype": "text/x-python",
   "name": "python",
   "nbconvert_exporter": "python",
   "pygments_lexer": "ipython3",
   "version": "3.10.13"
  },
  "papermill": {
   "default_parameters": {},
   "duration": 699.910971,
   "end_time": "2024-07-11T11:03:35.359828",
   "environment_variables": {},
   "exception": null,
   "input_path": "__notebook__.ipynb",
   "output_path": "__notebook__.ipynb",
   "parameters": {},
   "start_time": "2024-07-11T10:51:55.448857",
   "version": "2.5.0"
  }
 },
 "nbformat": 4,
 "nbformat_minor": 5
}
